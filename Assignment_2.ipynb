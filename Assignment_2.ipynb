{
  "nbformat": 4,
  "nbformat_minor": 0,
  "metadata": {
    "colab": {
      "name": "Assignment_2.ipynb",
      "provenance": [],
      "toc_visible": true,
      "include_colab_link": true
    },
    "kernelspec": {
      "name": "python3",
      "display_name": "Python 3"
    },
    "accelerator": "GPU"
  },
  "cells": [
    {
      "cell_type": "markdown",
      "metadata": {
        "id": "view-in-github",
        "colab_type": "text"
      },
      "source": [
        "<a href=\"https://colab.research.google.com/github/ElFosco/NLP_assignments/blob/main/Assignment_2.ipynb\" target=\"_parent\"><img src=\"https://colab.research.google.com/assets/colab-badge.svg\" alt=\"Open In Colab\"/></a>"
      ]
    },
    {
      "cell_type": "markdown",
      "metadata": {
        "id": "3GM9DBN-Qz3k"
      },
      "source": [
        "# Assignment 2\n",
        "\n",
        "**Due to**: 23/12/2021 (dd/mm/yyyy)\n",
        "\n",
        "**Credits**: Andrea Galassi, Federico Ruggeri, Paolo Torroni\n",
        "\n",
        "**Summary**: Fact checking, Neural Languange Inference (**NLI**)"
      ]
    },
    {
      "cell_type": "markdown",
      "metadata": {
        "id": "tO_-4CZeRCO7"
      },
      "source": [
        "# Intro\n",
        "\n",
        "This assignment is centred on a particular and emerging NLP task, formally known as **fact checking** (or fake checking). As AI techniques become more and more powerful, reaching amazing results, such as image and text generation, it is more than ever necessary to build tools able to distinguish what is real from what is fake.\n",
        "\n",
        "Here we focus on a small portion of the whole fact checking problem, which aims to determine whether a given statement (fact) conveys a trustworthy information or not. \n",
        "\n",
        "More precisely, given a set of evidences and a fact to verify, we would like our model to correctly predict whether the fact is true or fake.\n",
        "\n",
        "In particular, we will see:\n",
        "\n",
        "*   Dataset preparation (analysis and pre-processing)\n",
        "*   Problem formulation: multi-input binary classification\n",
        "*   Defining an evaluation method\n",
        "*   Simple sentence embedding\n",
        "*   Neural building blocks\n",
        "*   Neural architecture extension"
      ]
    },
    {
      "cell_type": "markdown",
      "metadata": {
        "id": "hGDwg78PS_uy"
      },
      "source": [
        "# The FEVER dataset\n",
        "\n",
        "First of all, we need to choose a dataset. In this assignment we will rely on the [FEVER dataset](https://fever.ai).\n",
        "\n",
        "The dataset is about facts taken from Wikipedia documents that have to be verified. In particular, facts could face manual modifications in order to define fake information or to give different formulations of the same concept.\n",
        "\n",
        "The dataset consists of 185,445 claims manually verified against the introductory sections of Wikipedia pages and classified as ```Supported```, ```Refuted``` or ```NotEnoughInfo```. For the first two classes, systems and annotators need to also return the combination of sentences forming the necessary evidence supporting or refuting the claim."
      ]
    },
    {
      "cell_type": "markdown",
      "metadata": {
        "id": "4Oa5FpVpT7p4"
      },
      "source": [
        "## 2.1 Dataset structure\n",
        "\n",
        "Relevant data is divided into two file types. Information concerning the fact to verify, its verdict and associated supporting/opposing statements are stored in **.jsonl** format. In particular, each JSON element is a python dictionary with the following relevant fields:\n",
        "\n",
        "*    **ID**: ID associated to the fact to verify.\n",
        "\n",
        "*    **Verifiable**: whether the fact has been verified or not: ```VERIFIABLE``` or ```NOT VERIFIABLE```.\n",
        "    \n",
        "*    **Label**: the final verdict on the fact to verify: ```SUPPORTS```, ```REFUTES``` or ```NOT ENOUGH INFO```.\n",
        "    \n",
        "*    **Claim**: the fact to verify.\n",
        "    \n",
        "*    **Evidence**: a nested list of document IDs along with the sentence ID that is associated to the fact to verify. In particular, each list element is a tuple of four elements: the first two are internal annotator IDs that can be safely ignored; the third term is the document ID (called URL) and the last one is the sentence number (ID) in the pointed document to consider.\n",
        "\n",
        "**Some Examples**\n",
        "\n",
        "---\n",
        "\n",
        "**Verifiable**\n",
        "\n",
        "```\n",
        "{\"id\": 202314, \"verifiable\": \"VERIFIABLE\", \"label\": \"REFUTES\", \"claim\": \"The New Jersey Turnpike has zero shoulders.\", \"evidence\": [[[238335, 240393, \"New_Jersey_Turnpike\", 15]]]}\n",
        "```\n",
        "\n",
        "---\n",
        "\n",
        "**Not Verifiable**\n",
        "\n",
        "```\n",
        "{\"id\": 113501, \"verifiable\": \"NOT VERIFIABLE\", \"label\": \"NOT ENOUGH INFO\", \"claim\": \"Grease had bad reviews.\", \"evidence\": [[[133128, null, null, null]]]}\n",
        "```\n",
        "\n",
        "---"
      ]
    },
    {
      "cell_type": "markdown",
      "metadata": {
        "id": "nex_8UM4VWuY"
      },
      "source": [
        "## 2.2 Some simplifications and pre-processing\n",
        "\n",
        "We are only interested in verifiable facts. Thus, we can filter out all non-verifiable claims.\n",
        "\n",
        "Additionally, the current dataset format does not contain all necessary information for our classification purposes. In particular, we need to download Wikipedia documents and replace reported evidence IDs with the corresponding text.\n",
        "\n",
        "Don't worry about that! We are providing you the already pre-processed dataset so that you can concentrate on the classification pipeline (pre-processing, model definition, evaluation and training).\n",
        "\n",
        "You can download the zip file containing all set splits (train, validation and test) of the FEVER dataset by clicking on this [link](https://drive.google.com/file/d/1wArZhF9_SHW17WKNGeLmX-QTYw9Zscl1/view?usp=sharing). Alternatively, run the below code cell to automatically download it on this notebook.\n",
        "\n",
        "**Note**: each dataset split is in .csv format. Feel free to inspect the whole dataset!"
      ]
    },
    {
      "cell_type": "code",
      "metadata": {
        "id": "ITDtNfau7Fo7"
      },
      "source": [
        "import os, shutil  # file management\n",
        "import sys  # system\n",
        "import pandas as pd  # dataframe management\n",
        "import numpy as np  # data manipulation\n",
        "from tqdm import tqdm  # useful during debugging (progress bars)\n",
        "from typing import List, Callable, Dict  # typing\n",
        "import re  # regex\n",
        "import urllib.request  # download files\n",
        "import zipfile  # unzip files\n",
        "import gensim  # embeddings\n",
        "import gensim.downloader as gloader  # embeddings\n",
        "from sklearn.preprocessing import LabelEncoder, OneHotEncoder  # one-hot encoding\n",
        "from matplotlib import pyplot as plt  # Plots\n",
        "\n",
        "# Models\n",
        "import tensorflow as tf\n",
        "from tensorflow.keras import Sequential\n",
        "from keras.layers import Bidirectional, Dense, LSTM, TimeDistributed, GRU\n",
        "from keras.layers.embeddings import Embedding\n",
        "from keras.preprocessing import sequence\n",
        "from tensorflow.keras.optimizers import Adam\n",
        "from tensorflow.keras.models import load_model\n",
        "\n",
        "# F1\n",
        "from sklearn.metrics import f1_score, accuracy_score, classification_report\n",
        "from functools import partial\n",
        "\n",
        "# Grid search\n",
        "from sklearn.model_selection import GridSearchCV\n",
        "import copy\n",
        "\n",
        "#split\n",
        "from sklearn.model_selection import train_test_split"
      ],
      "execution_count": 156,
      "outputs": []
    },
    {
      "cell_type": "code",
      "metadata": {
        "id": "BspxZcRjW0NG"
      },
      "source": [
        "import os\n",
        "import requests\n",
        "import zipfile\n",
        "\n",
        "def save_response_content(response, destination):\n",
        "    CHUNK_SIZE = 32768\n",
        "\n",
        "    with open(destination, \"wb\") as f:\n",
        "        for chunk in response.iter_content(CHUNK_SIZE):\n",
        "            if chunk: # filter out keep-alive new chunks\n",
        "                f.write(chunk)\n",
        "\n",
        "def download_data(data_path):\n",
        "    toy_data_path = os.path.join(data_path, 'fever_data.zip')\n",
        "    toy_data_url_id = \"1wArZhF9_SHW17WKNGeLmX-QTYw9Zscl1\"\n",
        "    toy_url = \"https://docs.google.com/uc?export=download\"\n",
        "\n",
        "    if not os.path.exists(data_path):\n",
        "        os.makedirs(data_path)\n",
        "\n",
        "    if not os.path.exists(toy_data_path):\n",
        "        print(\"Downloading FEVER data splits...\")\n",
        "        with requests.Session() as current_session:\n",
        "            response = current_session.get(toy_url,\n",
        "                                   params={'id': toy_data_url_id},\n",
        "                                   stream=True)\n",
        "        save_response_content(response, toy_data_path)\n",
        "        print(\"Download completed!\")\n",
        "\n",
        "        print(\"Extracting dataset...\")\n",
        "        with zipfile.ZipFile(toy_data_path) as loaded_zip:\n",
        "            loaded_zip.extractall(data_path)\n",
        "        print(\"Extraction completed!\")\n",
        "\n",
        "download_data('dataset')"
      ],
      "execution_count": 157,
      "outputs": []
    },
    {
      "cell_type": "code",
      "metadata": {
        "id": "sneFzqf-_y93",
        "colab": {
          "base_uri": "https://localhost:8080/",
          "height": 425
        },
        "outputId": "68030459-1977-42b5-e296-9d25c55f582c"
      },
      "source": [
        "#just for showing that for a claim there are more evidence\n",
        "df[df['ID']==221137]"
      ],
      "execution_count": 158,
      "outputs": [
        {
          "output_type": "execute_result",
          "data": {
            "text/html": [
              "<div>\n",
              "<style scoped>\n",
              "    .dataframe tbody tr th:only-of-type {\n",
              "        vertical-align: middle;\n",
              "    }\n",
              "\n",
              "    .dataframe tbody tr th {\n",
              "        vertical-align: top;\n",
              "    }\n",
              "\n",
              "    .dataframe thead th {\n",
              "        text-align: right;\n",
              "    }\n",
              "</style>\n",
              "<table border=\"1\" class=\"dataframe\">\n",
              "  <thead>\n",
              "    <tr style=\"text-align: right;\">\n",
              "      <th></th>\n",
              "      <th>Claim</th>\n",
              "      <th>Evidence</th>\n",
              "      <th>ID</th>\n",
              "      <th>Label</th>\n",
              "    </tr>\n",
              "  </thead>\n",
              "  <tbody>\n",
              "    <tr>\n",
              "      <th>3413</th>\n",
              "      <td>ted cruz is an american male</td>\n",
              "      <td>rafael edward ted cruz born december 22 1970 i...</td>\n",
              "      <td>221137</td>\n",
              "      <td>SUPPORTS</td>\n",
              "    </tr>\n",
              "    <tr>\n",
              "      <th>3414</th>\n",
              "      <td>ted cruz is an american male</td>\n",
              "      <td>he was a candidate for the republican nominati...</td>\n",
              "      <td>221137</td>\n",
              "      <td>SUPPORTS</td>\n",
              "    </tr>\n",
              "    <tr>\n",
              "      <th>3415</th>\n",
              "      <td>ted cruz is an american male</td>\n",
              "      <td>from 1999 to 2003 he served in various politic...</td>\n",
              "      <td>221137</td>\n",
              "      <td>SUPPORTS</td>\n",
              "    </tr>\n",
              "    <tr>\n",
              "      <th>3416</th>\n",
              "      <td>ted cruz is an american male</td>\n",
              "      <td>he was the first hispanic and the longest serv...</td>\n",
              "      <td>221137</td>\n",
              "      <td>SUPPORTS</td>\n",
              "    </tr>\n",
              "    <tr>\n",
              "      <th>3417</th>\n",
              "      <td>ted cruz is an american male</td>\n",
              "      <td>from 2004 to 2009 cruz was an adjunct professo...</td>\n",
              "      <td>221137</td>\n",
              "      <td>SUPPORTS</td>\n",
              "    </tr>\n",
              "    <tr>\n",
              "      <th>3418</th>\n",
              "      <td>ted cruz is an american male</td>\n",
              "      <td>he defeated former state representative paul s...</td>\n",
              "      <td>221137</td>\n",
              "      <td>SUPPORTS</td>\n",
              "    </tr>\n",
              "    <tr>\n",
              "      <th>3419</th>\n",
              "      <td>ted cruz is an american male</td>\n",
              "      <td>he is the first hispanic american to serve as ...</td>\n",
              "      <td>221137</td>\n",
              "      <td>SUPPORTS</td>\n",
              "    </tr>\n",
              "    <tr>\n",
              "      <th>3420</th>\n",
              "      <td>ted cruz is an american male</td>\n",
              "      <td>he chairs the senate judiciary subcommittee on...</td>\n",
              "      <td>221137</td>\n",
              "      <td>SUPPORTS</td>\n",
              "    </tr>\n",
              "    <tr>\n",
              "      <th>3421</th>\n",
              "      <td>ted cruz is an american male</td>\n",
              "      <td>in november 2012 he was appointed vice chairma...</td>\n",
              "      <td>221137</td>\n",
              "      <td>SUPPORTS</td>\n",
              "    </tr>\n",
              "    <tr>\n",
              "      <th>3422</th>\n",
              "      <td>ted cruz is an american male</td>\n",
              "      <td>during the primary campaign his base of suppor...</td>\n",
              "      <td>221137</td>\n",
              "      <td>SUPPORTS</td>\n",
              "    </tr>\n",
              "    <tr>\n",
              "      <th>3423</th>\n",
              "      <td>ted cruz is an american male</td>\n",
              "      <td>he eventually emerged as the main challenger t...</td>\n",
              "      <td>221137</td>\n",
              "      <td>SUPPORTS</td>\n",
              "    </tr>\n",
              "    <tr>\n",
              "      <th>3424</th>\n",
              "      <td>ted cruz is an american male</td>\n",
              "      <td>he suspended his campaign for president on may...</td>\n",
              "      <td>221137</td>\n",
              "      <td>SUPPORTS</td>\n",
              "    </tr>\n",
              "  </tbody>\n",
              "</table>\n",
              "</div>"
            ],
            "text/plain": [
              "                             Claim  ...     Label\n",
              "3413  ted cruz is an american male  ...  SUPPORTS\n",
              "3414  ted cruz is an american male  ...  SUPPORTS\n",
              "3415  ted cruz is an american male  ...  SUPPORTS\n",
              "3416  ted cruz is an american male  ...  SUPPORTS\n",
              "3417  ted cruz is an american male  ...  SUPPORTS\n",
              "3418  ted cruz is an american male  ...  SUPPORTS\n",
              "3419  ted cruz is an american male  ...  SUPPORTS\n",
              "3420  ted cruz is an american male  ...  SUPPORTS\n",
              "3421  ted cruz is an american male  ...  SUPPORTS\n",
              "3422  ted cruz is an american male  ...  SUPPORTS\n",
              "3423  ted cruz is an american male  ...  SUPPORTS\n",
              "3424  ted cruz is an american male  ...  SUPPORTS\n",
              "\n",
              "[12 rows x 4 columns]"
            ]
          },
          "metadata": {},
          "execution_count": 158
        }
      ]
    },
    {
      "cell_type": "code",
      "metadata": {
        "id": "PHntcbb2Gk86",
        "colab": {
          "base_uri": "https://localhost:8080/"
        },
        "outputId": "fce788c8-e0aa-4f58-ce0a-0a3ab2106acc"
      },
      "source": [
        "import re\n",
        "def clean_text(text):\n",
        "\n",
        "  #delete multiple quotes\n",
        "  delete_multiple_quotes = \"''|``|\\.\\.\"\n",
        "  ris = re.sub(delete_multiple_quotes, '', text)\n",
        "\n",
        "\n",
        "  #get only the sentence, delete the number before it and the keywords after it\n",
        "  start_symbol = \"^[0-9]*\\\\t\"\n",
        "  end_symbol = \"( )?[\\.|\\?|\\!|\\,]( )?(\\\\t.*)?$\"\n",
        "  ris = re.sub(start_symbol, '', ris)\n",
        "  ris = re.sub(end_symbol, '', ris)\n",
        "\n",
        "  #convert the brackets into token, done for the claim string\n",
        "  ris = re.sub(\"\\(\", \" -LRB- \",ris)\n",
        "  ris = re.sub(\"\\)\", \" -RRB- \",ris)\n",
        "\n",
        "  #check if numbers are present between tokens LSB and RSB, if it's not the case delete the content\n",
        "  delete_content_lsb = \"-LRB-(.[^0-9]*)-RRB-\"\n",
        "  ris = re.sub(delete_content_lsb, '', ris)\n",
        "\n",
        "  #check if numbers are present in brackets, if it's not the case delete the content\n",
        "  delete_content_brackets = \"-LSB-(.[^0-9]*)-RSB-\"\n",
        "  ris = re.sub(delete_content_brackets, '', ris)\n",
        "\n",
        "  #delete brackets token\n",
        "  delete_brackets = \"-LRB-|-RRB-|-RSB-|-LSB-\"\n",
        "  ris = re.sub(delete_brackets, ' ', ris)\n",
        "\n",
        "  #deal with the &\n",
        "  ris = re.sub(\"\\&\", ' and ', ris)\n",
        "\n",
        "  #deal with the *\n",
        "  ris = re.sub(\"star * reach\", 'star*reach', ris)\n",
        "\n",
        "\n",
        "\n",
        "  #remove tokens that we are not interested in\n",
        "  remove_tokens = \"[,\\-\\\";:?!#`\\$]|[\\.] \" #added $ and \\. handled alone`\n",
        "  ris = re.sub(remove_tokens, ' ', ris)\n",
        "\n",
        "  #delete additional spaces and last space\n",
        "  remove_spaces = \"[ ]+\"\n",
        "  remove_last_spaces= \" $\"\n",
        "  ris = re.sub(remove_spaces, ' ', ris)\n",
        "  ris = re.sub(remove_last_spaces, '', ris)\n",
        "\n",
        "  #handle ' (?)\n",
        "\n",
        "  return ris.lower()\n",
        "\n",
        "#id=1293\n",
        "df = pd.read_csv('dataset/test_pairs.csv')\n",
        "df = df.drop(['Unnamed: 0'],axis=1)\n",
        "print(df.iloc[id]['Evidence'])\n",
        "df['Evidence'] = df.apply(lambda row : clean_text(row['Evidence']), axis = 1)\n",
        "df['Claim'] = df.apply(lambda row : clean_text(row['Claim']), axis = 1)\n",
        "print(df.iloc[id]['Evidence'])\n",
        "print(df.iloc[id]['Claim'])\n",
        "\n",
        "\n",
        "\n"
      ],
      "execution_count": 159,
      "outputs": [
        {
          "output_type": "stream",
          "name": "stdout",
          "text": [
            "0\tAbsinthe -LRB- -LSB- ˈæbsɪnθ -RSB- or -LSB- ˈæbsænθ -RSB- French : -LSB- apsɛ̃t -RSB- -RRB- is historically described as a distilled , highly alcoholic -LRB- 45 -- 74 % ABV / 90 -- 148 U.S. proof -RRB- beverage .\tdistilled\tdistillation\talcoholic\talcoholic beverage\tABV\tAlcohol by volume\tU.S. proof\tProof (alcohol)\n",
            "absinthe is historically described as a distilled highly alcoholic 45 74 % abv / 90 148 u.s proof beverage\n",
            "absinthe is a sports brand\n"
          ]
        }
      ]
    },
    {
      "cell_type": "code",
      "metadata": {
        "id": "r-zg38glKHPQ"
      },
      "source": [
        "X = df.drop(['Label','ID'],axis=1)\n",
        "y = df['Label']\n",
        "\n",
        "label_encoder = LabelEncoder()\n",
        "y = label_encoder.fit_transform(y)\n",
        "\n",
        "X_train, X_test, y_train, y_test = train_test_split(X, y, test_size=0.50, random_state=42)\n",
        "X_val, X_test, y_val, y_test = train_test_split(X_test, y_test, test_size=0.20, random_state=42)"
      ],
      "execution_count": 160,
      "outputs": []
    },
    {
      "cell_type": "markdown",
      "metadata": {
        "id": "RbH_8errW5MH"
      },
      "source": [
        "# Classification dataset\n",
        "\n",
        "At this point, you should have a reay-to-go dataset! Note that the dataset format changed as well! In particular, we split the evidence set associated to each claim, in order to build `(claim, evidence)` pairs. The classification label is propagated as well.\n",
        "\n",
        "We'll motivate this decision in the next section!\n",
        "\n",
        "Just for clarity, here's an example of the pre-processed dataset:\n",
        "\n",
        "---\n",
        "\n",
        "**Claim**: \"Wentworth Miller is yet to make his screenwriting debut.\"\n",
        "\n",
        "**Evidence**: \"2\tHe made his screenwriting debut with the 2013 thriller film Stoker .\tStoker\tStoker (film)\"\n",
        "\n",
        "**Label**: Refutes\n",
        "\n",
        "---\n",
        "\n",
        "[**Note**]: The dataset requires some text cleaning as you may have noticed!\n"
      ]
    },
    {
      "cell_type": "markdown",
      "metadata": {
        "id": "gH8hIK21Xrl0"
      },
      "source": [
        "# Problem formulation\n",
        "\n",
        "As mentioned at the beginning of the assignment, we are going to formulate the fact checking problem as a binary classification task.\n",
        "\n",
        "In particular, each dataset sample is comprised of:\n",
        "\n",
        "*     A claim to verify\n",
        "*     A set of semantically related statements (evidence set)\n",
        "*     Fact checking label: either evidences support or refute the claim.\n",
        "\n",
        "Handling the evidence set from the point of view of neural models may imply some additional complexity: if the evidence set is comprised of several sentences we might incur in memory problems.\n",
        "\n",
        "To this end, we further simplify the problem by building (claim, evidence) pairs. The fact checking label is propagated as well.\n",
        "\n",
        "Example:\n",
        "\n",
        "     Claim: c1 \n",
        "     Evidence set: [e1, e2, e3]\n",
        "     Label: S (support)\n",
        "\n",
        "--->\n",
        "\n",
        "    (c1, e1, S),\n",
        "    (c1, e2, S),\n",
        "    (c1, e3, S)"
      ]
    },
    {
      "cell_type": "markdown",
      "metadata": {
        "id": "E46flIz_zQy-"
      },
      "source": [
        "## 4.1 Schema\n",
        "\n",
        "The overall binary classification problem is summed up by the following (simplified) schema\n",
        "\n",
        "![](https://drive.google.com/uc?export=view&id=1Wm_YBnFwgJtxcWEBpPbTBEVkpKaL08Jp)\n",
        "\n",
        "Don't worry too much about the **Encoding** block for now. We'll give you some simple guidelines about its definition. For the moment, stick to the binary classification task definition where, in this case, we have 2 inputs: the claim to verify and one of its associated evidences."
      ]
    },
    {
      "cell_type": "markdown",
      "metadata": {
        "id": "LsiTV-NVdgsF"
      },
      "source": [
        "# Architecture Guidelines\n",
        "\n",
        "There are many neural architectures that follow the above schema. To avoid phenomena like the writer's block, in this section we are going to give you some implementation guidelines.\n",
        "\n",
        "In particular, we would like you to test some implementations so that you explore basic approaches (neural baselines) and use them as building blocks for possible extensions."
      ]
    },
    {
      "cell_type": "markdown",
      "metadata": {
        "id": "ZJBQm47fe7iE"
      },
      "source": [
        "## 5.1 Handling multiple inputs\n",
        "\n",
        "The first thing to notice is that we are in a multi-input scenario. In particular, each sample is comprised of a fact and its asssociated evidence statement.\n",
        "\n",
        "Each of these input is encoded as a sequence of tokens. In particular, we will have the following input matrices:\n",
        "\n",
        "*    Claim: `[batch_size, max_tokens]`\n",
        "*    Evidence: `[batch_size, max_tokens]`\n",
        "\n",
        "Moreover, after the embedding layer, we'll have:\n",
        "\n",
        "*    Claim: `[batch_size, max_tokens, embedding_dim]`\n",
        "*    Evidence: `[batch_size, max_tokens, embedding_dim]`\n",
        "\n",
        "But, we would like to have a 2D input to our classifier, since we have to give an answer at pair level. Therefore, for each sample, we would expect the following input shape to our classification block:\n",
        "\n",
        "*   Classification input shape: `[batch_size, dim]`\n",
        "\n",
        "**How to do that?**\n",
        "\n",
        "We inherently need to reduce the token sequence to a single representation. This operation is formally known as **sentence embedding**. Indeed, we are trying to compress the information of a whole sequence into a single embedding vector.\n",
        "\n",
        "Here are some simple solutions that we ask you to try out:\n",
        "\n",
        "1.   Encode token sequences via a RNN and take the last state as the sentence embedding.\n",
        "\n",
        "2.  Encode token sequences via a RNN and average all the output states.\n",
        "\n",
        "3.  Encode token sequences via a simple MLP layer. In particular, if your input is a `[batch_size, max_tokens, embedding_dim]` tensor, the matrix multiplication works on the **max_tokens** dimension, resulting in a `[batch_size, embedding_dim]` 2D matrix. Alternatively, you can reshape the 3D input tensor from `[batch_size, max_tokens, embedding_dim]` to `[batch_size, max_tokens * embedding_dim]` and then apply the MLP layer.\n",
        "\n",
        "4.   Compute the sentence embedding as the mean of its token embeddings (**bag of vectors**)."
      ]
    },
    {
      "cell_type": "markdown",
      "metadata": {
        "id": "i8NEmJp1Ui6z"
      },
      "source": [
        "## Create GloVe embeddings (keep attention to the size, maybe we have to change it)"
      ]
    },
    {
      "cell_type": "code",
      "metadata": {
        "id": "6SgHagnSUlxq"
      },
      "source": [
        "def load_embedding_model(model_type: str,\n",
        "                         embedding_dimension: int = 50) -> gensim.models.keyedvectors.KeyedVectors:\n",
        "    \"\"\"\n",
        "    Loads a pre-trained word embedding model via gensim library.\n",
        "\n",
        "    :param model_type: name of the word embedding model to load.\n",
        "    :param embedding_dimension: size of the embedding space to consider\n",
        "\n",
        "    :return\n",
        "        - pre-trained word embedding model (gensim KeyedVectors object)\n",
        "    \"\"\"\n",
        "\n",
        "    download_path = \"\"\n",
        "\n",
        "    # Find the correct embedding model name\n",
        "    if model_type.strip().lower() == 'word2vec':\n",
        "        download_path = \"word2vec-google-news-300\"\n",
        "\n",
        "    elif model_type.strip().lower() == 'glove':\n",
        "        download_path = \"glove-wiki-gigaword-{}\".format(embedding_dimension)\n",
        "    elif model_type.strip().lower() == 'fasttext':\n",
        "        download_path = \"fasttext-wiki-news-subwords-300\"\n",
        "    else:\n",
        "        raise AttributeError(\"Unsupported embedding model type! Available ones: word2vec, glove, fasttext\")\n",
        "\n",
        "    # Check download\n",
        "    try:\n",
        "        emb_model = gloader.load(download_path)\n",
        "    except ValueError as e:\n",
        "        print(\"Invalid embedding model name! Check the embedding dimension:\")\n",
        "        print(\"Word2Vec: 300\")\n",
        "        print(\"Glove: 50, 100, 200, 300\")\n",
        "        raise e\n",
        "\n",
        "    return emb_model"
      ],
      "execution_count": 161,
      "outputs": []
    },
    {
      "cell_type": "code",
      "metadata": {
        "id": "Mff7TRr0V8hv"
      },
      "source": [
        "def check_OOV_terms(embedding_vocabulary: List[str],\n",
        "                    word_listing: List[str]):\n",
        "    \"\"\"\n",
        "    Checks differences between pre-trained embedding model vocabulary\n",
        "    and dataset specific vocabulary in order to highlight out-of-vocabulary terms.\n",
        "\n",
        "    :param embedding_vocabulary: pre-trained word embedding model vocab (list)\n",
        "    :param word_listing: dataset specific vocabulary (list)\n",
        "\n",
        "    :return\n",
        "        - list of OOV terms\n",
        "    \"\"\"\n",
        "    \n",
        "    oov = set(word_listing).difference(embedding_vocabulary)\n",
        "    return list(oov)"
      ],
      "execution_count": 162,
      "outputs": []
    },
    {
      "cell_type": "code",
      "metadata": {
        "id": "ks3PUZeyFuYB"
      },
      "source": [
        "def build_embedding_matrix(embedding_model: gensim.models.keyedvectors.KeyedVectors,\n",
        "                           embedding_dimension: int,\n",
        "                           word_to_idx: Dict[str, int],\n",
        "                           vocab_size: int,\n",
        "                           oov_terms: List[str]) -> np.ndarray:\n",
        "    \"\"\"\n",
        "    Builds the embedding matrix of a specific dataset given a pre-trained word embedding model\n",
        "\n",
        "    :param embedding_model: pre-trained word embedding model (gensim wrapper)\n",
        "    :param word_to_idx: vocabulary map (word -> index) (dict)\n",
        "    :param vocab_size: size of the vocabulary\n",
        "    :param oov_terms: list of OOV terms (list)\n",
        "\n",
        "    :return\n",
        "        - embedding matrix that assigns a high dimensional vector to each word in the dataset specific vocabulary (shape |V| x d)\n",
        "    \"\"\"\n",
        "    embedding_matrix = np.zeros((vocab_size, embedding_dimension), dtype=np.float32)\n",
        "\n",
        "    for word, idx in tqdm(word_to_idx.items()):\n",
        "        try:\n",
        "            embedding_vector = embedding_model[word]\n",
        "        except (KeyError, TypeError):\n",
        "            embedding_vector = np.random.uniform(low=-0.05, high=0.05, size=embedding_dimension)\n",
        "\n",
        "        embedding_matrix[idx] = embedding_vector\n",
        "\n",
        "    return embedding_matrix\n",
        "\n",
        "\n",
        "def update_embedding_matrix(embedding_model: np.ndarray, \n",
        "                            embedding_dimension: int,\n",
        "                            word_to_idx: Dict[str, int],\n",
        "                            vocab_size: int,\n",
        "                            oov_terms: List[str]) -> np.ndarray:\n",
        "    \"\"\"\n",
        "    Builds the embedding matrix of a specific dataset given a pre-trained emdedding matrix\n",
        "\n",
        "    :param embedding_model: pre-trained embedding matrix\n",
        "    :param word_to_idx: vocabulary map (word -> index) (dict)\n",
        "    :param vocab_size: size of the vocabulary\n",
        "    :param oov_terms: list of OOV terms (list)\n",
        "\n",
        "    :return\n",
        "        - embedding matrix that assigns a high dimensional vector to each word in the dataset specific vocabulary (shape |V| x d)\n",
        "    \"\"\"\n",
        "    embedding_matrix = np.zeros((vocab_size, embedding_dimension), dtype=np.float32)\n",
        "\n",
        "    for word, idx in tqdm(word_to_idx.items()):\n",
        "        try:\n",
        "            embedding_vector = embedding_model[idx]\n",
        "        except (TypeError, IndexError):\n",
        "            embedding_vector = np.random.uniform(low=-0.05, high=0.05, size=embedding_dimension)\n",
        "\n",
        "        embedding_matrix[idx] = embedding_vector\n",
        "\n",
        "    return embedding_matrix\n"
      ],
      "execution_count": 163,
      "outputs": []
    },
    {
      "cell_type": "markdown",
      "metadata": {
        "id": "kPAOAphzoPCY"
      },
      "source": [
        "## Tokenizer"
      ]
    },
    {
      "cell_type": "code",
      "metadata": {
        "id": "LHclnVYLXWZN"
      },
      "source": [
        "# Glove -> 50, 100, 200, 300\n",
        "\n",
        "class KerasTokenizer(object):\n",
        "    \"\"\"\n",
        "    A simple high-level wrapper for the Keras tokenizer.\n",
        "    \"\"\"\n",
        "\n",
        "    def __init__(self, build_embedding_matrix=False, embedding_dimension=None,\n",
        "                 embedding_model_type=None, tokenizer_args=None, embedding_model=None):\n",
        "        if build_embedding_matrix:\n",
        "            assert embedding_model_type is not None\n",
        "            assert embedding_dimension is not None and type(embedding_dimension) == int\n",
        "\n",
        "        self.build_embedding_matrix = build_embedding_matrix\n",
        "        self.embedding_dimension = embedding_dimension\n",
        "        self.embedding_model_type = embedding_model_type\n",
        "        self.embedding_model = embedding_model\n",
        "        self.embedding_matrix = None\n",
        "        self.vocab = None\n",
        "\n",
        "        tokenizer_args = {} if tokenizer_args is None else tokenizer_args\n",
        "        assert isinstance(tokenizer_args, dict) or isinstance(tokenizer_args, collections.OrderedDict)\n",
        "\n",
        "        self.tokenizer_args = tokenizer_args\n",
        "\n",
        "    def build_vocab(self, data, **kwargs):\n",
        "        print('Fitting tokenizer...')\n",
        "        self.tokenizer = tf.keras.preprocessing.text.Tokenizer(**self.tokenizer_args)\n",
        "        self.tokenizer.fit_on_texts(data)\n",
        "        print('Fit completed!')\n",
        "\n",
        "        self.vocab = self.tokenizer.word_index\n",
        "\n",
        "        if self.build_embedding_matrix:\n",
        "            if self.embedding_model is None:\n",
        "              print('Loading embedding model! It may take a while...')\n",
        "              self.embedding_model = load_embedding_model(model_type=self.embedding_model_type, \n",
        "                                                          embedding_dimension=self.embedding_dimension)\n",
        "            \n",
        "            print('Checking OOV terms in train...')\n",
        "            self.oov_terms_train = check_OOV_terms(embedding_vocabulary=set(self.embedding_model.vocab.keys()),\n",
        "                                             word_listing=list(self.vocab.keys()))\n",
        "            \n",
        "            print(\"Total OOV terms: {0} ({1:.2f}%)\".format(len(self.oov_terms_train), 100*float(len(self.oov_terms_train)) / len(self.vocab)))\n",
        "\n",
        "            print('Building the embedding matrix for train...')\n",
        "            self.embedding_matrix = build_embedding_matrix(embedding_model=self.embedding_model,\n",
        "                                                           word_to_idx=self.vocab,\n",
        "                                                           vocab_size=len(self.vocab)+1,          \n",
        "                                                           embedding_dimension=self.embedding_dimension,\n",
        "                                                           oov_terms=self.oov_terms_train)\n",
        "            print('Done for train!')\n",
        "\n",
        "    def update_vocab(self, data, **kwargs):\n",
        "      self.tokenizer.fit_on_texts(data)\n",
        "      if self.build_embedding_matrix:\n",
        "        old_vocab = self.vocab\n",
        "        self.vocab = self.tokenizer.word_index\n",
        "        print('Checking OOV terms...')\n",
        "        self.oov_terms = check_OOV_terms(embedding_vocabulary=set(old_vocab.keys()), \n",
        "                                         word_listing=list(self.vocab.keys()))\n",
        "        \n",
        "        print(\"Total OOV terms: {0} ({1:.2f}%)\".format(len(self.oov_terms), 100*float(len(self.oov_terms)) / len(self.vocab)))\n",
        "\n",
        "        print('Building the embedding matrix...')\n",
        "        self.embedding_matrix = update_embedding_matrix(embedding_model=self.embedding_matrix,\n",
        "                                                       word_to_idx=self.vocab,\n",
        "                                                       vocab_size=len(self.vocab)+1,          \n",
        "                                                       embedding_dimension=self.embedding_dimension,\n",
        "                                                       oov_terms=self.oov_terms)\n",
        "\n",
        "    def get_info(self):\n",
        "        return {\n",
        "            'build_embedding_matrix': self.build_embedding_matrix,\n",
        "            'embedding_dimension': self.embedding_dimension,\n",
        "            'embedding_model_type': self.embedding_model_type,\n",
        "            'embedding_matrix': self.embedding_matrix.shape if self.embedding_matrix is not None else self.embedding_matrix,\n",
        "            'embedding_model': self.embedding_model,\n",
        "            'vocab_size': len(self.vocab) + 1,\n",
        "        }\n",
        "\n",
        "    def tokenize(self, text):\n",
        "        return text\n",
        "\n",
        "    def convert_tokens_to_ids(self, tokens):\n",
        "        if type(tokens) == str:\n",
        "            return self.tokenizer.texts_to_sequences([tokens])[0]\n",
        "        else:\n",
        "            return self.tokenizer.texts_to_sequences(tokens)\n",
        "\n",
        "    def convert_ids_to_tokens(self, ids):\n",
        "        return self.tokenizer.sequences_to_texts(ids)"
      ],
      "execution_count": 164,
      "outputs": []
    },
    {
      "cell_type": "markdown",
      "metadata": {
        "id": "BGZ4NcIZoVwS"
      },
      "source": [
        "### Downloading embeddings"
      ]
    },
    {
      "cell_type": "code",
      "metadata": {
        "id": "1G9mrvhxYBL3"
      },
      "source": [
        "embedding_dimension = 50\n",
        "embedding_model = load_embedding_model(model_type=\"glove\", \n",
        "                                       embedding_dimension=embedding_dimension)"
      ],
      "execution_count": 98,
      "outputs": []
    },
    {
      "cell_type": "markdown",
      "metadata": {
        "id": "rDzHjGghoYpP"
      },
      "source": [
        "### Creating tokenizer"
      ]
    },
    {
      "cell_type": "code",
      "metadata": {
        "id": "rd7WJ8fOerEt",
        "outputId": "630fb782-f792-44f2-d8fc-08e380433c26",
        "colab": {
          "base_uri": "https://localhost:8080/"
        }
      },
      "source": [
        "tokenizer_args = {\n",
        "    'oov_token': \"OOV_TOKEN\",  # The vocabulary id for unknown terms during text conversion\n",
        "    'lower' : True,  # default\n",
        "    'filters' : '' \n",
        "}\n",
        "\n",
        "tokenizer = KerasTokenizer(tokenizer_args=tokenizer_args,\n",
        "                           build_embedding_matrix=True,\n",
        "                           embedding_dimension=embedding_dimension,\n",
        "                           embedding_model_type=\"glove\", \n",
        "                           embedding_model=embedding_model)\n",
        "tokenizer.build_vocab(X_train[\"Claim\"])\n",
        "tokenizer.update_vocab(X_train[\"Evidence\"])\n",
        "\n",
        "tokenizer_info = tokenizer.get_info()\n",
        "\n",
        "print('Tokenizer info: ', tokenizer_info)"
      ],
      "execution_count": 132,
      "outputs": [
        {
          "output_type": "stream",
          "name": "stdout",
          "text": [
            "Fitting tokenizer...\n",
            "Fit completed!\n",
            "Checking OOV terms in train...\n",
            "Total OOV terms: 209 (4.70%)\n",
            "Building the embedding matrix for train...\n"
          ]
        },
        {
          "output_type": "stream",
          "name": "stderr",
          "text": [
            "100%|██████████| 4443/4443 [00:00<00:00, 218239.97it/s]"
          ]
        },
        {
          "output_type": "stream",
          "name": "stdout",
          "text": [
            "Done for train!\n"
          ]
        },
        {
          "output_type": "stream",
          "name": "stderr",
          "text": [
            "\n"
          ]
        },
        {
          "output_type": "stream",
          "name": "stdout",
          "text": [
            "Checking OOV terms...\n",
            "Total OOV terms: 3365 (43.10%)\n",
            "Building the embedding matrix...\n"
          ]
        },
        {
          "output_type": "stream",
          "name": "stderr",
          "text": [
            "100%|██████████| 7808/7808 [00:00<00:00, 207669.89it/s]"
          ]
        },
        {
          "output_type": "stream",
          "name": "stdout",
          "text": [
            "Tokenizer info:  {'build_embedding_matrix': True, 'embedding_dimension': 50, 'embedding_model_type': 'glove', 'embedding_matrix': (7809, 50), 'embedding_model': <gensim.models.keyedvectors.Word2VecKeyedVectors object at 0x7fc62c3e1690>, 'vocab_size': 7809}\n"
          ]
        },
        {
          "output_type": "stream",
          "name": "stderr",
          "text": [
            "\n"
          ]
        }
      ]
    },
    {
      "cell_type": "markdown",
      "metadata": {
        "id": "GA0kdGgcoczP"
      },
      "source": [
        "### Updating tokenizer with validation and test"
      ]
    },
    {
      "cell_type": "code",
      "metadata": {
        "id": "b0jKa0qzNzce",
        "outputId": "baf1c9a9-1e7a-4e03-fe4a-26b47c7cbb23",
        "colab": {
          "base_uri": "https://localhost:8080/"
        }
      },
      "source": [
        "tokenizer.update_vocab(X_val[\"Claim\"])\n",
        "tokenizer.update_vocab(X_test[\"Claim\"])\n",
        "tokenizer.update_vocab(X_val[\"Evidence\"])\n",
        "tokenizer.update_vocab(X_test[\"Evidence\"])"
      ],
      "execution_count": 133,
      "outputs": [
        {
          "output_type": "stream",
          "name": "stdout",
          "text": [
            "Checking OOV terms...\n",
            "Total OOV terms: 510 (6.13%)\n",
            "Building the embedding matrix...\n"
          ]
        },
        {
          "output_type": "stream",
          "name": "stderr",
          "text": [
            "100%|██████████| 8318/8318 [00:00<00:00, 499859.89it/s]\n"
          ]
        },
        {
          "output_type": "stream",
          "name": "stdout",
          "text": [
            "Checking OOV terms...\n",
            "Total OOV terms: 88 (1.05%)\n",
            "Building the embedding matrix...\n"
          ]
        },
        {
          "output_type": "stream",
          "name": "stderr",
          "text": [
            "100%|██████████| 8406/8406 [00:00<00:00, 500714.62it/s]\n"
          ]
        },
        {
          "output_type": "stream",
          "name": "stdout",
          "text": [
            "Checking OOV terms...\n",
            "Total OOV terms: 905 (9.72%)\n",
            "Building the embedding matrix...\n"
          ]
        },
        {
          "output_type": "stream",
          "name": "stderr",
          "text": [
            "100%|██████████| 9311/9311 [00:00<00:00, 404926.79it/s]"
          ]
        },
        {
          "output_type": "stream",
          "name": "stdout",
          "text": [
            "Checking OOV terms...\n",
            "Total OOV terms: 153 (1.62%)\n",
            "Building the embedding matrix...\n"
          ]
        },
        {
          "output_type": "stream",
          "name": "stderr",
          "text": [
            "\n",
            "100%|██████████| 9464/9464 [00:00<00:00, 449693.48it/s]\n"
          ]
        }
      ]
    },
    {
      "cell_type": "code",
      "metadata": {
        "id": "rPHTtHKPkNPx",
        "outputId": "510b5e2d-8da4-474a-dd82-daba07580ddf",
        "colab": {
          "base_uri": "https://localhost:8080/"
        }
      },
      "source": [
        "a = list(tokenizer.vocab.keys())\n",
        "a.sort()\n",
        "print(a)"
      ],
      "execution_count": 134,
      "outputs": [
        {
          "output_type": "stream",
          "name": "stdout",
          "text": [
            "['%', \"'\", \"'71\", \"'m\", \"'re\", \"'s\", '*', '/', '0', '0.9', '00', '000', '02', '07', '09', '090', '1', '1.05', '1.2', '1.29', '1.3', '1.381', '1.5', '1.6', '1.8', '1.98', '10', '100', '1000', '101st', '103', '104', '104th', '10th', '11', '11%', '11.3', '114', '115', '117', '11th', '12', '12.3', '120', '1203', '1207', '120th', '1216', '1234', '1246', '126', '1268', '1272', '1297', '12th', '13', '130', '1336', '1370', '139', '1397', '1399', '13th', '14', '14.3', '1405', '143', '1430', '1450', '146', '1466', '1470', '1471', '148', '1480', '1483', '148326', '1486', '1491', '1492', '1493', '1499', '14th', '15', '15.4', '150', '1502', '1503', '1509', '150th', '1522', '1524', '1530', '1533', '1545', '1547', '1549', '155', '1553', '1555', '1558', '1576', '1589', '1596', '15th', '16', '160', '1600', '1600s', '1603', '1607', '1617', '1618', '1627', '163', '1635', '1636', '1654', '1685', '16million', '16th', '17', '170', \"1700's\", '1700s', '1717', '1718', '173', '1730', '1738', '1740', '1744', '1751', '1756', '1757', '1758', '1762', '1764', '1765', '1769', '1777', '1783', '1785', '1788', '1790', '1791', '1794', '1799', '17th', '18', \"1800's\", '1800s', '1805', '1806', '1808', '1809', '1810', '1811', '1818', '182', '1820', '1830', '1831', '1845', '1847', '1850s', '1853', '1854', '1855', '1856', '1857', '1858', '1859', '1860', '1861', '1862', '1864', '1865', '1869', '1870', '1872', '1874', '1875', '1878', '1880', '1884', '1885', '1888', '1889', '1890', '1891', '1893', '1894', '1895', '1897', '18th', '19', '1900', '1900s', '1901', '1902', '1904', '1905', '1906', '1907', '1908', '1909', '1910', '1910s', '1911', '1912', '1913', '1914', '1915', '1916', '1918', '1919', '1920', '1921', '1922', '1923', '1924', '1925', '1926', '1927', '1928', '1929', '1930', \"1930's\", '1931', '1932', '1933', '1934', '1935', '1936', '193624', '1937', '1938', '1940', '1940s', '1941', '1942', '1943', '1944', '1945', '1946', '1947', '1949', '1950', \"1950's\", '1950s', '1951', '1952', '1954', '1955', '1956', '1957', '1958', '1959', '1960', \"1960's\", '1960s', '1961', '1962', '1963', '1964', '1965', '1966', '1967', '1968', '1969', '1970', \"1970's\", '1970s', '1971', '1972', '1973', '1974', '1975', '1976', '1977', '1978', '1979', '1980', \"1980's\", '1980s', '1981', '1982', '1983', '1984', '1985', '1986', '1987', '1987\\tbritish', '1988', '1989', '1990', '1990s', '1991', '1992', '1993', '1994', '1995', '1996', \"1996's\", '1997', '1998', '1999', '19th', '1st', '2', '2.5', '2.6', '2.66', '2.85', '20', '20.3', '200', '2000', '2000s', '2001', '2002', '2003', '2004', '2005', '2006', '2007', '2008', '2009', '201', '2010', '2010s', '2011', '2012', '2013', '2014', '2015', '2016', '2017', '2018', '202', '2023', '203', '206', '209', '20th', '21', '218', '219', '21st', '22', '221', '22nd', '23', '231', '235', '238', '23rd', '24', '24th', '25', '250', '253', '255', '25th', '26', '26th', '27', '27th', '28', '28th', '29', '2925', '29th', '2d', '2nd', '3', '3.8', '30', '30%', '300', '304', '31', '31.9', '32', '320', '324', '32nd', '33', '330', '338.6', '34', '343', '348', '35', '355', '356', '36', '363', '36th', '37', '37.01', '37th', '38', '39', '3d', '3rd', '4', '4.08', '4.5', '4.7', '40', '400', '40th', '41', '417', '41st', '42', '42nd', '430', '43rd', '44%', '440', '441', '447', '45', '46', '46th', '47.9', '470', '472', '479', '497', '49ers', '4th', '5', '5%', '5.5', '5.7', '50', '50%', '500', '50000', '506', '50th', '51st', '520', '522', '525', '527', '53', '5387', '53879', '54', '55', '553', '554', '554.5', '555', '56', '560', '57', '575', '57th', '589', '59', '591', '596', '59th', '5th', '6', '6.2', '6.3', '60', '60.2', '600', '604', '61', '615', '62', '64', '65', '65th', '66th', '68', '681', '687', '689', '69', '6th', '7', '7.66', '7.68', '7.7', '70', '70%', '70s', '71', '711', '712', '723', '74', '75', '750', '756', '76', '767', '77', '78', '787', '79.39', '7e7', '8', '8.5', '8.7', '80', '80%', '800', '808', '83.3', '83.3%', '83rd', '85', '85.93', '850', '852', '86', '87', '879', '88', '882', '89', '894', '8th', '9', '9.8', '9.x', '90', \"90's\", '900', '92', '925', '93', '931', '95', '953', '96', '97', '970', '972', '985', '99', '992', '9th', '=', 'OOV_TOKEN', 'a', 'a.j', 'a.p.j', 'a380', 'a4', 'aaj', 'aaron', 'aba', 'abandoned', 'abbreviated', 'abc', 'abdel', 'abdul', 'abernathy', 'abilities', 'ability', 'able', 'abnormal', 'aboard', 'about', 'above', 'abraham', 'abrahamic', 'abrams', 'abroad', 'absinthe', 'absinthium', 'absolute', 'absorbed', 'absorbs', 'absurdist', 'abuse', 'abuser', 'abv', 'academic', 'academics', 'academy', 'accepted', 'access', 'accessed', 'accessing', 'accessories', 'acche', 'accident', 'accidental', 'acclaim', 'acclaimed', 'accolades', 'accompanied', 'accomplishment', 'according', 'account', 'accountant', 'accounts', 'accused', 'acetylcholine', 'achieve', 'achieved', 'achievement', 'acid', 'acknowledged', 'acoustic', 'acquired', 'across', 'act', 'acted', 'acting', 'action', 'action/animated', 'action/computer', 'actions', 'activating', 'active', 'actively', 'activewear', 'activism', 'activist', \"activist's\", 'activists', 'activities', 'activity', 'actor', 'actors', 'actress', \"actress's\", 'actresses', 'acts', 'actual', 'actually', 'ad', 'adam', 'adams', 'adaptation', 'adaptations', 'adapted', 'added', 'addiction', 'addison', 'addition', 'additional', 'additionally', 'address', 'aden', 'adequate', 'adhere', 'adherents', 'adidas', 'aditya', 'adjacent', 'adjunct', 'administration', 'administrative', 'admiral', 'admission', 'adobe', 'adolf', 'adopted', 'adopting', 'adoption', 'adornments', 'adrianne', 'adult', 'adults', 'advanced', 'advancements', 'advances', 'advent', 'adventure', 'adventures', 'advisor', 'advocate', 'advocates', 'ae', 'aegean', 'aeneas', 'aerial', 'aeronautical', 'aesthetic', 'aestheticism', 'aesthetics', 'afc', 'afcon', 'affairs', 'affect', 'affected', 'affiliation', 'affleck', 'afflicted', 'afghan', 'afghanistan', 'africa', 'african', 'after', 'ag', 'again', 'against', 'agamic', 'age', 'aged', 'agencies', 'agency', 'agent', 'agents', 'ages', 'aggregating', 'aging', 'agnes', 'ago', 'agree', 'agreed', 'agreement', 'agricultural', 'agriculture', 'aguilera', 'ahmed', 'aided', 'ailments', 'aim', 'aimed', 'aims', 'air', 'airbender', 'airborne', 'airbus', 'aircraft', 'aired', 'aires', 'airing', 'airline', 'airliner', 'airliners', 'airlines', 'airplanes', 'airplay', 'airport', 'airports', 'airs', 'airspeed', 'airways', 'ajaccio', 'akbar', 'akon', 'akshay', 'al', 'alabama', 'alamos', 'alan', 'alaska', 'albert', 'alberto', 'album', 'albums', 'alcindor', 'alcohol', 'alcoholic', 'aldous', 'alec', 'alecia', 'alex', 'alexander', 'alexandria', 'alfred', 'algae', 'algeria', 'algonquian', 'ali', 'aliaume', 'alice', 'alien', 'aliens', 'aligned', 'alive', 'alive.', 'all', 'allard', 'alleged', 'allegiant', 'allen', 'allende', 'alliance', 'allow', 'allowed', 'allowing', 'ally', 'almanac', 'almost', 'alone', 'along', 'alongside', 'alonso', 'alpes', 'alpine', 'also', 'alt', 'alternate', 'alternative', 'although', 'altman', 'altogether', 'aluminosilicate', 'alumni', 'alvin', 'always', 'amadeus', 'amancio', 'amanda', 'amateur', 'amazon', 'ambassador', 'ambassadors', 'ambedkar', 'amber', 'ambient', 'ambition', 'ambrosia', 'ambush', 'amc', 'amelia', 'america', \"america's\", 'american', 'american.', 'americans', 'americas', 'amharic', 'amir', 'amitabh', 'amma', 'amnesia', 'amoebae', 'among', 'amonute', 'amount', 'amy', 'an', 'analog', 'analogous', 'anarchist', 'anatolian', 'anatomy', 'ancestors', 'ancient', 'and', 'and/or', 'anderson', 'andes', 'andorra', 'andre', 'andrea', 'andrew', 'android', 'andromeda', 'andré', 'andy', 'ang', 'angel', 'angela', 'angeles', 'angels', 'anger', 'anglian', 'anglican', 'anglo', 'angoulême', 'angus', 'animal', 'animals', 'animated', 'animation', 'animator', 'animators', 'anise', 'anjali', 'ann', 'anna', 'annabelle', 'annapolis', 'anne', 'anneliese', 'annelise', 'annexed', 'annie', 'anniversary', 'announced', 'announcing', 'annual', 'annually', 'annul', 'another', 'anse', 'antagonist', 'antarctica', 'antelope', 'antenna', 'anterograde', 'anthology', 'anthony', 'anthropological', 'anti', 'antibiotic', 'antichrist', 'anticipated', 'antigua', 'antilles', 'antiquity', 'antoine', 'anton', 'antonio', 'antony', 'anwar', 'anxiety', 'anxious', 'any', 'anyone', 'anything', 'anywhere', 'aol', 'ap', 'apamea', 'apart', 'apex', 'aphrodite', 'apocalypse', 'apolitical', 'apollo', 'apostle', 'apostles', 'apostolic', 'apparent', 'apparently', 'appeal', 'appear', 'appearance', 'appearances', 'appeared', 'appearing', 'appears', 'appetite', 'apple', 'apples', 'appliances', 'application', 'applications', 'applied', 'appointed', 'appointee', 'appointment', 'appomattox', 'apprenticeship', 'approval', 'approved', 'approximately', 'april', 'aquitaine', 'arab', 'arabia', 'arabian', 'arabic', 'arabs', 'arachnids', 'aragon', 'aramaic', 'aramis', 'arc', 'archaic', 'archdiocese', 'archipelago', 'architect', 'architects', 'arctic', 'are', 'area', \"area's\", 'areas', 'arena', 'arenas', 'ares', 'argentina', \"argentina's\", 'argentine', 'argentinian', 'argo', 'arianism', 'ariel', 'arijit', 'arima', 'aristocracy', 'aristokratia', 'arizona', 'arjit', 'arlington', 'arm', 'armed', 'armenian', 'armies', 'arms', 'army', 'arnold', 'aroni', 'arose', 'around', 'arquette', 'arranged', 'arrangement', 'array', 'arrested', 'arrival', 'arrived', 'arriving', 'arryn', 'art', 'arte', 'artemisia', 'arthropod', 'arthur', 'article', 'articles', 'artisans', 'artist', 'artistic', 'artists', 'arts', 'artwork', 'aruba', 'as', 'asante', 'asap', 'asia', 'asian', 'asked', 'asking', 'asleep', 'aspects', 'aspirations', 'aspire', 'aspired', 'assassinated', 'assassination', 'assault', 'assembled', 'assent', 'assessing', 'assist', 'assistant', 'assists', 'associate', 'associated', 'association', 'assume', 'assumed', 'assyrian', 'asteroids', 'astronaut', 'astronomical', 'astronomy', 'at', 'athlete', 'athletic', 'athletics', 'athos', 'atlanta', 'atlantic', 'atmosphere', 'ato', 'atomic', 'atp', 'attached', 'attack', 'attacked', 'attacks', 'attempt', 'attempts', 'attenborough', 'attend', 'attendance', 'attended', 'attention', 'attested', 'attitudes', 'attorney', 'attracting', 'attraction', 'attractions', 'attracts', 'attributed', 'attributes', 'aubrey', 'audience', 'audiences', 'audio', 'auditorium', 'audrey', 'august', 'augustus', 'augutus', 'aunt', 'austin', 'australia', 'australian', 'austria', 'austrian', 'auteur', 'author', 'authored', 'authoritative', 'authorities', 'authority', 'authorized', 'authors', \"authors'\", 'autism', 'autistic', 'autobiographical', 'autobiography', 'automated', 'automatic', 'automobile', 'automotive', 'autonomous', 'auvergne', 'available', 'avatar', 'avenger', 'avengers', 'average', 'averaged', 'avert', 'avery', 'aviles', 'avoid', 'avoided', 'avoids', 'avril', 'avul', 'awadhi', 'awake', 'awakening', 'awakens', 'award', 'awarded', 'awards', 'awareness', 'away', 'awkward', 'ayan', 'ayananka', 'ayatollah', 'azam', 'azithromycin', 'b', 'baadshah', \"baadshah's\", 'baal', 'baba', 'babbit', 'babe', 'baboon', 'babur', 'baby', 'bachchan', 'bachman', 'bachna', 'bachrach', 'back', 'backed', 'background', 'backing', 'backlash', 'bacon', 'bacterial', 'bad', 'badara', 'bade', 'baelish', 'bafta', 'bagarozzi', \"baha'i\", 'bahamas', 'bahu', 'baja', 'bajirao', 'baker', 'bakersfield', 'bakuman', 'bala', 'balaji', 'balance', 'baldwin', 'balibo', 'balkan', 'balkans', 'ball', 'ballad', 'ballads', 'balliol', 'balloons', 'balls', 'baloch', 'balochi', 'balochistan', 'baltic', 'baluch', 'bana', 'banadinović', 'band', 'banderas', 'bandicoot', 'bandits', 'banerjee', 'banger', 'bangladesh', 'bangor', 'bank', 'bankable', 'banker', 'banking', 'banks', 'banned', 'banner', 'banque', 'banquet', 'bans', 'baptised', 'bar', 'barack', 'baratheon', 'barbadian', 'barbados', 'barbara', 'barbarella', 'barber', 'barbuda', 'barcelona', 'barclays', 'barden', 'bare', 'barely', 'bargain', 'barks', 'barlas', 'barlow', 'barnacles', 'barnes', 'barons', \"barons'\", 'barred', 'barry', 'barthes', 'barton', 'barty', 'baryonic', 'base', 'baseball', 'based', 'basic', 'basis', 'basketball', 'bastards', \"bastards'\", 'bastia', 'bateman', 'bates', 'batman', 'battalion', 'battle', 'battled', 'battling', 'batwoman', 'bauer', 'bavaria', 'bavarian', 'bay', 'bayern', 'bbc', 'bc', 'bce', 'be', 'beach', 'beak', 'bear', 'beat', 'beats', 'beatty', 'beaufoy', 'beautiful', 'beauty', 'became', 'because', 'beckingham', 'beckner', 'become', 'becomes', 'becoming', 'bedfordshire', 'bee', 'been', 'beethoven', 'before', 'began', 'begin', 'beginning', 'begins', 'beguiled', \"beguiled's\", 'begun', 'behave', 'behaves', 'behavior', 'beheaded', 'behind', 'beijing', 'being', 'beings', 'belgian', 'belgium', 'belgrade', 'belichick', 'belief', 'beliefs', 'believe', 'believed', 'believers', 'believing', 'bellas', 'belle', 'bells', 'bellwether', 'belong', 'belonged', 'belonging', 'belongs', 'below', 'ben', 'bender', 'beneckendorff', 'benedict', 'benefiting', 'benefits', 'bengal', 'bengali', 'benioff', 'benjamin', 'bennett', 'benny', 'benoit', \"benoit's\", 'benz', 'benzene', 'benzodiazepine', 'benzodiazepines', 'benzos', 'beowulf', 'bequeathing', 'berber', 'berbers', 'bercow', 'bergé', 'bering', 'berlin', 'bermuda', 'bernard', 'bernd', 'bernice', 'bernthal', 'berry', 'bertram', 'bes', 'besides', 'best', 'bestselling', 'beth', 'bethesda', 'betsy', 'better', 'betty', 'between', 'beverage', 'beverly', 'beyond', 'bezopasnosti', 'bhagya', 'bhai', 'bharat', 'bharatiya', 'bhayandar', 'bhi', 'bhimrao', 'bhojpuri', 'bhutan', 'bianca', 'bible', 'biblically', 'bid', 'biderman', 'biennial', 'biennially', 'big', 'big.', 'bigger', 'biggest', 'bihari', 'bilingual', 'bill', 'billboard', 'bille', 'billed', 'billie', 'billion', 'billionaire', 'billy', 'binding', 'binoche', 'binomen', 'biochemical', 'biographical', 'biographies', 'biological', 'biologist', 'biology', 'biomedical', 'biopic', 'bird', 'birds', 'birmingham', 'birth', 'birthday', 'birthed', 'birthplace', 'bishop', 'bismarck', 'bitter', 'biz', 'björk', 'black', 'blacksmiths', 'blackstone', 'blake', 'blanchett', 'blanco', 'blank', 'blind', 'blinded', 'blink', 'bloch', 'block', 'blockbuster', 'blocks', 'blog', 'blomkamp', 'blood', 'blown', 'blu', 'blue', 'blues', 'bluestone', 'blunt', 'bly', 'bmw', 'board', 'boardgame', 'boat', 'boats', 'bob', 'bodies', 'body', 'bodyguard', 'boeing', 'bohemia', 'boise', 'boleyn', 'bolivia', 'bolivia\\tlist', 'bollywood', 'bolton', 'bombay', 'bombs', 'bomer', \"bomer's\", 'bonaire', 'bond', 'bones', 'bono', 'bonobo', 'bonobos', \"bonobos'\", 'bonus', 'book', 'booker', 'books', 'booth', 'border', 'bordered', 'bordering', 'borders', 'born', 'borough', 'bose', 'boseman', 'bosh', 'bosnian', 'boston', 'bosworth', 'botanically', 'botanicals', 'both', 'bottom', 'bought', 'boulevard', 'bouncer', 'boundaries', 'bounty', 'bourbon', 'bourbons', 'bourne', 'bow', 'bowen', \"bowen's\", 'bowl', 'bowls', 'box', 'boxer', 'boxers', 'boxes', 'boxing', 'boy', 'boyd', 'boyle', 'boys', 'bracelet', 'brad', 'brady', 'brahmi', 'braided', 'brain', 'bran', 'branch', 'branches', 'brand', 'branded', 'branding', 'brando', 'brands', 'brandt', 'brasier', 'brat', 'braunstein', 'brazil', 'brazilian', 'breaching', 'break', 'breakaway', 'breakfast', 'breaks', 'breakthrough', 'breath', 'breathing', 'breed', 'brent', 'brenton', 'brett', 'brian', 'brianne', 'brick', 'brickyard', 'bride', 'bridge', 'bridges', 'bridget', 'brie', 'brief', 'briefly', 'bringing', 'brings', 'brit', 'britain', 'british', 'britney', 'briton', 'britons', 'brittany', 'broad', 'broadcast', 'broadcaster', 'broadcasting', 'broader', 'broadly', 'broadsheet', 'broadway', 'broke', 'brokeback', 'broken', 'brolin', 'brontë', 'brooklyn', 'brooks', 'bros', 'bros.', 'brother', 'brothers', 'brought', 'brown', 'brownish', 'browser', 'browsers', 'browsing', 'bruce', 'bruckheimer', 'brunswick', 'bryan', 'bryant', 'buck', 'buckingham', 'bucks', 'buddhist', 'buddies', 'budget', 'buena', 'buenos', 'buffy', 'build', 'building', 'buildings', 'buildup', 'built', 'bulgaria', 'bulgarian', 'bull', 'bulldog', 'bulls', 'bumpass', 'burbank', 'burden', 'bureau', 'burgess', 'burials', 'buried', 'burj', 'burl', 'burton', 'buscana', 'buses', 'bush', \"bush's\", 'busiest', 'business', 'businesses', 'businessman', 'businesswoman', 'but', 'butcher', 'butler', 'butte', 'butterflies', 'butterfly', 'by', 'byrne', 'byron', 'byzantines', 'c', 'c.k', 'ca', 'cable', 'caesar', 'caesars', 'cagefighting', 'cagney', 'caicos', 'cairo', 'calculated', 'calculations', 'calculus', 'caleb', 'calendar', 'california', 'californian', 'caligula', 'call', 'called', 'calls', 'cambridge', 'cambridgeshire', \"cambridgeshire's\", 'came', 'cameo', 'cameos', 'camera', 'cameron', 'camilla', 'camp', 'campaign', 'campaigned', 'campaigning', 'campaigns', 'campbell', 'campus', 'campuses', 'can', 'canada', 'canadian', 'cancer', 'cancers', 'candidate', 'candy', 'cannes', 'cannon', 'cannot', 'canon', 'canyon', 'canyons', 'cap', 'capable', 'capcom', 'cape', 'capetian', 'capital', 'capitol', 'capote', \"capote's\", 'cappella', 'capra', 'captain', 'captivity', 'capture', 'captured', 'car', 'carcaterra', 'cardinal', 'career', 'carey', \"carey's\", 'cargo', 'caribbean', \"caribbean's\", 'carl', 'carlos', 'carly', 'carnegie', 'carnival', 'carnivàle', 'carol', 'carolina', 'carpenter', \"carpenter's\", 'carrey', 'carrie', 'carroll', 'carry', 'carrying', 'cars', 'cartel', 'carter', 'cartoon', 'cartridge', 'cary', 'casa', 'cascade', 'cascades', 'cases', 'casey', 'cash', 'casino', 'casinos', 'cassel', 'cassette', 'cassidy', 'cast', 'castile', 'casting', 'castle', 'castlevania', 'casualties', 'cat', 'catalonia', 'catalonian', 'catcher', 'catching', 'cate', 'categories', 'categorized', 'category', 'catering', 'cathedral', 'catherine', 'catholic', 'catholicism', 'cats', 'cattle', 'caucasus', 'caucus', 'cause', 'caused', 'causes', 'cavanagh', 'caviezel', 'cavill', 'cbc', 'cbe', 'cbs', 'cc', 'cd', 'cdre', 'ce', 'cede', 'celebrated', 'celebrating', 'celebration', 'celebrities', 'celebrity', 'celestial', 'cells', 'cellular', 'censorship', 'census', 'centaurs', 'center', 'centered', 'centers', 'central', 'centralized', 'centre', 'centuries', 'century', 'ceo', 'cera', 'cereal', 'ceremony', 'ceres', 'certain', 'certification', 'certified', 'chabon', 'chadwick', 'chagatai', 'chaguanas', 'chaguaramas', 'chain', 'chair', 'chairman', 'chairs', 'chalayan', 'challenge', 'challenged', 'challenger', 'champion', 'champions', 'championship', 'champs', 'chandler', 'change', 'changed', 'changes', 'changing', 'channel', 'chaperone', 'chaplin', 'chappie', 'character', 'characteristics', 'characterization', 'characterized', 'characters', 'charan', 'charge', 'charged', 'charity', 'charles', 'charlie', 'charlotte', 'charlton', 'chart', 'charted', 'charterhouse', 'charts', 'chase', 'chashmah', 'chastity', 'chat', 'checked', 'cheerleader', 'cheese', 'chef', 'chekhov', 'chelmsford', 'chelsea', 'chelsey', 'chemical', 'chemically', 'chemicals', 'chemistry', 'chennai', 'cher', 'chesley', 'chesney', \"chesney's\", 'chest', 'chevy', 'chicago', 'chief', 'chien', 'child', 'childhood', 'children', 'chile', 'chili', 'chillwave', 'chilopods', 'chimpanzee', \"chimpanzee's\", 'china', 'chinatown', \"chinatown's\", 'chinese', 'chip', 'chipmunks', \"chipmunks's\", 'chips', 'chiranjeevi', 'chlamydia', 'choice', 'choir', 'choose', 'chopra', 'choreographer', 'chosen', 'chowder', 'chris', 'christ', 'christian', 'christianity', 'christians', 'christina', 'christine', 'christmas', 'christopher', 'chronicle', 'chrysostomus', 'chuck', 'chumlee', 'church', 'churches', 'cia', 'cie', 'cigarette', 'cinema', 'cinemas', 'cinematic', 'cinematographer', 'cinematography', 'cinergi', 'circle', 'circulating', 'circumstances', 'cisalpine', 'cites', 'cities', 'citigroup', 'citizen', 'citizens', 'citizenship', 'city', 'civic', 'civil', 'civilian', 'civilizations', 'cj', 'clade', 'claim', 'claimed', 'claiming', 'claims', 'claire', 'clan', 'clancy', 'clara', 'clarence', 'clark', 'clarke', 'clash', 'class', 'classes', 'classic', 'classical', 'classics', 'classifications', 'classified', 'claude', 'claudian', 'claudio', 'claudius', 'clause', 'cleaner', 'cleared', 'clearing', 'cleveland', 'client', 'climate', 'clint', 'clinton', 'clippers', 'clooney', 'cloris', 'close', 'closed', 'closer', 'closeted', 'closing', 'clothes', 'clothing', 'cloud', 'cloverfield', 'clown', 'club', 'clubs', 'clueless', 'clutch', 'clément', 'cmde', 'cmdre', 'cns', 'co', 'coach', 'coaching', 'coalition', 'coast', 'coastal', 'coaster', 'coasts', 'cochran', 'code', 'codes', 'cody', 'coeducational', 'coefficients', 'coeliac', 'coen', 'coeur', 'coexists', 'cohen', 'cohn', 'coinciding', 'coins', 'colbert', 'colchian', 'cold', 'colin', 'collaborated', 'collaboration', 'collaborations', 'collaborator', 'collapse', 'collapsed', 'collecting', 'collection', 'collective', 'collectively', 'collectivity', 'college', 'collins', 'colombia', 'colombian', 'colonial', 'colonies', 'colonists', 'colony', 'color', 'coloring', 'colosseum', 'colson', 'columbia', 'columbus', 'coma', 'combat', 'combatants', 'combine', 'combined', 'combines', 'come', 'comedian', 'comedic', 'comedienne', 'comedies', 'comedy', 'comes', 'comets', 'comic', 'comics', 'coming', 'command', 'commander', 'commanding', 'commandment', 'commedia', 'commenced', 'commentator', 'commerce', 'commercial', 'commission', 'commit', 'committed', 'committee', 'committees', 'commodore', 'common', 'commonly', 'commonplace', 'commons', 'commonwealth', 'commune', 'communications', 'communicator', 'communist', 'communities', 'community', 'commuter', 'commuters', 'como', 'compact', 'companies', 'companion', 'companionship', 'company', 'comparison', 'compete', 'competed', 'competes', 'competing', 'competition', 'competitive', 'competitively', 'competitiveness', 'compilation', 'compiled', 'complaints', 'complementary', 'complete', 'completed', 'completely', 'completing', 'complex', 'complications', 'component', 'components', 'composed', 'composer', 'composition', 'compound', 'comprised', 'comprises', 'compton', 'computer', 'computers', 'comune', 'conceived', 'concentration', 'concept', 'concepts', 'concerned', 'concerns', 'concert', 'concerts', 'concluded', 'concrete', 'condell', 'condemned', 'condition', 'conditions', 'confederacy', 'confederate', 'confederates', 'confederation', 'conference', 'conferred', 'confessed', 'confined', 'confirmed', 'conflict', 'conflicts', 'confluence', 'conglomerate', 'congo', 'congress', 'congressional', 'connect', 'connected', 'connecticut', 'connection', 'connections', 'connery', 'conquered', 'conqueror', 'conrad', 'conscious', 'conscription', 'conscripts', 'consecutive', 'consensus', 'conservation', 'conservatism', 'conservative', 'conservatives', 'considerable', 'considerably', 'considered', 'consist', 'consisted', 'consisting', 'consists', 'console', 'consolidated', 'consonant', 'consort', 'conspiracy', 'constanten', 'constantine', 'constanze', 'constituent', 'constitute', 'constitution', 'constitutional', 'constructed', 'construction', 'consultant', 'consumed', 'consumer', 'contador', 'contain', 'contained', 'contains', 'contemporary', 'content', 'contestant', 'contestants', 'contested', 'contexts', 'contiguous', 'continent', 'continental', 'continents', 'contingent', 'continue', 'continued', 'continues', 'continuously', 'contract', 'contracted', 'contraction', 'contracts', 'contrary', 'contrasting', 'contribute', 'contributed', 'contributing', 'contribution', 'control', 'controlled', 'controller', 'controlling', 'controls', 'controversial', 'controversy', 'conurbation', 'convention', 'conventional', 'conversion', 'conversions', 'converted', 'converting', 'convict', 'convicted', 'cook', 'cooking', 'cooling', 'cooper', 'coordinates', 'copies', 'coproduction', 'corden', 'cordilleran', 'core', 'cornell', 'corner', 'corp', 'corporal', 'corporate', 'corporation', 'corps', 'corpses', 'corpus', 'correspondents', \"correspondents'\", 'corresponding', 'corresponds', 'corrupt', 'corse', 'corsica', 'cortex', 'cosmic', 'cosmological', 'cosmology', 'costa', 'costner', 'costs', 'costumes', 'cotton', 'couches', 'coughing', 'could', 'council', 'councillor', 'counted', 'countess', 'counties', 'countries', 'country', \"country's\", 'county', 'coup', 'couple', 'course', 'courses', 'court', 'courteney', 'courtly', 'cousin', 'cousteau', 'couture', 'covenants', 'cover', 'coverage', 'covered', 'covers', 'cowboys', 'cowell', 'cox', 'coyote', 'cpc', 'crabs', 'craftsmen', 'craig', 'cranston', 'crap', 'crash', 'craven', 'crayfish', 'create', 'created', 'creates', 'creating', 'creation', 'creative', 'creator', 'creators', 'creature', 'credited', 'crediting', 'credits', 'creek', 'cressingham', 'crest', 'creston', 'cretton', 'crew', 'crime', 'crimes', 'criminal', 'crisis', 'criteria', 'criterion', 'critic', 'critical', 'critically', 'criticism', 'critics', \"critics'\", 'croatia', 'cronenberg', 'crops', 'crossover', 'crossroads', 'crouching', 'crowd', 'crowdsourced', 'crowe', 'crown', 'crows', 'crucial', 'crude', 'cruel', 'cruelty', 'cruise', 'crusoe', 'crustacean', 'crustaceans', 'cruz', \"cruz's\", 'cryer', 'crystal', 'cs', 'cs2', 'cthulhu', 'cuba', 'cuban', 'cuckoo', \"cuckoo's\", 'cuisine', 'culinary', 'cullen', 'cullinan', 'culminating', 'cult', 'cultists', 'cultivated', 'cultural', 'culture', 'cultured', 'cultures', 'cup', 'cupbearer', 'cups', 'curacao', 'curaçao', 'currency', 'current', 'currently', 'curtain', 'curtis', \"curtis'\", 'curve', 'custom', 'customary', 'cut', 'cuthbert', 'cw', 'cybernetic', 'cybill', 'cyclades', 'cyclically', 'cyclist', 'cypriot', 'cyprus', 'cyrus', 'czech', 'czechoslovakia', 'd', \"d'administration\", \"d'artagnan\", \"d'italia\", \"d'italiav\", \"d'onofrio\", \"d'or\", \"d's\", \"d'état\", 'd.c', 'da', 'dacia', 'dactylic', 'dad', 'daddy', 'daenerys', 'dagworthy', 'dahl', 'daily', 'daimler', 'dakota', 'dale', 'dalgliesh', 'dalian', 'dalit', 'dallas', 'damage', 'damala', 'dameron', 'damon', 'dan', 'dana', 'dance', 'dancer', 'dances', 'dancing', 'danes', 'dangerous', 'danica', 'daniel', 'danielle', 'daniels', 'danish', 'danny', \"dante's\", 'danvers', 'darcie', 'daredevil', 'dark', 'darker', 'darkness', 'darren', 'darrin', 'darshan', 'dashner', 'data', 'database', 'date', 'dates', 'dating', 'daughter', 'daughters', 'dave', 'david', 'davis', 'dawn', 'dawood', 'dawson', \"dawson's\", 'day', 'days', 'daytime', 'dc', 'de', 'dead', 'deadliest', 'deadly', 'deakins', 'deal', 'deals', 'dean', 'death', 'deaths', 'deborah', 'debut', 'debuted', 'debuts', 'decade', 'decades', 'decapod', 'decapoda', 'decapods', 'deceased', 'deceive', 'december', 'deception', 'decided', 'decision', 'decisively', 'declaration', 'declare', 'declined', 'declines', 'declining', 'decreased', 'decreases', 'decter', 'dedicated', 'deemed', 'deep', 'deeper', 'deepest', 'deepika', 'deewani', 'defeat', 'defeated', 'defeating', 'defelice', 'defense', 'defiance', 'defined', 'defines', 'definitive', 'deformed', 'deformities', 'degeneres', 'degree', 'deity', 'deknight', 'del', 'deleted', 'delhi', 'deliberate', 'delivered', 'delivery', 'dell', \"dell'arte\", 'deluxe', 'dementia', 'demi', 'demigod', 'democracy', 'democrat', 'democratic', 'democrats', 'demographic', 'demographics', 'demolished', 'demonologist', 'demonologists', 'demons', 'demonstrate', 'demonstrated', 'denied', 'denise', 'denizens', 'denmark', 'dennehy', 'dennis', 'denominated', 'densely', 'dent', 'depardieu', 'department', 'departments', 'dependent', 'depicted', 'depicts', 'depression', 'deprive', 'deputy', 'der', 'derided', 'derivative', 'derivatives', 'derived', 'derives', 'des', 'desaulniers', 'descendants', 'descent', 'describe', 'described', 'descriptions', 'desert', 'design', 'designated', 'designation', 'designed', 'designer', 'designers', 'designs', 'desire', 'desk', 'desktop', 'despised', 'despite', 'dessalines', 'destin', 'destination', 'destinations', 'destroy', 'destroyed', 'destructive', 'details', 'detective', 'detention', 'determine', 'determined', 'detroit', 'deutch', 'dev', 'develop', 'developed', 'developer', 'developing', 'development', 'developmental', 'device', 'devices', 'devil', 'devils', 'devoid', 'devoted', 'devotion', 'devotions', 'dewitt', 'dexter', 'dharmesh', 'diagnosed', 'diagnosis', 'dial', 'diamond', 'diana', \"diana's\", 'diaries', 'diarrhea', 'diaz', 'diazepine', 'dicaprio', 'dichotomous', \"dicken's\", 'dickens', 'dictated', 'dictator', 'dictatorship', 'dictyostelium', 'did', 'didi', 'die', 'died', 'diet', 'differ', 'differences', 'different', 'difficult', 'difficulties', 'difficulty', 'digger', 'digital', 'dili', 'dilwale', 'dimaggio', 'ding', 'dini', 'dining', 'dinner', 'dione', 'diplomat', 'diplomatic', 'direct', 'directed', 'directer', 'directing', 'direction', 'directly', 'director', 'directorial', 'directors', 'directs', 'dirty', 'disappeared', 'disapproval', 'disassociated', 'disaster', 'disbanded', 'disc', 'discharge', 'discipline', 'disciplines', 'disco', 'discomfort', 'disconnect', 'discontinued', 'discover', 'discovered', 'discovering', 'discovery', 'discrimination', 'discuss', 'disease', 'disestablished', 'dish', 'dishevelled', 'dishonorable', 'disinformation', 'disk', 'disney', 'disneyland', 'disorder', 'disorders', 'displayed', 'displays', 'disputed', 'disruptions', 'dissociated', 'dissociation', 'dissociative', 'dissolution', 'dissolved', 'distance', 'distilled', 'distinct', 'distinctions', 'distinguishable', 'distinguished', 'distinguishing', 'distress', 'distressing', 'distributed', 'distributes', 'distribution', 'distributor', 'district', 'ditching', 'divergent', 'diverse', 'diversified', 'divested', 'divided', 'divides', 'divine', 'division', 'divisions', 'divorce', 'divorced', 'dj', 'do', 'dobrudja', 'doctor', \"doctor's\", 'doctorow', 'doctrine', 'docudrama', 'documentary', 'documents', 'dodgeball', 'dodo', 'does', \"doesn't\", 'dog', 'dogs', 'dogtown', 'doha', 'doll', 'dollar', 'dollars', 'dollhouse', 'dolls', 'domestic', 'dominant', 'dominated', 'dominion', 'dominions', 'don', 'donald', 'donated', 'donates', 'donations', 'done', 'dongri', 'donna', 'donoghue', 'door', 'dopamine', 'doping', 'dorothea', 'dorrit', 'dorsey', 'doses', 'dota', 'double', 'doubles', 'doug', 'down', 'downfall', 'download', 'downtown', 'doxycycline', 'dozen', 'dq', 'dr', 'draft', 'dragon', 'drake', \"drake's\", 'drakken', 'drama', 'dramas', 'dramatic', 'dramatically', 'dramatist', 'dramatizes', 'dramedy', 'dravidian', 'draw', 'dreamliner', 'dreams', 'dreamworks', 'drescher', 'dress', 'drew', 'dreyfus', 'drift', 'drink', 'drive', 'driven', 'driver', 'driving', 'dropped', 'drug', 'drugs', 'drummer', 'drummond', 'drunk', 'du', 'dual', 'duality', 'duane', 'dubbed', 'dubna', 'dubs', 'duchess', 'duchovny', 'duchy', 'duck', 'dudley', 'due', 'duke', 'dulhania', 'dulquer', 'dumont', 'dumraon', 'dunaway', 'dunbar', 'dunder', 'dunst', 'duo', 'duration', 'durham', 'during', 'durnsford', 'dustin', 'dutch', 'duties', 'duty', 'duvall', 'dvd', 'dwarf', 'dwellings', 'dying', 'dylan', 'dynamic', 'dynamics', 'dynasty', 'dysentery', 'dyspnea', 'dystopian', 'dīn', 'e', \"e's\", 'e.g', 'e4', 'each', 'eagle', 'ear', 'earhart', 'earl', 'earle', 'earlier', 'earliest', 'early', 'earned', 'earnest', 'earning', 'earnings', 'earnshaw', 'earth', \"earth's\", 'earthling', 'earthquake', 'earthquakes', 'east', 'eastbay/footlocker', 'easterly', 'eastern', 'eastwood', 'eat', 'ebon', 'eccentric', 'economic', 'economically', 'economics', 'economies', 'economist', 'economy', 'ed', 'eddard', 'edge', 'edinburgh', 'edison', 'edited', 'editing', 'edition', 'editor', 'edits', 'educated', 'education', 'educational', 'edward', 'eels', 'effect', 'effective', 'effects', 'effie', 'effort', 'efforts', 'effy', 'efron', \"efron's\", 'egg', 'ego', 'egypt', \"egypt's\", 'egyptian', 'egyptians', 'eichinger', 'eight', 'eighth', 'eighties', 'either', 'ekta', 'elaborate', 'elaine', 'elder', 'elderly', 'eldest', 'elect', 'elected', 'election', 'elections', 'electric', 'electrical', 'electrocuted', 'electrocution', 'electrodes', 'electromagnetism', 'electronic', 'electronica', 'electronics', 'elegantly', 'element', 'elemental', 'elements', 'elephant', 'elevators', 'eleven', 'eleventh', 'elias', 'eligible', 'elimination', 'eliot', 'elisabeth', 'elisha', 'elite', 'elizabeth', 'ella', 'ellen', 'elongated', 'eloped', 'else', 'elucidation', 'elwes', 'email', 'emas', 'embayment', 'embodying', 'embolism', 'embroiled', 'emerged', 'emerging', 'emerick', 'emery', 'emeryville', 'emigrated', 'emilia', 'emilio', 'emily', 'eminem', 'emirates', 'emm', 'emma', 'emmanuel', 'emmitt', 'emmons', 'emmy', 'emotional', 'emotions', 'empath', 'emperor', 'emperors', 'emphasis', 'empire', 'empires', 'employed', 'employee', 'employees', 'employing', 'empowerment', 'empresa', 'en', 'enables', 'enclave', 'encompassed', 'encompasses', 'encompassing', 'encountering', 'encyclopedia', 'end', 'ended', 'ending', 'endings', 'endocrine', 'ends', 'enduring', 'enemies', 'enemy', 'energetic', 'energy', 'enforcement', 'engaged', 'engages', 'engine', 'engined', 'engineer', 'engines', 'england', 'english', 'enhanced', 'enhancement', 'enhancer', 'enhances', 'enjoying', 'enlisted', 'ennis', 'enormous', 'enosis', 'enough', 'ensemble', 'enter', 'entered', 'entering', 'entertainer', 'entertainers', 'entertainment', 'entire', 'entirely', 'entirety', 'entities', 'entity', 'entrepreneur', 'entries', 'entry', 'environment', 'ep', 'ephron', 'epic', 'episcopal', 'episode', 'episodes', 'epistolary', 'epitomizing', 'eponymous', 'eps', 'equality', 'equated', 'equations', 'equipment', 'equivalent', 'era', 'eradicated', 'eric', 'erin', 'eris', 'eritrea', 'erlangen', 'erotic', 'erstwhile', 'erupted', 'eruptions', 'esarhaddon', 'escalators', 'escaping', 'escobar', 'especially', 'espenson', 'espn', 'espíritus', \"esquire's\", 'esquires', 'essandoh', 'essay', 'essayist', 'essence', 'essex', 'establish', 'established', 'establishing', 'establishment', 'esteban', 'estelle', 'estevez', 'estimate', 'estimated', 'estonia', 'estonian', 'estrada', 'estranged', 'etc', 'ethan', 'ethereal', 'ethics', 'ethiopia', 'ethiopian', 'ethnic', 'ethnically', 'etienne', 'etymology', 'eugene', 'eugène', 'euphemia', 'eurasia', 'europe', 'european', 'eurotas', 'eurozone', 'eurythmics', 'eustatius', 'evaluating', 'evan', 'evangelical', 'evans', 'evanston', 'even', 'event', 'eventbrite', 'events', 'eventually', 'ever', 'everdeen', 'every', 'everybody', 'everyday', 'everyone', 'everywhere', 'evil', 'evoked', 'evolution', 'evrotas', 'ex', 'exact', 'exactly', 'exaggerated', 'examination', 'example', 'excellence', 'except', 'exception', 'exchange', 'exclude', 'excluded', 'excludes', 'exclusive', 'exclusively', 'execute', 'executed', 'executes', 'execution', 'executive', 'exelon', 'exercise', 'exercised', 'exercises', 'exerted', 'exhibited', 'exhibition', 'exhumation', 'exhume', 'exhumed', 'exist', 'existed', 'existence', 'existing', 'exists', 'exit', 'exited', 'exonymic', 'exotic', 'expand', 'expanded', 'expanding', 'expected', 'expelled', 'expensive', 'experience', 'experienced', 'experiences', 'experiment', 'experimental', 'experimentation', 'experiments', 'expert', 'expired', 'explicit', 'explored', 'explorer', 'explores', 'explosive', 'exponents', 'export', 'exports', 'exposition', 'express', 'expressed', 'expression', 'extended', 'extending', 'extensive', 'extent', 'extinct', 'extinction', 'extinguished', 'extra', 'extreme', 'extremely', 'extremists', 'exupéry', 'eyes', 'f', 'f.c', 'face', 'facetime', 'facilities', 'facility', 'facinelli', 'factions', 'facto', 'factor', 'factories', 'factors', 'faculty', 'faded', 'fagerbakke', 'failed', 'failure', 'failures', 'fairchild', 'faith', 'faithful', 'faking', 'falcon', 'falcón', 'fall', 'falls', 'false', 'fame', 'famed', 'familiar', 'families', 'family', 'famous', 'fan', 'fanaa', 'fanatic', 'fantasy', 'far', 'fare', 'fargo', \"fargo's\", 'faris', 'farmer', 'farmhouse', 'farms', 'faroe', 'fascist', 'fashion', 'fashioned', 'fassbender', 'fast', 'fastened', 'fastest', 'fasting', 'fat', 'fatal', 'father', 'fathers', 'fatigue', 'faust', 'favor', 'favorable', 'favorably', 'favored', 'favoring', 'favorite', 'favors', 'favoured', 'favours', 'faye', 'fbi', 'fc', 'feared', 'feast', 'feathers', 'feature', 'featured', 'features', 'featuring', 'february', 'fechter', 'federal', 'federation', 'federation/world', 'fee', 'feeding', 'feel', 'feet', 'feldstein', 'fell', 'fellow', 'felsic', 'female', 'females', 'fence', 'fenix', 'fenn', 'fennel', 'fenway', 'ferdinand', 'fergana', 'fernando', 'ferrari', 'festival', 'festive', 'feud', 'fever', 'few', 'fewer', 'fiction', 'fictional', 'fictitious', 'fidaa', 'field', 'fields', 'fifa', 'fifteen', 'fifteenth', 'fifth', 'fifties', 'fifty', 'fight', 'fighters', 'fighting', 'fights', 'figure', 'figures', 'fiji', 'file', 'files', 'filings', 'film', 'filmed', 'filmfare', 'filming', 'filmmaker', 'filmmakers', 'filmmaking', 'films', 'final', 'finale', 'finally', 'finals', 'finance', 'financed', 'finances', 'financial', 'financially', 'financier', 'financing', 'find', 'finds', 'fine', 'fingerprinting', 'finis', 'finished', 'fink', 'finland', 'finnish', 'fiona', 'fire', 'firefly', 'firefox', 'firms', 'first', \"first's\", 'fish', 'fisher', 'fission', 'fitted', 'five', 'fixed', 'flagship', 'flahive', 'flamingo', 'flat', 'flavor', 'flavoured', 'fled', 'fleet', 'fleming', 'flew', 'flickerman', 'flight', 'flights', 'flinstones', 'flintstones', 'floated', 'flog', 'floors', 'flop', 'flopped', 'flora', 'florida', 'flourished', 'flowering', 'flowers', 'floyd', 'fluent', 'fluid', 'fly', 'flynn', \"flynn's\", 'focal', 'focus', 'focused', 'focuses', 'focusing', 'fog', 'folds', 'folk', 'folklore', 'follow', 'followed', 'followers', 'following', 'follows', 'foo', 'food', 'foods', 'foot', 'footaction', 'footage', 'football', 'footballer', 'footloose', 'footprint', 'footsteps', 'footwear', 'for', 'forbes', 'forbids', 'force', 'forces', 'ford', 'forecasts', 'foreign', 'foreigner', 'foreplay', 'forest', 'forested', 'forever', 'forger', 'forgetting', 'forgives', 'form', 'formal', 'formally', 'forman', 'format', 'formation', 'formats', 'formed', 'former', 'formerly', 'forms', 'formula', 'forrest', 'fort', 'forth', 'forthcoming', 'fortress', 'fortus', 'forty', 'forum', 'forward', 'foster', 'fought', 'foul', 'found', 'foundation', 'founded', 'founder', 'founding', 'four', 'fourteen', 'fourth', 'fox', 'foxx', 'fragments', 'frame', 'framed', 'frames', 'framing', 'fran', 'franc', 'franca', 'france', 'frances', 'franchise', 'franchised', 'francis', 'francisco', 'franco', 'frank', 'frankenstein', 'franklin', 'franz', 'fraternity', 'fraud', 'freak', 'frears', 'fred', 'freddie', 'frederator', 'frederick', 'free', 'freedom', 'freely', 'freemason', 'freer', 'freighter', 'french', 'frequent', 'frequently', 'fresh', 'friary', 'friday', \"friday's\", 'friedrich', 'friend', 'friendly', 'friends', 'friendship', 'fright', 'fringe', 'fritton', 'fritz', 'frog', 'frogs', 'from', 'front', 'fronted', 'frontrunner', 'frost', 'frosty', 'frs', 'frse', 'frsl', 'fruit', 'fruits', 'frusciante', 'frédéric', 'ft', 'fu', 'fulfilling', 'full', 'fuller', 'fully', 'function', 'functional', 'functionality', 'functioning', 'functions', 'fundamental', 'fundamentals', 'funded', 'funeral', 'fungi', 'funk', 'fur', 'further', 'furthermore', 'fury', 'fusion', 'futurama', 'future', 'fx', 'fx/fxx', 'fäh', 'fêted', 'g', 'g.p', 'gabon', 'gabriel', 'gaffigan', 'gagliardi', 'gaiman', 'gain', 'gained', 'gaining', 'gaius', 'galactic', 'galaxy', 'gale', 'galen', 'galicia', 'gallagher', 'galt', 'gama', 'gamal', 'game', 'games', \"games'\", 'gaming', 'gang', 'ganges', 'gangster', 'ganymede', 'gaona', 'garcia', 'garden', 'garner', 'garnered', 'garnering', 'garrison', 'gary', 'gassmann', 'gaston', 'gathered', 'gathering', 'gaul', 'gaulle', 'gave', 'gavin', 'gay', 'gdp', 'gears', 'gecko', 'gein', \"gein's\", 'gem', 'gemini', 'gems', 'gemstone', 'gena', 'gender', 'gene', 'general', 'generally', 'generals', 'generate', 'generated', 'generic', 'genetic', 'genndy', 'genocide', 'genocides', 'genre', 'genres', 'gensakusha', 'genus', 'geodetic', 'geoghan', 'geographic', 'geography', 'geopolitical', 'geopolitics', 'george', 'georges', 'georgia', 'georgian', 'georgians', 'geraldine', 'gerard', 'gerhard', 'german', 'germanic', 'germanicus', 'germany', 'gerome', 'get', 'gettleman', 'getty', \"getty's\", 'gettysburg', 'gham', 'ghar', 'ghazi', 'ghost', 'ghosts', 'giant', 'gibbons', 'gibraltar', 'gigantic', 'gilbert', 'gillan', 'gilles', 'gillian', 'gilmore', \"gilmore's\", 'gilmour', 'girl', 'girlfriend', \"girlfriend's\", 'girls', \"girls'\", 'giro', 'giselli', 'give', 'given', 'giver', 'gives', 'glacial', 'glaciation', 'glacier', 'glamour', 'glands', 'glasgow', 'glass', 'gleason', 'glenn', 'glided', 'global', 'globalism', 'globalization', 'globally', 'globe', 'globes', 'glow', 'gluck', 'glutamate', 'gluten', 'gm', 'gnaw', 'gneiss', 'gnosticism', 'gnr', 'go', 'goal', 'goals', 'god', 'godchaux', 'goddard', 'goddess', 'goddesses', \"goddesses'\", 'gods', 'goebbels', \"goebbels'\", 'goes', 'goethe', 'going', 'gold', 'goldberg', 'golden', 'goldie', 'goldmines', 'goldwyn', 'golf', 'goliyon', 'gonads', 'gone', 'gonorrhea', 'good', 'goodman', 'goodson', 'google', 'gorai', 'gorilla', 'gory', 'goscinny', 'gosling', 'gospel', 'gosudarstvennoy', 'got', 'gotham', 'gothic', 'goths', 'gotten', 'gough', 'governance', 'governed', 'governess', 'governing', 'government', 'governments', 'governor', 'gps', 'gracie', 'gradually', 'graduate', 'graduated', 'graduating', 'graduation', 'graham', 'grain', 'grammy', 'grand', 'grandchild', 'grandfather', 'grandin', 'grandma', 'grandmother', 'grandparents', 'grandson', 'granite', 'granitic', 'grant', 'granted', 'granular', 'graphic', 'graphics', 'grappling', 'grassy', 'grateful', 'grave', 'graveyards', 'gray', 'grays', 'grazer', \"grazer's\", 'grease', \"grease's\", 'great', 'greater', 'greatest', 'greatly', 'greco', 'greece', \"greece's\", 'greek', 'green', 'greengrass', 'greenland', 'greenwalt', 'greenwood', 'greg', 'gregory', 'grenada', 'grew', 'grey', \"grey's\", 'greyfriars', 'greyhound', 'grief', 'griffin', 'griffiths', 'grime', 'gritty', 'groban', 'grohl', 'groove', 'grooves', 'gross', 'grossed', 'grossing', 'ground', 'group', 'groups', 'growing', 'grown', 'growth', 'gruff', 'guadalete', 'guard', 'guardians', 'guards', 'guatemalan', 'guerrero', \"guerrero's\", 'guess', 'guest', 'guggenheim', 'guidelines', 'guiding', 'guild', 'guillem', 'guilty', 'guinness', 'guitar', 'guitarist', 'gulf', 'gump', 'gunn', 'guns', 'gurkani', 'gus', 'guthrie', 'guy', 'guys', 'guzmán', 'gyllenhaal', 'h', 'ha', 'habitable', 'habits', 'habsburg', 'had', 'hader', 'hades', 'hadley', 'hagan', 'hagen', 'haggerty', 'hai', 'hain', 'hair', 'hairy', 'haiti', 'haitian', 'hal', 'hale', \"hale's\", 'half', 'halfway', 'hall', 'halloween', 'halted', 'hamilton', 'hamlet', 'hamm', 'hammer', 'hammond', 'hampton', 'hamptons', 'hand', 'handed', 'handheld', 'handling', 'hands', 'hanged', 'hangover', 'hannah', 'hannibal', 'hannibalic', 'hanover', 'hans', 'hansol', 'happened', 'happy', 'hard', \"hard's\", 'harder', 'hardware', 'hardwicke', 'hardy', 'harland', 'harlem', 'harmony', 'harper', 'harrelson', 'harris', 'harrison', \"harrison's\", 'harrisongot', 'harry', 'harvest', 'harvey', 'haryana', 'has', 'haseeno', 'haskin', \"hasn't\", 'hasselhoff', 'hate', 'hatfield', 'hatfields', 'hathaway', 'hati', \"hati's\", 'hatred', 'haul', 'haumea', 'haunted', 'hauntings', 'haute', 'have', 'having', 'hawaii', 'hawkins', 'hawley', 'hawn', 'hawthorne', 'hayek', 'hayes', \"hayes'\", 'haymitch', 'hays', 'hbo', 'he', 'head', 'headaches', 'headlined', 'headquartered', 'headquarters', 'heads', 'headstrong', 'health', 'healthy', 'heard', 'hears', 'heart', 'hearts', 'heat', 'heath', 'heather', 'heatherette', 'heaven', 'heavensbee', 'heavily', 'heavy', 'heavyweight', 'hebe', \"hebe's\", 'hebrew', 'heckerling', 'hedges', 'hedi', 'hedonistic', 'height', 'heighten', 'heightened', 'heights', 'heigl', 'heiress', 'heirs', 'heist', 'held', 'helen', 'helena', 'helio', 'hell', 'help', 'helped', 'helping', 'helps', 'hemisphere', 'hemsworth', 'hendrix', 'henri', 'henricus', 'henry', 'henson', 'hephaestus', 'her', 'hera', 'heracles', 'herbert', 'herbivore', 'herbs', 'here', 'herek', 'heritage', 'hermann', 'hermit', 'hernández', 'hero', 'heroes', \"heroes'\", 'heroine', 'herrington', 'herrmann', 'herself', 'hertford', 'hertfordshire', 'herzogenaurach', 'heston', 'hexameter', 'hexapods', 'hezbollah', 'hiatus', 'hibbert', 'hickox', 'hidden', 'hide', 'hierarchy', 'higgins', 'high', 'higher', 'highest', 'highlander', 'highly', 'highmore', 'highway', 'highways', 'hikaru', 'hill', 'hillary', 'hillbillies', 'hillenburg', 'him', 'himself', 'hindenburg', 'hindi', 'hindrance', 'hindu', 'hinduism', \"hinduism's\", 'hindustani', \"hindustani's\", 'hinged', 'hinton', 'hip', 'hire', 'hired', 'his', 'hispania', 'hispanic', 'hispano', 'histamine', 'historian', 'historians', 'historic', 'historical', 'historically', 'history', 'hit', 'hitchcock', 'hits', 'hizballah', 'hizbullah', 'hockey', 'hodges', 'hoff', 'hoffman', 'hogan', 'hokkaido', 'hold', 'holding', 'holds', 'holes', 'holiday', 'holidays', 'holiest', 'holland', 'hollow', 'holly', 'hollywood', 'holmes', 'holographic', 'holy', 'home', 'homer', \"homer's\", 'homes', 'hometown', 'hominoidea', 'homogeneous', 'homophonic', 'homosexual', 'homosexuality', 'honeymoon', 'hong', 'honor', 'honorable', 'honored', 'honors', 'honour', 'honshu', 'hood', 'hoops', 'hoover', 'hop', 'horne', 'horrible', \"horrible's\", 'horribly', 'horror', 'horse', 'hospital', 'hospitality', 'hospitaller', 'host', 'hosted', 'hosts', 'hot', 'hota', 'hotel', 'hotels', 'hotta', 'hour', 'hours', 'house', 'housefull', 'household', 'households', 'houses', 'housesitter', 'houston', 'how', 'howard', 'however', 'howl', 'hoyts', 'hub', 'hubbard', 'hudson', 'hugh', 'hughes', 'hulk', 'hum', 'human', 'humane', 'humanitarian', 'humanity', 'humans', 'humayun', 'hummer', 'humorous', 'humphrey', 'hundred', 'hundreds', 'hungary', 'hunger', 'hunter', 'hunters', 'hunting', 'hurricane', 'hurt', 'hurwitz', 'husband', 'hussein', 'husson', 'hutchence', 'hutcherson', 'hutu', 'huxley', 'hybrid', 'hydro', 'hyksos', \"hyksos'\", 'hyland', 'hyper', 'hypersaline', 'hypertext', 'hypothetical', 'höchstadt', 'i', \"i'm\", \"i's\", 'i.e', 'ian', 'iberia', 'iberian', 'ibn', 'ibrahim', 'ibs', 'ice', 'iceland', \"iceland's\", 'icelandic', 'iconic', 'idaho', 'ideas', 'identification', 'identified', 'identifies', 'identify', 'identities', 'identity', 'ideologies', 'idiom', 'idol', 'if', 'igneous', 'ignored', 'ignoring', 'igor', 'ii', 'iii', \"iii's\", 'iliad', 'illinois', 'illiterate', 'illness', 'illnesses', 'illustrated', 'illustrations', 'illustrator', 'image', 'images', 'imaginarium', 'imagination', 'imax', 'imdb', 'imdb.com', 'immediately', 'immigration', 'immortal', 'immortalized', 'immune', 'impact', 'impeded', 'imperative', 'imperial', 'impersonated', 'implants', 'implements', 'importance', 'important', 'imported', 'imports', 'impossible', 'improve', 'improves', 'in', 'inaugural', 'inaugurated', 'inc', 'inc.', 'incapable', 'incarnation', 'inception', 'include', 'included', 'includes', 'including', 'inclusion', 'inclusively', 'income', 'incorporate', 'incorporated', 'incorporates', 'incorporation', 'incorrectly', 'increase', 'increased', 'increases', 'increasing', 'incredibles', 'incredibly', 'incurs', 'indefatigable', 'indefinitely', 'independence', 'independent', 'independently', 'indeterminates', 'index', 'india', 'indian', 'indiana', 'indianapolis', 'indians', 'indicated', 'indies', 'indistinguishable', 'inditex', 'individual', 'individuals', 'indivisible', 'indo', 'indonesia', 'indonesian', 'induce', 'induced', 'induces', 'inducted', 'inductees', 'industrial', 'industrialised', 'industrialization', 'industrialized', 'industries', 'industry', 'indy', 'infantry', 'infections', 'inferior', 'inferno', 'inferred', 'influence', 'influenced', 'influences', 'influential', 'informally', 'information', 'ingredients', 'inhabitants', 'inhabited', 'initial', 'initialism', 'initially', 'initials', 'injection', 'injuries', 'inland', 'inmates', 'inner', 'innes', 'innocence', 'innocent', 'innovation', 'innovative', 'innovator', 'inscribed', 'insertion', 'inside', 'inspector', 'inspectorate', 'inspiration', 'inspired', 'installment', 'installments', 'instance', 'instead', 'institute', 'institution', 'institutions', 'instructional', 'instructor', 'instructors', 'instrumental', 'instrumentalists', 'instruments', 'insular', 'insurance', 'insurgent', 'integer', 'integrated', 'intellectual', 'intelligence', 'intended', 'intensifies', 'intensity', 'intentionally', 'interaction', 'interactions', 'interactive', 'intercollegiate', 'interconnected', 'intercontinental', 'interdependent', 'interest', 'interests', 'intergovernmental', 'interior', 'interlinked', 'interludes', 'intermedio', 'intern', 'internal', 'international', 'internationally', 'interned', 'internet', 'interning', 'interrelate', 'interrupted', 'interscope', 'intertwined', 'interventionism', 'intestinal', 'intimate', 'into', 'intrigues', 'introduced', 'introduction', 'intrusive', 'invading', 'invasion', 'invent', 'invented', 'invention', 'inventor', 'invents', 'investigate', 'investigated', 'investigates', 'investigation', 'investigations', 'investigators', 'investment', 'invisible', 'involuntary', 'involve', 'involved', 'involvement', 'involves', 'involving', 'ionesco', 'ionian', 'ios', 'iphone', 'iran', 'iranian', 'iranic', 'iraq', 'iraqi', 'ireland', 'irish', 'iron', 'irons', 'is', 'isaac', 'isabel', 'isabella', 'isabelle', 'ishq', 'islam', 'islamabad', 'islamic', 'islamist', 'island', 'islands', 'isle', 'ismael', \"isn't\", 'isolated', 'isolation', 'isotopes', 'issa', 'issue', 'issued', 'issues', 'it', \"it's\", 'italian', 'italy', 'item', 'items', 'its', 'itself', 'ittefaq', 'iv', 'ivan', 'ives', 'ivor', 'ivy', 'ix', 'j', 'j.d', 'j.j', 'j.k', 'j.r.r', 'jaan', 'jab', 'jabbar', 'jack', 'jackets', 'jackie', 'jackson', 'jacob', 'jacobs', 'jacobson', 'jacobus', 'jacques', 'jada', 'jade', 'jagger', 'jaime', 'jainulabdeen', 'jake', 'jamaica', 'jamal', 'james', 'jamestown', 'jamie', 'jamiroquai', 'jan', 'janata', 'jane', 'janet', 'janitor', 'janney', 'january', 'japan', \"japan's\", 'japanese', 'jaqueline', 'jarhead', 'jarmusch', 'jason', 'java', 'jawaani', 'jay', 'jayden', 'jayenge', 'jazz', 'jean', 'jeanette', 'jeb', 'jed', 'jeff', 'jefferson', 'jeffrey', 'jenna', 'jennifer', 'jenny', 'jeopardy', 'jeremy', 'jerome', 'jerry', 'jersey', 'jerusalem', 'jesse', 'jessica', 'jesus', 'jet', 'jewelry', 'jewish', 'jews', 'jfk', 'jiang', 'jim', 'jimi', 'jingle', 'jitsu', 'jiu', 'jj', 'joanna', 'job', 'jobs', 'jodha', 'joe', 'joel', 'joffrey', 'johann', 'johannes', 'johansson', 'johar', 'john', 'johnny', 'johnson', 'join', 'joined', 'joining', 'joins', 'joint', 'jointly', 'jon', 'jonah', 'jonas', 'jonathan', 'jones', \"jones's\", 'joni', 'jordan', 'jose', 'joseon', 'joseph', 'josh', 'joshua', 'joss', 'journalist', 'journalists', 'journals', 'journey', \"journey's\", 'joy', 'jr', 'judaism', 'judd', 'judge', 'judged', 'judges', 'judgments', 'judiciary', 'judith', 'judo', 'jugoslavija', 'julia', 'julian', 'julie', 'juliet', 'juliette', 'julio', 'julius', 'july', 'jump', 'june', 'junior', 'juniors', 'junta', 'jupiter', 'juridical', 'jurisdiction', 'jurist', 'just', 'justice', 'justin', 'k', 'ka', 'kabhi', 'kabhie', 'kadavul', 'kahaani', 'kahlifa', 'kajol', 'kal', 'kalam', 'kallis', 'kambakkht', 'kameni', 'kammula', 'kanon', 'kapoor', 'kara', 'karan', 'kareem', 'kareena', 'karen', 'karl', 'kartli', 'kartvelians', 'kasam', 'kasautii', 'kashmiri', 'kaskar', 'kassell', 'kate', 'katherine', 'kathleen', 'katie', 'katniss', 'kavach', 'kay', 'kaya', 'kayle', 'kazakhstan', 'kc', 'keaton', 'keegan', 'keener', 'keeps', 'keepsakes', 'keith', 'kelland', 'kelly', 'ken', 'kennedy', 'kenneth', 'kenney', 'kenny', 'kent', 'kentucky', 'kenya', 'kept', 'kerala', 'kerkovich', 'kerri', 'kesey', 'kevin', 'key', 'keyboardist', 'keyboards', 'kgb', 'khalifa', 'khama', 'khan', 'khanate', 'khanna', 'khomeini', 'khushi', 'ki', 'kids', 'kiefer', 'kieslowski', 'kievan', 'kilik', 'kill', 'killed', 'killer', 'killing', 'kills', 'kim', 'kimmy', 'kind', 'king', 'kingdom', 'kingdoms', 'kings', 'kingsman', 'kinnear', 'kinsella', 'kirk', 'kirsten', 'kitchen', 'kitsis', 'klaus', 'km', 'km2', 'knew', 'knight', 'knights', 'knocked', 'knockouts', 'know', 'knowledge', 'known', 'ko', 'koala', 'kodokan', 'kojol', 'komitet', 'konami', 'kong', 'konidela', 'kontinen', \"kontinen's\", 'korea', 'korean', 'korn', 'kos', 'koteas', 'krabs', 'kraglin', 'kramer', 'kretschmann', 'krill', 'kring', 'kripke', 'kristen', 'kroll', 'krumholtz', 'krzysztof', 'kubiszewski', 'kubrick', 'kuch', 'kuei', 'kuklinski', 'kulkarni', 'kumar', 'kumkum', 'kung', 'kurgan', 'kurt', 'kurtzman', 'kwesi', 'kyle', 'kylie', 'kyoto', 'kyra', 'kyrgyzstan', 'kyunki', 'kyushu', 'l', \"l'esprit\", 'l1', 'la', 'label', 'labeled', 'labels', 'laboratories', 'laboratory', 'labour', 'lack', 'lacked', 'lacking', 'lacks', 'laconia', \"laconia's\", 'lady', 'lafangey', 'lafayette', 'lafever', 'lagerlöf', 'lagravenese', 'lagte', 'lahore', 'laid', 'lake', 'lakeith', 'lakers', 'lambert', \"lambert's\", 'lambs', 'lamp', 'lana', 'lance', 'land', 'landed', 'landform', 'landhelgisgaeslan', 'landing', 'landlocked', 'landmark', 'landmass', 'landscape', 'landscapes', 'lane', \"lane's\", 'lanes', 'lang', 'language', 'languages', 'lani', 'lanka', 'lannister', 'lapaglia', 'larenz', 'large', 'largely', 'larger', 'largest', 'lars', 'larson', 'las', 'last', 'lasted', 'lasting', 'lasts', 'late', 'later', 'lateran', 'latest', 'latin', 'latter', 'latvia', 'latvian', 'lauded', 'laugh', 'launched', 'laura', 'lauren', 'laurent', 'laurie', 'lava', 'lavigne', 'law', 'lawful', 'lawrence', 'laws', 'lawson', 'lawsuit', 'lawyer', 'lawyers', 'lawyers.', 'laying', 'layout', 'laz', 'le', 'leachman', 'lead', 'leader', 'leaders', 'leadership', 'leading', 'leads', 'league', 'leagues', 'learned', 'learning', 'leasing', 'least', 'leave', 'leaves', 'leaving', 'lebanon', 'lebowski', 'lech', 'lecturer', 'led', 'ledger', 'lee', \"lee's\", 'leela', 'leeward', 'left', 'leg', 'legacy', 'legal', 'legalist', 'legally', 'legend', 'legendary', 'legions', 'legislation', 'legislative', 'legislature', 'legitimate', 'lego', 'legs', 'leicester', 'leigh', 'leiter', 'lem', 'lemore', 'length', 'lengthened', 'lengthening', 'lengthwise', 'lennix', 'lennox', 'lenox', 'lens', 'leo', 'leonard', 'leonardo', 'leopards', 'leslie', 'less', 'lessen', 'lesser', 'let', 'lethal', 'leto', 'letter', 'letters', 'levamfetamine', 'level', 'levels', 'levinson', 'levoamphetamine', 'lewis', 'lex', 'liam', 'liberal', 'libertarian', 'library', 'libre', 'licence', 'license', 'licensed', 'licensing', 'lie', 'liechtenstein', 'lien', 'lies', 'life', 'lifelong', 'light', 'lighter', 'lightfoot', 'lightning', 'like', 'lillard', 'lily', 'limitations', 'limited', 'limits', 'lincoln', 'lincolnshire', 'lindbergh', 'lindelof', 'line', 'lineal', 'liner', 'linked', 'linkedin', 'linkin', 'linklater', 'links', 'linux', 'lionel', 'lions', 'lionsgate', 'liquid', 'list', 'listed', 'listin', 'listings', 'lists', 'literary', 'literature', 'litigation', 'little', 'littlefinger', 'live', 'lived', 'liver', 'lives', 'livestock', 'living', 'livingston', 'liz', 'lizzie', 'lizzy', 'llama', 'llc', 'llewyn', 'lloyd', 'lobsters', 'local', 'locality', 'localized', 'located', 'location', 'locations', 'locker', \"locker's\", 'lockheed', \"lockheed's\", 'lodomeria', 'lofland', 'loftiest', 'logie', 'lois', 'lola', 'london', 'loneliness', 'lonely', 'lonergan', 'long', 'longer', 'longest', 'longitude', 'longtime', 'look', 'loose', 'loosely', 'lord', 'lorde', 'lords', 'lordship', 'lorelai', 'lorenz', 'lorenzo', 'loretta', 'lorraine', 'los', 'lose', 'losing', 'loss', 'losses', 'lost', 'lot', 'lots', 'loud', 'louie', 'louis', 'louise', 'louisiana', 'love', \"love's\", 'lovecraft', 'lovecraftian', 'loved', 'lover', 'low', 'lowden', 'lowe', 'lowell', 'lower', 'lowering', 'lowest', 'lp', \"lp's\", 'lps', 'lrh', 'lt', 'lucas', 'lucha', 'lucille', 'lucky', 'lucy', 'ludacris', 'ludwig', 'luen', 'luetkemeyer', 'luis', 'luiz', 'lumley', 'lund', 'lundin', 'lung', 'lush', 'luther', 'luthor', 'luxury', 'lying', 'lymphoma', 'lyn', 'lynch', 'lynn', 'lynyrd', 'lyon', \"lyon's\", 'lyonne', 'lyr', 'lyric', 'lyricist', 'lyrics', 'm', 'ma', 'mac', 'macau', 'macdermot', 'macedonia', 'macedonian', 'machina', 'machine', 'machines', 'machu', 'mack', 'mackinnon', 'macklemore', \"macklemore's\", 'maclachlan', 'macos', 'macron', 'macy', 'mad', 'madagascar', 'madden', 'madding', 'made', 'maeda', 'magahi', 'magazine', \"magazine's\", 'maggie', 'magic', 'magical', 'magma', 'magnetized', 'maguire', 'mahal', 'maharashtra', 'maid', 'maiden', 'maidenhead', 'main', 'maine', 'mainland', 'mainland.', 'mainlands', 'mainly', 'mainstream', 'maintain', 'maintained', 'maintaining', 'major', 'majority', 'make', 'makemake', 'makes', 'making', 'malacostraca', 'maladie', 'malay', 'malayalam', 'maldives', 'male', 'males', 'malick', 'malik', 'malkovich', 'mall', 'malle', 'malta', 'maltese', 'maltz', 'mamata', 'mamluks', 'man', 'managed', 'management', 'manager', 'managerial', 'managing', 'manchester', 'mandy', 'manga', 'manhattan', 'manicured', 'manifestation', 'manifested', 'manner', 'mansion', 'mansions', 'mantee', 'mantegna', 'mantua', 'manual', 'manufactured', 'manufacturer', 'manufactures', 'manufacturing', 'manuscripts', 'many', 'maps', 'mar', 'maras', 'marathi', 'marble', 'marc', 'march', 'marches', 'marcomannic', 'marcus', 'mareros', 'maria', 'mariah', 'marie', 'marigold', 'marija', 'marine', 'mariner', 'marineris', 'marisa', 'maritime', 'marius', 'mark', 'marked', 'market', 'marketed', 'markets', 'marking', 'markle', \"markle's\", 'marks', 'marksman', 'marlens', 'marlon', 'maroon', 'marriage', 'married', 'marrow', 'marry', 'mars', 'marseille', 'marshall', 'martha', 'marti', 'martial', 'martin', 'martins', 'marvel', 'mary', 'maryland', 'mask', 'masque', 'mass', 'massachusetts', 'massive', 'mastani', 'master', 'mastermind', 'match', 'matches', 'material', 'maternal', 'mates', 'math', 'mathematical', 'mathematician', 'mathematics', 'mathers', 'matoaka', 'matriculating', 'matriculation', 'matrix', 'matt', 'matter', 'matters', 'matthew', 'max', 'maxim', 'maximum', 'maxine', 'may', 'maybach', 'mayen', 'mayers', 'mayor', 'mayoral', 'mayweather', 'maze', 'mc', 'mcavoy', 'mcbride', 'mccain', 'mccarthy', 'mccartney', 'mcclane', 'mcconaughey', 'mccoys', 'mcelhenney', 'mcewen', 'mcgee', 'mcguire', 'mckay', 'mclaren', 'mclaughlin', 'mcteigue', 'me', 'mead', 'meade', 'meagan', 'meals', 'mean', 'meaning', 'meant', 'meanwhile', 'measured', 'measurement', 'measurements', 'measures', 'meat', 'meaty', 'mechanics', 'medalist', 'medals', 'media', 'median', 'medical', 'medication', 'medications', 'medicinal', 'medicine', 'medieval', 'mediterranean', 'medium', 'mediums', 'meet', 'meeting', 'meets', 'megalopolis', 'meghan', 'mehta', \"mehta's\", 'mei', 'meister', \"meister's\", 'melancholia', 'melbourne', 'melilla', 'melissa', 'melita', 'mellark', 'mellila', 'melodrama', 'melody', 'member', 'members', 'membership', 'membership.', 'memoir', 'memorial', 'memories', 'memory', 'men', \"men's\", 'menace', 'mendes', 'menon', 'mensa', \"mensa's\", 'mensah', 'mensch', 'mental', 'mention', 'mentioned', 'mentoring', 'mercedes', 'mercer', 'merciless', 'mercury', 'meredith', 'merged', 'merger', 'merill', 'meriwether', 'merrick', \"merrick's\", 'merton', 'meryl', 'messiah', 'messianism', 'met', 'metal', 'metallurgy', 'metals', 'metaphysics', 'meteora', 'meters', 'method', 'methodology', 'methods', 'metro', 'metropolitan', 'metv', 'mexican', 'mexicana', 'mexicans', 'mexico', 'meyer', \"meyer's\", 'meyers', 'mi', 'mi6', 'miami', 'mian', 'mice', 'michael', 'michel', 'michelle', 'michigan', 'mick', 'micke', 'mickey', 'microscopic', 'microsoft', 'mid', 'middle', 'middlesex', 'midlands', 'midnight', 'midrash', 'midtown', 'mifflin', 'might', 'migrated', 'migrations', 'mikaelson', 'mike', 'mikhail', 'milan', 'mild', 'mildew', 'miles', 'miley', 'milhous', 'militant', 'military', 'milk', 'milky', 'millar', 'millennia', 'millennials', 'millennium', 'miller', 'million', 'millionaire', 'millions', 'mills', 'miloš', 'milwaukee', 'mimic', 'min', 'mind', 'mineral', 'miners', 'mines', 'miney', 'mini', 'minimal', 'minimalist', 'mining', 'miniseries', 'minister', 'ministry', 'minneapolis', 'minnesota', 'minnie', 'minogue', 'minor', 'minority', 'minsheng', 'minster', 'minutes', 'mira', 'miracle', 'miranda', 'mis', 'miscarried', 'mischief', 'miser', 'misleading', 'missile', 'mission', 'mississippi', 'missouri', 'mitch', 'mitchell', 'mitsuyo', 'mixed', 'mixtape', 'moan', 'mob', 'mobile', 'mockingbird', 'mockingjay', 'mode', 'model', 'modeled', 'modelling', 'moderate', 'moderated', 'moderately', 'modern', 'modernity', 'modes', 'modification', 'modified', 'modular', 'moesia', 'mogul', 'mohabbatein', 'mohawk', 'moi', 'moiseiwitsch', 'molds', 'molecular', 'molecule', 'molly', 'mom', 'monaghan', 'monarch', 'monarchs', 'monarchy', 'monday', 'mondays', 'monde', 'monetary', 'money', 'moneyball', 'mongol', 'mongolia', 'monica', 'monique', 'monosodium', 'monotheistic', 'monroe', 'mons', 'monster', 'monsters', 'montana', 'monteiro', 'montgomery', 'month', 'months', 'monument', \"monument's\", 'moon', 'moonraker', 'moore', 'moors', 'moral', 'moran', 'moray', 'more', 'morena', 'morgan', 'mori', 'moriah', 'mormon', 'morning', 'morocco', 'morris', 'morrison', 'mortally', 'mortgage', 'moscone', 'moscovium', \"moscovium's\", 'moss', 'most', 'mostly', 'motel', 'mother', \"mother's\", 'motion', 'motor', 'motorcycles', 'motors', \"motors'\", 'motown', 'mott', 'mount', 'mountain', 'mountainless', 'mountains', 'mountbatten', 'mourners', 'move', 'moved', 'movement', 'movements', 'moves', 'movie', \"movie's\", 'movies', 'moving', 'moyer', 'moynahan', 'mozart', \"mozart's\", 'mozilla', 'mp', 'mp3', 'mpaa', 'mr', 'ms', 'msg', 'mtv', 'much', 'mucosa', 'mud', 'mughal', 'muhammad', 'mukerji', 'mukesh', 'mukherjee', 'mulder', 'mull', 'mullin', 'multi', 'multicellular', 'multinational', 'multiplayer', 'multiple', 'multiplication', 'multitasking', 'multnomah', 'mumbai', 'munich', 'municipal', 'municipalities', 'municipality', 'munitions', 'munroe', 'mural', 'murder', 'murdered', 'murderer', 'murders', 'murdock', 'murphy', 'murrah', 'musala', 'musalla', 'muscle', 'museum', 'music', 'musical', 'musically', 'musician', 'musicians', 'muslim', 'mutant', 'mute', 'mutiny', 'muḥammad', 'mvd', 'my', 'mydland', 'mysterious', 'mystery', 'mystic', 'mysticism', 'myth', 'mythologies', 'mythology', 'myths', 'n', \"n'\", \"n't\", 'n.w', 'naacp', 'naagin', 'naan', 'naked', 'name', 'named', 'nameless', 'names', 'nanotechnology', 'nanterre', \"naqi'a\", 'narrative', 'nasa', 'nasir', \"nasser's\", 'natasha', 'nate', 'nathan', 'nathanson', 'nation', 'national', 'nationale', 'nationalist', 'nationalists', 'nationality', 'nations', 'native', 'nativity', 'nato', 'natural', 'naturally', 'nature', 'nausea', 'naval', 'navarre', 'navies', 'navigation', 'navigator', \"navigator's\", 'navy', 'nawaz', 'nazario', 'nazi', 'nba', 'nbc', 'nc', 'ncaa', 'ne', 'nea', 'neal', 'near', 'nearby', 'nearly', 'nebraska', 'neck', 'nectar', 'ned', 'needs', 'neela', 'negate', 'negated', 'negative', 'negotiated', 'neighborhood', 'neighbourhoods', 'neil', 'neill', 'neither', 'nellie', 'nelson', 'neo', 'neon', 'nepal', 'nephew', 'neptune', 'neptunian', 'nero', \"nero's\", 'nervous', 'nerō', 'ness', 'nest', 'netflix', 'netherlands', 'netscape', 'nettles', 'network', 'networking', 'networks', 'neuromodulation', 'neuromodulator', 'neuromodulators', 'neuron', 'neurons', 'neurotransmitter', 'neutrinos', 'neutrons', 'nevada', 'neve', 'never', 'nevertheless', 'neville', 'new', 'newest', 'newkirk', 'newly', 'newman', 'news', 'newspaper', \"newspaper's\", 'newton', 'next', 'nfl', 'ngo', 'nh', 'niblet', 'nice', 'nicene', 'nichols', 'nicholson', 'nick', 'nickelodeon', 'nickname', 'nicknamed', 'nicolas', 'nicole', 'nicotine', 'niece', 'night', 'nightmare', 'nights', 'nightshades', 'nikita', 'nikki', 'nina', 'nine', 'nineteen', 'nineteenth', 'nineties', 'ninety', 'ninja', 'nintendo', 'ninth', 'niro', 'nirvana', 'nitin', 'nixon', 'no', 'noah', 'nobel', 'noble', 'nobody', 'noir', 'nokia', 'nol', 'nolan', 'nolte', 'nomadic', 'nominal', 'nominated', 'nomination', 'nominations', 'nominee', 'non', 'none', 'nonfiction', 'nonperforming', 'nonphysical', 'nonprofit', 'nonviolent', 'nor', 'nora', 'nordhoff', 'norepinephrine', 'norfolk', 'normal', 'normally', 'norman', 'north', 'northamptonshire', 'northeast', 'northeastern', 'northern', 'northwest', 'northwestern', 'norton', 'norway', 'norwegian', 'norwood', 'nostalgia', 'not', 'notable', 'notably', 'note', 'notes', 'nothing', 'notoriety', 'notorious', 'nottingham', 'novel', 'novelist', 'novella', 'novello', 'novels', 'november', 'now', 'nowhere', 'noxon', 'noyce', 'nri', 'ntv', 'nu', 'nuclear', 'nude', 'nukes', 'number', 'numbered', 'numbers', 'numenius', 'numerous', 'nust', 'nwa', 'nxt', 'nyc', 'nymph', 'nymphomaniac', 'né', 'née', 'o', \"o'brien\", \"o'connor\", \"o'dea\", 'oakland', 'obama', \"obama's\", 'obata', 'obe', 'obelisk', 'obeyed', 'obfuscation', 'object', 'objects', 'obs', 'obscure', 'observable', 'observance', 'observe', 'obstacles', 'obtaining', 'obverse', 'obvious', 'occasion', 'occasional', 'occasionally', 'occasions', 'occult', 'occupation', 'occupying', 'occur', 'occurred', 'occurring', 'occurs', 'ocd', 'ocean', 'oceania', 'oceanographer', 'october', 'octone', 'odd', 'oder', 'odeya', 'odor', 'of', 'off', 'offence', 'offense', 'offer', 'offered', 'offers', 'office', 'officer', 'offices', 'official', 'officially', 'officio', 'offline', 'offscreen', 'often', 'ofwgkta', 'ogre', 'ohba', 'ohio', 'oil', \"oil's\", 'oklahoma', 'old', 'older', 'oldest', 'oldsmobile', 'oliver', 'olivia', 'olsen', 'olympian', 'olympians', 'olympic', 'olympics', 'olympus', 'oman', 'omri', 'on', 'once', 'oncoming', 'one', \"one's\", 'oneness', 'ones', 'onexim', 'ongoing', 'online', 'only', 'onscreen', 'onto', 'ooltah', 'opel', 'open', 'opened', 'opening', 'openly', 'opera', 'operas', 'operated', 'operates', 'operating', 'operation', 'operations', 'operator', 'opportunities', 'opportunity', 'oppose', 'opposed', 'opposite', 'opposites', 'opposition', 'opted', 'optical', 'optics', 'optional', 'opus', 'or', 'oracular', 'oral', 'orally', 'orange', 'oranges', 'orbit', 'orbiting', 'orci', 'order', 'oregon', 'organ', 'organised', 'organism', 'organismal', 'organisms', 'organization', 'organizations', 'organized', 'oriana', 'oriented', 'origin', 'original', 'originally', 'originals', 'originated', 'originating', 'orion', 'orizari', 'orleans', 'ormond', 'ornamental', 'orson', 'ortega', \"ortega's\", 'os', 'osborne', 'oscar', 'oscars', 'oscillations', 'osmotic', 'other', 'others', 'otherwise', 'ottoman', 'ottomans', 'ounces', 'out', 'outbreak', 'outer', 'outfits', 'outlet', 'outlets', 'outpouring', 'outside', 'outstanding', 'ovaries', 'ovary', 'over', 'overall', 'overboard', 'overbrook', 'overdoses', 'overdrive', \"overdrive's\", 'overexposed', 'overlap', 'overlaps', 'oversaw', 'overseas', 'oversight', 'ovum', 'own', 'owned', 'owner', 'owning', 'owns', 'oxford', 'oxygen', 'p', 'p.s', 'paanch', 'pace', 'pacers', 'pacha', 'pacific', 'pacifist', 'pacino', 'pack', 'package', 'padma', 'padua', 'padukone', \"padukone's\", 'page', 'pages', 'paguroidea', 'paid', 'pain', 'painted', 'painter', 'painting', 'pairs', 'pakir', 'pakistan', \"pakistan's\", 'pakistani', 'palace', 'paleoconservative', 'palestinian', 'pallavi', 'palma', 'palme', 'palmer', 'pamela', 'panagia', 'panama', 'panasonic', 'pancrase', 'pancrustacea', 'panda', 'pandora', 'panellist', 'panic', 'pannonia', 'panorama', 'pantheon', 'panthera', 'papal', 'paper', 'parachuting', 'parachutist', 'parachutists', 'paradigms', 'paradise', 'paramount', 'paranormal', 'paraphyletic', 'paratrooper', 'paratroopers', 'parent', 'parenthood', 'parents', 'paria', 'parindey', 'paris', 'parity', 'park', \"park's\", 'parker', 'parking', \"parkinson's\", 'parkinsonism', 'parks', 'parliament', 'parliamentary', 'parlophone', 'parma', 'parnassus', 'parnelli', 'part', 'parthenon', 'partially', 'participant', 'participants', 'participate', 'participated', 'participates', 'participation', 'particles', 'particular', 'particularly', 'parties', 'partly', 'partner', 'partnership', 'parts', 'party', 'pasadena', 'passed', 'passenger', 'passing', 'passion', 'past', 'pastoral', 'pat', 'patel', 'patents', 'path', 'patients', 'patna', 'patric', 'patricia', 'patrick', 'patriot', 'patriots', 'pattern', 'patterns', 'pattie', 'patty', 'paul', 'paula', 'pavitra', 'pawn', 'paxton', 'pay', 'payment', 'payphone', 'pays', 'pb', 'pbr', 'pbs', 'pd', 'pe', 'peabody', 'peace', 'peaceful', 'peak', 'peaked', 'peaks', 'pearl', 'peasant', 'peck', 'peele', 'peers', 'peeta', 'pegg', 'peipus', 'peloponnese', \"peloponnese's\", 'pembroke', 'pen', 'pendleton', 'penguin', 'penguins', 'peninsula', 'peninsulas', 'penn', 'pennsylvania', 'pentagon', 'penultimate', 'people', \"people's\", 'peoples', 'peppers', 'per', 'perceived', 'percent', 'perceptual', 'percussion', 'perdition', 'perego', 'perfect', 'perform', 'performance', 'performance.roland', 'performances', 'performed', 'performer', 'performers', 'performing', 'performs', 'perfume', 'perhaps', 'period', 'periodically', 'periods', 'perished', 'perkins', 'perlman', 'permanent', 'permanently', 'permission', 'permit', 'perpetuated', 'perry', 'persephone', 'perseus', 'persia', 'persian', 'person', \"person's\", 'persona', 'personal', 'personality', 'personnel', 'persons', 'perspectives', 'peru', 'pet', 'peter', 'peterborough', 'petrie', 'petroleum', 'pets', 'pettiford', 'petyr', 'pfister', 'phaneritic', 'pharmaceuticals', 'pharmacology', 'phase', 'phenomena', 'phenomenon', 'phil', 'philadelphia', 'philanthropist', 'philanthropy', 'philip', 'philips', 'phillip', 'phillips', 'philosopher', 'philosophical', 'philosophies', 'philosophy', 'phinney', 'phoenix', 'phone', 'photo', 'photographed', 'photographer', 'photographers', 'photographs', 'photography', 'photoshop', 'phrase', 'physical', 'physically', 'physicians', 'physics', \"physics'\", 'physiological', 'piacenza', 'pianist', 'piano', 'picchu', 'picked', 'pico', 'picture', 'pictures', 'piece', 'pieces', 'pier', 'pierce', 'pierre', 'pig', 'piku', 'pileggi', 'pilgrimage', 'pilot', 'piloted', 'pilots', 'pink', \"pink's\", 'pinkett', 'pinnacle', 'pinsky', 'pioneering', 'pirates', 'pirlo', 'pitch', 'pitt', 'pittsburgh', 'pixar', 'pizzas', 'place', 'placed', 'placentia', 'places', 'plagiarizing', 'plain', 'plainfield', 'plan', 'plane', 'planes', 'planet', 'planets', 'planned', 'planning', 'plans', 'plantations', 'plants', 'plateau', 'platform', 'platformer', 'platforms', 'platinum', 'plato', 'play', 'playboy', 'played', 'player', 'players', 'playing', 'playlist', 'playmate', 'playoff', 'plays', 'playwright', 'plea', 'pleasure', 'pled', 'pledges', 'plot', 'plumage', 'plumber', 'plus', 'plutarch', 'pluto', 'pm', 'pneumonia', 'po', 'pocahontas', \"pocahontas's\", 'pocket', 'pocock', 'podcast', 'podcasts', 'poe', 'poem', 'poetry', 'poignant', 'point', 'points', 'poisoning', 'pol', 'poland', 'polanski', 'polar', 'police', 'policies', 'policy', 'polish', 'polished', 'political', 'politically', 'politician', 'politicians', 'politics', 'poll', 'polymath', 'polynomial', 'polyus', 'pomerance', 'pontiac', 'pool', 'poorest', 'pop', 'popular', 'popularity', 'popularly', 'populated', 'population', 'populations', 'populous', 'porphyria', 'porphyritic', 'porphyry', 'port', 'ported', 'porthos', 'portion', 'portland', 'portray', 'portrayal', 'portrayed', 'portraying', 'portrays', 'portugal', 'portuguese', 'poseidon', 'position', 'positions', 'positive', 'possessed', 'possesses', 'possession', 'possessions', 'possible', 'possibly', 'post', 'posters', 'posthumous', 'posthumously', 'postmaster', 'potato', 'potentially', 'potter', 'poultry', 'pound', 'power', 'powered', 'powerful', 'powerfully', 'powers', 'powhatan', 'ppas', 'practical', 'practice', 'practiced', 'practices', 'practicing', 'practitioner', 'pradeep', 'prague', \"prague's\", 'praise', 'praised', 'prawns', 'prayer', 'prc', 'pre', 'preceded', 'precious', 'predated', 'predating', 'predominantly', 'predominately', 'preeminent', 'prefecture', 'prefer', 'preferred', 'prefers', 'pregnancy', 'prejudice', 'premier', 'premiere', 'premiered', 'premiering', 'premise', 'prepare', 'prepares', 'prequel', 'prescribed', 'presence', 'present', 'presented', 'presenter', 'presenting', 'preserved', 'presidency', 'president', 'presidential', 'presidents', 'pressure', 'prestigious', \"prestigious'\", 'preston', 'prevent', 'prevents', 'previously', 'prew', \"prew's\", 'prey', 'price', 'prices', 'pride', 'primarily', 'primary', 'prime', 'primetime', 'prince', 'princess', 'princeton', 'principal', 'principalities', 'principally', 'principles', 'printed', 'printer', 'printing', 'prior', 'priority', 'prison', 'prisoner', 'prisoners', 'pritchett', 'pritzwalk', 'private', 'privately', 'privileged', 'prix', 'prize', 'prizes', 'pro', 'probation', 'problems', 'probot', 'procedural', 'procedures', 'process', 'proclaimed', 'proclaiming', 'procreation', 'prodigious', 'produce', 'produced', 'producer', 'producer/director/writer', 'producers', 'produces', 'producing', 'product', 'production', 'productions', 'products', 'professed', 'profession', 'professional', 'professionally', 'professor', 'proficient', 'profit', 'program', 'programing', 'programme', 'programmer', 'programming', 'programs', 'programs/facilities', 'progression', 'prohibits', 'project', 'projecting', 'projects', 'prokhorov', 'prolific', 'prom', 'prominence', 'prominent', 'prominently', 'promote', 'promoted', 'promoter', 'promotes', 'promotion', 'promotions', 'proof', 'propaganda', 'propagandist', 'proper', 'properties', 'property', 'proponents', 'proposed', 'proprietary', 'prosperity', 'prosperous', 'protagonist', 'protector', 'protectorate', 'protects', 'protest', 'protestant', 'protestantism', 'protestants', 'prototype', 'proved', 'provide', 'provided', 'providence', 'provides', 'province', 'provinces', 'provisionally', 'prowess', 'proximity', 'pseudoscience', 'psych', 'psychic', 'psycho', 'psychoactive', 'psychological', 'psyduck', 'public', 'publication', 'publicly', 'publish', 'published', 'publisher', 'publishing', 'puerto', 'puff', 'pulmonary', 'pulp', 'punch', 'punic', 'punished', 'punisher', 'punjab', 'punjabi', 'punk', 'puppies', 'purchasing', 'purdue', 'purely', 'purity', 'purple', 'purpose', 'purposes', 'push', 'push.', 'pushes', 'pushing', 'put', 'putative', 'putin', 'putting', 'pyaar', 'pyrenees', 'pythagoras', \"pythagoras'\", 'pythagorean', 'pythagoreanism', 'pythagoreans', 'python', 'q', 'qatar', 'qin', 'qs', 'quaid', 'qualifications', 'qualified', 'qualify', 'qualifying', 'qualitatively', 'qualities', 'quality', 'quarterback', 'quay', 'quebec', 'queen', 'queens', 'quentin', 'quesada', 'questions', 'quick', 'quickly', 'quiet', 'quit', 'quotes', 'r', 'r.c', 'r.r', 'raasleela', 'rabbit', 'race', 'racecar', 'races', 'rachel', 'racing', 'radcliffe', 'radiation', 'radio', 'radioactive', 'radnor', 'rado', 'rae', 'rafael', 'rag', 'raggedy', 'raghav', 'ragni', 'ragtime', 'rahul', 'raids', 'rail', 'railroads', 'raimi', 'rainforest', 'rainier', 'raised', 'raising', 'raj', 'raja', 'rajskub', 'rakim', 'ralph', 'ram', 'ramji', 'ran', 'ranch', 'ranches', 'randall', 'randi', 'randolph', 'randy', 'range', 'ranged', 'ranges', 'ranging', 'rank', 'ranked', 'ranking', 'rankings', 'rap', 'rape', 'rapid', 'rapidly', 'rapper', 'rapson', 'rarely', 'rash', 'rasheed', 'raspberry', 'raster', 'rate', 'rated', 'rates', 'rather', 'rating', 'ratings', 'ratna', 'ratner', 'ratzenberger', 'raven', 'rawson', 'ray', 'rca', 're', 'reach', 'reached', 'reaching', 'reactions', 'read', 'readaption', 'readers', 'reading', 'reagan', 'real', 'realism', 'reality', 'reanimation', 'rear', 'reasons', 'rebecca', 'rebel', 'reboot', 'reborn', 'rebounds', 'reburial', 'reccared', 'receipts', 'receive', 'received', 'receives', 'receiving', 'recent', 'recently', 'recession', 'recipe', 'recipient', 'recognisable', 'recognised', 'recognition', 'recognizable', 'recognize', 'recognized', 'recognizes', 'recollection', 'recommends', 'reconnects', 'reconvened', 'record', 'recorded', 'recording', 'recordings', 'recordist', 'records', 'recovered', 'recovery', 'recreational', 'recruited', 'recruits', 'recurrences', 'recurrent', 'red', 'reddish', 'redemption', 'redgrave', 'redmond', 'reds', 'reduces', 'reed', 'reelected', 'reese', 'refer', 'references', 'referendum', 'referred', 'refers', 'reflecting', 'reflects', 'reform', 'reformer', 'reforms', 'refractive', 'refrain', 'refrained', 'refurbished', 'refusal', 'refuse', 'refused', 'refuses', 'regained', 'regaining', 'regan', 'regarded', 'regards', 'regent', 'regiment', 'reginald', 'region', 'regional', 'regions', 'registered', 'regular', 'regulate', 'regulating', 'regulations', 'regulatory', 'rehab', 'reign', 'reigned', 'reinterred', 'reisfeld', 'reitman', 'reject', 'rejected', 'rejoining', 'related', 'relates', 'relation', 'relations', 'relationship', 'relationships', 'relative', 'relatively', 'relatives', 'relaunch', 'relaxation', 'release', 'released', 'releases', 'releasing', 'reliance', 'religion', 'religions', 'religious', 'reloaded', 'relocated', 'remain', 'remained', 'remaining', 'remains', 'remake', 'remarried', 'remembered', 'remix', 'remote', 'removed', 'renamed', 'renaming', 'render', 'renewed', 'renner', 'renowned', 'rental', 'reorganization', 'repeated', 'repetitive', 'replaced', 'replacement', 'replacing', 'replanted', 'replicate', 'reply', 'report', 'reported', 'reportedly', 'reporting', 'reports', 'representation', 'representative', 'representatives', 'represented', 'representing', 'represents', 'repressed', 'repression', 'reprints', 'reprisal', 'reprise', 'reprised', 'reprising', 'reproductive', 'republic', 'republican', 'republicans', 'republics', 'reputation', 'requirements', 'requires', 'reruns', 'rescue', 'rescued', 'research', 'reserve', 'reserves', 'reside', 'resident', 'residents', 'resides', 'resign', 'resignation', 'resistance', 'resnick', 'resounding', 'resources', 'respect', 'respective', 'respectively', 'response', 'responses', 'responsibility', 'responsible', 'rest', 'restaurant', 'restricted', 'rests', 'result', 'resulted', 'resulting', 'results', 'retail', 'retailer', 'retain', 'retained', 'retaining', 'retired', 'retirement', 'retreated', 'retributions', 'retrieving', 'return', 'returned', 'returning', 'reunited', 'revah', 'revealed', 'revenge', 'revenue', 'reversed', 'review', 'reviewed', 'reviews', 'revisited', 'revival', 'revived', 'revolution', 'revolutionary', 'revolutionized', 'revolver', 'revolves', 'rewritten', 'rey', \"rey's\", 'reynolds', 'rhode', 'rhodes', 'rhyme', 'rhythm', 'rhythmic', 'rhythms', 'rhône', 'riaa', 'ricans', 'rice', 'rich', 'richard', 'richelle', 'rick', 'rickman', 'rico', 'ridden', 'ride', 'riding', 'ridley', 'rifle', 'right', 'rights', 'rigidity', 'rihanna', 'rila', 'riley', 'ring', 'ringwald', 'rio', 'rip', 'ripe', 'rise', 'rishi', 'rishta', 'rising', 'risk', 'rita', 'rituals', 'rival', 'rivalry', 'rivals', 'river', 'rivers', 'riz', 'rizwan', 'rnb', 'road', 'roadgames', 'roads', 'roadshow', 'roadside', 'roadways', 'roald', 'rob', 'robb', 'robbie', 'robert', 'roberto', 'roberts', 'robin', 'robinson', 'robot', 'robots', 'robson', 'roc', 'roche', 'rock', 'rocked', 'rockets', 'rocky', 'roderic', 'rodger', 'rodney', 'roeg', 'rogen', 'roger', 'role', 'roles', 'roller', 'rolling', 'roma', 'roman', 'romance', 'romances', 'romancing', 'romani', 'romania', 'romanian', 'romans', 'romantic', 'rome', 'romero', 'ron', 'ronald', 'ronaldinho', 'rookie', 'room', 'rooms', 'rooney', 'root', 'rooted', 'roots', 'rosanna', 'rose', 'roseanne', 'rosemarie', 'roses', 'ross', 'roth', 'rothschild', 'rough', 'round', 'rouse', 'route', 'routes', 'routh', 'row', 'rowdy', 'rowe', 'rowlands', 'rowling', 'roy', 'royal', 'royalty', 'ru', 'rudd', 'rude', 'rudy', 'rule', 'ruled', 'ruler', 'rules', 'ruling', 'rumble', 'rumored', 'run', 'runaway', 'runner', \"runner's\", 'running', 'runtime', 'runtimes', 'rus', 'rush', 'rushdie', 'russell', 'russells', 'russia', \"russia's\", 'russian', 'russo', 'rutgers', 'ruth', 'rutherfurd', 'rv', 'rwanda', 'ryan', 'ryder', 'rye', 'rza', 's', 's.h.i.e.l.d', 'saab', 'saas', 'saba', 'sabbath', 'sabbir', 'sacre', 'sacred', 'sadistic', 'sadler', 'saf', 'safe', 'safety', 'sag', 'sahara', 'saheb', 'sai', 'said', 'saif', 'sailor', 'saint', 'saints', 'saldana', \"saldana's\", 'saldaña', 'sales', 'salesman', 'salinger', 'sally', 'salma', 'salmaan', 'salman', 'salt', 'salter', 'salute', 'salvador', 'salvatore', 'salzburg', 'sam', 'samantha', 'samarkand', 'same', 'sameer', 'samos', 'sampled', 'samsung', 'samuel', 'samurai', 'san', 'sanchez', 'sanctioned', 'sanctioning', 'sandler', 'sands', 'sandwich', 'sang', 'sanskrit', 'sant', 'santa', 'santorini', 'sapphire', 'sarah', 'sargent', 'sarkar', 'sarsgaard', 'sassanid', 'satake', 'satellite', 'satire', 'satirical', 'satran', 'saturday', 'saturn', 'saudi', 'sauron', 'sausage', 'savage', 'saving', 'savior', 'savory', 'saw', 'saxo', 'saxon', 'say', 'sbs', 'scandal', 'scandinavia', 'scandinavian', 'scaramouch', 'scaramouche', \"scaramouche's\", 'scaramucci', 'scaramuccia', 'scarlett', 'scathing', 'scene', 'scenes', 'schedule', 'scheduled', 'scheme', 'schenck', 'scher', 'schiller', 'schmidt', 'school', 'schools', 'schopenhauer', 'schulze', 'schwartz', 'science', 'sciences', 'scientific', 'scientist', 'scientists', 'scientology', 'scodelario', 'scope', 'scored', 'scores', 'scotland', 'scotsman', 'scott', 'scottish', 'scout', 'scouting', 'scranton', 'scrapped', 'scream', 'screen', 'screened', 'screenplay', 'screenwriter', 'scripps', 'script', 'scripted', 'scripting', 'scripts', 'scriptural', 'scriptures', 'scriptwriter', 'scuderia', 'scully', 'sculptors', 'sea', 'seabirds', 'seacrest', 'seal', 'seaman', 'seamen', 'sean', 'seaport', 'search', 'searching', 'season', 'seasons', 'seasosn', 'seat', 'seater', 'seaters', 'seattle', 'sebastian', 'sec', 'second', 'secondhand', 'secret', 'secretary', \"secretary's\", 'secrets', 'section', 'sector', 'sectors', 'secularist', 'secure', 'secured', 'securing', 'sedative', 'sedgwick', 'see', 'see.sza.run', 'seemingly', 'seems', 'seen', 'segall', \"segall's\", 'segregationist', 'seibert', 'seine', 'seizure', 'sejong', 'sekhar', 'selected', 'self', 'selling', 'sells', 'selma', 'semi', 'semitic', 'senate', 'senator', 'senatorial', 'senators', 'sending', 'sends', 'senegalese', 'senior', 'sennacherib', \"sennacherib's\", 'sensation', 'sensations', 'sensitive', 'sensory', 'sentence', 'sentimental', 'seoul', 'separate', 'separated', 'separatist', 'september', 'sequel', 'sequels', 'sequences', 'sequential', 'serbia', 'serbian', 'seretse', 'serial', 'serialized', 'series', \"series'\", \"series's\", 'serious', 'serotonin', 'servant', 'serve', 'served', 'server', 'serves', 'service', 'serviced', 'services', 'serving', 'session', 'set', 'setbacks', 'seth', 'setting', 'settle', 'settled', 'settlement', 'settlers', 'setup', 'seven', 'seventh', 'seventies', 'several', 'severe', 'severely', 'severn', 'seville', 'sex', 'sexiest', 'sexual', 'sexually', 'seymour', 'shadowhunters', 'shaffir', 'shaft', 'shake', 'shakespeare', \"shakespeare's\", 'shaking', 'shakira', 'shallow', 'shampoo', 'shandong', 'shane', 'shang', 'shannon', 'shape', 'share', 'shared', 'shares', 'sharif', 'sharing', 'shark', 'sharks', 'shawshank', 'she', 'sheedy', 'sheen', 'sheet', 'shehbaz', 'shell', 'shellback', 'shelley', 'shenandoah', 'shepard', 'shepherd', 'sheridan', 'sherilyn', 'sherriff', 'sheryl', \"shi'a\", 'shifts', 'shikoku', 'shinsegae', 'shipbuilding', 'shipments', 'ships', 'shipwrecked', 'shirt', 'shnitzel', 'shobha', 'shoelace', 'shoes', 'shomu', 'shooter', 'shooting', 'shop', 'shops', 'short', 'shorted', 'shortened', 'shorter', 'shortest', 'shortly', 'shortness', 'shot', 'shoulders', 'show', 'showed', 'showing', 'shown', 'shows', 'showtime', 'showtimes', 'shrek', 'shri', 'shrimp', 'shruti', 'shunned', 'shuster', 'shut', 'sibling', 'side', 'sidney', 'sidonie', 'siege', 'siegel', 'sierra', 'sight', 'sign', 'signage', 'signature', 'signed', 'significant', 'significantly', 'signing', 'signs', 'sihung', 'silence', 'silent', 'silesia', 'silver', 'simi', 'similar', 'similarities', 'simmons', 'simon', 'simple', 'simply', 'simulate', 'simultaneously', 'sinaloa', 'since', 'sinclair', 'sing', 'singapore', 'singer', 'singers', 'singh', 'singing', 'single', 'singles', 'sings', 'sink', 'sint', 'sir', 'sire', 'sirens', 'sister', 'sisters', \"sisters'\", 'sitcom', 'sitcoms', 'site', 'sites', 'sits', 'situated', 'situation', 'situational', 'situations', 'six', 'sixteen', 'sixth', 'sizable', 'size', 'sized', 'skarsgård', 'skateboarding', 'sketch', 'skiles', 'skills', 'skin', \"skin's\", 'skinner', 'skins', 'skip', 'skipped', 'skirmisher', 'skopje', 'skunk', 'sky', 'skyfall', 'skynyrd', \"skynyrd's\", 'skyscraper', 'slam', 'slasher', 'slater', 'slaughterhouses', 'slavery', 'slayer', \"slayer's\", 'sledgehammer', 'sleepers', 'slight', 'slimane', 'slime', 'slow', 'slowly', 'slowness', 'slumdog', 'smackdown', 'small', 'smallest', 'smart', 'smartphone', 'smartphones', 'smith', 'smoking', 'smriti', 'smritis', 'smrti', 'smyrna', 'smyth', 'snail', 'snake', 'snakes', 'snatcher', 'sniper', 'snow', 'snyder', 'so', 'soap', 'soapstone', 'soared', 'soccer', 'social', 'socialist', 'socialists', 'society', 'socio', 'soderbergh', 'software', 'sol', 'solanum', 'solar', 'sold', 'soldier', 'soldiers', 'sole', 'solely', 'solemn', 'solicitor', 'solid', 'solidification', 'solo', 'solomon', 'solutions', 'solve', 'somali', 'some', 'someone', \"someone's\", 'something', 'sometimes', 'somewhat', 'somewhere', 'son', 'song', 'songs', 'songwriter', 'songwriting', 'sonny', 'sons', 'sony', 'soon', 'sophie', 'sophomore', 'sorcery', 'soshihiro', 'sought', 'soul', 'souls', 'sound', 'soundtrack', 'soup', 'soups', 'source', 'south', 'southcliffe', 'southeast', 'southeastern', 'southern', 'southwest', 'southwestern', 'sovereign', 'sovereignty', 'soviet', 'soybeans', 'space', 'spader', 'spain', \"spain's\", 'spanish', 'spans', 'spark', 'sparked', 'sparking', 'sparkling', 'spawned', 'speak', 'speaker', 'speakers', 'speaking', 'spears', \"spears's\", 'special', 'specialized', 'specializing', 'specially', 'specials', 'speciation', 'species', 'specific', 'specifically', 'spectator', 'spector', 'spectre', 'spectrum', 'speech', 'spencer', 'spend', 'spends', 'spent', 'spherical', 'spider', 'spielberg', 'spin', 'spirit', 'spirits', 'spiritual', 'spite', 'splinter', 'split', 'spoke', 'spoken', 'spokesman', 'spongebob', 'sponsorship', 'spoof', 'spoons', 'sport', 'sporting', 'sports', 'sportswear', 'spots', 'spread', 'spreading', 'spring', 'springfield', 'spy', 'sq', 'sqmi', 'square', 'squarepants', 'squid', 'squids', 'squidward', 'sreenu', 'sri', 'sruti', 'sse', 'ssr', 'sssbs', 'st', 'stadium', 'stadiums', 'staff', 'stage', 'staged', 'staging', 'stainless', 'stalker', 'stalks', 'stamp', 'stance', 'stand', 'standard', 'standardized', 'standards', 'standing', 'stanfield', 'stanford', 'stanley', 'stanwix', 'staples', 'star', 'stargate', 'stark', \"stark's\", 'starred', 'starring', 'stars', 'start', 'started', 'starting', 'starts', 'state', 'statements', 'states', \"states'\", 'statesman', 'static', 'stationary', 'statistical', 'staton', 'statue', 'status', 'statute', 'statutory', 'stay', 'stayed', 'stead', 'steak', 'steal', 'steals', 'steamship', 'steel', 'steelers', 'steeped', 'stella', 'step', 'stephanie', 'stephen', 'stephenie', 'stereotypical', 'steve', 'steven', 'stevenson', 'stewart', 'stews', 'sticker', 'stiles', 'still', 'stiller', 'stimulant', 'stimulated', 'stirling', 'stock', 'stocks', 'stomp', 'stone', \"stone's\", 'stonem', 'stop', 'stopped', 'storage', 'store', 'stored', 'stores', 'stories', 'storm', 'stormtrooper', 'stormzy', 'story', 'storyboard', 'storytellers', 'storytelling', 'strahovski', \"strahovski's\", 'straight', 'strait', 'stranger', 'strapped', 'strategic', 'strategically', 'strathairn', 'stratovolcanic', 'stratovolcano', 'streak', 'stream', 'streaming', 'streckfus', 'streep', 'street', 'strength', 'strengthened', 'strep', 'stress', 'stretches', 'stretching', 'strict', 'strictly', 'strikeforce', 'strings', 'strip', 'stripes', 'stripped', 'strode', 'strokes', 'strong', 'stronger', 'strongest', 'strongly', 'structure', 'struggle', 'struggles', 'struggling', 'strzechowski', 'stuart', 'student', 'students', 'studied', 'studies', 'studio', 'studios', 'study', 'sturges', 'style', 'styled', 'styles', \"styles's\", 'styling', 'stylised', 'sub', 'subatomic', 'subclass', 'subcommittee', 'subcontinent', 'subcultural', 'subdivided', 'subduction', 'subgenre', 'subject', 'subjective', 'subjects', 'submarine', 'submit', 'subordinated', 'subphylum', 'subsequent', 'subsequently', 'subset', 'subsidiary', 'subsists', 'subspecies', 'substance', 'substantial', 'subtraction', 'suburb', 'suburban', 'succeeded', 'success', 'successful', 'successfully', 'succession', 'successive', 'successor', 'such', 'sud', 'suddenly', 'sue', 'suffered', 'suffixes', 'suffolk', 'sugar', 'sugarland', 'suggested', 'suicide', 'suit', 'suite', 'sullenberger', 'sulley', 'sultanate', 'sumerians', 'summaries', 'summer', 'summerslam', 'summertime', 'summit', 'sumter', 'sun', 'sunburn', 'sundance', 'sunday', 'sung', 'sungard', 'sunny', 'super', 'superbad', 'superdome', 'superfamily', 'superheavy', 'superhero', 'superheroes', 'superhuman', 'superior', 'superman', 'supernatural', 'supervillain', 'supervision', 'supervisor', 'supervisors', 'supplemental', 'supplied', 'supply', 'support', 'supported', 'supporter', 'supporters', 'supporting', 'supports', 'supposed', 'supposedly', 'suppress', 'supreme', 'sur', 'surf', 'surface', 'surfer', 'surgeons', 'surpassed', 'surrender', 'surrendered', 'surrenders', 'surrey', 'surrounded', 'surrounding', 'surrounds', 'surveillance', 'survey', 'survival', 'survived', 'surviving', 'survivor', 'susan', 'suspended', 'sustain', 'sutherland', 'suzanne', 'svalbard', 'swamp', 'swayze', 'sweatshirt', 'swede', 'sweden', 'swedish', 'sweet', 'swift', 'swim', 'swimmers', 'swiss', 'switch', 'switched', 'switzerland', 'swofford', \"swofford's\", 'sword', 'swords', 'syco', 'sydney', 'syfy', 'sylvain', 'symbol', 'sympathizer', 'symptom', 'symptoms', 'syndicate', 'syndication', 'syndrome', 'synecdoche', 'synonyms', 'synthesized', 'synthetic', 'synthpop', 'syria', 'syrian', 'system', 'systems', 'sza', \"sza's\", 'sánchez', 't', \"t'challa\", \"t's\", 'taarak', 'tacoma', 'tactics', 'taejong', 'taft', \"taft's\", 'tag', 'tagalog', 'tagline', 'tahoma', 'tail', 'taipei', 'taiwan', 'taiwanese', 'taj', 'tajikistan', 'tak', 'take', 'taken', 'takeo', 'takes', 'takeshi', 'taking', 'takings', 'tale', 'talent', 'talented', 'tales', 'talk', 'tall', 'tallest', 'talmud', 'talulah', 'tambor', 'tamerlane', 'tamil', 'tampa', 'tandem', 'tang', 'tangled', 'tankers', 'tanya', 'tao', 'taoist', 'tape', 'taped', 'tarantino', 'targaryen', \"targaryen's\", 'target', 'tariffs', 'tartakovsky', 'tasks', 'tasman', 'taste', 'tatchell', 'tate', 'taught', 'tavern', 'taxon', 'taxonomist', 'taxonomy', 'taylor', 'tbs', 'teacher', 'teaches', 'teaching', 'teachings', 'team', 'teams', 'tech', 'technical', 'technicolor', 'techniques', 'techniscope', 'technologically', 'technologies', 'technology', 'tectonic', 'ted', 'teen', 'teenager', 'teeth', 'teflon', 'tej', 'tele', 'telecommunications', 'telefilms', 'telephone', 'televised', 'television', 'teller', 'tells', 'telly', 'telugu', 'temperatures', 'tempest', 'templar', 'temple', 'temporarily', 'temporary', 'temür', 'temūr', 'ten', 'tenacious', 'tend', 'tends', 'tennant', 'tennessee', 'tennis', 'tension', 'tensions', 'tent', 'tentacles', 'tenth', 'tenure', 'terabithia', 'tere', 'terence', 'teresa', 'term', 'termed', 'terminals', 'terminate', 'terminating', 'terms', 'terrain', 'terrence', 'terrestrials', 'terri', 'terrible', 'territorial', 'territories', 'territory', 'terror', 'terrorist', 'tertiary', 'test', 'testes', 'testing', 'texas', 'textbook', 'textiles', 'texts', 'textual', 'texture', 'textures', 'tf2', 'tgi', 'than', 'thane', 'thanks', 'thanksgiving', 'that', \"that's\", 'the', 'theater', \"theater's\", 'theaters', 'theatre', 'theatres', 'theatrical', 'theatrically', 'their', 'them', 'theme', 'themed', 'themes', 'themselves', 'then', 'theo', 'theodore', 'theology', 'theophilus', 'theoretical', 'theorist', 'theory', 'thera', 'therapeutic', 'therapist', 'therasia', 'there', 'thereafter', 'thereby', 'therefore', 'theresa', \"theresa's\", 'thermodynamics', 'these', 'thespian', 'they', 'thi', 'thiam', 'thieves', 'thin', 'thing', 'things', 'thinking', 'thinnest', 'thirasía', 'third', 'thirteen', 'thirteenth', 'thirtieth', 'thirty', 'this', 'thomas', 'thompson', 'thoracic', 'those', 'thou', 'though', 'thought', 'thoughts', 'thousand', 'thousands', 'three', 'thrift', 'thriller', 'thrillers', 'throat', 'throne', 'thrones', 'through', 'throughout', 'thrown', 'thrust', 'thunder', 'thundershower', 'thunderstorm', 'thunderstorms', 'thurber', 'thuringia', 'thursday', 'thursdays', 'thus', 'thwaites', 'thyra', 'tiberius', 'ticketmaster', 'tics', 'tidewater', 'tie', 'tied', 'tier', 'tiernan', 'ties', 'tiffany', 'tiger', 'tigers', 'tigre', 'tigrinya', 'tigris', 'tim', 'timberlake', 'time', 'time.', 'timeframe', 'times', 'timor', 'timothy', 'timur', 'timurid', 'tin', 'tiny', 'titaness', 'titans', 'tithe', 'tithing', 'title', 'titled', 'titles', 'titlists', 'titular', 'tna', 'tnt', 'to', 'tobacco', 'tobago', 'tobey', 'today', 'together', 'tolkein', 'tolkien', 'tom', 'tomato', 'tomatoes', 'tomboy', 'tomei', 'tomorrow', 'tonight', 'tony', 'too', 'took', 'top', 'topics', 'topped', 'topping', 'tori', 'torn', 'tornadoes', 'toro', 'toronto', 'toshiba', 'total', 'totality', 'touch', 'touched', 'tour', 'toured', 'tourette', \"tourette's\", 'touring', 'tourism', 'tourist', 'tourists', 'tournament', 'touted', 'toward', 'towards', 'tower', 'town', 'towne', 'towns', 'toy', 'toys', 'trace', 'tracey', 'trachtenberg', 'track', 'tracking', 'tracks', 'tracy', 'trade', 'traded', 'trader', 'trading', 'tradition', 'traditional', 'traditionally', 'traditions', 'trafford', 'tragedies', 'tragedy', 'tragic', 'tragicomedy', 'train', 'trained', 'training', 'trans', 'transactinide', 'transactions', 'transatlantic', 'transformation', 'transformations', 'transformed', 'transit', 'transition', 'transitioned', 'transits', 'translates', 'translation', 'translator', 'transliterated', 'transmitted', 'transoxiana', 'transport', 'transportation', 'transports', 'transylvania', 'trauma', 'travel', 'traveler', 'traveling', 'travelled', 'travelling', 'travels', 'traverse', 'traversing', 'travolta', 'treasure', 'treat', 'treated', 'treating', 'treatment', 'treats', 'treaty', 'trebbia', \"trebbia's\", 'trebia', 'tree', 'trees', 'trek', 'tremor', 'tremors', 'trenton', 'treves', 'trevor', 'tribal', 'tribe', 'tribes', 'tribune', 'tributary', 'trick', 'tried', 'trier', 'triggered', 'trilogy', 'trinian', \"trinian's\", 'trinidad', 'trinket', 'trinomen', 'trip', 'triple', 'triumphs', 'trivia', 'trojans', 'troops', 'trophies', 'trophy', 'tropical', 'tropics', 'trouble', 'troubled', 'troubles', 'troublesome', 'truck', 'trucks', 'true', 'trueba', 'truman', 'trump', 'trunk', 'try', 'tsenacommacah', 'tsugumi', 'tucci', 'tucker', 'tudor', 'tuesdays', 'tuft', 'tull', 'tundra', 'tuning', 'tunnel', 'tunnels', 'tupac', 'turbomachinery', 'turco', 'turkey', 'turkish', 'turks', 'turmoil', 'turn', 'turned', 'turner', 'turnips', 'turnpike', 'turturro', 'tuscaloosa', 'tutsi', 'tuxedo', 'tv', 'twain', \"twain's\", 'tweets', 'twelve', 'twenty', 'twice', 'twilight', 'twin', 'twitching', 'twitter', 'two', 'tycoon', 'tye', 'tyler', 'type', 'types', 'typical', 'typically', 'tyrin', 'tyrion', 'u', 'u.s', 'uae', 'ubiquitous', 'ud', 'ufc', 'ufficiale', 'uganda', 'ugliest', 'ugly', 'ugric', 'uk', 'ukraine', 'ukrainian', 'ultimate', 'ultimately', 'ultron', 'ulysses', 'umami', 'un', 'unable', 'unacquainted', 'unadapted', 'unadjusted', 'unaffected', 'unaffiliated', 'unarticulated', 'unassociated', 'unavailable', 'unaware', 'unbranded', 'unbreakable', 'uncle', 'uncommon', 'unconnected', 'unconsciousness', 'uncovered', 'uncovering', 'uncredited', 'und', 'undead', 'undefeated', 'under', 'undercover', 'underdog', 'underside', 'understand', 'understanding', 'understood', 'underway', 'undirected', 'undisputed', 'unemployed', 'unesco', \"unesco's\", 'unfair', 'unfamiliar', 'unfavorable', 'unfunded', 'unger', 'ungoverned', 'uni', 'unicef', 'unidentified', \"unido's\", 'unified', 'uniform', 'uniformed', 'uninsulated', 'uninterested', 'uninvolved', 'union', 'unique', 'unison', 'unit', 'unitary', 'united', \"united's\", 'unites', 'units', 'unity', 'universal', 'universe', 'universities', 'university', \"university's\", 'unknown', 'unlawful', 'unmarried', 'unofficial', 'unofficially', 'unprovoked', 'unqualified', 'unranked', 'unreachable', 'unrecognized', 'unrecorded', 'unrelated', 'unreleased', 'unremarkable', 'unsatisfactory', 'unscripted', 'unsuccessful', 'unsupervised', 'until', 'untouchables', 'untreated', 'unused', 'unusual', 'unvoiced', 'unwritten', 'up', 'upcoming', 'upheaval', 'upon', 'uprising', 'uptight', 'uptown', 'ural', 'uranium', \"uranium's\", 'uranus', 'urban', 'us', 'usa', 'usage', 'use', 'used', 'useful', 'user', 'users', 'uses', 'using', 'ustad', 'usually', 'uta', 'utah', 'uzbekistan', 'v', 'vacate', 'vaccine', 'vacuum', 'vadim', 'vaitla', 'valarie', 'valiant', 'validity', 'valles', 'valley', 'valuable', 'value', 'valued', 'values', 'valve', 'vampire', 'vampires', 'van', 'vandals', 'vanessa', 'vanguard', 'varanasi', 'variable', 'variables', 'variably', 'variation', 'varied', 'variety', 'various', 'varun', 'vary', 'vasco', 'vast', 'vatican', 'vaughn', \"vaughn's\", 'vauxhall', 'vedas', 'vedic', 'veep', 'vegas', 'vegetables', 'vehicle', 'vehicles', 'venerated', 'veneto', 'venezuela', 'vengeance', 'ventura', 'venture', 'ventures', 'venus', 'vera', 'vere', 'vermont', 'vernon', 'veronica', 'versa', 'verse', 'version', 'versions', 'vertebrate', 'vertical', 'very', 'vessel', 'vestige', 'veteran', 'vettel', 'vh1', 'vi', \"vi's\", 'via', 'viacom', 'vic', 'vice', 'vickie', 'victim', 'victor', 'victoria', 'victories', 'victory', 'video', 'videos', 'videotape', 'vienna', 'vietnamese', 'view', 'viewed', 'viewers', 'viewership', 'views', 'vigilante', 'vii', 'viii', 'village', 'villain', 'vince', 'vincent', 'vinci', 'violence', 'violent', 'vip', 'virgin', 'virginia', \"virginia's\", 'virginian', 'visayas', 'viscount', 'visigoths', 'vision', 'visit', 'visited', 'visitors', 'visits', 'vista', 'vistula', 'visual', 'vital', 'vittorio', 'vladimir', 'vocal', 'vocalist', \"vocalist's\", 'vocalists', 'vocals', 'voice', 'voiced', 'voices', 'void', 'volcanic', 'volcano', 'volcanoes', 'volga', 'volkswagen', 'volleyball', 'voluntarily', 'volunteer', 'volunteers', 'vomiting', 'von', 'vote', 'voted', 'voting', 'voyage', 'vs', 'w', 'wadadli', 'wade', 'wahlberg', 'wahunsenacah', 'wahunsenacawh', 'wait', 'wakefulness', 'waladli', 'wales', 'walesa', 'walker', 'walking', 'wall', 'wallace', 'walled', 'wally', 'walsh', 'walt', 'walter', 'waluigi', 'wanda', 'wang', \"wang's\", 'want', 'wanted', 'wants', 'war', 'warcraft', 'ward', 'wards', 'warehouse', 'warenne', 'warfare', 'warner', 'warren', 'warrens', \"warrens'\", 'warring', 'warrior', 'warriors', 'wars', 'wartime', 'was', 'washed', 'washington', \"wasn't\", 'waste', 'watanabe', 'watched', 'watchmen', 'water', 'waters', 'waterspouts', 'watertown', 'waterworld', 'watson', 'wave', 'wax', 'way', 'ways', 'wb', 'wealth', 'wealthy', 'weapon', 'weapons', 'wear', 'wearing', 'wears', 'weather', 'web', 'webber', 'weber', 'webisode', 'website', 'wed', 'wedding', 'wednesday', 'week', 'weekend', 'weekly', 'weeknd', 'weeks', 'weight', 'weights', 'weill', 'weimar', 'weird', 'welcomed', 'well', 'welles', \"welles's\", 'wells', 'welnick', 'wen', 'wendy', \"wendy's\", 'went', 'were', 'werewolf', 'wes', 'wessex', 'wesson', 'west', 'western', 'westerner', 'westeros', 'westminster', 'westworld', \"westworld's\", 'what', 'whatsoever', 'whedon', 'wheeled', 'when', 'where', 'whereas', 'wherein', 'which', 'while', 'whilst', 'whispering', 'white', 'whitehall', 'who', 'whole', 'wholly', 'whom', 'whoopi', 'whose', 'why', 'wide', 'widebody', 'widely', 'wider', 'widespread', 'widow', 'widows', 'wife', 'wii', 'wiig', 'wikipedia', 'wild', 'wildly', 'wilfred', 'wilhelm', 'wilkes', 'will', 'william', 'williams', 'williamson', 'willing', 'willis', 'wilson', 'wilsonianism', 'wilsonianism.', 'wiltshire', 'wimbledon', 'win', 'winchester', 'wind', 'wind.', 'window', 'windows', 'winds', 'windsor', 'windstorm', 'windstorms', 'winehouse', \"winehouse's\", 'wing', 'winner', 'winners', 'winning', 'winona', 'wins', 'winstead', 'winter', 'winterfell', 'wire', 'wireless', 'wisconsin', 'wisdom', 'wish', 'witch', 'with', 'withdrew', 'witherspoon', 'withholds', 'within', 'without', 'wives', 'wiz', 'wolf', 'wolfenbüttel', 'wolfgang', 'wolfgangus', 'woll', 'wolsey', 'wolves', 'woman', 'womb', 'women', 'won', \"won't\", 'wonder', 'wood', 'wooden', 'woodlice', 'woodrow', 'woods', 'woodsman', 'woody', 'worcester', 'word', 'worden', 'wording', 'words', 'work', 'worked', 'worker', 'working', 'works', 'world', \"world's\", 'worldwide', 'worn', 'worship', 'worshipped', 'worst', 'worth', 'would', \"wouldn't\", 'wounded', 'wounds', 'wresting', 'wrestled', 'wrestlemania', 'wrestler', 'wrestlers', 'wrestling', 'wright', 'write', 'writer', 'writers', 'writes', 'writing', 'writings', 'written', 'wrote', 'wu', 'wuthering', 'wwe', \"wy'east\", 'wyler', 'wylie', 'x', 'xbox', 'xiv', 'xlv', 'xxx', 'y', \"y's\", 'yadira', 'yajna', 'yang', 'yano', 'yanyuhang', 'yard', 'ye', 'yeah', 'year', 'yearly', 'years', 'yeh', 'yelich', 'yellow', 'yemen', \"yemen's\", 'yet', 'yin', 'yo', 'yoga', 'york', \"york's\", 'yorker', 'yorkville', 'you', 'young', \"young's\", 'younger', 'youngest', 'your', 'youth', 'youtube', 'ysl', 'yu', 'yugoslavia', 'yumi', 'yves', 'yvonne', 'zac', 'zachary', 'zack', 'zant', 'zara', 'zathura', 'zealand', \"zealand's\", 'zebra', 'zemechkis', 'zemeckis', 'zero', 'zetas', 'zeus', 'zindagii', 'ziyad', 'zmax', 'zodiac', 'zoe', 'zoey', 'zombie', \"zombie's\", 'zombies', 'zone', 'zones', 'zoo', 'zoroastrianism', \"zoroastrianism's\", 'zoë', 'zürich', '~', '²', '×', 'åland', 'école', 'óscar', 'šuto', 'безопа́сности', 'госуда́рственной', 'комите́т', 'мусала', 'تیمور', 'अहमद', 'इब्राहीम', 'कासकर', 'दाऊद', 'रुशदी', 'सलमान', 'ṭāriq', 'ẓahīr', '–']\n"
          ]
        }
      ]
    },
    {
      "cell_type": "markdown",
      "metadata": {
        "id": "8kxTuGGvotsf"
      },
      "source": [
        "### Padding for x and computation of max sequence length"
      ]
    },
    {
      "cell_type": "code",
      "metadata": {
        "id": "x1uKddQlsCRR",
        "outputId": "4772c0f0-5d12-4098-ff35-9924976cd25e",
        "colab": {
          "base_uri": "https://localhost:8080/"
        }
      },
      "source": [
        "def convert_text(df, tokenizer, is_training=False, max_seq_length=None):\n",
        "    \"\"\"\n",
        "    Converts input text sequences using a given tokenizer\n",
        "\n",
        "    :param texts: either a list or numpy ndarray of strings\n",
        "    :tokenizer: an instantiated tokenizer\n",
        "    :is_training: whether input texts are from the training split or not\n",
        "    :max_seq_length: the max token sequence previously computed with\n",
        "    training texts.\n",
        "\n",
        "    :return\n",
        "        text_ids: a nested list on token indices\n",
        "        max_seq_length: the max token sequence previously computed with\n",
        "        training texts.\n",
        "    \"\"\"\n",
        "\n",
        "\n",
        "    text_ids_claim = tokenizer.convert_tokens_to_ids(df['Claim'])\n",
        "    text_ids_evidence = tokenizer.convert_tokens_to_ids(df['Evidence'])\n",
        "\n",
        "    # Padding\n",
        "    if is_training:\n",
        "        max_seq_length_claim = int(np.quantile([len(seq) for seq in text_ids_claim], 0.99))\n",
        "        max_seq_length_evidence = int(np.quantile([len(seq) for seq in text_ids_evidence], 0.99))\n",
        "\n",
        "        if max_seq_length_claim > max_seq_length_evidence:\n",
        "            max_seq_length = max_seq_length_claim\n",
        "        else:\n",
        "          max_seq_length = max_seq_length_evidence\n",
        "\n",
        "    else:\n",
        "        assert max_seq_length is not None\n",
        "\n",
        "    df['Claim'] = [seq + [0] * (max_seq_length - len(seq)) for seq in text_ids_claim]\n",
        "    df['Evidence'] = [seq[:max_seq_length] for seq in text_ids_evidence]\n",
        "\n",
        "    return max_seq_length\n",
        "        \n",
        "\n",
        "max_seq_length = convert_text(X_train, tokenizer, True)\n",
        "print(\"Max token sequence: {}\".format(max_seq_length))\n",
        "print('X train shape: ', X_train.shape)\n",
        "\n",
        "convert_text(X_val, tokenizer, False, max_seq_length)\n",
        "print('X val shape: ', X_val.shape)\n",
        "\n",
        "convert_text(X_test, tokenizer, False, max_seq_length)\n",
        "print('X test shape: ', X_test.shape)"
      ],
      "execution_count": 165,
      "outputs": [
        {
          "output_type": "stream",
          "name": "stdout",
          "text": [
            "Max token sequence: 60\n",
            "X train shape:  (3594, 2)\n",
            "X val shape:  (2876, 2)\n",
            "X test shape:  (719, 2)\n"
          ]
        }
      ]
    },
    {
      "cell_type": "markdown",
      "metadata": {
        "id": "uhi2js_i6x0Z"
      },
      "source": [
        "## Sentence embedding\n",
        "\n",
        "---\n",
        "\n"
      ]
    },
    {
      "cell_type": "code",
      "metadata": {
        "id": "D6tCI1r9Dclk"
      },
      "source": [
        "from keras.layers import SimpleRNN,GlobalAveragePooling1D,Flatten\n",
        "from keras import Input, Model\n"
      ],
      "execution_count": 231,
      "outputs": []
    },
    {
      "cell_type": "code",
      "metadata": {
        "id": "J7Ed3CA5FUkM"
      },
      "source": [
        "embedding_vector_length = embedding_dimension"
      ],
      "execution_count": 167,
      "outputs": []
    },
    {
      "cell_type": "code",
      "metadata": {
        "id": "UyF5m7TP5nD7"
      },
      "source": [
        "def firstModel(embedding_vector_length,dim, start_lr=0.001):\n",
        "\n",
        "  input = Input(shape=(max_seq_length))\n",
        "  x = Embedding(len(tokenizer.vocab.keys())+1, embedding_vector_length, \n",
        "                      input_length=max_seq_length, \n",
        "                      trainable=False, \n",
        "                      mask_zero=True)(input)\n",
        "  last_state = SimpleRNN(dim,return_state=True)(x)   #can we add a Bidirectional layer??\n",
        "  \n",
        "  RNN = Model(input, last_state, name=\"firstModel\")\n",
        "\n",
        "\n",
        "  lr_schedule = tf.keras.optimizers.schedules.ExponentialDecay(\n",
        "      start_lr,\n",
        "      decay_steps=100000,\n",
        "      decay_rate=0.96,\n",
        "      staircase=True)\n",
        "  \n",
        "  optim = Adam(learning_rate=lr_schedule)\n",
        "\n",
        "  RNN.compile(loss='categorical_crossentropy', optimizer=optim, \n",
        "                  metrics=['accuracy']) #to check\n",
        "  return RNN\n",
        "  "
      ],
      "execution_count": 188,
      "outputs": []
    },
    {
      "cell_type": "code",
      "metadata": {
        "colab": {
          "base_uri": "https://localhost:8080/"
        },
        "id": "u4imBrGQVYHK",
        "outputId": "a1357569-73a0-4297-a36e-11c7d797fabf"
      },
      "source": [
        "RNN = firstModel(embedding_vector_length,32)\n",
        "RNN.predict(np.array(X_train['Claim'][0]).reshape(-1, max_seq_length))[1] "
      ],
      "execution_count": 218,
      "outputs": [
        {
          "output_type": "execute_result",
          "data": {
            "text/plain": [
              "array([[ 9.51383263e-05,  1.82689503e-02,  6.10455079e-03,\n",
              "         4.51523811e-02, -1.05824292e-01, -9.69903916e-02,\n",
              "         1.26218617e-01,  1.54315121e-02,  1.00848898e-01,\n",
              "         1.72253754e-02,  3.98400426e-02,  1.04239145e-02,\n",
              "         2.68325470e-02,  9.21150073e-02,  1.26322404e-01,\n",
              "        -3.13140862e-02, -9.58230495e-02, -9.61076394e-02,\n",
              "         4.53415215e-02,  1.38036367e-02,  1.71158269e-01,\n",
              "        -1.27143906e-02,  7.44920298e-02, -9.79691595e-02,\n",
              "         1.17501490e-01, -4.01903391e-02,  1.84549671e-02,\n",
              "         6.10491745e-02,  6.81020617e-02,  1.15822725e-01,\n",
              "         4.93137240e-02,  7.74883181e-02]], dtype=float32)"
            ]
          },
          "metadata": {},
          "execution_count": 218
        }
      ]
    },
    {
      "cell_type": "code",
      "metadata": {
        "id": "aEfIzk7vFNcd"
      },
      "source": [
        "def secondModel(embedding_vector_length,dim, start_lr=0.001):\n",
        "  \n",
        "  input = Input(shape=(max_seq_length))\n",
        "  x = Embedding(len(tokenizer.vocab.keys())+1, embedding_vector_length, \n",
        "                      input_length=max_seq_length, \n",
        "                      trainable=False, \n",
        "                      mask_zero=True)(input)\n",
        "  states = SimpleRNN(dim,return_sequences=True)(x)   #can we add a Bidirectional layer??\n",
        "  output = GlobalAveragePooling1D()(states)\n",
        "  RNN = Model(input, output, name=\"secondModel\")\n",
        "  \n",
        "  \n",
        "  lr_schedule = tf.keras.optimizers.schedules.ExponentialDecay(\n",
        "      start_lr,\n",
        "      decay_steps=100000,\n",
        "      decay_rate=0.96,\n",
        "      staircase=True)\n",
        "  \n",
        "  optim = Adam(learning_rate=lr_schedule)\n",
        "\n",
        "  RNN.compile(loss='categorical_crossentropy', optimizer=optim, \n",
        "                  metrics=['accuracy']) #to check\n",
        "  return RNN\n",
        "  "
      ],
      "execution_count": 212,
      "outputs": []
    },
    {
      "cell_type": "code",
      "metadata": {
        "colab": {
          "base_uri": "https://localhost:8080/"
        },
        "id": "J-2Zsj-Qab6Y",
        "outputId": "039c2202-1ad0-41f8-a280-3ad0020f0a22"
      },
      "source": [
        "RNN = secondModel(embedding_vector_length,32)\n",
        "RNN.predict(np.array(X_train['Claim'][0]).reshape(-1, max_seq_length))"
      ],
      "execution_count": 220,
      "outputs": [
        {
          "output_type": "execute_result",
          "data": {
            "text/plain": [
              "array([[-0.03338033,  0.04072755,  0.00551042, -0.04402874,  0.02462781,\n",
              "         0.00354197,  0.02199725, -0.03643269, -0.04128148,  0.03964737,\n",
              "         0.02038268, -0.0342715 , -0.01993166,  0.01032088,  0.02635687,\n",
              "         0.0278166 ,  0.01623809,  0.01260327, -0.02488985,  0.02646014,\n",
              "         0.05276861,  0.0219539 ,  0.01984088,  0.02205065, -0.05328917,\n",
              "         0.01302342,  0.03073419,  0.0289458 ,  0.01117211,  0.0560411 ,\n",
              "         0.01277982, -0.00127796]], dtype=float32)"
            ]
          },
          "metadata": {},
          "execution_count": 220
        }
      ]
    },
    {
      "cell_type": "code",
      "metadata": {
        "id": "A7u666kwGsqG"
      },
      "source": [
        "def thirdModel(embedding_vector_length,dim, start_lr=0.001):\n",
        "  \n",
        "  MLP = Sequential()\n",
        "  MLP.add(Embedding(len(tokenizer.vocab.keys())+1, embedding_vector_length, \n",
        "                      input_length=max_seq_length, \n",
        "                      trainable=False, \n",
        "                      mask_zero=True))\n",
        "  MLP.add(Flatten())\n",
        "  MLP.add(Dense(350, input_shape=(embedding_vector_length*max_seq_length,), activation='relu'))\n",
        "  MLP.add(Dense(50, activation='relu'))\n",
        "  MLP.add(Dense(dim, activation='sigmoid'))\n",
        "  \n",
        "  \n",
        "  lr_schedule = tf.keras.optimizers.schedules.ExponentialDecay(\n",
        "      start_lr,\n",
        "      decay_steps=100000,\n",
        "      decay_rate=0.96,\n",
        "      staircase=True)\n",
        "  \n",
        "  optim = Adam(learning_rate=lr_schedule)\n",
        "\n",
        "  MLP.compile(loss='categorical_crossentropy', optimizer=optim, \n",
        "                  metrics=['accuracy']) #to check\n",
        "\n",
        "  return MLP"
      ],
      "execution_count": 232,
      "outputs": []
    },
    {
      "cell_type": "code",
      "metadata": {
        "colab": {
          "base_uri": "https://localhost:8080/"
        },
        "id": "m-6CdvXCf3n8",
        "outputId": "da824f75-2af2-4eab-82da-c2053dba1785"
      },
      "source": [
        "MLP = thirdModel(embedding_vector_length,32)\n",
        "MLP.predict(np.array(X_train['Claim'][0]).reshape(-1, max_seq_length)).shape"
      ],
      "execution_count": 233,
      "outputs": [
        {
          "output_type": "execute_result",
          "data": {
            "text/plain": [
              "(1, 32)"
            ]
          },
          "metadata": {},
          "execution_count": 233
        }
      ]
    },
    {
      "cell_type": "code",
      "metadata": {
        "id": "xSJckeXRHMNs"
      },
      "source": [
        "def fourthModel(embedding_vector_length, start_lr=0.001):\n",
        "  \n",
        "  EMB = Sequential()\n",
        "  EMB.add(Embedding(len(tokenizer.vocab.keys())+1, embedding_vector_length, \n",
        "                      input_length=max_seq_length, \n",
        "                      trainable=False, \n",
        "                      mask_zero=True))  # do not train embeddings, but we can do it\n",
        "  EMB.add(GlobalAveragePooling1D())\n",
        "  lr_schedule = tf.keras.optimizers.schedules.ExponentialDecay(\n",
        "      start_lr,\n",
        "      decay_steps=100000,\n",
        "      decay_rate=0.96,\n",
        "      staircase=True)\n",
        "  \n",
        "  optim = Adam(learning_rate=lr_schedule)\n",
        "\n",
        "  EMB.compile(loss='categorical_crossentropy', optimizer=optim, \n",
        "                  metrics=['accuracy']) #to check\n",
        "  return EMB"
      ],
      "execution_count": 236,
      "outputs": []
    },
    {
      "cell_type": "code",
      "metadata": {
        "colab": {
          "base_uri": "https://localhost:8080/"
        },
        "id": "q1IE9e7IhbwL",
        "outputId": "6454e1a7-c679-4e41-cfa7-94919971ad07"
      },
      "source": [
        "EMB = fourthModel(embedding_vector_length,32)\n",
        "EMB.predict(np.array(X_train['Claim'][0]).reshape(-1, max_seq_length)).shape"
      ],
      "execution_count": 237,
      "outputs": [
        {
          "output_type": "execute_result",
          "data": {
            "text/plain": [
              "(1, 50)"
            ]
          },
          "metadata": {},
          "execution_count": 237
        }
      ]
    },
    {
      "cell_type": "markdown",
      "metadata": {
        "id": "Gypl5z5ElJo1"
      },
      "source": [
        "## 5.2 Merging multi-inputs\n",
        "\n",
        "At this point, we have to think about **how** we should merge evidence and claim sentence embeddings.\n",
        "\n",
        "For simplicity, we stick to simple merging strategies:\n",
        "\n",
        "*     **Concatenation**: define the classification input as the concatenation of evidence and claim sentence embeddings\n",
        "\n",
        "*     **Sum**: define the classification input as the sum of evidence and claim sentence embeddings\n",
        "\n",
        "*     **Mean**: define the classification input as the mean of evidence and claim sentence embeddings\n",
        "\n",
        "For clarity, if the sentence embedding of a single input has shape `[batch_size, embedding_dim]`, then the classification input has shape:\n",
        "\n",
        "*     **Concatenation**: `[batch_size, 2 * embedding_dim]`\n",
        "\n",
        "*     **Sum**: `[batch_size, embedding_dim]`\n",
        "\n",
        "*     **Mean**: `[batch_size, embedding_dim]`"
      ]
    },
    {
      "cell_type": "markdown",
      "metadata": {
        "id": "IhVg9ZLymOUc"
      },
      "source": [
        "# A simple extension\n",
        "\n",
        "Lastly, we ask you to modify previously defined neural architectures by adding an additional feature to the classification input.\n",
        "\n",
        "We would like to see if some similarity information between the claim to verify and one of its associated evidence might be useful to the classification.\n",
        "\n",
        "Compute the cosine similarity metric between the two sentence embeddings and concatenate the result to the classification input.\n",
        "\n",
        "For clarity, since the cosine similarity of two vectors outputs a scalar value, the classification input shape is modified as follows:\n",
        "\n",
        "*     **Concatenation**: `[batch_size, 2 * embedding_dim + 1]`\n",
        "\n",
        "*     **Sum**: `[batch_size, embedding_dim + 1]`\n",
        "\n",
        "*     **Mean**: `[batch_size, embedding_dim + 1]`\n",
        "\n"
      ]
    },
    {
      "cell_type": "markdown",
      "metadata": {
        "id": "Nd74ULgpnJrc"
      },
      "source": [
        "# Performance evaluation\n",
        "\n",
        "Due to our simplifications, obtained results are not directly compatible with a traditional fact checking method that considers the evidence set as a whole.\n",
        "\n",
        "Thus, we need to consider two types of evaluations.\n",
        "\n",
        "---\n",
        "\n",
        "A. **Multi-input classification evaluation**\n",
        "\n",
        "This type of evaluation is the easiest and concerns computing evaluation metrics, such as accuracy, f1-score, recall and precision, of our pre-processed dataset.\n",
        "\n",
        "In other words, we assess the performance of chosen classifiers.\n",
        "\n",
        "---\n",
        "\n",
        "B. **Claim verification evaluation**\n",
        "\n",
        "However, if we want to give an answer concerning the claim itself, we need to consider the whole evidence set. \n",
        "\n",
        "Intuitively, for a given claim, we consider all its corresponding (claim, evidence) pairs and their corresponding classification outputs. \n",
        "\n",
        "At this point, all we need to do is to compute the final predicted claim label via majority voting.\n",
        "\n",
        "---\n",
        "\n",
        "Example:\n",
        "\n",
        "    Claim: c1\n",
        "    Evidence set: e1, e2, e3\n",
        "    True label: S\n",
        "\n",
        "    Pair outputs:\n",
        "    (c1, e1) -> S (supports)\n",
        "    (c1, e2) -> S (supports)\n",
        "    (c1, e3) -> R (refutes)\n",
        "\n",
        "    Majority voting:\n",
        "    S -> 2 votes\n",
        "    R -> 1 vote\n",
        "\n",
        "    Final label:\n",
        "    c1 -> S\n",
        "\n",
        "Lastly, we have to compute classification metrics just like before.\n",
        "\n",
        "Shortly speaking, implement both strategies for your classification metrics."
      ]
    },
    {
      "cell_type": "markdown",
      "metadata": {
        "id": "W4LJ2yPxsUOV"
      },
      "source": [
        "# Tips and Extras"
      ]
    },
    {
      "cell_type": "markdown",
      "metadata": {
        "id": "Uf80UVRNrXve"
      },
      "source": [
        "## 8.1 Extensions are welcome!\n",
        "\n",
        "Is this task too easy for you? Are you curious to try out things you have seen during lectures (e.g. attention)? Feel free to try everything you want!\n",
        "\n",
        "**Don't forget to try neural baselines first!**"
      ]
    },
    {
      "cell_type": "markdown",
      "metadata": {
        "id": "COXeCXdYsBEf"
      },
      "source": [
        "## 8.2 Comments and documentation\n",
        "\n",
        "Remember to properly comment your code (it is not necessary to comment each single line) and don't forget to describe your work!"
      ]
    },
    {
      "cell_type": "markdown",
      "metadata": {
        "id": "Ejv6SDE8xc4_"
      },
      "source": [
        "## 8.3 Organization\n",
        "\n",
        "We suggest you to divide your work into sections. This allows you to build clean and modular code, as well as easy to read and to debug.\n",
        "\n",
        "A possible schema:\n",
        "\n",
        "*   Dataset pre-processing\n",
        "*   Dataset conversion\n",
        "*   Model definition\n",
        "*   Training\n",
        "*   Evaluation\n",
        "*   Comments/Summary"
      ]
    },
    {
      "cell_type": "markdown",
      "metadata": {
        "id": "19QWjgGzIKOq"
      },
      "source": [
        "# Evaluation\n",
        "\n",
        "Which are the evaluation criteria on which we'll judge you and your work?\n",
        "\n",
        "1. Pre-processing: whether you have done some pre-processing or not.\n",
        "2. Sentence embedding: you should implement all required strategies (with an example and working code for each). That is, we, as evaluators, should be able to test all strategies without writing down new code.\n",
        "3. Multiple inputs merging strategies: you should implement all required strategies (with an example and working code for each).\n",
        "4. Similarity extension: you should implement the cosine similarity extension (with an example and working code).\n",
        "5. Voting strategy: you should implement the majority voting strategy and provide results.\n",
        "6. Report: when submitting your notebook, you should also attach a small summary report that describes what you have done (provide motivations as well for abitrary steps. For instance, \"We've applied L2 regularization since the model was overfitting\".\n",
        "\n",
        "Extras (possible extra points):\n",
        "\n",
        "1. Any well defined extension is welcome!\n",
        "2. Well organized and commented code is as important as any other criteria."
      ]
    },
    {
      "cell_type": "markdown",
      "metadata": {
        "id": "9DR70uh7pabo"
      },
      "source": [
        "# Contact\n",
        "\n",
        "For any doubt, question, issue or help, you can always contact us at the following email addresses:\n",
        "\n",
        "Teaching Assistants:\n",
        "\n",
        "* Andrea Galassi -> a.galassi@unibo.it\n",
        "* Federico Ruggeri -> federico.ruggeri6@unibo.it\n",
        "\n",
        "Professor:\n",
        "\n",
        "* Paolo Torroni -> p.torroni@unibo.it\n",
        "\n",
        "*Note*: We highly recommend you to check the [course useful material](https://virtuale.unibo.it/pluginfile.php/1036039/mod_resource/content/2/NLP_Course_Useful_Material.pdf) for additional information before contacting us!"
      ]
    },
    {
      "cell_type": "markdown",
      "metadata": {
        "id": "Jc0gNWU2pgKQ"
      },
      "source": [
        "# FAQ\n",
        "\n",
        "---\n",
        "\n",
        "**Question**: Can I do something text pre-processing?\n",
        "\n",
        "**Answer:** You have to! If you check text data, the majority of sentences need some cleaning.\n",
        "\n",
        "---\n",
        "\n",
        "**Question**: The model architecture schema is not so clear, are we doing end-to-end training?\n",
        "\n",
        "**Answer**: Exactly! All models can be thought as:\n",
        "\n",
        "1. Input\n",
        "2. (word) Embedding\n",
        "3. Sentence embedding\n",
        "4. Multiple inputs merging\n",
        "5. Classification\n",
        "\n",
        "---\n",
        "\n",
        "**Question**: Can I extend models by adding more layers?\n",
        "\n",
        "**Answer**: Feel free to define model architectures as you wish, but remember satisfy our requirements. This assignment should not be thought as a competition to achieve the best performing model: fancy students that want to show off but miss required assignment objectives will be punished!!\n",
        "\n",
        "---\n",
        "\n",
        "**Question**: I'm struggling with the implementation. Can you help me?\n",
        "\n",
        "**Answer**: Yes sure! Contact us and describe your issue. If you are looking for a particular type of operation, you can easily check the documentation of the deep learning framework you are using (google is your friend).\n",
        "\n",
        "---\n",
        "\n",
        "**Question**: Can I try other encoding strategies or neural architectures?\n",
        "\n",
        "**Answer:** Absolutely! Remember to try out recommended neural baselines first and only then proceed with your extensions.\n",
        "\n",
        "---\n",
        "\n",
        "**Question**: Do we have to test all possible sentence embedding and input merging combinations?\n",
        "\n",
        "**Answer**: Absolutely no! Feel free to pick one sentence embedding strategy and try all possible input merging strategies with it! For instance, pick the best performing sentence embedding method and proceed with next steps (extras included). Please, note that you still have to implement all mentioned strategies!\n",
        "\n",
        "---\n",
        "\n",
        "**Question**: I'm hitting out of memory error when training my models, do you have any suggestions?\n",
        "\n",
        "**Answer**: Here are some common workarounds:\n",
        "\n",
        "1. Try decreasing the mini-batch size\n",
        "2. Try applying a different padding strategy (if you are applying padding): e.g. use quantiles instead of maximum sequence length\n",
        "3. Check the efficiency of your custom code implementation (if any)\n",
        "4. Try to define same length mini-batches to avoid padding (**It should not be necessary here!**)\n",
        "\n",
        "---\n",
        "\n",
        "**Question**: I'm hitting CUDNN_STATUS_BAD_PARAM error! What I'm doing wrong?\n",
        "\n",
        "**Answer**: This error is a little bit tricky since the stack trace is not meaningful at all! This error occurs when the RNN is fed with a sequence of all 0s and pad masking is enabled (e.g. from the embedding layer). Please, check your conversion step, since there might be an error that leads to the encoding of a sentence to all 0s.\n",
        "\n",
        "---"
      ]
    }
  ]
}