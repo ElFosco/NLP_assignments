{
  "nbformat": 4,
  "nbformat_minor": 0,
  "metadata": {
    "colab": {
      "name": "Assignment_1.ipynb",
      "provenance": [],
      "collapsed_sections": [],
      "toc_visible": true,
      "include_colab_link": true
    },
    "kernelspec": {
      "name": "python3",
      "display_name": "Python 3"
    }
  },
  "cells": [
    {
      "cell_type": "markdown",
      "metadata": {
        "id": "view-in-github",
        "colab_type": "text"
      },
      "source": [
        "<a href=\"https://colab.research.google.com/github/ElFosco/NLP_assignments/blob/main/Assignment_1.ipynb\" target=\"_parent\"><img src=\"https://colab.research.google.com/assets/colab-badge.svg\" alt=\"Open In Colab\"/></a>"
      ]
    },
    {
      "cell_type": "markdown",
      "metadata": {
        "id": "-WeCeITXoxLf"
      },
      "source": [
        "# Assignment 1\n",
        "\n",
        "**Due to**: 23/12/2021 (dd/mm/yyyy)\n",
        "\n",
        "**Credits**: Andrea Galassi, Federico Ruggeri, Paolo Torroni\n",
        "\n",
        "**Summary**: Part-of Speech (POS) tagging as Sequence Labelling using Recurrent Neural Architectures"
      ]
    },
    {
      "cell_type": "markdown",
      "metadata": {
        "id": "a4_wqPdlBcKS"
      },
      "source": [
        "# Intro\n",
        "\n",
        "In this assignment  we will ask you to perform POS tagging using neural architectures\n",
        "\n",
        "You are asked to follow these steps:\n",
        "*   Download the corpora and split it in training and test sets, structuring a dataframe.\n",
        "*   Embed the words using GloVe embeddings\n",
        "*   Create a baseline model, using a simple neural architecture\n",
        "*   Experiment doing small modifications to the baseline model, choose hyperparameters using the validation set\n",
        "*   Evaluate your two best model\n",
        "*   Analyze the errors of your model\n",
        "\n",
        "\n",
        "**Task**: given a corpus of documents, predict the POS tag for each word\n",
        "\n",
        "**Corpus**:\n",
        "Ignore the numeric value in the third column, use only the words/symbols and its label. \n",
        "The corpus is available at:\n",
        "https://raw.githubusercontent.com/nltk/nltk_data/gh-pages/packages/corpora/dependency_treebank.zip\n",
        "\n",
        "**Splits**: documents 1-100 are the train set, 101-150 validation set, 151-199 test set.\n",
        "\n",
        "\n",
        "**Features**: you MUST use GloVe embeddings as the only input features to the model.\n",
        "\n",
        "**Splitting**: you can decide to split documents into sentences or not, the choice is yours.\n",
        "\n",
        "**I/O structure**: The input data will have three dimensions: 1-documents/sentences, 2-token, 3-features; for the output there are 2 possibilities: if you use one-hot encoding it will be 1-documents/sentences, 2-token labels, 3-classes, if you use a single integer that indicates the number of the class it will be 1-documents/sentences, 2-token labels.\n",
        "\n",
        "**Baseline**: two layers architecture: a Bidirectional LSTM layer and a Dense/Fully-Connected layer on top; the choice of hyper-parameters is yours.\n",
        "\n",
        "**Architectures**: experiment using a GRU instead of the LSTM, adding an additional LSTM layer, and adding an additional dense layer; do not mix these variantions.\n",
        "\n",
        "\n",
        "**Training and Experiments**: all the experiments must involve only the training and validation sets.\n",
        "\n",
        "**Evaluation**: in the end, only the two best models of your choice (according to the validation set) must be evaluated on the test set. The main metric must be F1-Macro computed between the various part of speech. DO NOT CONSIDER THE PUNCTUATION CLASSES.\n",
        "\n",
        "**Metrics**: the metric you must use to evaluate your final model is the F1-macro, WITHOUT considering punctuation/symbols classes; during the training process you can use accuracy because you can't use the F1 metric unless you use a single (gigantic) batch because there is no way to aggregate \"partial\" F1 scores computed on mini-batches.\n",
        "\n",
        "**Discussion and Error Analysis** : verify and discuss if the results on the test sets are coherent with those on the validation set; analyze the errors done by your model, try to understand which may be the causes and think about how to improve it.\n",
        "\n",
        "**Report**: you are asked to deliver the code of your experiments and a small pdf report of about 2 pages; the pdf must begin with the names of the people of your team and a small abstract (4-5 lines) that sums up your findings.\n",
        "\n",
        "# Out Of Vocabulary (OOV) terms\n",
        "\n",
        "How to handle words that are not in GloVe vocabulary?\n",
        "You can handle them as you want (random embedding, placeholder, whatever!), but they must be STATIC embeddings (you cannot train them).\n",
        "\n",
        "But there is a very important caveat! As usual, the element of the test set must not influence the elements of the other splits!\n",
        "\n",
        "So, when you compute new embeddings for train+validation, you must forget about test documents.\n",
        "The motivation is to emulate a real-world scenario, where you select and train a model in the first stage, without knowing nothing about the testing environment.\n",
        "\n",
        "For implementation convenience, you CAN use a single vocabulary file/matrix/whatever. The principle of the previous point is that the embeddings inside that file/matrix must be generated independently for train and test splits.\n",
        "\n",
        "Basically in a real-world scenario, this is what would happen:\n",
        "1. Starting vocabulary V1 (in this assignment, GloVe vocabulary)\n",
        "2. Compute embeddings for terms out of vocabulary V1 (OOV1) of the training split \n",
        "3. Add embeddings to the vocabulary, so to obtain vocabulary V2=V1+OOV1\n",
        "4. Training of the model(s)\n",
        "5. Compute embeddings for terms OOV2 of the validation split \n",
        "6. Add embeddings to the vocabulary, so to obtain vocabulary V3=V1+OOV1+OOV2\n",
        "7. Validation of the model(s)\n",
        "8. Compute embeddings for terms OOV3 of the test split \n",
        "9. Add embeddings to the vocabulary, so to obtain vocabulary V4=V1+OOV1+OOV2+OOV3\n",
        "10. Testing of the final model\n",
        "\n",
        "In this case, where we already have all the documents, we can simplify the process a bit, but the procedure must remain rigorous.\n",
        "\n",
        "1. Starting vocabulary V1 (in this assignment, GloVe vocabulary)\n",
        "2. Compute embeddings for terms out of vocabulary V1 (OOV1) of the training split \n",
        "3. Add embeddings to the vocabulary, so to obtain vocabulary V2=V1+OOV1\n",
        "4. Compute embeddings for terms OOV2 of the validation split \n",
        "5. Add embeddings to the vocabulary, so to obtain vocabulary V3=V1+OOV1+OOV2\n",
        "6. Compute embeddings for terms OOV3 of the test split \n",
        "7. Add embeddings to the vocabulary, so to obtain vocabulary V4=V1+OOV1+OOV2\n",
        "8. Training of the model(s)\n",
        "9. Validation of the model(s)\n",
        "10. Testing of the final model\n",
        "\n",
        "Step 2 and step 6 must be completely independent of each other, for what concerns the method and the documents. But they can rely on the previous vocabulary (V1 for step 2 and V3 for step 6)\n",
        "THEREFORE if a word is present both in the training set and the test split and not in the starting vocabulary, its embedding is computed in step 2) and it is not considered OOV anymore in step 6).\n",
        "\n",
        "# Report\n",
        "The report must not be just a copy and paste of graphs and tables!\n",
        "\n",
        "The report must not be longer than 2 pages and must contain:\n",
        "* The names of the member of your team\n",
        "* A short abstract (4-5 lines) that sum ups everything\n",
        "* A general description of the task you have addressed and how you have addressed it\n",
        "* A short description of the models you have used\n",
        "* Some tables that sum up your findings in validation and test and a discussion of those results\n",
        "* The most relevant findings of your error analysis\n",
        "\n",
        "# Evaluation Criterion\n",
        "\n",
        "The goal of this assignment is not to prove you can find best model ever, but to face a common task, structure it correctly, and follow a correct and rigorous experimental procedure.\n",
        "In other words, we don't care if you final models are awful as long as you have followed the correct procedure and wrote a decent report.\n",
        "\n",
        "The score of the assignment will be computed roughly as follows\n",
        "* 1 point for the general setting of the problem\n",
        "* 1 point for the handling of OOV terms\n",
        "* 1 point for the models\n",
        "* 1 point for train-validation-test procedure\n",
        "* 2 point for the discussion of the results, error analysis, and report\n",
        "\n",
        "This distribution of scores is tentative and we may decide to alter it at any moment.\n",
        "We also reserve the right to assign a small bonus (0.5 points) to any assignment that is particularly worthy. Similarly, in case of grave errors, we may decide to assign an equivalent malus (-0.5 points).\n",
        "\n",
        "# Contacts\n",
        "\n",
        "In case of any doubt, question, issue, or help we highly recommend you to check the [course useful material](https://virtuale.unibo.it/pluginfile.php/1036039/mod_resource/content/2/NLP_Course_Useful_Material.pdf) for additional information, and to use the Virtuale forums to discuss with other students.\n",
        "\n",
        "You can always contact us at the following email addresses. To increase the probability of a prompt response, we reccomend you to write to both the teaching assistants.\n",
        "\n",
        "Teaching Assistants:\n",
        "\n",
        "* Andrea Galassi -> a.galassi@unibo.it\n",
        "* Federico Ruggeri -> federico.ruggeri6@unibo.it\n",
        "\n",
        "Professor:\n",
        "\n",
        "* Paolo Torroni -> p.torroni@unibo.it\n",
        "\n",
        "\n",
        "# FAQ\n",
        "* You can use a non-trainable Embedding layer to load the glove embeddings\n",
        "* You can use any library of your choice to implement the networks. Two options are tensorflow/keras or pythorch. Both these libraries have all the classes you need to implement these simple architectures and there are plenty of tutorials around, where you can learn how to use them."
      ]
    },
    {
      "cell_type": "markdown",
      "metadata": {
        "id": "aCkKqTG1R2A3"
      },
      "source": [
        "# Imports"
      ]
    },
    {
      "cell_type": "code",
      "metadata": {
        "id": "gCFUaNkDHxvU"
      },
      "source": [
        "import os, shutil  # file management\n",
        "import sys  # system\n",
        "import pandas as pd  # dataframe management\n",
        "import numpy as np  # data manipulation\n",
        "from tqdm import tqdm  # useful during debugging (progress bars)\n",
        "from typing import List, Callable, Dict  # typing\n",
        "import re  # regex\n",
        "import urllib.request  # download files\n",
        "import zipfile  # unzip files\n",
        "import gensim  # embeddings\n",
        "import gensim.downloader as gloader  # embeddings\n",
        "from sklearn.preprocessing import LabelEncoder, OneHotEncoder  # one-hot encoding\n",
        "from matplotlib import pyplot as plt  # Plots\n",
        "\n",
        "# Models\n",
        "import tensorflow as tf\n",
        "from tensorflow.keras import Sequential\n",
        "from keras.layers import Bidirectional, Dense, LSTM, TimeDistributed, GRU\n",
        "from keras.layers.embeddings import Embedding\n",
        "from keras.preprocessing import sequence\n",
        "\n",
        "# F1\n",
        "from sklearn.metrics import f1_score, accuracy_score\n",
        "from functools import partial\n",
        "\n",
        "# Grid search\n",
        "from sklearn.model_selection import GridSearchCV\n",
        "import copy"
      ],
      "execution_count": 1,
      "outputs": []
    },
    {
      "cell_type": "markdown",
      "metadata": {
        "id": "6uk40AfIRyk9"
      },
      "source": [
        "# Dataframe"
      ]
    },
    {
      "cell_type": "markdown",
      "metadata": {
        "id": "eZEog8bfHZkn"
      },
      "source": [
        "Download the corpora and split it in training and test sets, structuring a dataframe."
      ]
    },
    {
      "cell_type": "markdown",
      "metadata": {
        "id": "00vKWJXWIKdH"
      },
      "source": [
        "## Download & Extraction"
      ]
    },
    {
      "cell_type": "code",
      "metadata": {
        "id": "XjYnrT-jGto5",
        "outputId": "7c4bfd4b-b76c-4151-fb26-21903bcc47a5",
        "colab": {
          "base_uri": "https://localhost:8080/"
        }
      },
      "source": [
        "dataset_folder = os.path.join(os.getcwd(), \"Datasets\", \"Original\")\n",
        "\n",
        "if not os.path.exists(dataset_folder):\n",
        "    os.makedirs(dataset_folder)\n",
        "\n",
        "url = 'https://raw.githubusercontent.com/nltk/nltk_data/gh-pages/packages/corpora/dependency_treebank.zip'\n",
        "\n",
        "dataset_path = os.path.join(dataset_folder, \"dependency_treebank.zip\")\n",
        "\n",
        "if not os.path.exists(dataset_path):\n",
        "    urllib.request.urlretrieve(url, dataset_path)\n",
        "    print(\"Successful download\")\n",
        "\n",
        "zip = zipfile.ZipFile(dataset_path)\n",
        "zip.extractall(dataset_folder)\n",
        "zip.close()\n",
        "print(\"Successful extraction\")"
      ],
      "execution_count": 2,
      "outputs": [
        {
          "output_type": "stream",
          "name": "stdout",
          "text": [
            "Successful download\n",
            "Successful extraction\n"
          ]
        }
      ]
    },
    {
      "cell_type": "markdown",
      "metadata": {
        "id": "-frhRxTJIM6p"
      },
      "source": [
        "## Creation Dataframe and splitting"
      ]
    },
    {
      "cell_type": "markdown",
      "metadata": {
        "id": "S4p1Q1UogPZM"
      },
      "source": [
        "### [Regex](https://regex101.com/)"
      ]
    },
    {
      "cell_type": "code",
      "metadata": {
        "id": "4wnHGfB3gQzs"
      },
      "source": [
        "symbol_remove_alone = \"^[\\.,\\-$'\\\";?!#:`]*$\"  # symbol(s) between ^(start) and $(end)\n",
        "pattern_alone = re.compile(symbol_remove_alone)\n",
        "\n",
        "symbol_number = \"^[\\.,:'/\\-0-9]*(s|th)?$\"  # finds number\n",
        "pattern_number = re.compile(symbol_number)\n",
        "\n",
        "bad_tokens = ('-LRB-','-RRB-','US$','C$','Wa',',')  # check on pos, there are some word that are different from their pos, but they are strange tokens"
      ],
      "execution_count": 3,
      "outputs": []
    },
    {
      "cell_type": "markdown",
      "metadata": {
        "id": "DCeV9etBhEJv"
      },
      "source": [
        "### Creation"
      ]
    },
    {
      "cell_type": "markdown",
      "metadata": {
        "id": "w2laiM0RoGZr"
      },
      "source": [
        "Creation of the dataframe containing sentences and the corresponding pos"
      ]
    },
    {
      "cell_type": "code",
      "metadata": {
        "id": "WNL6xexFIJ5F"
      },
      "source": [
        "folder = \"/content/Datasets/Original/dependency_treebank\"\n",
        "folder_pkl = \"/content/Datasets/Original\"\n",
        "dataset_name = \"dependency_treebank\"\n",
        "\n",
        "dataframe_rows_train = []\n",
        "dataframe_rows_val = []\n",
        "dataframe_rows_test = []\n",
        "\n",
        "i=0\n",
        "\n",
        "sentence=[]\n",
        "sentence_pos=[]\n",
        "set_pos = set()\n",
        "\n",
        "sentence_max_length=0\n",
        "sentence_length=0\n",
        "\n",
        "files = os.listdir(folder)\n",
        "files.sort()\n",
        "for filename in files:\n",
        "  i+=1\n",
        "  file_path = os.path.join(folder, filename)\n",
        "  try:\n",
        "    if os.path.isfile(file_path):\n",
        "      with open(file_path, mode='r', encoding='utf-8') as text_file:\n",
        "        lines = text_file.readlines()\n",
        "        for line in lines:\n",
        "          if line != '\\n':\n",
        "            word = str(line.split('\\t')[0])\n",
        "            pos = line.split('\\t')[1]\n",
        "            if pattern_alone.match(word) is None and pos not in bad_tokens:  # Using regex, if None no match has been found, \n",
        "                                                                             # then check the bad_tokens set\n",
        "              word = word.replace(\"\\/\", \"/\")  # Avoids \\/ substring in fractions or pair of names.\n",
        "              if pattern_number.match(word):  # Associating a unique token to each number\n",
        "                word = \"NUMBER_TOKEN\"\n",
        "              word = re.sub(\"[0-9]+\", \"NUMBER_TOKEN\", word)  # Replaces number with unique token in each string\n",
        "              sentence.append(word)\n",
        "              set_pos.add(pos)\n",
        "              sentence_pos.append(pos)\n",
        "              sentence_length+=1\n",
        "          else:\n",
        "            dataframe_row = {\n",
        "                  \"sentence\": sentence,\n",
        "                  \"pos\": sentence_pos\n",
        "                  }\n",
        "            if i>=1 and i<=100:\n",
        "                dataframe_rows_train.append(dataframe_row)\n",
        "            elif i>=101 and i<=150:\n",
        "                dataframe_rows_val.append(dataframe_row)\n",
        "            elif i>=151 and i<=199:\n",
        "                dataframe_rows_test.append(dataframe_row)\n",
        "            if sentence_max_length< sentence_length :\n",
        "              sentence_max_length = sentence_length\n",
        "            sentence=[]\n",
        "            sentence_pos=[]\n",
        "            sentence_length=0\n",
        "  except Exception as e:\n",
        "    print('Failed to process %s. Reason: %s' % (file_path, e))\n",
        "    sys.exit(0)\n",
        "\n",
        "dataframe_train = pd.DataFrame(dataframe_rows_train)\n",
        "dataframe_val = pd.DataFrame(dataframe_rows_val)\n",
        "dataframe_test = pd.DataFrame(dataframe_rows_test)\n",
        "\n",
        "dataframe_train = dataframe_train[[\"sentence\",\"pos\",]]\n",
        "dataframe_test = dataframe_test[[\"sentence\",\"pos\"]]\n",
        "dataframe_val = dataframe_val[[\"sentence\",\"pos\"]]\n",
        "\n",
        "dataframe_train_path = os.path.join(folder_pkl, dataset_name + \"_train.pkl\")\n",
        "dataframe_val_path = os.path.join(folder_pkl, dataset_name + \"_val.pkl\")\n",
        "dataframe_test_path = os.path.join(folder_pkl, dataset_name + \"_test.pkl\")\n",
        "dataframe_train.to_pickle(dataframe_train_path)\n",
        "dataframe_test.to_pickle(dataframe_val_path)\n",
        "dataframe_val.to_pickle(dataframe_test_path)\n",
        "\n",
        "set_pos = list(set_pos)"
      ],
      "execution_count": 4,
      "outputs": []
    },
    {
      "cell_type": "markdown",
      "metadata": {
        "id": "doq2qkvupJwl"
      },
      "source": [
        "### Data Visualization"
      ]
    },
    {
      "cell_type": "code",
      "metadata": {
        "id": "aV0LrUOeS9Gb",
        "outputId": "1a4db5c1-d696-46d9-a271-102b769ede3c",
        "colab": {
          "base_uri": "https://localhost:8080/",
          "height": 206
        }
      },
      "source": [
        "dataframe_train.head()"
      ],
      "execution_count": 5,
      "outputs": [
        {
          "output_type": "execute_result",
          "data": {
            "text/html": [
              "<div>\n",
              "<style scoped>\n",
              "    .dataframe tbody tr th:only-of-type {\n",
              "        vertical-align: middle;\n",
              "    }\n",
              "\n",
              "    .dataframe tbody tr th {\n",
              "        vertical-align: top;\n",
              "    }\n",
              "\n",
              "    .dataframe thead th {\n",
              "        text-align: right;\n",
              "    }\n",
              "</style>\n",
              "<table border=\"1\" class=\"dataframe\">\n",
              "  <thead>\n",
              "    <tr style=\"text-align: right;\">\n",
              "      <th></th>\n",
              "      <th>sentence</th>\n",
              "      <th>pos</th>\n",
              "    </tr>\n",
              "  </thead>\n",
              "  <tbody>\n",
              "    <tr>\n",
              "      <th>0</th>\n",
              "      <td>[Pierre, Vinken, NUMBER_TOKEN, years, old, wil...</td>\n",
              "      <td>[NNP, NNP, CD, NNS, JJ, MD, VB, DT, NN, IN, DT...</td>\n",
              "    </tr>\n",
              "    <tr>\n",
              "      <th>1</th>\n",
              "      <td>[Mr., Vinken, is, chairman, of, Elsevier, N.V....</td>\n",
              "      <td>[NNP, NNP, VBZ, NN, IN, NNP, NNP, DT, NNP, VBG...</td>\n",
              "    </tr>\n",
              "    <tr>\n",
              "      <th>2</th>\n",
              "      <td>[The, asbestos, fiber, crocidolite, is, unusua...</td>\n",
              "      <td>[DT, NN, NN, NN, VBZ, RB, JJ, IN, PRP, VBZ, DT...</td>\n",
              "    </tr>\n",
              "    <tr>\n",
              "      <th>3</th>\n",
              "      <td>[Lorillard, Inc., the, unit, of, New, York-bas...</td>\n",
              "      <td>[NNP, NNP, DT, NN, IN, JJ, JJ, NNP, NNP, WDT, ...</td>\n",
              "    </tr>\n",
              "    <tr>\n",
              "      <th>4</th>\n",
              "      <td>[Although, preliminary, findings, were, report...</td>\n",
              "      <td>[IN, JJ, NNS, VBD, VBN, RBR, IN, DT, NN, IN, D...</td>\n",
              "    </tr>\n",
              "  </tbody>\n",
              "</table>\n",
              "</div>"
            ],
            "text/plain": [
              "                                            sentence                                                pos\n",
              "0  [Pierre, Vinken, NUMBER_TOKEN, years, old, wil...  [NNP, NNP, CD, NNS, JJ, MD, VB, DT, NN, IN, DT...\n",
              "1  [Mr., Vinken, is, chairman, of, Elsevier, N.V....  [NNP, NNP, VBZ, NN, IN, NNP, NNP, DT, NNP, VBG...\n",
              "2  [The, asbestos, fiber, crocidolite, is, unusua...  [DT, NN, NN, NN, VBZ, RB, JJ, IN, PRP, VBZ, DT...\n",
              "3  [Lorillard, Inc., the, unit, of, New, York-bas...  [NNP, NNP, DT, NN, IN, JJ, JJ, NNP, NNP, WDT, ...\n",
              "4  [Although, preliminary, findings, were, report...  [IN, JJ, NNS, VBD, VBN, RBR, IN, DT, NN, IN, D..."
            ]
          },
          "metadata": {},
          "execution_count": 5
        }
      ]
    },
    {
      "cell_type": "code",
      "metadata": {
        "id": "dVD_onpQpWPr"
      },
      "source": [
        "def cont_pos(dataframe):\n",
        "  conts = [0] * len(set_pos)\n",
        "  for row in dataframe.iterrows():\n",
        "    for i, pos in enumerate(set_pos):\n",
        "      for pos_2 in row[1]['pos']:\n",
        "        if pos==pos_2:\n",
        "          conts[i] +=1\n",
        "  return conts\n",
        "\n",
        "conts_train = cont_pos(dataframe_train)\n",
        "conts_val = cont_pos(dataframe_val)\n",
        "conts_test = cont_pos(dataframe_test)"
      ],
      "execution_count": 6,
      "outputs": []
    },
    {
      "cell_type": "code",
      "metadata": {
        "id": "H9m-9EbiqW7Y",
        "outputId": "083f1c31-a5bb-4ef2-a270-800b90182e44",
        "colab": {
          "base_uri": "https://localhost:8080/",
          "height": 974
        }
      },
      "source": [
        "plt.figure(figsize=(17, 5))\n",
        "plt.title(\"Pos Distribution Train\")\n",
        "plt.hist(set_pos, weights=conts_train, bins=np.linspace(0, len(set_pos), len(set_pos) + 1, dtype=np.int));\n",
        "plt.show()\n",
        "plt.figure(figsize=(17, 5))\n",
        "plt.title(\"Pos Distribution Validation\")\n",
        "plt.hist(set_pos, weights=conts_val, bins=np.linspace(0, len(set_pos), len(set_pos) + 1, dtype=np.int));\n",
        "plt.show()\n",
        "plt.figure(figsize=(17, 5))\n",
        "plt.title(\"Pos Distribution Test\")\n",
        "plt.hist(set_pos, weights=conts_test, bins=np.linspace(0, len(set_pos), len(set_pos) + 1, dtype=np.int));\n",
        "plt.show()"
      ],
      "execution_count": 7,
      "outputs": [
        {
          "output_type": "display_data",
          "data": {
            "image/png": "[encoded data removed]",
            "text/plain": [
              "<Figure size 1224x360 with 1 Axes>"
            ]
          },
          "metadata": {
            "needs_background": "light"
          }
        },
        {
          "output_type": "display_data",
          "data": {
            "image/png": "[encoded data removed]",
            "text/plain": [
              "<Figure size 1224x360 with 1 Axes>"
            ]
          },
          "metadata": {
            "needs_background": "light"
          }
        },
        {
          "output_type": "display_data",
          "data": {
            "image/png": "[encoded data removed]",
            "text/plain": [
              "<Figure size 1224x360 with 1 Axes>"
            ]
          },
          "metadata": {
            "needs_background": "light"
          }
        }
      ]
    },
    {
      "cell_type": "markdown",
      "metadata": {
        "id": "i8NEmJp1Ui6z"
      },
      "source": [
        "## Create GloVe embeddings (keep attention to the size, maybe we have to change it)"
      ]
    },
    {
      "cell_type": "code",
      "metadata": {
        "id": "6SgHagnSUlxq"
      },
      "source": [
        "def load_embedding_model(model_type: str,\n",
        "                         embedding_dimension: int = 50) -> gensim.models.keyedvectors.KeyedVectors:\n",
        "    \"\"\"\n",
        "    Loads a pre-trained word embedding model via gensim library.\n",
        "\n",
        "    :param model_type: name of the word embedding model to load.\n",
        "    :param embedding_dimension: size of the embedding space to consider\n",
        "\n",
        "    :return\n",
        "        - pre-trained word embedding model (gensim KeyedVectors object)\n",
        "    \"\"\"\n",
        "\n",
        "    download_path = \"\"\n",
        "\n",
        "    # Find the correct embedding model name\n",
        "    if model_type.strip().lower() == 'word2vec':\n",
        "        download_path = \"word2vec-google-news-300\"\n",
        "\n",
        "    elif model_type.strip().lower() == 'glove':\n",
        "        download_path = \"glove-wiki-gigaword-{}\".format(embedding_dimension)\n",
        "    elif model_type.strip().lower() == 'fasttext':\n",
        "        download_path = \"fasttext-wiki-news-subwords-300\"\n",
        "    else:\n",
        "        raise AttributeError(\"Unsupported embedding model type! Available ones: word2vec, glove, fasttext\")\n",
        "\n",
        "    # Check download\n",
        "    try:\n",
        "        emb_model = gloader.load(download_path)\n",
        "    except ValueError as e:\n",
        "        print(\"Invalid embedding model name! Check the embedding dimension:\")\n",
        "        print(\"Word2Vec: 300\")\n",
        "        print(\"Glove: 50, 100, 200, 300\")\n",
        "        raise e\n",
        "\n",
        "    return emb_model"
      ],
      "execution_count": 8,
      "outputs": []
    },
    {
      "cell_type": "code",
      "metadata": {
        "id": "Mff7TRr0V8hv"
      },
      "source": [
        "def check_OOV_terms(embedding_vocabulary: List[str],\n",
        "                    word_listing: List[str]):\n",
        "    \"\"\"\n",
        "    Checks differences between pre-trained embedding model vocabulary\n",
        "    and dataset specific vocabulary in order to highlight out-of-vocabulary terms.\n",
        "\n",
        "    :param embedding_vocabulary: pre-trained word embedding model vocab (list)\n",
        "    :param word_listing: dataset specific vocabulary (list)\n",
        "\n",
        "    :return\n",
        "        - list of OOV terms\n",
        "    \"\"\"\n",
        "    \n",
        "    oov = set(word_listing).difference(embedding_vocabulary)\n",
        "    return list(oov)"
      ],
      "execution_count": 9,
      "outputs": []
    },
    {
      "cell_type": "code",
      "metadata": {
        "id": "ks3PUZeyFuYB"
      },
      "source": [
        "def build_embedding_matrix(embedding_model: gensim.models.keyedvectors.KeyedVectors,\n",
        "                           embedding_dimension: int,\n",
        "                           word_to_idx: Dict[str, int],\n",
        "                           vocab_size: int,\n",
        "                           oov_terms: List[str]) -> np.ndarray:\n",
        "    \"\"\"\n",
        "    Builds the embedding matrix of a specific dataset given a pre-trained word embedding model\n",
        "\n",
        "    :param embedding_model: pre-trained word embedding model (gensim wrapper)\n",
        "    :param word_to_idx: vocabulary map (word -> index) (dict)\n",
        "    :param vocab_size: size of the vocabulary\n",
        "    :param oov_terms: list of OOV terms (list)\n",
        "\n",
        "    :return\n",
        "        - embedding matrix that assigns a high dimensional vector to each word in the dataset specific vocabulary (shape |V| x d)\n",
        "    \"\"\"\n",
        "    embedding_matrix = np.zeros((vocab_size, embedding_dimension), dtype=np.float32)\n",
        "\n",
        "    for word, idx in tqdm(word_to_idx.items()):\n",
        "        try:\n",
        "            embedding_vector = embedding_model[word]\n",
        "        except (KeyError, TypeError):\n",
        "            embedding_vector = np.random.uniform(low=-0.05, high=0.05, size=embedding_dimension)\n",
        "\n",
        "        embedding_matrix[idx] = embedding_vector\n",
        "\n",
        "    return embedding_matrix\n",
        "\n",
        "\n",
        "def update_embedding_matrix(embedding_model: np.ndarray, \n",
        "                            embedding_dimension: int,\n",
        "                            word_to_idx: Dict[str, int],\n",
        "                            vocab_size: int,\n",
        "                            oov_terms: List[str]) -> np.ndarray:\n",
        "    \"\"\"\n",
        "    Builds the embedding matrix of a specific dataset given a pre-trained emdedding matrix\n",
        "\n",
        "    :param embedding_model: pre-trained embedding matrix\n",
        "    :param word_to_idx: vocabulary map (word -> index) (dict)\n",
        "    :param vocab_size: size of the vocabulary\n",
        "    :param oov_terms: list of OOV terms (list)\n",
        "\n",
        "    :return\n",
        "        - embedding matrix that assigns a high dimensional vector to each word in the dataset specific vocabulary (shape |V| x d)\n",
        "    \"\"\"\n",
        "    embedding_matrix = np.zeros((vocab_size, embedding_dimension), dtype=np.float32)\n",
        "\n",
        "    for word, idx in tqdm(word_to_idx.items()):\n",
        "        try:\n",
        "            embedding_vector = embedding_model[idx]\n",
        "        except (TypeError, IndexError):\n",
        "            embedding_vector = np.random.uniform(low=-0.05, high=0.05, size=embedding_dimension)\n",
        "\n",
        "        embedding_matrix[idx] = embedding_vector\n",
        "\n",
        "    return embedding_matrix\n"
      ],
      "execution_count": 10,
      "outputs": []
    },
    {
      "cell_type": "markdown",
      "metadata": {
        "id": "kPAOAphzoPCY"
      },
      "source": [
        "## Tokenizer"
      ]
    },
    {
      "cell_type": "code",
      "metadata": {
        "id": "LHclnVYLXWZN"
      },
      "source": [
        "# Glove -> 50, 100, 200, 300\n",
        "\n",
        "class KerasTokenizer(object):\n",
        "    \"\"\"\n",
        "    A simple high-level wrapper for the Keras tokenizer.\n",
        "    \"\"\"\n",
        "\n",
        "    def __init__(self, build_embedding_matrix=False, embedding_dimension=None,\n",
        "                 embedding_model_type=None, tokenizer_args=None, embedding_model=None):\n",
        "        if build_embedding_matrix:\n",
        "            assert embedding_model_type is not None\n",
        "            assert embedding_dimension is not None and type(embedding_dimension) == int\n",
        "\n",
        "        self.build_embedding_matrix = build_embedding_matrix\n",
        "        self.embedding_dimension = embedding_dimension\n",
        "        self.embedding_model_type = embedding_model_type\n",
        "        self.embedding_model = embedding_model\n",
        "        self.embedding_matrix = None\n",
        "        self.vocab = None\n",
        "\n",
        "        tokenizer_args = {} if tokenizer_args is None else tokenizer_args\n",
        "        assert isinstance(tokenizer_args, dict) or isinstance(tokenizer_args, collections.OrderedDict)\n",
        "\n",
        "        self.tokenizer_args = tokenizer_args\n",
        "\n",
        "    def build_vocab(self, data, **kwargs):\n",
        "        print('Fitting tokenizer...')\n",
        "        self.tokenizer = tf.keras.preprocessing.text.Tokenizer(**self.tokenizer_args)\n",
        "        self.tokenizer.fit_on_texts(data)\n",
        "        print('Fit completed!')\n",
        "\n",
        "        self.vocab = self.tokenizer.word_index\n",
        "\n",
        "        if self.build_embedding_matrix:\n",
        "            if self.embedding_model is None:\n",
        "              print('Loading embedding model! It may take a while...')\n",
        "              self.embedding_model = load_embedding_model(model_type=self.embedding_model_type, \n",
        "                                                          embedding_dimension=self.embedding_dimension)\n",
        "            \n",
        "            print('Checking OOV terms in train...')\n",
        "            self.oov_terms_train = check_OOV_terms(embedding_vocabulary=set(self.embedding_model.vocab.keys()),\n",
        "                                             word_listing=list(self.vocab.keys()))\n",
        "            \n",
        "            print(\"Total OOV terms: {0} ({1:.2f}%)\".format(len(self.oov_terms_train), 100*float(len(self.oov_terms_train)) / len(self.vocab)))\n",
        "\n",
        "            print('Building the embedding matrix for train...')\n",
        "            self.embedding_matrix = build_embedding_matrix(embedding_model=self.embedding_model,\n",
        "                                                           word_to_idx=self.vocab,\n",
        "                                                           vocab_size=len(self.vocab)+1,          \n",
        "                                                           embedding_dimension=self.embedding_dimension,\n",
        "                                                           oov_terms=self.oov_terms_train)\n",
        "            print('Done for train!')\n",
        "\n",
        "    def update_vocab(self, data, **kwargs):\n",
        "      self.tokenizer.fit_on_texts(data)\n",
        "      if self.build_embedding_matrix:\n",
        "        old_vocab = self.vocab\n",
        "        self.vocab = self.tokenizer.word_index\n",
        "        print('Checking OOV terms...')\n",
        "        self.oov_terms = check_OOV_terms(embedding_vocabulary=set(old_vocab.keys()), \n",
        "                                         word_listing=list(self.vocab.keys()))\n",
        "        \n",
        "        print(\"Total OOV terms: {0} ({1:.2f}%)\".format(len(self.oov_terms), 100*float(len(self.oov_terms)) / len(self.vocab)))\n",
        "\n",
        "        print('Building the embedding matrix...')\n",
        "        self.embedding_matrix = update_embedding_matrix(embedding_model=self.embedding_matrix,\n",
        "                                                       word_to_idx=self.vocab,\n",
        "                                                       vocab_size=len(self.vocab)+1,          \n",
        "                                                       embedding_dimension=self.embedding_dimension,\n",
        "                                                       oov_terms=self.oov_terms)\n",
        "\n",
        "    def get_info(self):\n",
        "        return {\n",
        "            'build_embedding_matrix': self.build_embedding_matrix,\n",
        "            'embedding_dimension': self.embedding_dimension,\n",
        "            'embedding_model_type': self.embedding_model_type,\n",
        "            'embedding_matrix': self.embedding_matrix.shape if self.embedding_matrix is not None else self.embedding_matrix,\n",
        "            'embedding_model': self.embedding_model,\n",
        "            'vocab_size': len(self.vocab) + 1,\n",
        "        }\n",
        "\n",
        "    def tokenize(self, text):\n",
        "        return text\n",
        "\n",
        "    def convert_tokens_to_ids(self, tokens):\n",
        "        if type(tokens) == str:\n",
        "            return self.tokenizer.texts_to_sequences([tokens])[0]\n",
        "        else:\n",
        "            return self.tokenizer.texts_to_sequences(tokens)\n",
        "\n",
        "    def convert_ids_to_tokens(self, ids):\n",
        "        return self.tokenizer.sequences_to_texts(ids)"
      ],
      "execution_count": 11,
      "outputs": []
    },
    {
      "cell_type": "markdown",
      "metadata": {
        "id": "BGZ4NcIZoVwS"
      },
      "source": [
        "### Downloading embeddings"
      ]
    },
    {
      "cell_type": "code",
      "metadata": {
        "id": "1G9mrvhxYBL3",
        "outputId": "54728de5-7654-4d18-f3ab-c40c4d62785d",
        "colab": {
          "base_uri": "https://localhost:8080/"
        }
      },
      "source": [
        "embedding_dimension = 50\n",
        "embedding_model = load_embedding_model(model_type=\"glove\", \n",
        "                                       embedding_dimension=embedding_dimension)"
      ],
      "execution_count": 12,
      "outputs": [
        {
          "output_type": "stream",
          "name": "stdout",
          "text": [
            "[==================================================] 100.0% 66.0/66.0MB downloaded\n"
          ]
        }
      ]
    },
    {
      "cell_type": "markdown",
      "metadata": {
        "id": "rDzHjGghoYpP"
      },
      "source": [
        "### Creating tokenizer"
      ]
    },
    {
      "cell_type": "code",
      "metadata": {
        "id": "rd7WJ8fOerEt",
        "outputId": "69a27631-dd64-4b7a-c970-217e67849dc2",
        "colab": {
          "base_uri": "https://localhost:8080/"
        }
      },
      "source": [
        "tokenizer_args = {\n",
        "    'oov_token': \"OOV_TOKEN\",  # The vocabulary id for unknown terms during text conversion\n",
        "    'lower' : True,  # default\n",
        "    'filters' : '' \n",
        "}\n",
        "\n",
        "tokenizer = KerasTokenizer(tokenizer_args=tokenizer_args,\n",
        "                           build_embedding_matrix=True,\n",
        "                           embedding_dimension=embedding_dimension,\n",
        "                           embedding_model_type=\"glove\", \n",
        "                           embedding_model=embedding_model)\n",
        "tokenizer.build_vocab(dataframe_train[\"sentence\"])\n",
        "\n",
        "tokenizer_info = tokenizer.get_info()\n",
        "\n",
        "print('Tokenizer info: ', tokenizer_info)"
      ],
      "execution_count": 13,
      "outputs": [
        {
          "output_type": "stream",
          "name": "stdout",
          "text": [
            "Fitting tokenizer...\n",
            "Fit completed!\n",
            "Checking OOV terms in train...\n",
            "Total OOV terms: 310 (4.49%)\n",
            "Building the embedding matrix for train...\n"
          ]
        },
        {
          "output_type": "stream",
          "name": "stderr",
          "text": [
            "100%|██████████| 6911/6911 [00:00<00:00, 252201.98it/s]"
          ]
        },
        {
          "output_type": "stream",
          "name": "stdout",
          "text": [
            "Done for train!\n",
            "Tokenizer info:  {'build_embedding_matrix': True, 'embedding_dimension': 50, 'embedding_model_type': 'glove', 'embedding_matrix': (6912, 50), 'embedding_model': <gensim.models.keyedvectors.Word2VecKeyedVectors object at 0x7efb891f4c50>, 'vocab_size': 6912}\n"
          ]
        },
        {
          "output_type": "stream",
          "name": "stderr",
          "text": [
            "\n"
          ]
        }
      ]
    },
    {
      "cell_type": "markdown",
      "metadata": {
        "id": "GA0kdGgcoczP"
      },
      "source": [
        "### Updating tokenizer with validation and test"
      ]
    },
    {
      "cell_type": "code",
      "metadata": {
        "id": "b0jKa0qzNzce",
        "outputId": "438df2c6-9d67-4b3c-a5c5-a993c487981d",
        "colab": {
          "base_uri": "https://localhost:8080/"
        }
      },
      "source": [
        "tokenizer.update_vocab(dataframe_val[\"sentence\"])\n",
        "tokenizer.update_vocab(dataframe_test[\"sentence\"])"
      ],
      "execution_count": 14,
      "outputs": [
        {
          "output_type": "stream",
          "name": "stdout",
          "text": [
            "Checking OOV terms...\n",
            "Total OOV terms: 2210 (24.23%)\n",
            "Building the embedding matrix...\n"
          ]
        },
        {
          "output_type": "stream",
          "name": "stderr",
          "text": [
            "100%|██████████| 9121/9121 [00:00<00:00, 286580.82it/s]\n"
          ]
        },
        {
          "output_type": "stream",
          "name": "stdout",
          "text": [
            "Checking OOV terms...\n",
            "Total OOV terms: 833 (8.37%)\n",
            "Building the embedding matrix...\n"
          ]
        },
        {
          "output_type": "stream",
          "name": "stderr",
          "text": [
            "100%|██████████| 9954/9954 [00:00<00:00, 474443.76it/s]\n"
          ]
        }
      ]
    },
    {
      "cell_type": "code",
      "metadata": {
        "id": "rPHTtHKPkNPx",
        "outputId": "4d1b6c13-2675-4c0a-d2bf-e95b4aab93f1",
        "colab": {
          "base_uri": "https://localhost:8080/"
        }
      },
      "source": [
        "a = list(tokenizer.vocab.keys())\n",
        "a.sort()\n",
        "print(a)"
      ],
      "execution_count": 15,
      "outputs": [
        {
          "output_type": "stream",
          "name": "stdout",
          "text": [
            "['%', '&', \"'d\", \"'ll\", \"'m\", \"'re\", \"'s\", \"'ve\", '@', 'OOV_TOKEN', 'a', 'a-d', 'a.', 'a.c.', 'a.d.', 'a.l.', 'aba', 'abandon', 'abandoned', 'abating', 'abbey', 'abbot', 'abide', 'ability', 'able', 'aboard', 'abolishing', 'abortion', 'abortion-related', 'abortionist', 'abortions', 'abounding', 'about', 'above', 'above-market', 'abridging', 'abroad', 'abrupt', 'absolute', 'absolutely', 'absorbed', 'absurd', 'absurdity', 'abuse', 'abuzz', 'ac-number_tokenu', 'academic', 'academically', 'academics', 'acceded', 'accelerated', 'acceleration', 'accept', 'acceptance', 'acceptances', 'accepted', 'accepting', 'access', 'accessories', 'accident', 'accidentally', 'accidents', 'accommodate', 'accommodations', 'accompany', 'accomplishments', 'accord', 'accordance', 'according', 'account', 'accountability', 'accountant', 'accountants', 'accounted', 'accounting', 'accounts', 'accrue', 'accrued', 'accumulated', 'accurate', 'accurately', 'accused', 'accusing', 'aces', 'acetate', 'achieve', 'achieved', 'achievement', 'achievement-test', 'achieving', 'acid', 'acid-rain', 'ackerman', 'acknowledge', 'acknowledges', 'acknowledging', 'acne', 'acquire', 'acquired', 'acquirer', 'acquirers', 'acquires', 'acquiring', 'acquisition', 'acquisition-minded', 'acquisitions', 'acre', 'acres', 'across', 'act', 'acted', 'acting', 'action', 'actions', 'active', 'actively', 'activities', 'activity', 'actor', 'actress', 'acts', 'actual', 'actually', 'acute', 'ad', 'adam', 'adams', 'adapted', 'adapting', 'add', 'added', 'addiction', 'adding', 'addition', 'additional', 'additions', 'address', 'addresses', 'addressing', 'adds', 'adequate', 'adequately', 'adjustable', 'adjusted', 'adjusting', 'adjustment', 'adjustments', 'administer', 'administration', 'administrations', 'administrative', 'administrator', 'administrators', 'admits', 'admitted', 'admitting', 'adolph', 'adopt', 'adopted', 'adopting', 'adrs', 'ads', 'adult', 'adults', 'advance', 'advanced', 'advances', 'advancing', 'advantage', 'advantages', 'advent', 'adverse', 'advertise', 'advertised', 'advertisements', 'advertisers', 'advertising', 'advertorial', 'advice', 'advise', 'advised', 'adviser', 'advisory', 'advocate', 'advocated', 'advocates', 'advocating', 'aerojet', 'aerospace', 'aesthetic', 'affair', 'affairs', 'affect', 'affecting', 'affiliate', 'affiliates', 'affirmative', 'afflicted', 'afford', 'affordable', 'afraid', 'africa', 'african', 'after', 'after-tax', 'aftereffects', 'aftermath', 'afternoon', 'afterwards', 'ag', 'again', 'against', 'age', 'agencies', 'agency', 'agenda', 'agents', 'aggravated', 'aggressive', 'aggressively', 'aghast', 'agnew', 'ago', 'agree', 'agreed', 'agreed-upon', 'agreeing', 'agreement', 'agreements', 'agrees', 'agricultural', 'agriculture', 'ahead', 'ai', 'aid', 'aide', 'aides', 'aids', 'ailes', 'ailing', 'aim', 'aimed', 'aiming', 'aims', 'air', 'aircraft', 'aired', 'airline', 'airline-related', 'airlines', 'airplane', 'airports', 'airways', 'aisles', 'akerfeldt', 'akin', 'akio', 'aktiebolaget', 'al', 'ala', 'ala.', 'alan', 'alarmed', 'albany', 'albert', 'albuquerque', 'alcohol', 'alcoholics', 'alcoholism', 'alert', 'alerts', 'alexander', 'alfred', 'alienated', 'alike', 'alive', 'all', 'all-cash', 'allegations', 'alleged', 'allegedly', 'alleghany', 'alleging', 'allen', 'allendale', 'allergan', 'alleviate', 'alliance', 'allied', 'allies', 'allocated', 'allocation', 'allow', 'allowed', 'almost', 'aloha', 'alone', 'along', 'already', 'also', 'alstyne', 'altair', 'altar', 'altered', 'altering', 'alternative', 'alternatively', 'alternatives', 'although', 'altogether', 'altruistic', 'alumni', 'alurralde', 'alvin', 'always', 'alysia', 'alzheimer', 'am', 'amass', 'amazingly', 'ambassador', 'ambassadors', 'ambitions', 'ambitious', 'amend', 'amended', 'amending', 'amendment', 'amendments', 'america', 'american', 'american-made', 'american-style', 'americana', 'americans', 'ames', 'amicable', 'amid', 'amin', 'among', 'amortization', 'amount', 'amounted', 'amounts', 'amphobiles', 'ample', 'amps', 'amr', 'amsterdam', 'amusing', 'an', 'ana', 'analysis', 'analyst', 'analysts', 'analyze', 'ancestry', 'ancient', 'ancillary', 'and', 'andean', 'anderson', 'andersson', 'andrea', 'andrew', 'andy', 'anecdotal', 'anemic', 'angeles', 'angelo', 'angels', 'anger', 'angered', 'angier', 'angle', 'anglia', 'anglian', 'angola', 'angry', 'ankle', 'anku', 'ann', 'anne', 'announce', 'announced', 'announcement', 'announcer', 'annoyed', 'annual', 'annualized', 'annually', 'another', 'answer', 'answered', 'answers', 'anthony', 'anti-abortion', 'anti-abortionists', 'anti-china', 'anti-deficiency', 'anti-drug', 'anti-dumping', 'anti-miscarriage', 'anti-morning-sickness', 'anti-program', 'anti-programmers', 'anti-takeover', 'anticipated', 'anticipates', 'anticipating', 'anticipation', 'antinori', 'antitrust', 'antitrust-law', 'antonio', 'anxieties', 'anxious', 'any', 'anybody', 'anyone', 'anything', 'anytime', 'anyway', 'anywhere', 'apart', 'apartment', 'apiece', 'apologize', 'apologizing', 'apology', 'apparel', 'apparent', 'apparently', 'appeal', 'appealing', 'appeals', 'appear', 'appeared', 'appearing', 'appears', 'appease', 'appellate', 'appetite', 'applaud', 'apple', 'apples', 'appliance', 'appliances', 'applicability', 'applicable', 'application', 'applications', 'applied', 'apply', 'appoint', 'appointed', 'appointment', 'appointments', 'appreciation', 'apprehensive', 'approach', 'approached', 'approaches', 'appropriate', 'appropriated', 'appropriation', 'appropriations', 'appropriators', 'approval', 'approve', 'approved', 'approves', 'approximately', 'april', 'aptitude', 'aquino', 'arabia', 'arabian', 'arafat', 'arbitrage', 'arbitrage-related', 'arbitrager', 'arbitragers', 'arbitraging', 'arbs', 'arched', 'architect', 'architects', 'architectural', 'architecture', 'are', 'area', 'areas', 'argentina', 'argentine', 'argue', 'argued', 'argues', 'arguing', 'argument', 'arguments', 'ariail', 'arighi', 'arise', 'arising', 'ariz.', 'arizona', 'ark', 'arlington', 'arm', 'armed', 'arms', 'army', 'arnold', 'around', 'arraignments', 'arranged', 'arrangement', 'arrangements', 'array', 'arrest', 'arrested', 'arrival', 'arrive', 'arrived', 'arrows', 'arsenide', 'art', 'arthur', 'article', 'articles', 'artist', 'arts', 'as', 'asada', 'asbestos', 'asbestos-related', 'asbestosis', 'ascendency', 'ascribe', 'asher', 'asia', 'asian', 'asians', 'ask', 'asked', 'asking', 'asks', 'aslacton', 'aspect', 'aspects', 'aspersions', 'aspires', 'assassinated', 'assault', 'assaults', 'assemble', 'assembled', 'assembly', 'assembly-line', 'assert', 'asserted', 'asserting', 'assertion', 'assertions', 'asserts', 'assess', 'assessed', 'asset', 'asset-sale', 'asset-valuation', 'assets', 'assigned', 'assist', 'assistance', 'assistant', 'assisted', 'associate', 'associated', 'associates', 'association', 'assume', 'assumed', 'assuming', 'assumption', 'assurance', 'assure', 'assured', 'astonishment', 'astronomical', 'at', 'at&t', 'athletic', 'atlanta', 'atlanta-based', 'atlantic', 'atmosphere', 'atsushi', 'attached', 'attack', 'attacking', 'attacks', 'attempt', 'attempted', 'attempting', 'attempts', 'attend', 'attendance', 'attended', 'attending', 'attention', 'attitude', 'attorney', 'attorney-client', 'attorneys', 'attract', 'attracted', 'attracting', 'attractions', 'attractive', 'attracts', 'attributed', 'attributes', 'attwood', 'auction', 'auctioned', 'auctions', 'audience', 'audiocassettes', 'audit', 'auditor', 'auditors', 'aug.', 'augment', 'august', 'aurora', 'auspices', 'austere', 'austin', 'australia', 'australian', 'austria', 'austrian', 'author', 'authorities', 'authority', 'authorized', 'authorizes', 'authorizing', 'authors', 'autions', 'auto', 'auto-safety', 'automated', 'automatic', 'automation', 'automobile', 'automobiles', 'automotive', 'automotive-lighting', 'automotive-parts', 'autos', 'autumn', 'available', 'avenge', 'avenue', 'avenues', 'average', 'averaged', 'avert', 'averted', 'avid', 'avoid', 'avoiding', 'avon', 'avrett', 'awaits', 'awarded', 'awarding', 'awards', 'aware', 'awareness', 'away', 'awful', 'awfully', 'b', 'b-number_tokenb', 'b.', 'b.a.t', 'babcock', 'baby', 'back', 'backdrop', 'backe', 'backed', 'backer', 'backers', 'backgrounds', 'backing', 'backlog', 'backlogs', 'backseat', 'backyard', 'bad', 'badly', 'bag', 'bags', 'bailey', 'baim', 'baker', 'bakery', 'baking', 'balance', 'balanced', 'bald-faced', 'baldwin', 'balkanized', 'balked', 'ball', 'ballantine/del', 'balloon', 'ballot', 'balloting', 'ballots', 'ballpark', 'ballplayers', 'ballroom', 'balls', 'baltimore', 'ban', 'bancorp', 'band', 'band-wagon', 'bang', 'bangkok', 'bank', 'bank-backed', 'banker', 'bankers', 'banking', 'bankroll', 'bankrupt', 'bankruptcy', 'bankruptcy-law', 'banks', 'banned', 'banning', 'banque', 'banquet', 'bans', 'bar', 'barbados', 'barbara', 'barbaresco', 'barclays', 'barely', 'barfield', 'bargain', 'bargains', 'barge', 'barges', 'baris', 'barking', 'barnett', 'barney', 'barnum', 'barometer', 'barred', 'barrel', 'barrels', 'barrett', 'barrier', 'barriers', 'barron', 'bars', 'barth', 'base', 'baseball', 'based', 'bases', 'basham', 'basic', 'basically', 'basin', 'basis', 'basket', 'baskets', 'bass', 'bat', 'bates', 'baton', 'battered', 'battery', 'battery-operated', 'batting', 'battle', 'battles', 'baum', 'be', 'beach', 'beall', 'bearing', 'bearish', 'bears', 'beat', 'beaten', 'beatles', 'beautiful', 'beauty', 'became', 'because', 'become', 'becomes', 'becoming', 'bedding', 'beds', 'been', 'beer', 'beer-belly', 'beers', 'befell', 'before', 'beforehand', 'befuddled', 'beg', 'began', 'begin', 'beginning', 'begins', 'begot', 'begun', 'behalf', 'behaving', 'behavior', 'beheading', 'behemoth', 'behest', 'behind', 'beige', 'beijing', 'being', 'beirut', 'beleaguered', 'belfries', 'belfry', 'believe', 'believed', 'believes', 'bell', 'bell-ringer', 'bell-ringing', 'bellows', 'bellringers', 'bells', 'bellwether', 'belong', 'belonging', 'belongs', 'below', 'belt', 'belts', 'bench', 'benchmark', 'benchmarks', 'bend', 'bendectin', 'beneficial', 'beneficiaries', 'beneficiary', 'benefit', 'benefited', 'benefits', 'benevolent', 'benign', 'bennett', 'bentsen', 'berger', 'berlin', 'berliner', 'berman', 'bermuda', 'bermuda-based', 'bernstein', 'berson', 'besides', 'best', 'best-seller', 'best-selling', 'besuboru', 'beta', 'beth', 'bethlehem', 'betrayer', 'better', 'betterment', 'betting', 'between', 'beverage', 'beverly', 'bew', 'beyond', 'bhutto', 'biaggi', 'biannual', 'bias', 'bicameral', 'bickering', 'bid', 'bidder', 'bidders', 'bidding', 'bids', 'biedermann', 'big', 'big-ticket', 'big-time', 'bigger', 'biggest', 'bilateral', 'bilingual', 'bill', 'billed', 'billing', 'billings', 'billion', 'billion-dollar', 'billionaire', 'billions', 'bills', 'bin', 'binders', 'binge', 'biondi-santi', 'birds', 'birmingham', 'biscayne', 'biscuit', 'bit', 'bitter', 'bitterness', 'black', 'black-and-white', 'blackjack', 'blacks', 'blackstone', 'blamed', 'blames', 'blanc', 'blanchard', 'blancs', 'blank', 'bled', 'blender', 'bless', 'blessing', 'blighted', 'blind', 'blindfold', 'blinks', 'blip', 'bloc', 'block', 'blocked', 'blocks', 'blood', 'blood-cell', 'bloods', 'bloody', 'blow', 'bludgeon', 'blue', 'blue-chip', 'blue-chips', 'blue-collar', 'blunt', 'blurred', 'bmp', 'bmp-number_token', 'board', 'boarding', 'boast', 'bob', 'boca', 'bodner', 'body', 'boeing', 'boesel', 'boilers', 'bold', 'bolduc', 'bolivia', 'bolster', 'bolstered', 'bomb', 'bombarding', 'bomber', 'bombers', 'bombs', 'bon', 'bond', 'bonds', 'bone', 'bonnell', 'bonus', 'bonuses', 'boogieman', 'book', 'booked', 'booklet', 'booklets', 'books', 'boom', 'boomers', 'booming', 'boone', 'boorse', 'boost', 'boosted', 'boosters', 'boosting', 'boosts', 'boots', 'bordeaux', 'borders', 'borge', 'born', 'borough', 'borrowed', 'borrowers', 'borrowing', 'borrowings', 'boston', 'botched', 'both', 'bothered', 'bottle', 'bottlenecks', 'bottles', 'bottom', 'bottom-line', 'bougainville', 'bought', 'boulder', 'bounce', 'bounced', 'bout', 'boutique', 'bowed', 'bowery', 'bowes', 'bowl', 'bowman', 'box', 'boy', 'boyfriends', 'boys', 'brace', 'bradford', 'bradley', 'brady', 'braidwood', 'brain', 'brakes', 'bramalea', 'branch', 'branches', 'brand', 'brands', 'brat', 'braun', 'brazil', 'brazilian', 'breach', 'bread', 'bread-and-butter', 'break', 'breakdown', 'breaker', 'breakers', 'breakey', 'breakfast', 'breaking', 'breaks', 'brean', 'breathe', 'breathed', 'breathtaking', 'breed', 'breeden', 'breezy', 'brenda', 'brent', 'bretz', 'brian', 'bribe', 'bribed', 'bribery', 'bribing', 'bricklayers', 'bricks', 'bridge', 'bridges', 'bridgestone/firestone', 'bridgeville', 'brief', 'briefing', 'briefings', 'briefs', 'brigham', 'bright', 'brightened', 'brightest', 'brilliant', 'brilliantly', 'bring', 'bringing', 'brings', 'brisk', 'britain', 'british', 'britta', 'broad', 'broad-based', 'broadcasting', 'broadcasts', 'broaden', 'broadened', 'broader', 'broadly', 'broke', 'broken', 'broker', 'brokerage', 'brokering', 'brokers', 'bromwich', 'bronces', 'bronx', 'bronze', 'brooke', 'brooklyn', 'brooks', 'brothers', 'brought', 'brown', 'brownell', 'brownstein', 'brunei', 'brunello', 'brunswick', 'brunt', 'brushed', 'brussels', 'brutal', 'btr', 'buck', 'buckhead', 'bucking', 'buckle', 'budding', 'budget', 'buffet', 'bugs', 'buick', 'build', 'builders', 'building', 'building-products', 'buildings', 'builds', 'buildup', 'built', 'built-from-kit', 'bulk', 'bull', 'bulldozers', 'bullets', 'bulls', 'bumkins', 'bunches', 'bund', 'bundles', 'bundling', 'bunny', 'buoyed', 'burden', 'burdens', 'bureau', 'bureaucracy', 'bureaucratic', 'burgundies', 'burgundy', 'burlap', 'burn', 'burned', 'burnham', 'burt', 'buses', 'bush', 'bushel', 'bushels', 'busiest', 'business', 'businesses', 'businessman', 'businessmen', 'busloads', 'bust', 'but', 'butler', 'butterfly', 'buttoned-down', 'buy', 'buy-back', 'buy-out', 'buy-outs', 'buyer', 'buyers', 'buying', 'buys', 'by', 'bygone', 'byron', 'c$', \"c'mon\", 'c-number_token', 'c.', 'c.d.s', 'c.j.b.', 'ca', 'cab', 'cabbage', 'cabernet', 'cabernets', 'cabinet', 'cable', 'cabs', 'cadet', 'cadmium', 'cake', 'calculate', 'calculated', 'calculations', 'calculator', 'calder', 'caldor', 'calif', 'calif.', 'calif.-based', 'california', 'californian', 'call', 'called', 'caller', 'callers', 'calling', 'calls', 'cambridge', 'came', 'camera', 'camille', 'camilli', 'campaign', 'campaigner', 'campaigning', 'campaigns', 'campbell', 'campeau', 'campus', 'can', 'canada', 'canadian', 'cancellation', 'cancer', 'cancer-causing', 'cancers', 'candela', 'candidate', 'candidates', 'candlestick', 'cane', 'canepa', 'canine', 'cannell', 'cap', 'capability', 'capacity', 'capital', 'capital-gains', 'capital-markets', 'capitalism', 'capitalist', 'capitalize', 'capitalized', 'capitol', 'capped', 'capsules', 'captivating', 'captive', 'capture', 'car', 'car-care', 'car-development', 'car-safety', 'cara', 'carballo', 'carbide', 'carbon', 'card', 'card-member', 'cardboard', 'cardiovascular', 'cards', 'care', 'cared', 'career', 'careers', 'carefree', 'careful', 'carefully', 'caretaker', 'cargo', 'caribbean', 'carillons', 'carl', 'carla', 'carlos', 'carlton', 'carnegie-mellon', 'carney', 'carnival', 'carolina', 'carried', 'carrier', 'carriers', 'carries', 'carry', 'carrying', 'cars', 'carson', 'carter', 'cartilage', 'cartons', 'cartoonist', 'cascading', 'case', 'cases', 'cash', 'cash-and-stock', 'cash-flow', 'cash-rich', 'casino', 'cask', 'cast', 'cast-iron', 'casting', 'castle', 'casts', 'cat', 'cataract', 'cataracts', 'catch', 'catch-number_token', 'catch-up', 'categories', 'category', 'cater', 'caters', 'cathedral', 'catholic', 'cathryn', 'cattle', 'caught', 'cause', 'caused', 'causes', 'causing', 'caustic', 'caution', 'cautioned', 'cautious', 'cautiously', 'caveat', 'cavernous', 'cbs', 'cdc', 'cds', 'cease-fire', 'cedric', 'ceiling', 'celebrate', 'celebrity', 'cell', 'cellar', 'cellars', 'cells', 'cement', 'censorship', 'cent', 'centennial', 'center', 'centerbank', 'centerpiece', 'centers', 'centimeter', 'central', 'centralized', 'cents', 'cents-a-unit', 'century', 'ceo', 'ceos', 'ceramic', 'cereal', 'cerf', 'certain', 'certainly', 'certificate', 'certificates', 'certified', 'certin', 'chabrol', 'chadha', 'chafic', 'chain', 'chaired', 'chairman', 'chairs', 'chalk', 'challenge', 'challenging', 'chamber', 'champagne', 'champagnes', 'champion', 'championing', 'champions', 'chance', 'chandler', 'change', 'change-ringing', 'changed', 'changes', 'changing', 'channel', 'chaos', 'chaotic', 'chaplin', 'chapman', 'chapter', 'character', 'characteristics', 'characterized', 'characterizing', 'characters', 'chardonnay', 'chardonnays', 'charge', 'charged', 'charges', 'charging', 'charities', 'charles', 'charlie', 'charlotte', 'charm', 'charter', 'charts', 'chary', 'chase', 'chassis', 'chastised', 'chat', 'chateau', 'chatsworth', 'chatter', 'chauffeur', 'cheaper', 'cheapest', 'cheat', 'cheating', 'check', 'checkbook', 'checking', 'checks', 'cheerleaders', 'cheerleading', 'cheese', 'cheetham', 'chefs', 'chemical', 'chemicals', 'chemplus', 'chest', 'chevrolet', 'chicago', 'chicago-style', 'chief', 'chiefly', 'child', 'childish', 'children', 'chile', 'chilean', 'chilled', 'chilver', 'china', 'chinchon', 'chinese', 'chinese-american', 'chiodo', 'chip', 'chips', 'chivas', 'chocolate', 'choice', 'chong-sik', 'choose', 'chooses', 'choosing', 'chopped', 'chose', 'chosen', 'christian', 'christie', 'christmas', 'christopher', 'chronicle', 'chrysler', 'chrysotile', 'chuck', 'chunk', 'chunks', 'church', 'church-goers', 'churches', 'cia', 'cigarette', 'cigarettes', 'cigna', 'cincinnati', 'circle', 'circuit', 'circuit-board', 'circuit-breaker', 'circulated', 'circulation', 'circulations', 'circumstances', 'citadel', 'citation', 'citations', 'cite', 'cited', 'cites', 'citibank', 'citicorp', 'cities', 'citing', 'citizen', 'citizen-sparked', 'citizens', 'city', 'city-owned', 'civics', 'civil', 'civilization', 'claim', 'claimed', 'claiming', 'claims', 'claire', 'clairton', 'clamped', 'clannish', 'clara', 'clarence', 'clarified', 'clarify', 'clark', 'clashed', 'class', 'classed', 'classes', 'classic', 'classical', 'classics', 'classifications', 'classified', 'classmates', 'classroom', 'claude', 'clause', 'clays', 'clean', 'clean-air', 'clean-up', 'cleaned', 'cleaner', 'cleaner-burning', 'cleanliness', 'cleanup', 'clear', 'clearance', 'cleared', 'clearer', 'clearing', 'clearly', 'clears', 'clemens', 'clerics', 'clerks', 'cleveland', 'clicked', 'client', 'clients', 'climate', 'climb', 'climbed', 'climbing', 'clinton', 'clipped', 'clippings', 'clive', 'clobbered', 'clock', 'close', 'close-up', 'closed', 'closed-end', 'closely', 'closeness', 'closer', 'closes', 'closing', 'cloth', 'clothes', 'clothing', 'cloud', 'clouding', 'clouds', 'club', 'clubs', 'clues', 'cluff', 'cluster', 'cluttered', 'co', 'co-author', 'co-chairman', 'co-developers', 'co-founded', 'co-owner', 'co.', 'coaching', 'coal', 'coal-fired', 'coast', 'coated', 'coca-cola', 'coche-dury', 'cocky', 'cocoa', 'coconut', 'code', 'codified', 'coffee', 'cohesive', 'coincident', 'coincidental', 'coke', 'cold', 'colder', 'cole', 'coleco', 'coleman', 'coliseum', 'collaborated', 'collapse', 'collapsed', 'collar', 'collateral', 'colleagues', 'collected', 'collecting', 'collection', 'collections', 'collective', 'collective-bargaining', 'collector', 'college', 'college-bowl', 'colleges', 'collins', 'colo.', 'colonsville', 'colony', 'color', 'colorado', 'colored', 'colorliner', 'columbia', 'columbus', 'column', 'columns', 'combat', 'combination', 'combinations', 'combine', 'combined', 'combines', 'combo', 'come', 'comeback', 'comedies', 'comes', 'comfort', 'comfortable', 'comfortably', 'coming', 'command', 'commanded', 'comment', 'commenting', 'comments', 'commerce', 'commercial', 'commercials', 'commission', 'commissions', 'commit', 'commitment', 'commitments', 'committed', 'committee', 'committees', 'committing', 'commodities', 'commodity', 'commodore', 'common', 'common-law', 'commonwealth', 'communication', 'communications', 'communist', 'communists', 'community', 'companies', 'companion', 'company', 'comparable', 'compare', 'compared', 'compares', 'comparison', 'compassion', 'compatible', 'compel', 'compelling', 'compensate', 'compensation', 'compete', 'competed', 'competes', 'competing', 'competition', 'competitions', 'competitive', 'competitor', 'competitors', 'compilation', 'compiled', 'complain', 'complained', 'complaining', 'complains', 'complaint', 'complaints', 'complete', 'completed', 'completely', 'completeness', 'completing', 'completion', 'complex', 'complexes', 'compliance', 'complicate', 'complicated', 'composed', 'composer', 'composite', 'compositions', 'composting', 'compound', 'comprehensive', 'compressed', 'compromise', 'compromises', 'computer', 'computer-aided', 'computer-assisted', 'computer-driven', 'computer-generated', 'computer-services', 'computer-system-design', 'computerize', 'computerized', 'computers', 'computing', 'comtes', 'concede', 'concedes', 'conceding', 'conceivable', 'concentrate', 'concentrated', 'concentrating', 'concentration', 'concept', 'concern', 'concerned', 'concerns', 'concession', 'concessions', 'conclude', 'concluded', 'concrete', 'concurrent', 'condemned', 'condemning', 'condition', 'conditional', 'conditions', 'conduct', 'conducted', 'conducting', 'conduit', 'confederation', 'conferees', 'conference', 'confidant', 'confidence', 'confident', 'confidential', 'confined', 'confines', 'confirm', 'confirmed', 'confirms', 'conflict', 'conflicts', 'conforms', 'confrontational', 'confronted', 'confuse', 'confused', 'conglomerate', 'congregation', 'congress', 'congressional', 'congressman', 'congressmen', 'coniston', 'conn', 'conn.', 'conn.based', 'connected', 'connecticut', 'connection', 'connections', 'consecutive', 'consensus', 'consent', 'consented', 'consequence', 'consequences', 'conservative', 'consider', 'considerable', 'considerably', 'consideration', 'considered', 'considering', 'considers', 'consist', 'consistent', 'consistently', 'consisting', 'consists', 'consolidated', 'consomme', 'consonant', 'conspicuous', 'constantly', 'constituent', 'constitute', 'constitution', 'constitutional', 'constitutional-law', 'constraints', 'construction', 'construed', 'consultant', 'consultants', 'consulting', 'consumer', 'consumer-driven', 'consumers', 'consumption', 'contacted', 'contacts', 'contain', 'contained', 'container', 'containers', 'containing', 'contains', 'contel', 'contemporary', 'contends', 'content', 'contest', 'contesting', 'contests', 'context', 'continental', 'contingency-fee', 'contingent', 'continually', 'continue', 'continued', 'continues', 'continuing', 'continuingly', 'continuous', 'continuously', 'contra', 'contract', 'contracted', 'contractor', 'contractors', 'contracts', 'contradict', 'contradictions', 'contrary', 'contras', 'contrast', 'contrasts', 'contribute', 'contributed', 'contributing', 'contribution', 'contributions', 'contributors', 'control', 'controlled', 'controlling', 'controls', 'controversial', 'controversy', 'convenient', 'convention', 'conventional', 'conversations', 'conversion', 'convert', 'converted', 'convertible', 'converting', 'convey', 'convicted', 'conviction', 'convince', 'convinced', 'cool', 'cooled', 'cooper', 'cooperating', 'cooperation', 'coordinate', 'coordinator', 'coors', 'cop-killer', 'cope', 'copied', 'copies', 'copper', 'copper-rich', 'copperweld', 'copy', 'copycats', 'copying', 'copyright', 'copyrights', 'corazon', 'core', 'corestates', 'corkscrews', 'corn', 'corn-buying', 'corners', 'cornerstones', 'corp', 'corp.', 'corporate', 'corporate-wide', 'corporation', 'corporations', 'corps', 'correct', 'corrected', 'correcting', 'correll', 'correspondence', 'corridors', 'corrigan', 'corrupt', 'corruption', 'corton-charlemagne', 'cos.', 'cosby', 'cosmetic', 'cosmopolitan', 'cost', 'cost-benefit', 'cost-control', 'cost-cutting', 'cost-effective', 'cost-sharing', 'costly', 'costs', 'cote', 'cotran', 'cotton', 'cougar', 'could', 'council', 'councils', 'counseling', 'count', 'counter', 'counteract', 'counterattack', 'counterpart', 'counterparts', 'counterrevolutionary', 'counterweight', 'counting', 'countless', 'countries', 'country', 'counts', 'county', 'couple', 'coupled', 'couples', 'coupon', 'courage', 'course', 'court', 'court-ordered', 'courter', 'courtroom', 'courts', 'cousins', 'cover', 'coverage', 'covered', 'covering', 'covers', 'cow', 'coxon', 'cozy', 'crack', 'crackdown', 'cracks', 'craft', 'craftsmen', 'crane', 'crane-safety', 'cranked', 'crapshoot', 'crash', 'crashes', 'crashing', 'cray', 'cray-number_token', 'craze', 'creams', 'create', 'created', 'creates', 'creating', 'creation', 'creativity', 'creator', \"creator's\", 'creature', 'credentials', 'credibility', 'credit', 'credit-rating', 'creditor', 'creditors', 'credits', 'creditworthiness', 'creek', 'crew', 'crews', 'crib', 'crime', 'criminal', 'crippled', 'crises', 'crisis', 'cristal', 'criteria', 'critical', 'criticism', 'criticized', 'critics', 'crocidolite', 'crook', 'crookery', 'crop', 'crops', 'cross', 'cross-border', 'crossed', 'crossing', 'crowd', 'crowded', 'crown', 'cru', 'crucial', 'crude', 'cruise', 'cruising', 'crum', 'crunch', 'crusade', 'crushed', 'cry', 'crying', 'crystal', 'crystal-lattice', 'crystals', 'cs', 'csv', 'ctb', 'ctbs', 'cue', 'cues', 'cullowhee', 'culprit', 'cult', 'cultivated', 'cultivation', 'cultural', 'cumbersome', 'cup-tote', 'cups', 'curb', 'curbed', 'curbing', 'cure', 'curled', 'curly', 'currencies', 'currency', 'current', 'current-carrying', 'currently', 'curriculum', 'curry', 'curse', 'curses', 'curtail', 'curtailed', 'cushion', 'cushioned', 'custom', 'custom-chip', 'customer', 'customers', 'customized', 'cut', 'cutbacks', 'cute', 'cutrer', 'cuts', 'cutthroat', 'cutting', 'cuvees', 'cycle', 'cycles', 'cyclical', 'czech', 'czechoslovakia', \"d'amico\", 'd.', 'd.c.', 'dahl', 'dai-ichi', 'dailies', 'daily', 'dairy', 'daiwa', 'dakota', 'dakotas', 'dale', 'dallara', 'dallas', 'dam', 'damage', 'damaged', 'damages', 'damaging', 'damn', 'dams', 'dan', 'dana-farber', 'dances', 'dancing', 'danforth', 'daniel', 'daniels', 'danube', 'danville', 'danzig', 'dark', 'darkhorse', 'darned', 'darrell', 'dashed', 'dashes', 'data', 'datapoint', 'date', 'dating', 'daughters', 'davenport', 'david', 'davies', 'davis', 'dawn', 'day', 'day-care', 'day-to-day', 'days', 'dd', 'ddb', 'de', 'dead', 'dead-eyed', 'deadline', 'deadwood', 'deal', 'dealers', 'dealing', 'dealings', 'deals', 'dean', 'deane', 'death', 'deaths', 'debacle', 'debate', 'debenture', 'debentures', 'deborah', 'debt', 'debts', 'debut', 'dec.', 'decade', 'decade-long', 'decades', 'decay', 'december', 'deceptive', 'decide', 'decided', 'decides', 'decision', 'decisions', 'decisive', 'deck', 'declaration', 'declare', 'declared', 'declaring', 'decline', 'declined', 'decliners', 'declines', 'declining', 'decorated', 'decorator', 'decrease', 'decried', 'decries', 'deducting', 'deeds', 'deem', 'deemed', 'deeply', 'deere', 'default', 'defazio', 'defeat', 'defeated', 'defeats', 'defects', 'defendant', 'defendants', 'defended', 'defending', 'defends', 'defense', 'defensive', 'deficiencies', 'deficit', 'define', 'defined', 'defines', 'definitely', 'definitive', 'defuse', 'defying', 'degenerative', 'degree', 'degrees', 'del', 'del.', 'delaware', 'delay', 'delayed', 'delays', 'delegates', 'delete', 'deliberately', 'deliberating', 'delisted', 'deliver', 'delivered', 'delivering', 'delivery', 'dell', 'delmont', 'deluge', 'deluxe', 'delwin', 'demand', 'demanding', 'demands', 'demise', 'demobilize', 'democracy', 'democrat', 'democratic', 'democrats', 'demographic', 'demonstrates', 'demonstrating', 'demonstrations', 'demonstrators', 'den', 'deng', 'denial', 'denied', 'denies', 'dennis', 'denominator', 'denounce', 'denouncing', 'denver', 'deny', 'denying', 'department', 'departments', 'departure', 'departures', 'depend', 'depended', 'depending', 'depends', 'depleted', 'deplorable', 'deposit', 'depositary', 'depository', 'deposits', 'deposits-a', 'depressed', 'depression', 'depressions', 'deprivation', 'deprived', 'deputy', 'derchin', 'deregulation', 'derek', 'derel', 'derisively', 'derivative', 'derivatives', 'derived', 'deryck', 'des', 'desai', 'descending', 'describe', 'described', 'describes', 'deserve', 'deserving', 'design', 'designated', 'designation', 'designations', 'designed', 'designer', 'designers', 'designing', 'desirable', 'desire', 'desired', 'desires', 'desktop', 'desperately', 'despise', 'despised', 'despite', 'dessert', 'destination', 'destinations', 'destroy', 'desultory', 'detail', 'detailed', 'details', 'detective-story', 'deter', 'deteriorated', 'deteriorating', 'deterioration', 'determine', 'determined', 'determining', 'deterring', 'detroit', 'devastating', 'develop', 'developed', 'developer', 'developing', 'development', 'developments', 'develops', 'deviant', 'deviation', 'device', 'devices', 'devise', 'devised', 'devon', 'devote', 'devoted', 'devouring', 'dexterity', 'diabetes', 'diagnosed', 'diagram', 'dialing', 'dialogue', 'diamond', 'diaper', 'diceon', 'dick', 'did', 'die', 'died', 'diethylstilbestrol', 'differ', 'difference', 'differences', 'different', 'differential', 'differently', 'difficult', 'difficulties', 'difficulty', 'digs', 'dilemma', 'dill', 'diloreto', 'diluted', 'diming', 'diminish', 'diminished', 'dingell', 'dinkins', 'dinner', 'dinosaurs', 'diplomacy', 'diplomatic', 'diplomats', 'direct', 'direct-investment', 'direct-mail', 'directed', 'directing', 'direction', 'directionless', 'directly', 'director', 'directors', 'directorship', 'dirtiest', 'dirty', 'disadvantage', 'disaffected', 'disaffiliation', 'disagree', 'disagreeable', 'disagreed', 'disagreement', 'disagrees', 'disappear', 'disappears', 'disappointed', 'disappointing', 'disappointment', 'disapproval', 'disapprove', 'disapproved', 'disarray', 'disaster', 'disaster-assistance', 'disasters', 'discarded', 'discharge', 'disciplinary', 'disciplined', 'disclose', 'disclosed', 'disclosing', 'disclosure', 'disclosures', 'disconnect', 'discontent', 'discontinue', 'discontinued', 'discontinuing', 'discordant', 'discos', 'discount', 'discounts', 'discourage', 'discouraging', 'discovered', 'discredit', 'discrepancies', 'discretion', 'discretionary', 'discrimination', 'discuss', 'discussed', 'discussing', 'discussion', 'discussions', 'disease', 'diseases', 'disembodied', 'disgorge', 'disk', 'dislike', 'dismal', 'dismay', 'dismayed', 'dismiss', 'dismissal', 'dismissed', 'disorders', 'disparate', 'display', 'displays', 'disposables', 'disposal', 'disposed', 'disproportionate', 'disputada', 'disputado', 'dispute', 'disputed', 'disputes', 'disregard', 'disruption', 'disruptive', 'disseminate', 'disseminating', 'dissemination', 'dissident', 'dissolves', 'distant', 'distasteful', 'distinct', 'distinguished', 'distorted', 'distributable', 'distributed', 'distributes', 'distribution', 'distributor', 'district', 'districts', 'disturbing', 'disturbs', 'divergence', 'diverse', 'diversification', 'diversified', 'diversify', 'diversifying', 'diversionary', 'divest', 'divided', 'dividend', 'dividends', 'dividing', 'division', 'divisions', 'dna', 'do', 'do-it-yourself', 'doak', 'dobson', 'docile', 'doctor', 'doctorate', 'doctors', 'doctrine', 'document', 'documented', 'documents', 'dodge', 'dodger', 'doerflinger', 'does', 'dogs', 'doing', 'dolan', 'dole', 'doling', 'dollar', 'dollar-denominated', 'dollar-yen', 'dollars', 'dolls', 'dolphin', 'dolphins', 'dom', 'domaine', 'domestic', 'domestically', 'dominance', 'dominant', 'dominated', 'dominates', 'dominating', 'domination', 'dominion', 'dominus', 'dompierre', 'don', 'donald', 'donaldson', 'done', 'donoghue', 'donor', 'donuts', 'doonesbury', 'door', 'doors', 'dormitory', 'dorothy', 'dorrance', 'dot', 'double', 'double-a', 'double-c', 'double-digit', 'doubled', 'doubt', 'doubted', 'doubts', 'douglas', 'dover', 'dow', 'down', 'downfall', 'downgrade', 'downgraded', 'downgrading', 'downright', 'downside', 'downtown', 'downturn', 'downward', 'dozen', 'dozens', 'dr.', 'drafted', 'drag-down', 'drain', 'dramatic', 'dramatically', 'drastic', 'drastically', 'draw', 'drawbacks', 'drawing', 'drawn', 'draws', 'dreadful', 'dreamed', 'dreamt', 'drearier', 'dressed', 'dresser', 'drew', 'drexel', 'dreyfus', 'drift', 'drifted', 'drink', 'drinking', 'drinks', 'driscoll', 'driskill', 'drive', 'driver', 'drivers', 'drives', 'driving', 'drobnick', 'drooled', 'drop', 'drop-in', 'drop-off', 'dropped', 'drops', 'drought', 'droughts', 'drove', 'droz', 'drug', 'drugs', 'drums', 'drunk', 'dry', 'dsm', 'du', 'dubbed', 'duchossois', 'duck', 'duckling', 'due', 'dugdale', 'duke', 'duluth', 'duly', 'dumbfounded', 'dummies', 'dumped', 'dumpster', 'dunkin', \"dunkin'\", 'dunn', 'dunton', 'duo', 'durable', 'durable-goods', 'during', 'dust', 'dust-up', 'dusty', 'dutch', 'duties', 'duty', 'duty-free', 'dwindling', 'dydee', 'dynamics', 'e.', 'e.c.', 'e.w.', 'each', 'eager', 'eagleton', 'eakle', 'earle', 'earlham', 'earlier', 'earliest', 'early', 'early-retirement', 'earn', 'earned', 'earning', 'earnings', 'earns', 'earthquake', 'ease', 'eased', 'eases', 'easier', 'easily', 'easing', 'east', 'eastern', 'easy', 'easy-to-read', 'eat', 'eating', 'eaton', 'ec', 'echoed', 'eclectic', 'eclipse', 'economic', 'economical', 'economics', 'economies', 'economist', 'economists', 'economy', 'ed', 'edelman', 'edge', 'edged', 'edison', 'editing', 'edition', 'editions', 'editor', 'editorial', 'editorially', 'editorials', 'editors', 'ednie', 'educated', 'education', 'educational', 'educators', 'edward', 'edwards', 'edwin', 'eeoc', 'effect', 'effective', 'effectively', 'effects', 'efficiencies', 'efficiency', 'efficient', 'effort', 'efforts', 'eggers', 'egnuss', 'egregious', 'egypt', 'egyptian', 'eight', 'eight-count', 'eight-month', 'eight-person', 'eighth', 'einhorn', 'either', 'el', 'elaborate', 'elco', 'elderly', 'elders', 'elected', 'election', 'elections', 'electorate', 'electric', 'electric-utility', 'electrical', 'electrical-safety', 'electricity', 'electronic', 'electronics', 'element', 'elementary', 'elephant', 'elevators', 'eligible', 'eliminate', 'eliminated', 'eliminates', 'eliminating', 'elimination', 'elisa', 'elisabeth', 'elite', 'elizabeth', 'elliott', 'ellis', 'elmhurst', 'else', 'elsevier', 'elsewhere', 'elusive', 'emasculate', 'embarrassing', 'embassy', 'embroiled', 'emerge', 'emerged', 'emergencies', 'emergency', 'emerges', 'emerging', 'emigrate', 'emigres', 'emile', 'emissions', 'emotional', 'emotions', 'emphasis', 'emphasized', 'empire', 'employed', 'employee', 'employees', 'employer', 'employers', 'employment', 'employs', 'empowered', 'empowers', 'empty', 'enable', 'enabled', 'enables', 'enabling', 'enact', 'enacted', 'encircling', 'enclosed', 'encounter', 'encourage', 'encouraged', 'encourages', 'encouraging', 'encroaching', 'end', 'ended', 'ending', 'endless', 'endorse', 'endorsed', 'ends', 'energetic', 'energy', 'energy-services', 'enforce', 'enforcement', 'engage', 'engaged', 'engaging', 'engineer', 'engineered', 'engineering', 'engineers', 'engines', 'england', 'english', 'english-speaking', 'enhanced', 'enhances', 'enjoy', 'enjoyed', 'enjoying', 'enlarged', 'enormous', 'enormously', 'enough', 'enraged', 'enright', 'enrollment', 'ensembles', 'ensnarled', 'ensrud', 'ensure', 'entangled', 'enter', 'entered', 'entering', 'enterprise', 'enters', 'entertain', 'entertaining', 'entertainment', 'enthusiasm', 'entice', 'enticed', 'entire', 'entirely', 'entitled', 'entitles', 'entity', 'entrance', 'entrants', 'entrench', 'entrenched', 'entrepreneur', 'entrusted', 'enviable', 'environment', 'environmental', 'environmentalists', 'environments', 'envoy', 'enzor', 'episodes', 'equal', 'equal-opportunity', 'equaling', 'equally', 'equals', 'equip', 'equipment', 'equipped', 'equitable', 'equities', 'equity', 'equity-purchase', 'equivalent', 'equivalents', 'equus', 'era', 'erasures', 'erbamont', 'erect', 'eric', 'erode', 'erodes', 'erroneous', 'error', 'errors', 'erudite', 'escalated', 'escape', 'escaped', 'escort', 'escrow', 'especially', 'espouse', 'essays', 'essentially', 'esso', 'est', 'establish', 'established', 'establishing', 'establishment', 'estate', 'estates', 'estimate', 'estimated', 'estimates', 'estimation', 'etc.', 'eternal', 'ethanol', 'ethel', 'ethical', 'ethics', 'eugene', 'eurobonds', 'eurodollars', 'europe', 'european', 'evaluated', 'evaluating', 'evaluation', 'evans', 'evaporated', 'even', 'evening', 'evenly', 'evensong', 'event', 'events', 'eventually', 'ever', 'eveready', 'every', 'everybody', 'everyday', 'everyone', 'everything', 'everywhere', 'evidence', 'evident', 'evil', 'evoke', 'evoking', 'evolution', 'evolve', 'evolved', 'ex-dividend', 'exacerbated', 'exact', 'exactly', 'examination', 'examinations', 'examine', 'examined', 'examiner', 'example', 'examples', 'exceed', 'exceeded', 'exceeding', 'exceedingly', 'exceeds', 'excellence', 'except', 'exception', 'exceptional', 'exceptionally', 'excess', 'excesses', 'excessive', 'excessively', 'exchange', 'exchanges', 'exchanging', 'excise', 'excision', 'excited', 'exciting', 'excluding', 'exclusion', 'exclusive', 'exclusively', 'execs', 'execute', 'executed', 'executes', 'executing', 'execution', 'executive', 'executive-office', 'executives', 'exempt', 'exemption', 'exercisable', 'exercise', 'exercised', 'exerting', 'exhaust', 'exhausted', 'exhibited', 'exhibition', 'exhibits', 'exist', 'existed', 'existence', 'existing', 'exists', 'exit', 'exits', 'exodus', 'exorbitant', 'expand', 'expanded', 'expanding', 'expands', 'expansion', 'expect', 'expectation', 'expectations', 'expected', 'expecting', 'expects', 'expedited', 'expelled', 'expendable', 'expenditures', 'expense', 'expenses', 'expensive', 'experience', 'experienced', 'experiencing', 'expert', 'experts', 'expire', 'expired', 'expires', 'explain', 'explained', 'explaining', 'explains', 'explanatory', 'exploded', 'exploit', 'exploration', 'explore', 'explorer', 'explosion', 'explosive', 'export', 'export-oriented', 'exporter', 'exporters', 'exports', 'exposed', 'exposure', 'exposures', 'express', 'express-buick', 'expressed', 'expressing', 'expression', 'expressly', 'expunged', 'extend', 'extended', 'extending', 'extension', 'extensive', 'extent', 'external', 'extra', 'extramarital', 'extraordinary', 'extremely', 'exuded', 'exxon', 'exxon-owned', 'eye', 'eyeing', 'eyes', 'f', 'f-series', 'f.', 'f.h.', 'f.w.', 'fabian', 'fabled', 'fabricate', 'fabricator', 'facade', 'face', 'faced', 'faces', 'facial', 'facilitate', 'facilities', 'facility', 'facing', 'fact', 'factor', 'factories', 'factoring', 'factors', 'factory', 'facts', 'faculty', 'faded', 'fahrenheit', 'fail', 'failed', 'failing', 'fails', 'failure', 'failures', 'faint', 'fainting', 'fair', 'fairlawn', 'fairless', 'fairly', 'fairness', 'faith', 'faithful', 'fall', 'fallen', 'falling', 'falls', 'falsify', 'faltered', 'famed', 'familiar', 'familiarization', 'families', 'family', 'family-planning', 'famous', 'fan', 'fanciful', 'fancy', 'fanfare', 'fang', 'fannie', 'fans', 'fantasy', 'far', 'fare', 'fared', 'fargo', 'farm', 'farmers', 'farms', 'farren', 'fashion', 'fashioned', 'fast', 'fast-food', 'fast-growing', 'fasteners', 'faster', 'fastest', 'fastest-growing', 'fat', 'fatalities', 'fate', 'father', 'father-in-law', 'fattened', 'faulding', 'fault', 'faultlessly', 'favor', 'favorable', 'favorably', 'favored', 'favorite', 'favors', 'fawning', 'fax', 'fbi', 'fe', 'fear', 'feared', 'fearful', 'fears', 'feasible', 'feature', 'featured', 'features', 'featuring', 'feb.', 'february', 'fed', 'federal', 'federalist', 'federally', 'federation', 'fee', 'feed', 'feeding', 'feeds', 'feel', 'feeling', 'feelings', 'feels', 'fees', 'feet', 'feline', 'fell', 'fellow', 'fellowship', 'felonies', 'felony', 'felt', 'felten', 'female', 'fend', 'feniger', 'ferc', 'ferdinand', 'fernando', 'ferro', 'fetal', 'fetal-tissue', 'fetching', 'feudal', 'few', 'fewer', 'fiber', 'fiber-end', 'fiber-optic', 'fibers', 'fidelity', 'field', 'fielded', 'fields', 'fierce', 'fifteen', 'fifth', 'fifth-grade', 'fifth-largest', 'fight', 'fighters', 'fighting', 'fights', 'figure', 'figures', 'file', 'filed', 'filing', 'filings', 'fill', 'filled', 'filling', 'fills', 'film', 'filmed', 'films', 'filter', 'filters', 'final', 'finalized', 'finally', 'finance', 'financed', 'financial', 'financial-services', 'financially', 'financier', 'financing', 'financings', 'find', 'finding', 'findings', 'finds', 'fine', 'fined', 'fines', 'finest', 'fingers', 'finished', 'finite', 'finland', 'finmeccanica', 'finnish', 'fire', 'fired', 'fires', 'firings', 'firm', 'firmed', 'firmly', 'firmness', 'firms', 'first', 'first-half', 'first-rate', 'first-time', 'fiscal', 'fischer', 'fishman', 'fit', 'fits', 'five', 'five-cent', 'five-day', 'five-inch', 'five-point', 'five-year', 'fixed', 'fixed-income', 'fixed-price', 'fixed-rate', 'fixes', 'fixtures', 'fizzled', 'fla.', 'flag', 'flagrant', 'flap', 'flashy', 'flat', 'flatulent', 'fled', 'fledgling', 'fleet', 'fleeting', 'flexibility', 'flies', 'flightiness', 'flights', 'flim-flammery', 'flirted', 'floated', 'floating-rate', 'flood', 'flooded', 'floor', 'floors', 'floral', 'florida', 'florio', 'flourish', 'flow', 'flows', 'floyd', 'fluctuation', 'fluctuations', 'fluent', 'flush', 'flux', 'fly', 'foam', 'focus', 'focused', 'focusing', 'fold', 'foldability', 'foldable', 'folded', 'folio', 'folks', 'follow', 'follow-up', 'followed', 'following', 'follows', 'fond', 'food', 'food-industry', 'food-shop', 'foods', 'foot', 'football', 'for', 'force', 'forced', 'forces', 'forcing', 'ford', 'forecast', 'forecasting', 'forecasts', 'foreign', 'foreign-led', 'foreign-stock', 'foreigners', 'forest-product', 'forest-products', 'forget', 'forgiven', 'forgotten', 'form', 'formal', 'formally', 'format', 'formation', 'formed', 'former', 'formerly', 'forms', 'formula', 'forster', 'forthcoming', 'fortune', 'fortunes', 'forum', 'forward', 'foster', 'fought', 'foul', 'found', 'foundation', 'foundations', 'founded', 'founder', 'foundering', 'fountain', 'four', 'four-color', 'four-day', 'four-foot-high', 'four-year', 'four-year-old', 'fourteen', 'fourth', 'fourth-quarter', 'fraction', 'fractionally', 'fracture', 'fracturing', 'fragile', 'fragmentation', 'framers', 'framework', 'franc', 'france', 'frances', 'francis', 'francisco', 'francisco-based', 'francs', 'frank', 'frankfurt', 'frankly', 'frantic', 'fraud', 'fred', 'freddie', 'frederick', 'free', 'free-enterprise', 'free-lance', 'freedom', 'freedoms', 'freeport-mcmoran', 'freeway', 'fremantle', 'french', 'frenzy', 'frequency', 'frequently', 'fresh', 'freshbake', 'freshman', 'fret', 'fretted', 'freud', 'freudtoy', 'friction', 'friday', 'friedrichs', 'friend', 'friendly', 'friends', 'friendship', 'frightened', 'fringe', 'from', 'front', 'front-seat', 'fronts', 'frozen', 'frustrating', 'ft', 'ft-se', 'ftc', 'fuel', 'fueled', 'fueling', 'fuels', 'fuentes', 'fuji', 'fujitsu', 'fulbright', 'fulham', 'full', 'full-fledged', 'full-length', 'full-time', 'full-year', 'fuller', 'fully', 'fulton', 'fumes', 'fuming', 'functioning', 'functions', 'fund', 'fundamental', 'fundamentalist', 'fundamentalists', 'fundamentally', 'funded', 'funding', 'fundraising', 'funds', 'funny', 'furillo', 'furious', 'furniture', 'furor', 'further', 'furukawa', 'future', 'futures', 'futures-related', 'g', 'g.', 'g.m.b', 'ga.', 'gaf', 'gain', 'gained', 'gaining', 'gains', 'gaithersburg', 'gaja', 'galling', 'gallium', 'gallon', 'galvanized', 'gambler', 'gambling', 'game', 'games', 'gamut', 'ganes', 'gangs', 'garage', 'garanti', 'garbage', 'garden-variety', 'gardner', 'garret', 'garrison', 'garry', 'gartner', 'gary', 'gas', 'gasoline', 'gates', 'gates-warren', 'gather', 'gauge', 'gauges', 'gauging', 'gave', 'gayle', 'gelatin', 'gelles', 'gencorp', 'genel', 'general', 'generalizations', 'generalized', 'generally', 'generate', 'generated', 'generation', 'generations', 'generators', 'generic', 'generous', 'genes', 'genetics', 'geneva', 'genie', 'gentle', 'genuine', 'geography', 'geometrical', 'george', 'georgetown', 'georgia', 'georgia-pacific', 'gerald', 'gerard', 'gerhard', 'german', 'germans', 'germany', 'germany-based', 'get', 'get-out-the-vote', 'gets', 'getting', 'ghkm', 'ghs', 'giant', 'giants', 'gift', 'gifts', 'gigantic', 'gillespie', 'gillett', 'gilt', 'gilts', 'gingl', 'ginnie', 'ginsberg', 'giraud', 'girl', 'girlfriend', 'giuliani', 'give', 'giveaways', 'given', 'gives', 'giving', 'glamorize', 'glass', 'glauber', 'glaxo', 'glendale', 'glenham', 'glenn', 'glitches', 'global', 'globally', 'globe', 'gloomy', 'glory', 'gloss', 'gm', 'gmac', 'go', 'goal', 'goblins', 'god', 'goes', 'going', 'gold', 'golden', 'goldinger', 'goldman', 'goldsmith', 'gone', 'good', 'good-faith', 'good-hearted', 'good-natured', 'goode', 'goodies', 'goodman', 'goods', 'goodwill', 'goody', 'gop', 'gorbachev', 'gordon', 'gored', 'gorman', 'got', 'gotta', 'gotten', 'gottlieb', 'gov.', 'goverment', 'government', 'government-certified', 'government-funded', 'government-owned', 'governor', 'governors', 'grace', 'grade', 'grader', 'graders', 'gradual', 'gradually', 'graduate', 'graduated', 'graduates', 'graham', 'grain', 'grains', 'grand', 'grandfather', 'grandsire', 'grandstander', 'grange', 'grant', 'granted', 'granting', 'grants', 'grapes', 'graphics', 'graphs', 'grapple', 'gray', 'great', 'greater', 'greatest', 'greatly', 'greece', 'greed', 'greedy', 'green', 'greenmailer', 'greenville', 'greenwich', 'greer', 'gregory', 'grew', 'grgich', 'griffin', 'grim', 'gringo', 'gripping', 'gross', 'groton', 'groucho', 'ground', 'group', 'groups', 'grower', 'growers', 'growing', 'grown', 'grows', 'growth', 'growths', 'guarantee', 'guaranteed', 'guarantees', 'guard', 'guarding', 'guards', 'guber', 'guber/peters', 'gubernatorial', 'guerrilla', 'guerrillas', 'guest', 'guests', 'guffey', 'guide', 'guided', 'guigal', 'guild', 'guilders', 'guilty', 'guinea', 'gulf', 'gunmen', 'guns', 'gunship', 'gut', 'gut-wrenching', 'guy', 'guys', 'gyrate', 'gyrations', 'h.', 'h.n.', 'habit', 'hackensack', 'had', 'haden', 'hadson', 'hahn', 'hailed', 'hailing', 'hair', 'hale', 'half', 'half-hour', 'hallett', 'halls', 'hallwood', 'halt', 'halted', 'halts', 'halve', 'hamilton', 'hammacher', 'hammerschmidt', 'hammersmith', 'hammerton', 'hammond', 'hampered', 'hampshire', 'hampton', 'hamstrung', 'hand', 'handed', 'handelsbanken', 'handful', 'handle', 'handled', 'handles', 'handling', 'hands', 'haney', 'hang', 'hangs', 'hanifen', 'hanover', 'hans', 'happen', 'happened', 'happening', 'happens', 'happier', 'happy', 'hara', 'harass', 'harassment', 'harbinger', 'harcourt', 'hard', 'hard-charging', 'hard-drinking', 'hard-hitting', 'harder', 'hardest-hit', 'hardly', 'hardware', 'harm', 'harmed', 'harmful', 'harmony', 'harms', 'harold', 'harped', 'harper', 'harpo', 'harris', 'harrison', 'harry', 'harsh', 'harshly', 'hart-scott-rodino', 'hartford', 'haruki', 'harvard', 'harvest', 'harvested', 'has', 'hasbrouk', 'hatch', 'haul', 'hauled', 'hauling', 'haut-brion', 'have', 'haven', 'having', 'hawaii', 'hawaiian', 'hawke', 'hay', 'hayes', 'hayne', 'hazardous', 'hazards', 'hazell', 'he', 'head', 'headcount-control', 'headed', 'heading', 'headline', 'headlined', 'headquarters', 'headrests', 'heads', 'healing', 'health', 'healthy', 'hear', 'heard', 'hearing', 'hearings', 'hearst', 'heart', 'heartland', 'heated', 'heatherington', 'heating', 'heavily', 'heavy', 'heavy-duty', 'heavy-truck', 'hedging', 'heebie-jeebies', 'hefty', 'hegemony', 'heidelberg', 'heightened', 'heights', 'heirs', 'heiwado', 'held', 'helm', 'help', 'helped', 'helpful', 'helping', 'helps', 'helsinki', 'henderson', 'henry', 'her', 'herald', 'herald-american', 'herbert', 'here', 'heritage', 'hermitage', 'hero', 'herrington', 'herself', 'hhs', 'hid', 'hidden', 'hierarchical', 'high', 'high-balance', 'high-flying', 'high-grade', 'high-level', 'high-minded', 'high-polluting', 'high-priced', 'high-quality', 'high-rate', 'high-rise', 'high-risk', 'high-rolling', 'high-speed', 'high-stakes', 'high-tech', 'high-technology', 'high-volume', 'high-yield', 'higher', 'higher-salaried', 'highest', 'highest-pitched', 'highlight', 'highly', 'highs', 'highway', 'hill', 'hills', 'him', 'himself', 'hint', 'hire', 'hired', 'hiroshi', 'hiroshima', 'his', 'historic', 'historical', 'historically', 'history', 'hit', 'hitachi', 'hither', 'hits', 'hitter', 'hitting', 'hobbyists', 'hoffman', 'hold', 'holder', 'holders', 'holding', 'holdings', 'holds', 'hole', 'holiday', 'holidays', 'holland', 'hollingsworth', 'hollis', 'holt', 'home', 'home-market', 'homebrew', 'homeless', 'homelessness', 'homes', 'homework', 'homosexual', 'honduras', 'hong', 'honolulu', 'honor', 'honorably', 'honors', 'hook', 'hoopla', 'hoosier', 'hope', 'hoped', 'hopefully', 'hopes', 'hopkins', 'hopwood', 'hormats', 'hormone', 'horoscopes', 'horsham', 'hospitable', 'hospital', 'hospitals', 'host', 'hostage', 'hosted', 'hostess', 'hostile', 'hostility', 'hot', 'hotel', 'hotels', 'hottest', 'houghton', 'hour', 'hours', 'house', 'house-senate', 'household', 'households', 'houses', 'housewife', 'housing', 'housing-assistance', 'houston', 'how', 'how-to', 'howard', 'however', 'hoylake', 'hub', 'hubbard', 'hubbell', 'huber', 'hud', 'hudnut', 'hudson', 'huge', 'hugging', 'hugo', 'human', 'humans', 'humble', 'hummerstone', 'hundred', 'hundreds', 'hung', 'hungary', 'hunker', 'hunted', 'huntington', 'huntsville', 'huppert', 'hurdles', 'hurley', 'hurricane', 'hurt', 'hurting', 'husband', 'hustlers', 'hutchinson', 'hutton', 'huxtable', 'hydraulically', 'hymowitz', 'hypocrisy', 'hypothetical', 'hysteria', 'i', 'i.', 'ian', 'ibc', 'ibm', 'icahn', 'ichiro', 'idea', 'ideas', 'identical', 'identified', 'identify', 'identities', 'identity-management', 'ideological', 'idiomatic', 'if', 'ignored', 'ignoring', 'ii', 'iii', 'ill', 'ill.', 'illegal', 'illegality', 'illegally', 'illinois', 'illness', 'illuminating', 'illustrates', 'ilminster', 'image', 'images', 'imaginative', 'imagine', 'imbalances', 'imhoff', 'immediate', 'immediately', 'immense', 'imminent', 'immune', 'impact', 'impaired', 'impart', 'impartial', 'impatient', 'impede', 'impediments', 'impeding', 'impending', 'imperative', 'impetuous', 'impetus', 'implant', 'implement', 'implementation', 'implemented', 'implements', 'implication', 'implications', 'implicit', 'implicitly', 'implied', 'implies', 'imply', 'import', 'importance', 'important', 'imported', 'importer', 'imports', 'impose', 'imposed', 'imposes', 'imposing', 'impossible', 'impressed', 'impression', 'impressive', 'improbable', 'improper', 'improve', 'improved', 'improvement', 'improvements', 'improves', 'improving', 'impudent', 'imsai', 'in', 'in-store', 'inaccurate', 'inaccurately', 'inadequacy', 'inadequate', 'inappropriate', 'inauspicious', 'inc', 'inc.', 'incapable', 'incentive', 'incentive-backed', 'incentive-bonus', 'incentives', 'inception', 'incest', 'inched', 'inches', 'inching', 'incident', 'incisions', 'include', 'included', 'includes', 'including', 'income', 'incomes', 'incomplete', 'incorporated', 'increase', 'increased', 'increases', 'increasing', 'increasingly', 'incredible', 'incurred', 'ind.', 'indeed', 'indefinitely', 'independence', 'independent', 'index', 'index-arbitrage', 'index-fund', 'index-options', 'index-related', 'indexers', 'indexes', 'indexing', 'india', 'indiana', 'indianapolis', 'indicate', 'indicated', 'indicates', 'indicating', 'indication', 'indications', 'indicator', 'indicators', 'indictment', 'indifference', 'indirect', 'individual', 'individuals', 'indonesia', 'induce', 'indulging', 'industrial', 'industrial-production', 'industrialized', 'industrials', 'industries', 'industry', 'industry-supported', 'industry-wide', 'industrywide', 'inefficiencies', 'inevitable', 'infectious', 'inferences', 'inflated', 'inflation', 'inflationary', 'influence', 'influenced', 'influencing', 'influential', 'inform', 'informally', 'information', 'information-services', 'infrequent', 'infringed', 'infusion', 'ingenuity', 'ingersoll-rand', 'ingredients', 'inherent', 'inherently', 'inherited', 'inheritor', 'inhibit', 'initial', 'initialing', 'initially', 'initiate', 'initiated', 'initiating', 'initiative', 'initiatives', 'injecting', 'injuries', 'injuring', 'injury', 'inkling', 'inland', 'inmates', 'inner', 'inner-city', 'innovation', 'innovative', 'inns', 'innuendoes', 'inoperative', 'inouye', 'inquiries', 'inquiring', 'inquiry', 'ins', 'insane', 'insanity', 'insert', 'inserted', 'inside', 'insider', 'insider-trading', 'insiders', 'insidious', 'insight', 'insinuating', 'insist', 'insisted', 'insistence', 'insists', 'insolvency', 'inspection', 'inspirational', 'inspired', 'install', 'installed', 'installing', 'installment', 'instance', 'instances', 'instead', 'institute', 'instituted', 'institutes', 'institution', 'institutional', 'institutions', 'instructed', 'instruction', 'instrument', 'instrumental', 'instruments', 'insurance', 'insurance-company', 'insured', 'insurer', 'insurgents', 'intecknings', 'integra', 'integra-a', 'integrated', 'integration', 'integrity', 'intel', 'intellectual', 'intellectual-property', 'intelligence', 'intelligent', 'intelogic', 'intend', 'intended', 'intense', 'intensity', 'intent', 'intention', 'intentioned', 'inter-tel', 'interactions', 'interbank', 'interest', 'interest-bearing', 'interest-rate', 'interested', 'interesting', 'interests', 'interference', 'interim', 'interior', 'interjects', 'interleukin-number_token', 'intermec', 'intermediate', 'internal', 'international', 'internatonal', 'interpretation', 'interpublic', 'interrogated', 'interrogation', 'interstate', 'intertitles', 'intervention', 'interventions', 'interview', 'interviewed', 'interviews', 'intimately', 'intimidate', 'into', 'intoxication', 'intraday', 'intraocular', 'intricate', 'intriguing', 'introduce', 'introduced', 'introduces', 'introducing', 'introduction', 'intrusion', 'intrusions', 'invades', 'invariably', 'invent', 'invented', 'invention', 'inventiveness', 'inventor', 'inventories', 'inventory', 'inverse', 'inverted', 'invest', 'invested', 'investigate', 'investigating', 'investigation', 'investigations', 'investing', 'investment', 'investment-grade', 'investments', 'investor', 'investor-relations', 'investors', 'invests', 'invite', 'inviting', 'involve', 'involved', 'involvement', 'involves', 'involving', 'iota', 'ious', 'iowa', 'iran-contra', 'iran/contra', 'iras', 'ire', 'irony', 'irrelevant', 'irs', 'irvine', 'irving', 'irwin', 'is', 'isabelle', 'islamabad', 'islamic', 'island', 'islands', 'israel', 'issue', 'issued', 'issuer', 'issuers', 'issues', 'issuing', 'it', 'italian', 'italy', 'itc', 'item', 'items', 'itoh', 'its', 'itself', 'ix', 'j.', 'j.l.', 'j.p.', 'jack', 'jackson', 'jacksonville', 'jacob', 'jacobs', 'jaffray', 'jaguar', 'jail', 'jalaalwalikraam', 'jam', 'jamaica', 'james', 'jan.', 'january', 'japan', 'japanese', 'jay', 'jefferson', 'jeffrey', 'jenkins', 'jennison', 'jenrette', 'jeopardizing', 'jeopardy', 'jeremy', 'jerritts', 'jerry', 'jersey', 'jersey-based', 'jet', 'jeweler', 'jews', 'jihad', 'jim', 'jimmy', 'jitters', 'joanne', 'job', 'jobs', 'jockeys', 'joe', 'joel', 'john', 'johnny', 'johns', 'johnson', 'johnson-era', 'join', 'joined', 'joining', 'joins', 'joint', 'joint-venture', 'jointly', 'jolts', 'jon', 'jonas', 'jonathan', 'jones', 'joni', 'joseph', 'jostle', 'journal', 'journalistic', 'journalists', 'journals', 'jovanovich', 'joy', 'joys', 'jr', 'jr.', 'judah', 'judge', 'judged', 'judges', 'judging', 'judgment', 'judgments', 'judicial', 'judiciary', 'judie', 'judith', 'juggernaut', 'juggle', 'jugglers', 'julia', 'july', 'jump', 'jumped', 'jumping', 'jumps', 'june', 'junk', 'junk-bond', 'jurisdiction', 'jurisdictional', 'jury', 'just', 'justice', 'justices', 'justified', 'justify', 'justifying', 'juvenile', 'k.', 'kalamazoo', 'kalipharma', 'kaminski', 'kane', 'kangyo', 'kansas', 'kappa', 'karl', 'karns', 'kathleen', 'kathryn', 'katzenstein', 'kawasaki', 'kean', 'kearny', 'keehn', 'keep', 'keeping', 'keeps', 'keidanren', 'keith', 'kelli', 'kendrick', 'kennedy', 'kenneth', 'kensington', 'kent', 'kentucky', 'kept', 'kerensky', 'ketchum', 'key', 'keyboards', 'kicked', 'kicker', 'kidder', 'kidnapper', 'kidnapping', 'kidney', 'kids', 'kill', 'killed', 'killeen', 'killing', 'killings', 'kilobytes', 'kind', 'kindergarten', 'kindness', 'kinds', 'kingdom', 'kingsbridge', 'kirkpatrick', 'kit', 'kits', 'klauser', 'klein', 'kligman', 'knapp', 'knell', 'knew', 'knife', 'knight', 'knitted', 'knocked', 'knopf', 'know', 'knowing', 'knowledge', 'knowledgeable', 'known', 'knowns', 'knows', 'kobe', 'kodansha', 'koito', 'koizumi', 'komatsu', 'kondo', 'kong', 'korea', 'krenz', 'kuala', 'kuhns', 'kurland', 'kuvin', 'ky.', 'l.', 'l.a.', 'l.p.', 'la', 'la.', 'lab', 'label', 'labeled', 'labeling', 'labels', 'labor', 'labor-backed', 'labor-intensive', 'labor-management', 'laboratories', 'laboriously', 'labouisse', 'lack', 'lacked', 'lackluster', 'lacks', 'lady', 'lafite-rothschild', 'lagging', 'laid', 'lake', 'lakes', 'lama', 'lambert', 'lancaster', 'land', 'land-idling', 'landfill', 'landfills', 'landing', 'landis', 'landonne', 'landor', 'landowners', 'landrieu', 'lane', 'langner', 'language', 'language-housekeeper', 'languages', 'lap', 'lap-shoulder', 'lapses', 'large', 'large-scale', 'largely', 'larger', 'larger-than-normal', 'largest', 'larry', 'las', 'lasalle', 'laser', 'last', 'lasted', 'lasting', 'late', 'lately', 'later', 'latest', 'latin', 'latour', 'latter', 'lauded', 'lauderhill', 'laughing', 'launch', 'launch-vehicle', 'launched', 'laura', 'laurels', 'laurence', 'law', 'lawless', 'lawmakers', 'lawmaking', 'laws', 'lawsuit', 'lawsuits', 'lawyer', 'lawyers', 'lay', 'layer', 'laying', 'lazzaroni', 'le', 'lead', 'leader', 'leaders', 'leadership', 'leading', 'leaky', 'leap', 'leapt', 'learn', 'learned', 'learning', 'lease', 'leases', 'leash', 'leasing', 'least', 'leather', 'leave', 'leaves', 'leaving', 'lebanon', 'led', 'lee', 'leery', 'leeway', 'lefcourt', 'left', 'legal', 'legend', 'legg', 'legislating', 'legislation', 'legislative', 'legislators', 'legislature', 'lehman', 'leigh', 'leighton', 'leinonen', 'leming', 'len', 'lend-lease', 'lender', 'lenders', 'lending', 'length', 'lengthen', 'lengthened', 'leningrad', 'lens', 'lent', 'lentjes', 'leo', 'leon', 'leroy', 'lesions', 'less', 'less-serious', 'less-than-brilliant', 'lessen', 'lessening', 'lesser', 'lesson', 'let', 'letter', 'letter-writing', 'letters', 'letting', 'level', 'leveling', 'levels', 'leveraged', 'leveraging', 'lewis', 'lezovich', 'li', 'liabilities', 'liability', 'liable', 'liberal', 'liberals', 'liberation', 'liberty', 'libor', 'library', 'license', 'licensed', 'licenses', 'licensing', 'lids', 'lieberman', 'lieu', 'lieutenant', 'life', 'life-insurance', 'life-of-contract', 'life-style', 'lifes', 'lift', 'lifted', 'lifting', 'light', 'light-truck', 'lighter', 'lighthouse', 'lightning-fast', 'lights', 'like', 'likelihood', 'likely', 'likeness', 'lilly', 'limbo', 'limit', 'limitation', 'limited', 'limited-partnership', 'limiting', 'limits', 'limping', 'linda', 'linden', 'lindner', 'line', 'line-item', 'liners', 'lines', 'link', 'linked', 'links', 'lion', 'lipsticks', 'liquid', 'liquid-nitrogen', 'liquidated', 'liquidation', 'liquidity', 'list', 'listed', 'listeners', 'listing', 'litany', 'literacy', 'literary', 'literature', 'litigation', 'little', 'live', 'livelihood', 'lives', 'livestock', 'living', 'lizhi', 'lloyd', 'load', 'loaded', 'loading', 'loan', 'loans', 'loathsome', 'lobbies', 'lobbyist', 'lobbyists', 'lobo', 'lobsenz', 'lobster', 'local', 'locally', 'located', 'location', 'locations', 'lock', 'locked', 'loewi', 'loews', 'lofty', 'log', 'logic', 'logistical', 'logjam', 'logo', 'london', 'london-based', 'long', 'long-tenured', 'long-term', 'long-time', 'longer', 'longer-term', 'longest', 'longevity', 'longstanding', 'longtime', 'longwood', 'lonski', 'look', 'looked', 'lookee-loos', 'looking', 'looks', 'loom', 'looming', 'loops', 'loose', 'lorain', 'lord', 'lore', 'lorenzo', 'lorillard', 'los', 'lose', 'loser', 'loses', 'losing', 'loss', 'losses', 'lost', 'lot', 'lotions', 'lotter', 'lottery', 'loudest', 'louis', 'louisiana', 'louisiana-pacific', 'louisville', 'lousy', 'loved', 'loveliest', 'lovely', 'lover', 'lovett', 'low', 'low-ability', 'low-altitude', 'low-ball', 'low-cost', 'low-priced', 'low-tech', 'lowe', 'lower', 'lower-priced', 'lower-priority', 'lowered', 'lowering', 'lowest', 'loyal', 'loyalty', 'lsi', 'lt.', 'ltd', 'ltd.', 'ltv', 'luce', 'lucille', 'luck', 'lucky', 'lucrative', 'lufkin', 'lumpur', 'lunch', 'lung', 'lungs', 'lure', 'lurgi', 'lurie', 'luxury', 'lying', 'lyle', 'lyn', 'lynch', 'lynch-mob', 'lyrics', 'm.', 'm.d.', 'mac', 'macdonald', 'macheski', 'machine', 'machine-gun-toting', 'machinery', 'machines', 'machinists', 'maclellan', 'macmillan', 'macmillan/mcgraw', 'macmillan/mcgraw-hill', 'made', 'madison', 'madly', 'mae', 'magazine', 'magazines', 'magicians', 'magleby', 'magna', 'magnetic', 'magnets', 'magnified', 'magnitude', 'mahoney', 'mail', 'mailed', 'mailing', 'main', 'maine', 'mainframe', 'mainland', 'mainly', 'maintain', 'maintained', 'maintaining', 'maintenance', 'major', 'major-league', 'majority', 'makato', 'make', 'maker', 'makers', 'makes', 'making', 'malaysia', 'malcolm', 'male', 'male-dominated', 'male-only', 'males', 'malignant', 'malizia', 'malnutrition', 'malta', 'mammoth', 'man', 'manage', 'managed', 'management', 'managements', 'manager', 'managers', 'manages', 'managing', 'manchester', 'mandates', 'manfred', 'manhattan', 'mania', 'manila', 'manipulate', 'manipulators', 'manmade-fiber', 'manner', 'mannix', 'manpower', 'manually', 'manufacture', 'manufactured', 'manufacturer', 'manufacturers', 'manufacturing', 'many', 'map', 'mara', 'marathon', 'marbles', 'marc', 'march', 'marchand', 'marchese', 'marching', 'marcus', 'marder', 'marge', 'margin', 'marginally', 'margins', 'marie', 'marie-louise', 'marietta', 'marina', 'marine', 'mario', 'marion', 'mariotta', 'mark', 'markdown', 'markdowns', 'market', 'market-based', 'market-makers', 'market-oriented', 'market-share', 'marketed', 'marketer', 'marketers', 'marketing', 'marketing-communications', 'marketplace', 'markets', 'markey', 'markkaa', 'marks', 'markup', 'marriages', 'marrow', 'marshall', 'martin', 'marty', 'martyr', 'marubeni', 'marvelously', 'marvin', 'mary', 'maryland', 'mason', 'mass', 'mass.', 'massachusetts', 'massacre', 'massive', 'master', 'masters', 'match', 'matched', 'matches', 'matching', 'material', 'materialistic', 'materialize', 'materialized', 'materials', 'mathematical', 'mathematics', 'mather', 'mating', 'matter', 'matters', 'matthew', 'matthews', 'mattress', 'mature', 'maturing', 'maturities', 'maturity', 'maughan', 'maximize', 'maximum', 'maxwell', 'may', 'maybe', 'mayer', 'mayland', 'mayor', 'maytag', 'mazda', 'maze', 'mcalpine', 'mcauley', 'mccabe', 'mccormick', 'mcdermott', 'mcdonald', 'mcfall', 'mcfarlan', 'mcgovern', 'mcgraw-hill', 'mcguigan', 'mcleod', 'mcmillin', 'md.', 'me', 'mead', 'meal', 'meals', 'mean', 'meaning', 'meaningful', 'means', 'meant', 'meanwhile', 'measure', 'measured', 'measurement', 'measures', 'meatpacking', 'mechanical', 'mechanically', 'mechanism', 'mechanisms', 'medallions', 'media', 'medical', 'medicine', 'mediocre', 'medium-sized', 'meese', 'meet', 'meeting', 'meetings', 'meets', 'mega-stadium', 'megabytes', 'mehrens', 'mehta', 'meinders', 'melamed', 'mellon', 'melt-textured', 'member', 'members', 'membership', 'memo', 'memories', 'memorize', 'memory', 'memphis', 'men', 'mend', 'menem', 'mental', 'mentally', 'mention', 'mentioned', 'merc', 'mercantile', 'mercedes', 'mercer', 'merchandise', 'merchandising', 'merchant', 'merchants', 'mercury', 'mere', 'merely', 'merge', 'merged', 'merger', 'merger-related', 'mergers', 'meridian', 'merit', 'merits', 'merrick', 'merrill', 'mesnil', 'mesothelioma', 'message', 'messrs.', 'met', 'metal', 'metallgesellschaft', 'metals', 'methods', 'metric', 'metropolitan', 'mexican', 'mexico', 'miami', 'miami-based', 'mich.', 'mich.-based', 'michael', 'michaels', 'michelin', 'michigan', 'michio', 'mickey', 'microcomputers', 'micronite', 'microphone', 'microprocessor', 'microprocessors', 'microwave', 'mid-afternoon', 'mid-number_tokens', 'mid-october', 'mid-size', 'middle', 'middle-ground', 'middlesex', 'midland', 'midnight', 'midrange', 'midsized', 'midtown', 'midvale', 'midwesco', 'midwest', 'midwestern', 'midyear', 'mifflin', 'might', 'mignon', 'migrate', 'miguel', 'mike', 'mikhail', 'miklos', 'milan', 'miles', 'milestone', 'milestones', 'military', 'milk', 'milked', 'mill', 'miller', 'million', 'million-a-year', 'millionaires', 'millions', 'millis', 'milne', 'milwaukee', 'mimics', 'mind', 'mind-boggling', 'mindful', 'mindy', 'mine', 'minera', 'miners', 'mines', 'minicrash', 'minimal', 'minimum', 'minimum-wage', 'mining', 'mininum-wage', 'minister', 'ministers', 'ministry', 'minivans', 'minn.', 'minneapolis', 'minneapolis-based', 'minnesota', 'minor', 'minority', 'minority-owned', 'minted', 'minus', 'minute', 'minutes', 'mired', 'mirror', 'mirrors', 'miscarriages', 'misdemeanor', 'miss.', 'missed', 'missiles', 'mission', 'mississippi', 'missouri', 'mistake', 'mistakenly', 'mistakes', 'mistrials', 'mitchell', 'miti', 'mitigate', 'mitsubishi', 'mitsui', 'mix', 'mixed', 'mo', 'mo.', 'mo.-based', 'mobile', 'mobilizing', 'mobster', 'mode', 'model', 'models', 'modems', 'moderate', 'moderated', 'moderately', 'modern', 'modern-day', 'modernization', 'modest', 'modestly', 'modification', 'modifications', 'modify', 'mogavero', 'moines', 'moleculon', 'mollified', 'moment', 'momentary', 'moments', 'mona', 'monchecourt', 'monday', 'monetary', 'money', 'money-center', 'money-fund', 'money-losing', 'money-market', 'moneymakers', 'monied', 'monitor', 'monopolies', 'monopolize', 'monopoly', 'monster', 'mont', 'montedison', 'montgomery', 'month', 'monthly', 'months', 'monticello', 'mood', 'moody', 'moon', 'moons', 'moore', 'morale', 'morale-damaging', 'morass', 'moratorium', 'morbidity', 'more', 'more-advanced', 'more-efficient', 'moreover', 'morgan', 'morita', 'morning', 'morphogenetic', 'morrell', 'morrison', 'mortgage', 'mortgage-backed', 'mortgage-based', 'mortgaged', 'mortgages', 'mortimer', 'moscow', 'moslem', 'mossman', 'most', 'most-likely-successor', 'mostly', 'mother', 'mothers', 'motion', 'motive', 'motives', 'motor', 'motor-home', 'motors', 'mount', 'mounted', 'mousseline', 'mouth-up', 'move', 'moved', 'movement', 'movements', 'moves', 'movie', 'movies', 'moving', 'mr.', 'mrs', 'mrs.', 'ms.', 'much', 'much-larger', 'mudslinging', 'muffled', 'mulford', 'mulling', 'multi-crystal', 'multibillion-dollar', 'multilevel', 'multinational', 'multinationals', 'multiples', 'multiplying', 'multitude', 'mundane', 'municipal', 'municipalities', 'municipality', 'murakami', 'muramatsu', 'murder', 'murdered', 'murray', 'muscling', 'muscolina', 'museum', 'museums', 'mushy', 'music', 'must', 'muster', 'mutchin', 'muted', 'mutual', 'mutual-fund', 'muzzling', 'my', 'myriad', 'myron', \"n't\", 'n.', 'n.c', 'n.c.', 'n.h.', 'n.j', 'n.j.', 'n.j.-based', 'n.m.', 'n.v', 'n.v.', 'n.y', 'n.y.', 'nagano', 'nagymaros', 'nail', 'najarian', 'name', 'named', 'nameless', 'namely', 'nameplate', 'names', 'namibia', 'namibian', 'naming', 'nancy', 'napa', 'napolitan', 'narcotics', 'narrow', 'narrowed', 'narrowly', 'nasd', 'nasdaq', 'nasty', 'nation', 'national', 'nationale', 'nationalist', 'nations', 'nationwide', 'native', 'natural', 'natural-gas', 'nature', 'navigation', 'navy', 'nbc', 'nbc-owned', 'nbi', 'ncnb', 'ncr', 'neal', 'neanderthals', 'near', 'near-limit', 'near-record', 'nearby', 'nearly', 'nearly-number_token', 'neat', 'nebraska', 'nec', 'necessarily', 'necessary', 'necessities', 'necklace', 'necks', 'nederlanden', 'need', 'needed', 'needham', 'needing', 'needle-like', 'needs', 'needy', 'negative', 'negatives', 'negotiable', 'negotiate', 'negotiated', 'negotiating', 'negotiations', 'negotiator', 'negotiators', 'negus', 'neighborhood', 'neighborhoods', 'neighboring', 'neighbors', 'neil', 'neither', 'nekoosa', 'nelms', 'nelson', 'nemeth', 'neoprene', 'nervous', 'nervousness', 'nesb', 'nesconset', 'nestor', 'net', 'netherlands', 'nets', 'netware', 'network', 'networking', 'networks', 'neuberger', 'neutrons', 'nev.', 'never', 'nevertheless', 'new', 'new-car', 'new-home', 'newcomer', 'newer', 'newest', 'newgate', 'newhouse', 'newly', 'news', 'news-american', 'newspaper', 'newspaper-printing', 'newspapers', 'newsroom', 'newsstand', 'newsstands', 'newsweek', 'newsweekly', 'newsworthy', 'next', 'nicaraguan', 'nice', 'niches', 'nichol', 'nicholas', 'nickel', 'nickname', 'nicole', 'nielsen', 'nigel', 'night', 'nightmare', 'nih', 'nih-appointed', 'nikkei', 'nilson', 'nine', 'nine-member', 'nine-month', 'nine-year', 'ninth', 'nippon', 'nipponese', 'nissan', 'nissho-iwai', 'nixon', 'nl', 'no', 'no-confidence', 'no-smoking', 'no.', 'nobel', 'noble', 'nobody', 'nofzinger', 'nomenklatura', 'nominal', 'nominate', 'nominated', 'nomination', 'nominee', 'nominees', 'nomura', 'non-biodegradable', 'non-callable', 'non-core', 'non-encapsulating', 'non-farm', 'non-religious', 'non-u.s.', 'noncompetitively', 'nondurable', 'none', 'nonetheless', 'nonexecutive', 'nonfat', 'nonfinancial', 'nonprofit', 'nonrecurring', 'nonresidential', 'noodles', 'nor', 'norfolk', 'noriega', 'normal', 'normally', 'norman', 'north', 'northampton', 'northeast', 'northern', 'northy', 'norwalk', 'norwegian', 'norwest', 'norwick', 'nose', 'not', 'notable', 'notably', 'notch', 'notched', 'note', 'noted', 'notes', 'nothing', 'notice', 'noticed', 'noticing', 'notified', 'notify', 'noting', 'notion', 'notwithstanding', 'nov.', 'novel', 'novelist', 'novell', 'novello', 'november', 'now', 'nowhere', 'nrdc', 'ntg', 'nuclear', 'nullified', 'number', 'number_token', 'number_token%-owned', 'number_token,number_token-circulation', 'number_token,number_token-passenger', 'number_token-a-share', 'number_token-cent-an-hour', 'number_token-day', 'number_token-hour', 'number_token-lap', 'number_token-lawyer', 'number_token-megabyte', 'number_token-member', 'number_token-minute', 'number_token-month', 'number_token-month-old', 'number_token-page', 'number_token-point', 'number_token-seat', 'number_token-share', 'number_token-state', 'number_token-stock', 'number_token-store', 'number_token-week', 'number_token-year', 'number_token-year-old', 'number_tokenst', 'number_tokenyear', 'numbered', 'numbers', 'numeral', 'numerous', 'nurtured', 'nutrition', 'nutty', 'nuys', 'nylev', 'nyse', \"o'brien\", \"o'connor\", \"o'loughlin\", \"o'neill\", 'o.', 'oak', 'obedient', 'objectionable', 'objective', 'objectives', 'obligated', 'obligation', 'obligations', 'oblivion', 'observance', 'observations', 'observed', 'observers', 'observing', 'obsessed', 'obsession', 'obstacles', 'obtain', 'obtained', 'obtaining', 'obvious', 'obviously', 'occasionally', 'occidental', 'occupant', 'occupational', 'occupying', 'occur', 'occurred', 'occurrences', 'occurs', 'oct.', 'october', 'octogenarians', 'odd', 'odd-sounding', 'odd-year', 'odds', 'odyssey', 'of', 'off', 'off-off', 'off-track', 'off-year', 'offend', 'offender', 'offenders', 'offending', 'offense', 'offensive', 'offer', 'offered', 'offering', 'offerings', 'offers', 'office', 'officer', 'officers', 'offices', 'official', 'officially', 'officials', 'offset', 'offsetting', 'often', 'ogilvy', 'oh', 'ohio', 'ohio-based', 'oil', 'oilman', 'oils', 'ok', 'oklahoma', 'old', 'old-fashioned', 'old-house', 'old-style', 'old-time', 'older', 'oldest', 'oliver', 'olsen', 'olson', 'olympia', 'olympic', 'omitted', 'omnipresent', 'on', 'on-campus', 'once', 'one', 'one-country', 'one-day', 'one-fifth', 'one-hour', 'one-house', 'one-month', 'one-newspaper', 'one-third', 'one-time', 'one-upsmanship', 'one-week', 'one-year', 'one-yen', 'ones', 'ongoing', 'only', 'onslaught', 'onto', 'onus', 'open', 'open-end', 'open-top', 'opened', 'opening', 'openings', 'openly', 'opens', 'operate', 'operated', 'operates', 'operating', 'operation', 'operational', 'operations', 'operator', 'operators', 'opinion', 'opinions', 'opponents', 'opportunities', 'opportunity', 'oppose', 'opposed', 'opposes', 'opposite', 'opposition', 'optical', 'optimism', 'option', 'options', 'opus', 'or', 'orange', 'orchestra', 'orchestrated', 'ordeal', 'order', 'ordered', 'ordering', 'orders', 'ordinary', 'ordnance', 'ore.', 'organization', 'organizations', 'organized', 'oriented', 'original', 'originally', 'orlando', 'orleans', 'orleans-based', 'ornamental', 'orrick', 'ortega', 'orville', 'osaka', 'osborn', 'osha', 'oshkosh', 'otc', 'otero', 'other', 'others', 'otherwise', 'ought', 'ounce', 'ounces', 'our', 'oust', 'out', 'outbid', 'outcry', 'outdistanced', 'outlawed', 'outlawing', 'outlay', 'outlays', 'outlets', 'outlook', 'outnumbered', 'outpaced', 'output', 'outrage', 'outraged', 'outrageous', 'outranks', 'outright', 'outside', 'outsiders', 'outstanding', 'outstrips', 'ovation', 'over', 'over-the-counter', 'overall', 'overcapacity', 'overcome', 'overcrowding', 'overdone', 'overhead', 'overlap', 'overleveraged', 'overnight', 'overpaying', 'overpriced', 'overproduction', 'override', 'overriding', 'overruns', 'overseas', 'oversee', 'oversight', 'overstated', 'overtime', 'overused', 'overvalued', 'owed', 'own', 'owned', 'owner', 'owners', 'ownership', 'owning', 'owns', 'oxnard', 'oy', 'p.', 'p.m', 'p.m.', 'pa', 'pa.', 'pace', 'pacific', 'pack', 'package', 'packages', 'packaging', 'packed', 'pact', 'page', 'page-one', 'pages', 'paid', 'pain', 'painewebber', 'pains', 'paint', 'painted', 'painting', 'pair', 'pakistan', 'palace', 'palestine', 'palestinian', 'palisades', 'pall', 'palmer', 'paltry', 'pamela', 'pamplin', 'pan', 'panama', 'panel', 'panic', 'pap', 'paper', 'paperback', 'papers', 'papua-new', 'par', 'parallel', 'parallels', 'paramount', 'parched', 'pardus', 'parent', 'parents', 'paribas', 'paris', 'parishes', 'parishioners', 'park', 'parking', 'parkinson', 'parliament', 'parlors', 'part', 'partial', 'partially', 'participant', 'participants', 'participate', 'participated', 'participation', 'particular', 'particularly', 'particulars', 'parties', 'partisan', 'partisans', 'partly', 'partner', 'partners', 'partnership', 'parts', 'parts-engineering', 'party', 'pasadena', 'paso', 'pass', 'passage', 'passages', 'passbook', 'passed', 'passenger', 'passenger-car', 'passers-by', 'passing', 'passion', 'passions', 'passport', 'past', 'pasta', 'pat', 'patch', 'pate', 'patent', 'patented', 'patents', 'path', 'pathlogy', 'patient', 'patients', 'patricia', 'patrick', 'pattenden', 'pattern', 'patterns', 'paul', 'pauline', 'pay', 'payable', 'paycheck', 'paying', 'payment', 'payments', 'payoff', 'payouts', 'payrolls', 'pc', 'pcs', 'peabody', 'peace', 'peaceful', 'peak', 'peaked', 'peaks', 'peal', 'pealing', 'peals', 'peck', 'peculiar', 'peculiarities', 'peddling', 'pediatrician', 'pegged', 'penalties', 'penalty', 'pence', 'penchant', 'pencil', 'pending', 'penetrate', 'penetration', 'peng', 'peninsula', 'pennies', 'pennsylvania', 'pennview', 'penny', 'pension', 'pension-fund', 'pentagon', 'people', 'peoria', 'pep', 'pepperdine', 'pepperidge', 'per', 'per-share', 'perceived', 'perceives', 'percent', 'percentage', 'perception', 'perceptions', 'perch', 'perestroika', 'perfection', 'perfectly', 'perform', 'performance', 'performed', 'performers', 'performing', 'perhaps', 'perignon', 'period', 'periodontal', 'periods', 'peripheral', 'permanent', 'permissible', 'permission', 'permit', 'permits', 'permitted', 'permitting', 'perpetual', 'perpetuate', 'perpetuates', 'perritt', 'persistent', 'persky', 'person', 'personal', 'personally', 'personnel', 'persons', 'perspective', 'persuade', 'persuasion', 'persuasive', 'pet', 'peter', 'peters', 'petersburg', 'petersen', 'petition', 'petroleum', 'petrus', 'pets', 'petulant', 'phacoflex', 'pharaoh', 'pharaohs', 'pharmaceutical', 'pharmaceuticals', 'phase', 'phase-out', 'phasing', 'phelan', 'phi', 'philadelphia', 'philadelphia-based', 'philip', 'philippine', 'philippines', 'phillip', 'phillips', 'philosophy', 'phipps', 'phobias', 'phoenix', 'phone', 'phony', 'photocopy', 'photocopying', 'photograph', 'photographic', 'photographs', 'photography', 'photos', 'phrase', 'physical', 'physicist', 'physics', 'pianist-comedian', 'pick', 'pick-up', 'picked', 'pickens', 'pickers', 'picket', 'picking', 'picks', 'pickups', 'picture', 'pictures', 'pie', 'piece', 'pieces', 'piero', 'pierre', 'pill', 'pillow', 'pills', 'pilots', 'pine', 'pinning', 'pinocchio', 'pins', 'pioneer', 'pipe', 'pipeline', 'piper', 'pipes', 'piracy', 'pirates', 'piscataway', 'pistols', 'pit', 'pitcher', 'pitches', 'pitney', 'pitting', 'pittsburgh', 'place', 'placed', 'placement', 'places', 'placing', 'plagued', 'plainclothes', 'plains', 'plaintiffs', 'plaintive', 'plan', 'plane', 'planes', 'planned', 'planner', 'planners', 'planning', 'plans', 'plant', 'plantation', 'planted', 'planters', 'planting', 'plants', 'plastic', 'plate', 'platforms', 'platinum', 'platitudes', 'platt', 'play', 'played', 'player', 'players', 'playful', 'playgrounds', 'playing', 'plays', 'playwright', 'plaza', 'plc', 'plea', 'pleaded', 'please', 'pleased', 'pledged', 'plenty', 'plight', 'plo', 'plot', 'plugged', 'plummeted', 'plunge', 'plunged', 'plunging', 'plus', 'pocket', 'pockets', 'poignant', 'point', 'pointed', 'pointing', 'points', 'poison', 'poland', 'polarized', 'police', 'policies', 'policy', 'policy-making', 'polish', 'politely', 'political', 'politically', 'politicians', 'politics', 'polled', 'polls', 'polluters', 'pollution', 'polyester', 'polyproplene', 'polystyrene', 'polytechnic', 'pont', 'pool', 'pools', 'poor', 'poore', 'poorly', 'pop', 'popular', 'popularly', 'populated', 'population', 'port', 'porter', 'portfolio', 'portfolios', 'porting', 'portion', 'portions', 'portray', 'portrayal', 'portrayed', 'ports', 'portugal', 'pose', 'posing', 'position', 'positioned', 'positions', 'positive', 'possess', 'possessed', 'possessions', 'possibility', 'possible', 'possibly', 'post', 'post-hearing', 'posted', 'posters', 'posting', 'postponed', 'posts', 'potables', 'potential', 'potentially', 'pound', 'pounds', 'pour', 'poured', 'poverty', 'powder', 'power', 'powerful', 'powerhouse', 'powers', 'powwow', 'practical', 'practice', 'practiced', 'practices', 'practicing', 'practitioners', 'praised', 'pramual', 'prater', 'pratt', 'prayer', 'pre-approved', 'pre-communist', 'pre-cooked', 'pre-emptive', 'pre-existing', 'pre-number_token', 'pre-tax', 'preapproved', 'prebon', 'precedent', 'precedes', 'precious', 'precise', 'precisely', 'preclinical', 'preclude', 'predecessor', 'predicated', 'predict', 'predictable', 'predictably', 'predicted', 'predicting', 'predicts', 'predispose', 'preface', 'prefectural', 'prefecture', 'prefer', 'preference', 'preferences', 'preferred', 'pregnant', 'prejudice', 'preliminary', 'premier', 'premiere', 'premises', 'premium', 'premiums', 'preparation', 'preparatives', 'prepare', 'prepared', 'prepayment', 'prerogative', 'prerogatives', 'prescient', 'prescribe', 'prescription', 'presence', 'present', 'presentation', 'presented', 'preserving', 'preset', 'presidency', 'president', 'presidential', 'presidents', 'press', 'pressed', 'pressing', 'pressman', 'pressure', 'pressured', 'pressures', 'prestige', 'prestigious', 'preston', 'presumably', 'presumes', 'pretax', 'pretext', 'pretoria', 'pretty', 'prevailing', 'prevalance', 'prevent', 'preventative', 'preventing', 'prevents', 'previous', 'previously', 'price', 'price-depressing', 'price-support', 'priced', 'prices', 'priciest', 'pricing', 'pricings', 'pride', 'primarily', 'primary', 'prime', 'primerica', 'princely', 'princeton', 'principal', 'principals', 'principle', 'print', 'printed', 'printers', 'printing-press', 'prints', 'prior', 'prior-year', 'priority', 'prison', 'prisoners', 'privacy', 'private', 'privately', 'privilege', 'privileged', 'prize', 'prize-fighter', 'prizes', 'pro-choice', 'pro-democracy', 'pro-forma', 'pro-iranian', 'probably', 'problem', 'problems', 'procedural', 'procedure', 'procedures', 'proceedings', 'proceeds', 'process', 'processes', 'processing', 'processors', 'procurement', 'produce', 'produced', 'producer', 'producers', 'produces', 'producing', 'product', 'product-design', 'production', 'productions', 'productivity', 'products', 'prof', 'prof.', 'profess', 'profession', 'professional', 'professionals', 'professor', 'professors', 'profit', 'profit-taking', 'profitability', 'profitable', 'profitably', 'profited', 'profits', 'program', 'program-trading', 'programmer', 'programming', 'programs', 'progress', 'progressive', 'prohibited', 'prohibiting', 'prohibits', 'project', 'projections', 'projector', 'projects', 'prolonged', 'prominent', 'prominently', 'promise', 'promised', 'promises', 'promising', 'promissory', 'promote', 'promoting', 'promotion', 'promotional', 'promotions', 'prompted', 'promptly', 'prompts', 'proof', 'propaganda', 'propagandize', 'propagandizes', 'propelling', 'proper', 'properly', 'properties', 'property', 'property/casualty', 'proponent', 'proponents', 'proportion', 'proposal', 'proposals', 'propose', 'proposed', 'proposing', 'proposition', 'proprietor', 'proscribes', 'prosecute', 'prosecuted', 'prosecuting', 'prosecution', 'prosecutor', 'prosecutors', 'prospect', 'prospective', 'prospectively', 'prospects', 'prostitute', 'protect', 'protected', 'protecting', 'protection', 'protections', 'protective', 'protects', 'protein', 'protein-number_token', 'proteins', 'protest', 'protesters', 'protests', 'protocols', 'prototype', 'protracted', 'prove', 'proved', 'proven', 'provide', 'provided', 'providence', 'providers', 'provides', 'providing', 'province', 'proving', 'provision', 'provisions', 'proviso', 'provoke', 'provoked', 'prudential-bache', 'prying', 'ps', 'psychiatric', 'psychiatrist', 'psychiatry', 'psychology', 'pta', 'pty.', 'pub', 'public', 'public-relations', 'publication', 'publications', 'publicity', 'publicized', 'publicly', 'publish', 'published', 'publisher', 'publishers', 'publishes', 'publishing', 'puccio', 'puerto', 'pull', 'pulled', 'pulling', 'pulls', 'pulp', 'pumping', 'punish', 'punishable', 'punishing', 'punishment', 'punitive', 'purchase', 'purchased', 'purchasers', 'purchases', 'purchasing', 'purely', 'purepac', 'purhasing', 'purina', 'purpose', 'purposes', 'purrs', 'purse', 'pursuant', 'pursue', 'pursued', 'push', 'pushed', 'pushes', 'pushing', 'put', 'puts', 'putting', 'putty', 'puzzled', 'pyramids', 'qualified', 'qualify', 'qualities', 'quality', 'quant', 'quantitative', 'quantities', 'quantitive', 'quantity', 'quarter', 'quarterly', 'quarters', 'quashing', 'queen', 'queers', 'question', 'questionable', 'questioned', 'questions', 'queuing', 'quick', 'quickly', 'quiet', 'quietly', 'quipped', 'quips', 'quite', 'quitting', 'quota', 'quotas', 'quotations', 'quote', 'quoted', 'quoting', 'r', 'r.', 'r.d.', 'r.i.', 'r.p.', 'rabia', 'race', 'raced', 'races', 'racing', 'racket', 'radically', 'radio', 'radio-station', 'radioactivity', 'rae', 'rail', 'railcar', 'railcars', 'railing', 'railings', 'railroad', 'rain', 'raise', 'raised', 'raises', 'raising', 'raleigh', 'rally', 'rallying', 'ralston', 'ramirez', 'rampage', 'ramparts', 'ran', 'rancor', 'randolph', 'random', 'rang', 'range', 'ranged', 'ranger', 'ranging', 'ranieri', 'ranked', 'rankin', 'rankings', 'ranks', 'rap', 'rapanelli', 'rape', 'rapid', 'rapidly', 'rapists', 'rapport', 'rapprochement', 'rare', 'rarefied', 'rarely', 'raring', 'rash', 'raspberry', 'ratcheting', 'rate', 'rate-sensitive', 'rated', 'ratepayers', 'rates', 'rather', 'ratified', 'rating', 'ratings', 'rationed', 'ratner', 'ratners', 'raton', 'raul', 'ravenswood', 'raw', 'ray', 'raymond', 'razor-thin', 'rbc', 're-election', 're-thought', 'reach', 'reached', 'reaches', 'reaching', 'reacted', 'reaction', 'read', 'reader', 'readership', 'reading', 'readings', 'ready', 'reaffirmed', 'reagan', 'reagan-bush', 'real', 'real-estate', 'realestate', 'reality', 'realization', 'realize', 'realized', 'reallocate', 'reallocated', 'really', 'reames', 'reap', 'reaped', 'reaping', 'rear', 'rear-seat', 'reason', 'reasonably', 'reasoning', 'reasons', 'reasserts', 'reassuring', 'rebel', 'rebellion', 'rebels', 'rebound', 'rebounding', 'rebuffed', 'rebuild', 'rebuilding', 'rebuked', 'recall', 'recalling', 'recalls', 'recede', 'receipt', 'receipts', 'receive', 'received', 'receivers', 'receives', 'receiving', 'recent', 'recently', 'receptive', 'recess', 'recession', 'recession-inspired', 'recessionary', 'rechargeable', 'recipient', 'reciting', 'reckless', 'reclaim', 'reclaimed', 'recognition', 'recognize', 'recognizing', 'recombinant', 'recommend', 'recommendation', 'recommendations', 'recommended', 'recommending', 'record', 'record-keeping', 'recorded', 'recorder', 'records', 'recouped', 'recover', 'recovered', 'recovering', 'recovery', 'recruit', 'recruited', 'recruiting', 'rectified', 'recyclability', 'recyclable', 'recycled', 'red', 'red-and-white', 'red-blooded', 'red-carpet', 'red-flag', 'reddington', 'redeem', 'redeemed', 'redeeming', 'redemption', 'redeploy', 'redevelopment', 'redistribute', 'redistributing', 'reds', 'reduce', 'reduced', 'reducing', 'reduction', 'reductions', 'reed', 'reeling', 'refer', 'reference', 'referenda', 'referendum', 'referral', 'referrals', 'referred', 'referring', 'refile', 'refinery', 'refitting', 'reflect', 'reflected', 'reflecting', 'reflection', 'reflects', 'refocusing', 'reform', 'reformers', 'reforms', 'refreshing', 'refrigerator', 'refuge', 'refund', 'refunded', 'refunding', 'refunds', 'refusal', 'refuse', 'refused', 'refuses', 'regal', 'regard', 'regarded', 'regarding', 'regardless', 'regenerate', 'regime', 'regimented', 'region', 'regional', 'regions', 'register', 'registered', 'registration', 'regret', 'regrettable', 'regular', 'regulate', 'regulated', 'regulating', 'regulation', 'regulations', 'regulators', 'regulatory', 'reimbursed', 'reins', 'reinstatement', 'reinstating', 'reinvestment', 'reject', 'rejected', 'rekindled', 'related', 'relating', 'relation', 'relations', 'relationship', 'relative', 'relatively', 'relaunched', 'release', 'released', 'releases', 'relegated', 'relentlessly', 'relevance', 'reliance', 'relied', 'relief', 'relies', 'relieve', 'relieved', 'relocate', 'reluctance', 'reluctant', 'remain', 'remainder', 'remained', 'remaining', 'remains', 'remarkable', 'remarked', 'remarks', 'remember', 'reminded', 'remodeling', 'remorse', 'removal', 'remove', 'removed', 'removing', 'renaissance-style', 'rendering', 'renee', 'renew', 'renewal', 'renewed', 'renewing', 'renovated', 'renovation', 'rent-a-car', 'rentals', 'reopen', 'reopened', 'reorganization', 'reorganized', 'rep.', 'repaid', 'repair', 'repaired', 'repay', 'repayment', 'repeals', 'repeatedly', 'replace', 'replaced', 'replacement', 'replacement-car', 'replacing', 'replete', 'replicate', 'replicated', 'replicating', 'replies', 'report', 'reported', 'reportedly', 'reporter', 'reporters', 'reporting', 'reports', 'represent', 'representative', 'representatives', 'represented', 'representing', 'represents', 'repriced', 'reprint', 'reprove', 'reps', 'republican', 'republicans', 'reputation', 'request', 'requested', 'requesting', 'requests', 'require', 'required', 'requirement', 'requirements', 'requires', 'requiring', 'reruns', 'rescheduled', 'research', 'researcher', 'researchers', 'researching', 'resembles', 'resent', 'resentment', 'reservations', 'reserve', 'reserved', 'reserves', 'reservoirs', 'reshaping', 'residence', 'residential', 'resign', 'resignation', 'resigned', 'resigning', 'resilient', 'resist', 'resistance', 'resistant', 'resisting', 'resists', 'resolution', 'resolve', 'resolved', 'resonate', 'resort', 'resources', 'respect', 'respectable', 'respected', 'respite', 'respond', 'responded', 'respondents', 'responding', 'responds', 'response', 'responses', 'responsibilities', 'responsibility', 'responsible', 'responsive', 'rest', 'restaurant', 'restaurants', 'restore', 'restored', 'restraints', 'restricting', 'restriction', 'restrictions', 'restricts', 'restructure', 'restructured', 'restructures', 'restructuring', 'restructurings', 'resubmit', 'result', 'resulted', 'resulting', 'results', 'resume', 'resumes', 'resumption', 'retail', 'retailer', 'retailers', 'retailing', 'retain', 'retained', 'retaining', 'retaliating', 'retaliation', 'retard', 'retardation', 'retentive', 'retin-a', 'retired', 'retirement', 'retires', 'retiring', 'retort', 'retorts', 'retraced', 'retractable', 'return', 'returned', 'returning', 'returns', 'reupke', 'reuter', 'reuters', 'rev.', 'revelations', 'revenue', 'revenue-desperate', 'revenues', 'reversal', 'reversed', 'review', 'reviewed', 'reviewing', 'revised', 'revising', 'revival', 'revive', 'revived', 'revolt', 'revolution', 'revolves', 'reward', 'rewarding', 'rewards', 'rewrite', 'rexinger', 'rey', 'rey/fawcett', 'rhetoric', 'rhone', 'rhythm', 'rhythmically', 'rice', 'rich', 'richard', 'richebourg', 'richer', 'richmond', 'rick', 'ricken', 'rico', 'rider', 'riders', 'ridgefield', 'riding', 'riese', 'rieslings', 'rifles', 'rigged', 'right', 'rights', 'rigid', 'rigors', 'rill', 'rim', 'ring', 'ringer', 'ringers', 'ringing', 'rings', 'ripen', 'rise', 'risen', 'riserva', 'rises', 'rising', 'risk', 'risk-free', 'riskier', 'risks', 'rita', 'ritual', 'rival', 'rivals', 'river', 'riviera', 'riyadh', 'rms', 'road', 'roadblock', 'robbed', 'robbie', 'robert', 'robertson', 'robotic', 'robustly', 'rock', 'rockefeller', 'rocket', 'rockford', 'rockwell', 'roederer', 'roger', 'rogers', 'roland', 'role', 'roll', 'rolled', 'rolling', 'rollover', 'roman', 'romance', 'romanee-conti', 'romanticized', 'ronald', 'roof', 'roof-crush', 'roofs', 'roosevelt', 'root', 'rooted', 'rope', 'rope-sight', 'ropes', 'rose', 'rosenblum', 'ross', 'rothschild', 'rotie', 'rouge', 'rough', 'roughhewn', 'roughly', 'roukema', 'round', 'round-trip', 'rounds', 'rout', 'route', 'routes', 'routine', 'row', 'rowe', 'royal', 'royalty', 'rozell', 'rubber', 'rubicam', 'rubinfien', 'rudolph', 'rule', 'ruled', 'rulers', 'rules', 'ruling', 'rulings', 'rumor', 'rumored', 'rumors', 'run', 'run-down', 'rung', 'runkel', 'running', 'runs', 'rural', 'rushed', 'russel', 'russell', 'russian', 'russo', 'rust', 'rusted', 'rusty', 'ruth', 's&l', 's&p', 's.', 's.a', 's.i.', 's.p', 's.p.a.', 'sabhavasu', 'sable', 'sabotage', 'sachs', 'sacked', 'sacks', 'sacramento', 'sacramento-based', 'sacrifice', 'sacrificing', 'sad', 'safe', 'safe-deposit', 'safeguarding', 'safety', 'sagged', 'sagging', 'said', 'saints', 'saitama', 'sake', 'salable', 'salaries', 'salary', 'salarymen', 'sale', 'sales', 'salinas', 'salmore', 'salomon', 'salon', 'salt', 'salty', 'salvador', 'same', 'samnick', 'samples', 'samuel', 'san', 'sanctions', 'sandberg', 'sanderoff', 'sandifer', 'sandinista', 'sandoz', 'sandra', 'sanford', 'sangyo', 'sank', 'santa', 'sasaki', 'sassy', 'sat', 'satisfaction', 'satisfactorily', 'satisfactory', 'satisfying', 'satrum', 'saturday', 'sauce', 'saudi', 'saul', 'sauternes', 'sauvignon', 'save', 'saved', 'savers/investors', 'savin', 'saving', 'savings', 'savings-and-loan', 'savvier', 'saw', 'say', 'sayers', 'saying', 'says', 'scale', 'scammers', 'scams', 'scandal', 'scandals', 'scandinavian', 'scannell', 'scans', 'scant', 'scarce', 'scarcely', 'scared', 'scaring', 'scattered', 'scenario', 'scenes', 'scenic', 'schaefer', 'schedule', 'scheduled', 'scheme', 'schemes', 'scherer', 'schlemmer', 'schmidt', 'scholar', 'scholarly', 'scholars', 'scholastic', 'school', 'school-board', 'school-district', 'school-improvement', 'school-research', 'school-sponsored', 'schoolboys', 'schoolchildren', 'schools', 'schoolteacher', 'schroder', 'schwab', 'schweiz', 'sci', 'science', 'scientific', 'scientist', 'scientists', 'scoffs', 'scoop', 'score', 'scores', 'scoring', 'scotia', 'scotland', 'scott', 'scowcroft', 'scrambled', 'scrambling', 'scrape', 'scrapped', 'scream', 'screen', 'screened', 'screens', 'screenwriters', 'screwed', 'scripps', 'scripts', 'scrounge', 'scrupulously', 'scrutinizing', 'scrutiny', 'scuttle', 'scypher', 'sdi', 'sea', 'seafood', 'seagate', 'seahorse', 'search', 'search-and-seizure', 'searched', 'searching', 'season', 'seasonal', 'seasonally', 'seasoned', 'seat', 'seats', 'seattle', 'seattle-based', 'sebastian', 'sec', 'secede', 'secilia', 'second', 'second-largest', 'secondary', 'seconds', 'secret', 'secretary', 'section', 'sections', 'sector', 'sectors', 'secured', 'securities', 'securities-based', 'security', 'security-type', 'seduce', 'see', 'seed', 'seeing', 'seek', 'seeking', 'seeks', 'seem', 'seemed', 'seems', 'seen', 'sees', 'segment', 'segmenting', 'segments', 'seize', 'seized', 'select', 'selected', 'self', 'self-aggrandizing', 'self-esteem', 'self-perpetuating', 'self-regulatory', 'self-serving', 'sell', 'sell-off', 'sell-offs', 'seller', 'sellers', 'selling', 'sells', 'semesters', 'semiannual', 'semicircular', 'semiconductor', 'semiconductors', 'semiliterate', 'seminar', 'sen.', 'senate', 'senate-house', 'send', 'sending', 'sends', 'senior', 'seniors', 'sensation', 'sensational', 'sense', 'senses', 'sensitive', 'sensitivity', 'sent', 'sentence', 'sentencing', 'sentiment', 'sentimental', 'seoul', 'separate', 'separately', 'separation', 'sept.', 'sept.number_token', 'september', 'serial', 'series', 'serious', 'seriously', 'serve', 'served', 'serves', 'service', 'serviced', 'services', 'servicing', 'serving', 'session', 'set', 'setback', 'sets', 'setting', 'settle', 'settled', 'settlement', 'settlements', 'seven', 'seven-day', 'seven-million-ton', 'seven-year', 'seven-yen', 'seventh', 'severable', 'several', 'several-year', 'severance', 'severe', 'sew', 'sewer', 'sewing-machine', 'sex', 'sexy', 'seymour', 'shaded', 'shadows', 'shake', 'shaken', 'shaky', 'shall', 'shallow', 'shambles', 'shame', 'shangkun', 'shape', 'shaping', 'shapiro', 'share', 'shared', 'sharedata', 'shareholder', 'shareholder-rights', 'shareholders', 'shares', 'sharp', 'sharper', 'sharply', 'shaw', 'she', 'sheaf', 'shearson', 'shed', 'shedding', 'sheep', 'sheepskin', 'sheet', 'sheets', 'sheffield', 'shelby', 'shelf', 'shell', 'shelter', 'shepperd', 'sherwin', 'sherwood', 'shift', 'ship', 'shipboard', 'shipbuilding', 'shipments', 'shipped', 'shipping', 'ships', 'shipyard', 'shipyards', 'shirt-sleeved', 'shirts', 'shivers', 'shokubai', 'shoot', 'shop', 'shopped', 'shopping', 'shops', 'shore', 'shores', 'shoring', 'short', 'short-lived', 'short-term', 'short-wave', 'shortage', 'shortages', 'shorter', 'shortly', 'shot', 'should', 'shoulder', 'shovels', 'show', 'showa', 'showed', 'showing', 'showings', 'shown', 'shows', 'shrank', 'shrinking', 'shrinks', 'shrug', 'shrum', 'shudders', 'shugart', 'shut', 'shuttle', 'shuxian', 'si', 'sickness', 'sidak', 'side', 'side-crash', 'sidelines', 'sides', 'sidestep', 'sidewalk', 'siegal', 'sierra', 'sigh', 'sight', 'sights', 'sigler', 'sigmund', 'sign', 'signal', 'signaling', 'signals', 'signature', 'signboards', 'signed', 'signet', 'significance', 'significant', 'significantly', 'signifying', 'signing', 'signore', 'signs', 'silent', 'silicon', 'silicone', 'silver', 'silverman', 'simeon', 'similar', 'similarity', 'similarly', 'simmons', 'simon', 'simple', 'simply', 'simulates', 'simultaneous', 'simultaneously', 'since', 'singapore', 'single', 'single-a', 'single-digit', 'single-family', 'single-handed', 'single-handedly', 'single-lot', 'singled', 'sinister', 'sink', 'sino-u.s.', 'sir', 'sit', 'sites', 'siti', 'sitting', 'situation', 'situations', 'six', 'six-bottle', 'six-inch', 'six-month', 'six-packs', 'sixth', 'sizable', 'size', 'skeptical', 'skepticism', 'sketch', 'sketching', 'skidded', 'skill', 'skilled', 'skills', 'skin', 'skinner', 'skip', 'skipped', 'skirmishes', 'skittishness', 'skokie', 'sky', 'skyrocketed', 'skyward', 'slab', 'slack', 'slash', 'slashing', 'slate', 'slated', 'slaying', 'sleep', 'sleeping', 'slew', 'slid', 'slide', 'slides', 'sliding', 'slightly', 'slip', 'slippage', 'slipped', 'slippery', 'sloan', 'slogan', 'slope', 'slow', 'slowdown', 'slowdowns', 'slowed', 'slower', 'slowing', 'slowly', 'sluggish', 'sluggishness', 'slump', 'smaby', 'small', 'small-company', 'small-time', 'smaller', 'smallest', 'smartly', 'smattering', 'smelting', 'smiles', 'smith', 'smoke', 'smokers', 'smoking', 'smooth', 'smoothly', 'smothering', 'snaking', 'snapped', 'sneaked', 'snow', 'so', 'so-called', 'soared', 'soaring', 'social', 'social-studies', 'socialism', 'socialist', 'society', 'sociology', 'soft', 'softening', 'softer', 'software', 'sogo-shosha', 'soho', 'sol', 'solaia', 'sold', 'soldado', 'soldiers', 'sole', 'solely', 'solemn', 'solicitation', 'soliciting', 'solicitor', 'solicitous', 'solid', 'solidarity', 'solihull', 'solomonic', 'solution', 'solutions', 'solved', 'solvent', 'some', 'somebody', 'somehow', 'someone', 'somerset', 'something', 'sometimes', 'sometimes-exhausting', 'sometimes-tawdry', 'somewhat', 'son', 'sonnett', 'sonny', 'sony', 'soon', 'sooner', 'sophisticated', 'sorry', 'sort', 'sorting', 'sorts', 'sotheby', 'sought', 'soul', 'sound', 'sounded', 'sounding', 'sounds', 'soup', 'souper', 'soups', 'source', 'sources', 'soured', 'south', 'southeast', 'southern', 'soviet', 'soviets', 'soybeans', 'space', 'spaces', 'spackle', 'spaghetti', 'spain', 'spanish', 'sparing', 'spark', 'sparked', 'sparking', 'sparkplugs', 'speak', 'speaking', 'speaks', 'special', 'specialist', 'specialists', 'specialize', 'specialized', 'specializes', 'specializing', 'specialty', 'species', 'specific', 'specifics', 'specified', 'specify', 'spectacular', 'spectacularly', 'spectrum', 'speculate', 'speculated', 'speculating', 'speculation', 'speculative', 'speculator', 'speculators', 'speech', 'speeches', 'speed', 'speedway', 'spence', 'spend', 'spenders', 'spending', 'spends', 'spent', 'sphere', 'spiders', 'spiegel', 'spielvogel', 'spillane', 'spilling', 'spin-off', 'spinoff', 'spirit', 'spirits', 'spiro', 'spite', 'spitler', 'split', 'spoke', 'spokesman', 'spokeswoman', 'spokewoman', 'sponsor', 'sponsors', 'spook', 'spooked', 'spoon', 'sport-utility', 'sports', 'sports-oriented', 'spot', 'spotted', 'spouse', 'sprawling', 'spread', 'spreads', 'sprightly', 'spring', 'springfield', 'springs', 'sprint', 'spun', 'spur', 'spurned', 'spurns', 'spurred', 'spurring', 'sputtered', 'squad', 'square', 'squeeze', 'squeezed', 'squier', 'sr.', 'st.', 'stabbed', 'stability', 'stable', 'stacked', 'stacking', 'stadium', 'stadiums', 'staff', 'staff-reduction', 'staffs', 'stag', 'stage', 'stages', 'staggering', 'staid', 'stairs', 'stake', 'stakes', 'stalemate', 'stalls', 'stamford', 'stance', 'stand', 'standard', 'standardized', 'standards', 'standing', 'standpoint', 'stands', 'stanford', 'stanley', 'star', 'stare', 'stark', 'stars', 'start', 'start-up', 'started', 'starters', 'starting', 'startling', 'starts', 'state', 'state-appointed', 'state-owned', 'state-supervised', 'stated', 'statement', 'states', 'statewide', 'station', 'stations', 'statistics', 'statue', 'stature', 'status', 'statute', 'statutory', 'staunchly', 'stay', 'stayed', 'staying', 'stays', 'steadily', 'steady', 'steal', 'stearn', 'steel', 'steelmaker', 'steelmakers', 'steelworkers', 'steep', 'steeper', 'steinberg', 'stellar', 'stem', 'stemmed', 'stemming', 'stena', 'step', 'stephanie', 'stephen', 'stephens', 'stepped', 'stepping', 'steps', 'stereo', 'stereotyped', 'sterling', 'stern', 'sternberg', 'steve', 'steven', 'stevens', 'stevenson', 'stewart', 'stick', 'sticker', 'sticker-shock', 'sticking', 'sticky', 'stieglitz', 'stiff', 'stiffer', 'stifle', 'stigma', 'still', 'stimulated', 'stimulating', 'stirlen', 'stirred', 'stirrings', 'stock', 'stock-index', 'stock-manipulation', 'stock-market', 'stock-picking', 'stock-price', 'stock-selection', 'stock-specialist', 'stockbroker', 'stockbrokers', 'stockholders', 'stockholm', 'stockpiles', 'stocks', 'stoked', 'stoll', 'stone', 'stones', 'stood', 'stop', 'stoppage', 'stopped', 'storage', 'store', 'stored', 'stores', 'stories', 'stork', 'storm', 'story', 'straight', 'strain', 'strains', 'strait', 'strapped', 'strategic', 'strategies', 'strategy', 'stream', 'street', 'streets', 'strength', 'strengthened', 'stress', 'stressed', 'stresses', 'stressing', 'stretch', 'stretched', 'stretching', 'strict', 'strictly', 'strike', 'striking', 'strindberg', 'string', 'stringently', 'strings', 'strip', 'stripped', 'striving', 'stronach', 'strong', 'strong-willed', 'stronger', 'strongest', 'strongly', 'strother', 'structural', 'structurally', 'structure', 'structured', 'structures', 'struggle', 'struggled', 'struggling', 'stuart', 'stuck', 'student', 'student-test', 'students', 'studied', 'studies', 'studio', 'studiously', 'study', 'studying', 'stuff', 'stung', 'stunned', 'stupid', 'style', 'styles', 'sub-markets', 'sub-segments', 'subcommittee', 'subcontractor', 'subcontractors', 'subdued', 'subindustry', 'subject', 'subjecting', 'subjects', 'subminimum', 'submit', 'subordinate', 'subordinated', 'subpoenaed', 'subscribe', 'subscriber', 'subscribers', 'subscription', 'subscriptions', 'subsequent', 'subsidiaries', 'subsidiary', 'subsidize', 'subskill', 'subskills', 'substance', 'substance-abusing', 'substantial', 'substantially', 'substitute', 'subtraction', 'suburban', 'succeed', 'succeeded', 'succeeding', 'succeeds', 'success', 'successful', 'successfully', 'succession', 'successor', 'such', 'sudden', 'suddenly', 'sue', 'sued', 'suffer', 'suffered', 'suffering', 'sufficiency', 'sufficient', 'sufficiently', 'sugar', 'sugarman', 'suggest', 'suggested', 'suggests', 'suing', 'suisse', 'suit', 'suitors', 'sulaiman', 'sulfur-dioxide', 'sullivan', 'sum', 'sumitomo', 'summary', 'summer', 'summer/winter', 'summoned', 'summons', 'sums', 'sun', 'sunday', 'sundays', 'sunlight', 'sunny', 'super-absorbent', 'supercilious', 'supercomputer', 'supercomputers', 'superconductor', 'superconductors', 'superdome', 'superdot', 'superimposed', 'superintendent', 'superior', 'superiors', 'supermarket', 'superpremiums', 'supplemental', 'supplier', 'suppliers', 'supplies', 'supply', 'support', 'supported', 'supporters', 'supportive', 'supports', 'supposedly', 'suppression', 'supreme', 'sure', 'surely', 'surfaced', 'surge', 'surged', 'surgeon', 'surgery', 'surplus', 'surpluses', 'surprise', 'surprised', 'surprising', 'surprisingly', 'surrender', 'surrendered', 'surreptitiously', 'surrey', 'surrounding', 'survey', 'surveyed', 'survival', 'survive', 'surviving', 'survivor', 'susan', 'suspect', 'suspects', 'suspend', 'suspended', 'suspension', 'suspensions', 'sustained', 'sutcliffe', 'svenska', 'swallow', 'swap', 'swapped', 'swapping', 'swaps', 'swearingen', 'sweat', 'sweater', 'sweaters', 'sweatshirts', 'sweaty', 'sweden', 'sweeping', 'sweepstakes', 'sweet', 'sweeten', 'sweetened', 'swelling', 'swift', 'swiftly', 'swim', 'swing', 'swings', 'swiss', 'switch', 'switched', 'switching', 'switzerland', 'sydney', 'symbol', 'symbolic', 'symmetry', 'sympathetic', 'sympathy', 'symphony', 'symptoms', 'synchronized', 'syndicate', 'syndication', 'syndrome', 'synergistics', 'synthetic', 'syracuse', 'system', 'systematic', 'systems', 't-shirts', 't.', 'table', 'tablets', 'tabloid', 'taccetta', 'tache', 'tackle', 'tactics', 'tad', 'tag', 'tags', 'tailor-made', 'tailored', 'tailoring', 'tailors', 'taipei', 'taittinger', 'taiwan', 'taizo', 'takashima', 'take', 'taken', 'takeover', 'takeover-stock', 'takes', 'takeshi', 'taking', 'takings', 'takuma', 'talcott', 'talk', 'talk-show', 'talked', 'talking', 'talks', 'tall', 'tallies', 'tally', 'tandy', 'tanked', 'taper', 'tapes', 'tapping', 'target', 'targeted', 'targeting', 'targets', 'tariff', 'tarwhine', 'task', 'tassinari', 'taste', 'tasty', 'tatsunori', 'taught', 'taurus', 'tax', 'taxable', 'taxation', 'taxes', 'taxpayer', 'taxpayers', 'taylor', 'tea', 'teach', 'teacher', 'teacher-cadet', 'teachers', 'teaches', 'teaching', 'team', 'teams', 'technical', 'technically', 'technique', 'techniques', 'technologies', 'technology', 'teddy', 'teenage', 'teetering', 'teikoku', 'telecommunications', 'telegraph', 'telephone', 'telephone-information', 'telephones', 'telerate', 'television', 'tell', 'telling', 'tells', 'temperature', 'temple', 'temporarily', 'temporary', 'temptation', 'tempted', 'tempts', 'ten', 'tend', 'tender', 'tendered', 'tendering', 'tenfold', 'tenn.', 'tens', 'tense', 'tension', 'tentatively', 'tenth', 'tenure', 'term', 'termed', 'terminated', 'terms', 'terrace', 'terrence', 'terrine', 'territory', 'terrorists', 'test', 'test-coaching', 'test-drive', 'test-practice', 'test-prep', 'test-preparation', 'tested', 'testify', 'testing', 'tests', 'tete-a-tete', 'texaco', 'texan', 'texas', 'texas-based', 'text', 'textile', 'texts', 'texture', 'thai', 'thailand', 'than', 'thanks', 'that', 'the', 'theaters', 'their', 'them', 'theme', 'themselves', 'then', 'then-speaker', 'theodore', 'theological', 'theory', 'therapies', 'therapy', 'there', 'therefore', 'these', 'they', 'thieves', 'thin', 'thin-lipped', 'thing', 'things', 'think', 'thinking', 'thinks', 'third', 'third-highest', 'third-largest', 'third-quarter', 'thirtysomething', 'this', 'thomas', 'those', 'though', 'thought', 'thousand', 'thousands', 'thrall', 'thread', 'threat', 'threatened', 'threatens', 'threats', 'three', 'three-digit', 'three-lawyer', 'three-month', 'three-quarters', 'three-sevenths', 'three-year', 'thrift', 'thrifts', 'through', 'throughout', 'throws', 'thugs', 'thumbing', 'thumbs', 'thunder', 'thunderbird', 'thursday', 'thus', 'thwart', 'ticket', 'tickets', 'tidbits', 'tidily', 'tie-breaking', 'tie-in', 'tied', 'ties', 'tiger', 'tigers', 'tight', 'tightened', 'tightening', 'till', 'tilt', 'time', 'timely', 'times', 'times-stock', 'timex', 'timing', 'tinker', 'tiny', 'tip', 'tiphook', 'tire', 'tire-kickers', 'tired', 'tires', 'tissue', 'tissue-transplant', 'tissues', 'titans', 'title', 'to', 'toast', 'tobacco', 'today', 'together', 'toilet', 'tokio', 'tokyo', 'tokyu', 'told', 'toledo', 'tolerate', 'toll', 'tom', 'tomorrow', 'ton', 'tone', 'tons', 'tony', 'too', 'took', 'tool', 'tools', 'tooth', 'top', 'top-level', 'top-selling', 'top-yielding', 'topics', 'topix', 'topped', 'tormentors', 'torn', 'toronto', 'toronto-based', 'torrent', 'torrington', 'tort', 'total', 'totaled', 'totaling', 'totally', 'tote', 'tots', 'touch', 'touched', 'touches', 'touchy', 'tough', 'tour', 'tourism', 'tours', 'touted', 'tow', 'toward', 'tower', 'town', 'townes', 'towns', 'tows', 'toy', 'toys', 'trace', 'traced', 'track', 'tracked', 'tracking', 'tracks', 'trade', 'traded', 'trademark', 'trader', 'traders', 'trades', 'trading', 'trading-company', 'tradition', 'traditional', 'traditionalists', 'traditionally', 'traffic', 'trafficking', 'traficant', 'trail', 'trailed', 'trailer', 'train', 'trained', 'training', 'training-wage', 'trains', 'traitor', 'tramp', 'trans', 'transacting', 'transaction', 'transactions', 'transamerica', 'transcribe', 'transfer', 'transferring', 'transfers', 'transformed', 'transforming', 'transition', 'transplant', 'transplantation', 'transplants', 'transportation', 'transporting', 'trap', 'trash', 'travel', 'travel-related', 'traveled', 'travelers', 'traveling', 'traverse', 'tray', 'trays', 'treasury', 'treat', 'treated', 'treating', 'treatment', 'treats', 'treble', 'tree', 'trees', 'tremendous', 'trend', 'trends', 'trespass', 'trettien', 'trial', 'trials', 'tribe', 'tribune', 'tricky', 'tried', 'trigger', 'triggered', 'trillion', 'trim', 'trimmed', 'trimming', 'trinity', 'trip', 'triple', 'triple-a', 'triple-a-rated', 'triple-c', 'tripled', 'triton', 'trivial', 'trockenbeerenauslesen', 'trojan', 'troop', 'troops', 'trotter', 'trouble', 'troubled', 'troubles', 'troublesome', 'trs-number_token', 'truce', 'truck', 'trucks', 'trudeau', 'true', 'trump', 'trust', 'trustco', 'truth', 'truth-in-lending', 'truthful', 'try', 'trying', 'tube', 'tubes', 'tubular', 'tuck', 'tuesday', 'tulane', 'tumbled', 'tumultuous', 'tune', 'tunes', 'turf', 'turkey', 'turmoil', 'turn', 'turnaround', 'turned', 'turning', 'turnover', 'turns', 'tuscany', 'tutorials', 'tv', 'twice', 'twin', 'twin-jet', 'twindam', 'twinned', 'twist', 'twisting', 'two', 'two-letter', 'two-sevenths', 'two-thirds', 'two-tiered', 'two-time-losers', 'two-week', 'two-year', 'two-year-old', 'txo', 'type', 'types', 'typical', 'typically', 'tyre', 'u.k.', 'u.n.-supervised', 'u.s.', 'u.s.-backed', 'u.s.-japan', 'u.s.-japanese', 'u.s.a', 'u.s.a.', 'u.s.s.r.', 'ual', 'ubs', 'ugly', 'ultimate', 'ultimately', 'ultimatum', 'unabated', 'unable', 'unaffiliated', 'unanimous', 'unanticipated', 'unattractive', 'unauthorized', 'unavailability', 'unaware', 'unbearably', 'uncanny', 'uncertainties', 'uncertainty', 'unchanged', 'uncharted', 'unclear', 'uncomfortable', 'uncompensated', 'uncomplaining', 'unconsolidated', 'unconstitutional', 'undelivered', 'under', 'undercut', 'undercutting', 'undergoing', 'underline', 'underlying', 'underperforming', 'underpin', 'underprivileged', 'underscore', 'undersecretary', 'understand', 'understanding', 'understands', 'understatement', 'understood', 'undertaking', 'undertone', 'underwent', 'underwood', 'underwoods', 'underwriter', 'underwriters', 'undesirable', 'undiplomatic', 'undisclosed', 'undo', 'unemployment', 'unenthusiastic', 'unenticing', 'unethical', 'unexpected', 'unfair', 'unfair-trade', 'unfairly', 'unfathomable', 'unfettered', 'unfilled', 'unfocused', 'unfortunately', 'unfounded', 'unfunded', 'unhappy', 'unheard', 'unico', 'unicorp', 'unimpeded', 'unintelligible', 'union', 'unions', 'unique', 'unit', 'unitary', 'united', 'unitholders', 'units', 'universally', 'universities', 'university', 'univest', 'unjust', 'unjustified', 'unknown', 'unlabeled', 'unleashed', 'unless', 'unlike', 'unlikely', 'unload', 'unloaded', 'unmarked', 'unneeded', 'unofficial', 'unpleasant', 'unpopularity', 'unproductive', 'unproven', 'unpublished', 'unraveling', 'unrealistically', 'unrealized', 'unreasonable', 'unrecognizable', 'unresolved', 'unrestricted', 'unsecured', 'unsettled', 'unsettling', 'unsolicited', 'unspecified', 'unstinting', 'unsuccessful', 'unsuccessfully', 'unsympathetic', 'until', 'untrained', 'untrue', 'unusual', 'unusually', 'unveil', 'unveiled', 'unwanted', 'unwary', 'unwashed', 'unwilling', 'unwind', 'unworkable', 'up', 'upbeat', 'upham', 'upheld', 'upjohn', 'upon', 'upper', 'upscale', 'upset', 'upsetting', 'upside', 'upstate', 'upstream', 'uptick', 'upturn', 'upward', 'urban', 'urge', 'urged', 'urging', 'us', 'us$', 'usa', 'use', 'used', 'useful', 'users', 'uses', 'ushered', 'ushering', 'ushers', 'usia', 'using', 'usual', 'usually', 'usurp', 'usx', 'utah', 'utilities', 'utility', 'utsumi', 'uttering', 'utterly', 'uzi-model', 'v.', 'va.', 'vacancies', 'vacancy', 'vacant', 'vacation', 'vacations', 'vaccines', 'vagabond', 'vagrant', 'vague', 'valhi', 'valley', 'valrico', 'valuable', 'valuation', 'valuations', 'value', 'valued', 'values', 'van', 'vanderbilt', 'vans', 'vansant', 'vargas', 'variables', 'variation', 'varied', 'variety', 'various', 'vary', 'varying', 'vast', 'veal', 'vega', 'vegas', 'vehicle', 'vehicles', 'velcro', 'vendors', 'venerable', 'ventilated', 'venture', 'ventures', 'veraldi', 'verbatim', 'verge', 'vermont', 'version', 'versions', 'versus', 'vertically', 'very', 'veselich', 'vested', 'veteran', 'veto', 'vetoes', 'via', 'viacom', 'vicar', 'vicars', 'vice', 'vichy', 'vicious', 'vicissitudes', 'victim', 'victims', 'victor', 'victory', 'video', 'video-viewing', 'videocassette', 'view', 'viewed', 'viewers', 'viewership', 'viewing', 'viewpoint', 'viewpoints', 'views', 'village', 'vindication', 'vineyard', 'vinken', 'vintage', 'vintages', 'vinyl', 'violate', 'violated', 'violating', 'violation', 'violations', 'violence', 'virgin', 'virginia', 'virginians', 'virtually', 'virtue', 'virtues', 'visa', 'visible', 'vision', 'visit', 'visited', 'visiting', 'visitors', 'visits', 'vital', 'vitally', 'vitriolic', 'vitulli', 'voa', 'voice', 'voices', 'void', 'volatile', 'volatility', 'volume', 'voluntarily', 'voluntary', 'volunteer', 'vortex', 'vos', 'vose', 'vote', 'voted', 'voters', 'votes', 'voting', 'vow', 'vowed', 'vs.', 'w.', 'w.d.', 'w.n.', 'w.r.', 'wa', 'wadsworth', 'waertsilae', 'wafa', 'wafers', 'wage', 'wages', 'waif', 'wait', 'waited', 'waiting', 'waive', 'waived', 'waiver', 'waivers', 'waiving', 'wakayama', 'wake', 'wakui', 'walbrecher', 'walk', 'walker', 'walking', 'walkman', 'walkout', 'wall', 'wallach', 'wallowing', 'walls', 'walt', 'walters', 'wamre', 'want', 'wanted', 'wanting', 'wants', 'war', 'war-damaged', 'war-rationed', 'ward', 'warehouse', 'warehouses', 'warehousing', 'warming', 'warn', 'warned', 'warner', 'warning', 'warnings', 'warns', 'warrant', 'warranties', 'warrants', 'warren', 'warrenton', 'warsaw', 'wary', 'was', 'wash.', 'washington', 'washington-based', 'waste', 'wasted', 'watanabe', 'watch', 'watchdogs', 'watched', 'watchers', 'watches', 'watching', 'water', 'water-authority', 'waterloo', 'waters', 'waterworks', 'watson', 'wave', 'way', 'wayland', 'waymar', 'wayne', 'ways', 'we', 'we-japanese', 'weak', 'weaken', 'weakening', 'weaker', 'weakness', 'wealth', 'wealthy', 'weapon', 'weapons-modernization', 'wear', 'wears', 'weather', 'weatherly', 'web', 'webb', 'wedded', 'weddings', 'wednesday', 'wedtech', 'week', 'weekends', 'weeklies', 'weekly', 'weeks', 'weigh', 'weighed', 'weighing', 'weight', 'weil', 'weird', 'weisfield', 'welcome', 'welcomed', 'welfare', 'well', 'well-connected', 'well-known', 'wellcome', 'wellington', 'wells', 'went', 'were', 'wertheim', 'west', 'westborough', 'western', 'westminster', 'westport', 'wfrr', 'whas', 'what', 'wheat', 'wheel-loader', 'wheeland', 'wheels', 'whelen', 'when', 'when-issued', 'whenever', 'where', 'whereas', 'whereby', 'wherewithal', 'whether', 'which', 'whichever', 'while', 'whimsical', 'whip', 'whipping', 'whipsaw', 'whirling', 'whistle', 'white', 'white-collar', 'whiting', 'who', 'whole', 'wholesale', 'wholesaler', 'whom', 'whose', 'why', 'wick', 'wickliffe', 'wide', 'widely', 'widespread', 'widget', 'widgets', 'widow', 'wield', 'wife', 'wilbur', 'wilcox', 'wild', 'wilder', 'wildly', 'wilfred', 'will', 'william', 'williams', 'willing', 'willingness', 'wilmington', 'wilson', 'wilton', 'win', 'windfall', 'winding', 'window', 'wine', 'wine-buying', 'wine-making', 'wines', 'wings', 'winiarski', 'winner', 'winners', 'winning', 'wins', 'winter', 'wires', 'wis.', 'wisdom', 'wish', 'witches', 'with', 'withdraw', 'withdrawal', 'withdrawn', 'withdrew', 'withhold', 'within', 'without', 'withstand', 'witness', 'witnesses', 'wives', 'wizards', 'wo', 'wohlstetter', 'wolf', 'woman', 'women', 'won', 'wonder', 'wong', 'wood', 'woodcliff', 'woodrow', 'woodward', 'wooing', 'woolworth', 'word', 'word-processing', 'words', 'work', 'workable', 'workbooks', 'worked', 'worker', 'workers', 'workforce', 'working', 'workplace', 'works', 'worksheets', 'world', 'world-wide', 'worms', 'worried', 'worries', 'worry', 'worrying', 'worse', 'worsen', 'worsening', 'worship', 'worst', 'worst-case', 'worth', 'worthiness', 'worthy', 'would', 'would-be', 'wound', 'wozniak', 'wpp', 'wrath', 'wrecking', 'wrenching', 'wrestling', 'wright', 'wrists', 'write', 'write-downs', 'write-off', 'writer', 'writers', 'writing', 'written', 'wrong', 'wrongdoing', 'wrote', 'wtd', 'wtvj', 'wu', 'x', 'xerox', 'xiaoping', 'yale', 'yamaichi', 'yamamoto', 'yang', 'yasser', 'yasuda', 'year', 'year-ago', 'year-earlier', 'year-end', 'year-long', 'year-to-year', 'yeargin', 'yearly', 'years', 'yellow', 'yen', 'yen-denominated', 'yen-support', 'yes', 'yesterday', 'yet', 'yet-to-be-formed', 'yield', 'yielded', 'yielding', 'yields', 'ymca', 'yon', 'york', 'york-based', 'yorker', 'yorkers', 'yoshihashi', 'you', 'young', 'younger', 'youngsters', 'younkers', 'your', 'yourself', 'youth', 'youthful', 'youths', 'yquem', 'yttrium-containing', 'ywca', 'z.', 'zaharah', 'zayed', 'zealand', 'zenith', 'zero', 'zicklin', 'zinc', 'zip', 'zone', 'zoomed', 'zuckerman', 'zurich']\n"
          ]
        }
      ]
    },
    {
      "cell_type": "markdown",
      "metadata": {
        "id": "2Y2O0g6fr-wL"
      },
      "source": [
        "# Data Conversion"
      ]
    },
    {
      "cell_type": "markdown",
      "metadata": {
        "id": "QflxuJfmonKb"
      },
      "source": [
        "### One-Hot Encoders Wrapper definition"
      ]
    },
    {
      "cell_type": "code",
      "metadata": {
        "id": "VZL6BOC1bGsU"
      },
      "source": [
        "class OneHotEncoderWrapper(object):\n",
        "\n",
        "  def __init__(self):\n",
        "    self.label_encoder = LabelEncoder()\n",
        "\n",
        "  def get_one_hot_encoding(self, list_pos):\n",
        "    # create a dictionary containing pos and its one hot encoding\n",
        "    ris = {}\n",
        "    integer_encoded = self.label_encoder.fit_transform(list_pos)\n",
        "    # binary encode\n",
        "    onehot_encoder = OneHotEncoder(sparse=False)\n",
        "    integer_encoded = integer_encoded.reshape(len(integer_encoded), 1)\n",
        "    onehot_encoded = onehot_encoder.fit_transform(integer_encoded)\n",
        "    for i in range(len(list_pos)):\n",
        "      ris[list_pos[i]] = onehot_encoded[i]\n",
        "    return ris\n",
        "  \n",
        "  def get_inverse(self, encoded):\n",
        "    # from one hot encoding to original pos\n",
        "    return self.label_encoder.inverse_transform([np.argmax(encoded)])\n",
        "\n",
        "  def get_pos_from_label(self, label):\n",
        "    # from one hot encoding to original pos\n",
        "    return self.label_encoder.inverse_transform([label])"
      ],
      "execution_count": 16,
      "outputs": []
    },
    {
      "cell_type": "markdown",
      "metadata": {
        "id": "8kxTuGGvotsf"
      },
      "source": [
        "### Padding for x and computation of max sequence length"
      ]
    },
    {
      "cell_type": "code",
      "metadata": {
        "id": "x1uKddQlsCRR",
        "outputId": "6a3f620f-eef3-4da7-ed6a-b10599f52fe3",
        "colab": {
          "base_uri": "https://localhost:8080/"
        }
      },
      "source": [
        "def convert_text(df, tokenizer, is_training=False, max_seq_length=None):\n",
        "    \"\"\"\n",
        "    Converts input text sequences using a given tokenizer\n",
        "\n",
        "    :param texts: either a list or numpy ndarray of strings\n",
        "    :tokenizer: an instantiated tokenizer\n",
        "    :is_training: whether input texts are from the training split or not\n",
        "    :max_seq_length: the max token sequence previously computed with\n",
        "    training texts.\n",
        "\n",
        "    :return\n",
        "        text_ids: a nested list on token indices\n",
        "        max_seq_length: the max token sequence previously computed with\n",
        "        training texts.\n",
        "    \"\"\"\n",
        "\n",
        "    text_ids = tokenizer.convert_tokens_to_ids(df['sentence'])\n",
        "\n",
        "    # Padding\n",
        "    if is_training:\n",
        "        max_seq_length = int(np.quantile([len(seq) for seq in text_ids], 0.99))\n",
        "    else:\n",
        "        assert max_seq_length is not None\n",
        "\n",
        "    text_ids = [seq + [0] * (max_seq_length - len(seq)) for seq in text_ids]\n",
        "    text_ids = np.array([seq[:max_seq_length] for seq in text_ids])\n",
        "\n",
        "    if is_training:\n",
        "        return text_ids, max_seq_length\n",
        "    else:\n",
        "        return text_ids\n",
        "\n",
        "\n",
        "x_train, max_seq_length = convert_text(dataframe_train, tokenizer, True)\n",
        "print(\"Max token sequence: {}\".format(max_seq_length))\n",
        "print('X train shape: ', x_train.shape)\n",
        "\n",
        "x_val = convert_text(dataframe_val, tokenizer, False, max_seq_length)\n",
        "print('X val shape: ', x_val.shape)\n",
        "\n",
        "x_test = convert_text(dataframe_test, tokenizer, False, max_seq_length)\n",
        "print('X test shape: ', x_test.shape)"
      ],
      "execution_count": 17,
      "outputs": [
        {
          "output_type": "stream",
          "name": "stdout",
          "text": [
            "Max token sequence: 58\n",
            "X train shape:  (1863, 58)\n",
            "X val shape:  (1249, 58)\n",
            "X test shape:  (603, 58)\n"
          ]
        }
      ]
    },
    {
      "cell_type": "markdown",
      "metadata": {
        "id": "jNtAQHyTdBvf"
      },
      "source": [
        "### Padding y"
      ]
    },
    {
      "cell_type": "code",
      "metadata": {
        "id": "N5ZZKj-QdDUX"
      },
      "source": [
        "Y_train_pos = [seq + ['PAD'] * (max_seq_length - len(seq)) if max_seq_length - len(seq)>0 else seq[:max_seq_length] for seq in dataframe_train['pos']]\n",
        "Y_val_pos = [seq + ['PAD'] * (max_seq_length - len(seq)) if max_seq_length - len(seq)>0 else seq[:max_seq_length] for seq in dataframe_val['pos']]\n",
        "Y_test_pos = [seq + ['PAD'] * (max_seq_length - len(seq)) if max_seq_length - len(seq)>0 else seq[:max_seq_length] for seq in dataframe_test['pos']]"
      ],
      "execution_count": 18,
      "outputs": []
    },
    {
      "cell_type": "markdown",
      "metadata": {
        "id": "Nq3PVjAbk9n9"
      },
      "source": [
        "### One-hot encoding of y"
      ]
    },
    {
      "cell_type": "code",
      "metadata": {
        "id": "1flbX7sUOEP5",
        "outputId": "a109f7b1-0056-4e18-88f5-b9332919aa57",
        "colab": {
          "base_uri": "https://localhost:8080/"
        }
      },
      "source": [
        "one_hot_encoder = OneHotEncoderWrapper()\n",
        "ris = one_hot_encoder.get_one_hot_encoding(set_pos+['PAD'])\n",
        "Y_train = [[ris[pos_hot] for pos_hot in sentence_pos] for sentence_pos in Y_train_pos]\n",
        "Y_val = [[ris[pos_hot] for pos_hot in sentence_pos] for sentence_pos in Y_val_pos]\n",
        "Y_test = [[ris[pos_hot] for pos_hot in sentence_pos] for sentence_pos in Y_test_pos]\n",
        "\n",
        "Y_train = np.asarray(Y_train)\n",
        "Y_val = np.asarray(Y_val)\n",
        "Y_test = np.asarray(Y_test)\n",
        "\n",
        "print(\"Y train shape: \", Y_train.shape)\n",
        "print(\"Y val shape: \", Y_val.shape)\n",
        "print(\"Y test shape: \", Y_test.shape)"
      ],
      "execution_count": 19,
      "outputs": [
        {
          "output_type": "stream",
          "name": "stdout",
          "text": [
            "Y train shape:  (1863, 58, 38)\n",
            "Y val shape:  (1249, 58, 38)\n",
            "Y test shape:  (603, 58, 38)\n"
          ]
        }
      ]
    },
    {
      "cell_type": "markdown",
      "metadata": {
        "id": "LGXRJiA8yIhK"
      },
      "source": [
        "# Models"
      ]
    },
    {
      "cell_type": "markdown",
      "metadata": {
        "id": "lWSq1tFGPxlf"
      },
      "source": [
        "### Class Weights"
      ]
    },
    {
      "cell_type": "code",
      "metadata": {
        "id": "o3u7VJvsO96n"
      },
      "source": [
        "weight_applied = True  # Whether or not to use sample_weights"
      ],
      "execution_count": 20,
      "outputs": []
    },
    {
      "cell_type": "code",
      "metadata": {
        "id": "wxwizNKFP0un",
        "outputId": "1a950275-87ca-4a5f-8a67-e0d4c58fb26f",
        "colab": {
          "base_uri": "https://localhost:8080/"
        }
      },
      "source": [
        "def cont_pos(y_data):\n",
        "  conts = {}\n",
        "  for pos in set_pos + ['PAD']:\n",
        "    conts[pos] = 0\n",
        "  for row in y_data:\n",
        "    for pos in set_pos + ['PAD']:\n",
        "      for pos_2 in row:\n",
        "        if pos==pos_2:\n",
        "          conts[pos] +=1\n",
        "  return conts\n",
        "\n",
        "conts_train_pad = cont_pos(Y_train_pos)\n",
        "\n",
        "class_weights = {}\n",
        "\n",
        "if weight_applied:\n",
        "  for pos in set_pos:\n",
        "    class_weights[pos] = np.array(list(conts_train_pad.values())).sum() / (len(conts_train_pad)*conts_train_pad[pos])\n",
        "else:\n",
        "  for pos in set_pos:\n",
        "    class_weights[pos] = 1.0\n",
        "class_weights['PAD'] = 16.0\n",
        "class_weights"
      ],
      "execution_count": 21,
      "outputs": [
        {
          "output_type": "execute_result",
          "data": {
            "text/plain": [
              "{'$': 710.8815789473684,\n",
              " 'CC': 2.518623840380402,\n",
              " 'CD': 2.0109804213504057,\n",
              " 'DT': 0.7022786652974744,\n",
              " 'EX': 58.03114930182599,\n",
              " 'FW': 1421.7631578947369,\n",
              " 'IN': 0.5777176586325627,\n",
              " 'JJ': 0.9570940140657939,\n",
              " 'JJR': 18.11163258464633,\n",
              " 'JJS': 30.907894736842106,\n",
              " 'LS': 284.35263157894735,\n",
              " 'MD': 6.918555512869766,\n",
              " 'NN': 0.4580422544763972,\n",
              " 'NNP': 0.5570080932006805,\n",
              " 'NNPS': 30.575551782682513,\n",
              " 'NNS': 0.9506941878266378,\n",
              " 'PAD': 16.0,\n",
              " 'PDT': 315.94736842105266,\n",
              " 'POS': 7.811885482938115,\n",
              " 'PRP': 2.993185595567867,\n",
              " 'PRP$': 7.003759398496241,\n",
              " 'RB': 1.9161228543055753,\n",
              " 'RBR': 33.45325077399381,\n",
              " 'RBS': 149.65927977839334,\n",
              " 'RP': 20.310902255639096,\n",
              " 'SYM': 2843.5263157894738,\n",
              " 'TO': 2.7905066887040957,\n",
              " 'UH': 2843.5263157894738,\n",
              " 'VB': 2.3975769947634684,\n",
              " 'VBD': 1.8500496524329693,\n",
              " 'VBG': 3.7365654609585723,\n",
              " 'VBN': 2.776881167763158,\n",
              " 'VBP': 3.911315427495837,\n",
              " 'VBZ': 2.5208566629339306,\n",
              " 'WDT': 14.007518796992482,\n",
              " 'WP': 20.166853303471445,\n",
              " 'WP$': 473.92105263157896,\n",
              " 'WRB': 31.24754193175246}"
            ]
          },
          "metadata": {},
          "execution_count": 21
        }
      ]
    },
    {
      "cell_type": "markdown",
      "metadata": {
        "id": "VXKUg3BZRgd_"
      },
      "source": [
        "### Sample Weights"
      ]
    },
    {
      "cell_type": "code",
      "metadata": {
        "id": "Rn2Kz9ExRiz-",
        "outputId": "c1889224-5b6f-4355-a774-eee61fe0a0a0",
        "colab": {
          "base_uri": "https://localhost:8080/"
        }
      },
      "source": [
        "sample_weights_train = []\n",
        "for sentence in range(len(x_train)):\n",
        "  sample_weights_train.append([])\n",
        "  for word in range(len(x_train[sentence])):\n",
        "    if x_train[sentence][word] == 0:\n",
        "      pos = 'PAD'\n",
        "    else:\n",
        "      pos = dataframe_train.iloc[sentence]['pos'][word]\n",
        "    sample_weights_train[sentence].append(class_weights[pos])\n",
        "sample_weights_train = np.asarray(sample_weights_train)\n",
        "print(\"Sample weights train: \", sample_weights_train.shape)\n",
        "\n",
        "sample_weights_val = []\n",
        "for sentence in range(len(x_val)):\n",
        "  sample_weights_val.append([])\n",
        "  for word in range(len(x_val[sentence])):\n",
        "    if x_val[sentence][word] == 0:\n",
        "      pos = 'PAD'\n",
        "    else:\n",
        "      pos = dataframe_val.iloc[sentence]['pos'][word]\n",
        "    sample_weights_val[sentence].append(class_weights[pos])\n",
        "sample_weights_val = np.asarray(sample_weights_val)\n",
        "print(\"Sample weights validation: \", sample_weights_val.shape)\n",
        "\n",
        "sample_weights_test = []\n",
        "for sentence in range(len(x_test)):\n",
        "  sample_weights_test.append([])\n",
        "  for word in range(len(x_test[sentence])):\n",
        "    if x_test[sentence][word] == 0:\n",
        "      pos = 'PAD'\n",
        "    else:\n",
        "      pos = dataframe_test.iloc[sentence]['pos'][word]\n",
        "    sample_weights_test[sentence].append(class_weights[pos])\n",
        "sample_weights_test = np.asarray(sample_weights_test)\n",
        "print(\"Sample weights test: \", sample_weights_test.shape)"
      ],
      "execution_count": 22,
      "outputs": [
        {
          "output_type": "stream",
          "name": "stdout",
          "text": [
            "Sample weights train:  (1863, 58)\n",
            "Sample weights validation:  (1249, 58)\n",
            "Sample weights test:  (603, 58)\n"
          ]
        }
      ]
    },
    {
      "cell_type": "markdown",
      "metadata": {
        "id": "GWUOoJDjo8cZ"
      },
      "source": [
        "## Baseline"
      ]
    },
    {
      "cell_type": "code",
      "metadata": {
        "id": "4AYGGxdd8HKW"
      },
      "source": [
        "embedding_vector_length = embedding_dimension\n",
        "\n",
        "def BaselineModel(embedding_vector_length):\n",
        "  model_baseline = Sequential()\n",
        "  model_baseline.add(Embedding(len(tokenizer.vocab.keys())+1, embedding_vector_length, \n",
        "                      input_length=max_seq_length, \n",
        "                      trainable=True))  # do not train embeddings\n",
        "  model_baseline.add(Bidirectional(LSTM(max_seq_length, return_sequences=True)))\n",
        "  model_baseline.add(TimeDistributed(Dense(len(set_pos)+1,  # +1 due to 'PAD'\n",
        "                                  activation='softmax')))\n",
        "\n",
        "  if weight_applied:\n",
        "    model_baseline.compile(loss='categorical_crossentropy', optimizer='adam', \n",
        "                  weighted_metrics=['accuracy'], sample_weight_mode=\"temporal\")\n",
        "  else:\n",
        "    model_baseline.compile(loss='categorical_crossentropy', optimizer='adam', \n",
        "                  metrics=['accuracy'])\n",
        "  return model_baseline\n",
        "  #print(model_baseline.summary())"
      ],
      "execution_count": 23,
      "outputs": []
    },
    {
      "cell_type": "markdown",
      "metadata": {
        "id": "wunS_1_gnVoh"
      },
      "source": [
        "### Training"
      ]
    },
    {
      "cell_type": "code",
      "metadata": {
        "id": "om6uxlShSVTA",
        "outputId": "b4e7957d-0480-468d-da93-52c709b4097f",
        "colab": {
          "base_uri": "https://localhost:8080/"
        }
      },
      "source": [
        "model_baseline = BaselineModel(embedding_vector_length)\n",
        "history = model_baseline.fit(x_train, Y_train, validation_data=(x_val, Y_val, sample_weights_val), epochs=100, \n",
        "                    batch_size=64, sample_weight=sample_weights_train)"
      ],
      "execution_count": 25,
      "outputs": [
        {
          "output_type": "stream",
          "name": "stdout",
          "text": [
            "Epoch 1/100\n",
            "30/30 [==============================] - 8s 143ms/step - loss: 22.1759 - accuracy: 0.8743 - val_loss: 7.0400 - val_accuracy: 0.9060\n",
            "Epoch 2/100\n",
            "30/30 [==============================] - 3s 101ms/step - loss: 5.8377 - accuracy: 0.9108 - val_loss: 5.4206 - val_accuracy: 0.9060\n",
            "Epoch 3/100\n",
            "30/30 [==============================] - 3s 102ms/step - loss: 4.8041 - accuracy: 0.9108 - val_loss: 4.8586 - val_accuracy: 0.9060\n",
            "Epoch 4/100\n",
            "30/30 [==============================] - 3s 100ms/step - loss: 4.2084 - accuracy: 0.9108 - val_loss: 4.5900 - val_accuracy: 0.9060\n",
            "Epoch 5/100\n",
            "30/30 [==============================] - 3s 99ms/step - loss: 3.9288 - accuracy: 0.9108 - val_loss: 4.3982 - val_accuracy: 0.9060\n",
            "Epoch 6/100\n",
            "30/30 [==============================] - 3s 100ms/step - loss: 3.7708 - accuracy: 0.9128 - val_loss: 4.3281 - val_accuracy: 0.9071\n",
            "Epoch 7/100\n",
            "30/30 [==============================] - 3s 102ms/step - loss: 3.6903 - accuracy: 0.9138 - val_loss: 4.2714 - val_accuracy: 0.9107\n",
            "Epoch 8/100\n",
            "30/30 [==============================] - 3s 101ms/step - loss: 3.6393 - accuracy: 0.9163 - val_loss: 4.2104 - val_accuracy: 0.9111\n",
            "Epoch 9/100\n",
            "30/30 [==============================] - 3s 100ms/step - loss: 3.5999 - accuracy: 0.9190 - val_loss: 4.2184 - val_accuracy: 0.9122\n",
            "Epoch 10/100\n",
            "30/30 [==============================] - 3s 102ms/step - loss: 3.5686 - accuracy: 0.9180 - val_loss: 4.1978 - val_accuracy: 0.9122\n",
            "Epoch 11/100\n",
            "30/30 [==============================] - 3s 101ms/step - loss: 3.5396 - accuracy: 0.9207 - val_loss: 4.1555 - val_accuracy: 0.9126\n",
            "Epoch 12/100\n",
            "30/30 [==============================] - 3s 100ms/step - loss: 3.5124 - accuracy: 0.9188 - val_loss: 4.1625 - val_accuracy: 0.9124\n",
            "Epoch 13/100\n",
            "30/30 [==============================] - 3s 101ms/step - loss: 3.4843 - accuracy: 0.9205 - val_loss: 4.1838 - val_accuracy: 0.9135\n",
            "Epoch 14/100\n",
            "30/30 [==============================] - 3s 102ms/step - loss: 3.4607 - accuracy: 0.9229 - val_loss: 4.1213 - val_accuracy: 0.9144\n",
            "Epoch 15/100\n",
            "30/30 [==============================] - 3s 101ms/step - loss: 3.4257 - accuracy: 0.9234 - val_loss: 4.0088 - val_accuracy: 0.9146\n",
            "Epoch 16/100\n",
            "30/30 [==============================] - 3s 101ms/step - loss: 3.3905 - accuracy: 0.9240 - val_loss: 3.9886 - val_accuracy: 0.9155\n",
            "Epoch 17/100\n",
            "30/30 [==============================] - 3s 99ms/step - loss: 3.3382 - accuracy: 0.9249 - val_loss: 3.9835 - val_accuracy: 0.9157\n",
            "Epoch 18/100\n",
            "30/30 [==============================] - 3s 100ms/step - loss: 3.2785 - accuracy: 0.9244 - val_loss: 3.8702 - val_accuracy: 0.9166\n",
            "Epoch 19/100\n",
            "30/30 [==============================] - 3s 100ms/step - loss: 3.2094 - accuracy: 0.9256 - val_loss: 3.8421 - val_accuracy: 0.9183\n",
            "Epoch 20/100\n",
            "30/30 [==============================] - 3s 100ms/step - loss: 3.1218 - accuracy: 0.9283 - val_loss: 3.7784 - val_accuracy: 0.9206\n",
            "Epoch 21/100\n",
            "30/30 [==============================] - 3s 101ms/step - loss: 3.0132 - accuracy: 0.9382 - val_loss: 3.6684 - val_accuracy: 0.9249\n",
            "Epoch 22/100\n",
            "30/30 [==============================] - 3s 100ms/step - loss: 2.9027 - accuracy: 0.9400 - val_loss: 3.6145 - val_accuracy: 0.9230\n",
            "Epoch 23/100\n",
            "30/30 [==============================] - 3s 100ms/step - loss: 2.7806 - accuracy: 0.9446 - val_loss: 3.5580 - val_accuracy: 0.9258\n",
            "Epoch 24/100\n",
            "30/30 [==============================] - 3s 100ms/step - loss: 2.6431 - accuracy: 0.9482 - val_loss: 3.5178 - val_accuracy: 0.9255\n",
            "Epoch 25/100\n",
            "30/30 [==============================] - 3s 100ms/step - loss: 2.6001 - accuracy: 0.9458 - val_loss: 3.4438 - val_accuracy: 0.9292\n",
            "Epoch 26/100\n",
            "30/30 [==============================] - 3s 100ms/step - loss: 2.4770 - accuracy: 0.9493 - val_loss: 3.4136 - val_accuracy: 0.9297\n",
            "Epoch 27/100\n",
            "30/30 [==============================] - 3s 101ms/step - loss: 2.2722 - accuracy: 0.9542 - val_loss: 3.3418 - val_accuracy: 0.9304\n",
            "Epoch 28/100\n",
            "30/30 [==============================] - 3s 100ms/step - loss: 2.1342 - accuracy: 0.9564 - val_loss: 3.2892 - val_accuracy: 0.9330\n",
            "Epoch 29/100\n",
            "30/30 [==============================] - 3s 101ms/step - loss: 2.0092 - accuracy: 0.9597 - val_loss: 3.2427 - val_accuracy: 0.9340\n",
            "Epoch 30/100\n",
            "30/30 [==============================] - 3s 101ms/step - loss: 1.8912 - accuracy: 0.9614 - val_loss: 3.1914 - val_accuracy: 0.9362\n",
            "Epoch 31/100\n",
            "30/30 [==============================] - 3s 101ms/step - loss: 1.7740 - accuracy: 0.9653 - val_loss: 3.1240 - val_accuracy: 0.9377\n",
            "Epoch 32/100\n",
            "30/30 [==============================] - 3s 101ms/step - loss: 1.6592 - accuracy: 0.9673 - val_loss: 3.0700 - val_accuracy: 0.9396\n",
            "Epoch 33/100\n",
            "30/30 [==============================] - 3s 101ms/step - loss: 1.5541 - accuracy: 0.9684 - val_loss: 3.0029 - val_accuracy: 0.9411\n",
            "Epoch 34/100\n",
            "30/30 [==============================] - 3s 103ms/step - loss: 1.4491 - accuracy: 0.9708 - val_loss: 2.9191 - val_accuracy: 0.9433\n",
            "Epoch 35/100\n",
            "30/30 [==============================] - 3s 101ms/step - loss: 1.3399 - accuracy: 0.9721 - val_loss: 2.8688 - val_accuracy: 0.9446\n",
            "Epoch 36/100\n",
            "30/30 [==============================] - 3s 101ms/step - loss: 1.2457 - accuracy: 0.9742 - val_loss: 2.8211 - val_accuracy: 0.9468\n",
            "Epoch 37/100\n",
            "30/30 [==============================] - 3s 101ms/step - loss: 1.2141 - accuracy: 0.9731 - val_loss: 2.7059 - val_accuracy: 0.9479\n",
            "Epoch 38/100\n",
            "30/30 [==============================] - 3s 101ms/step - loss: 1.0887 - accuracy: 0.9777 - val_loss: 2.6760 - val_accuracy: 0.9493\n",
            "Epoch 39/100\n",
            "30/30 [==============================] - 3s 102ms/step - loss: 1.0078 - accuracy: 0.9792 - val_loss: 2.6391 - val_accuracy: 0.9509\n",
            "Epoch 40/100\n",
            "30/30 [==============================] - 3s 102ms/step - loss: 0.9341 - accuracy: 0.9807 - val_loss: 2.5919 - val_accuracy: 0.9525\n",
            "Epoch 41/100\n",
            "30/30 [==============================] - 3s 101ms/step - loss: 0.8656 - accuracy: 0.9822 - val_loss: 2.5731 - val_accuracy: 0.9534\n",
            "Epoch 42/100\n",
            "30/30 [==============================] - 3s 102ms/step - loss: 0.8012 - accuracy: 0.9835 - val_loss: 2.5157 - val_accuracy: 0.9546\n",
            "Epoch 43/100\n",
            "30/30 [==============================] - 3s 102ms/step - loss: 0.7399 - accuracy: 0.9849 - val_loss: 2.4964 - val_accuracy: 0.9560\n",
            "Epoch 44/100\n",
            "30/30 [==============================] - 3s 101ms/step - loss: 0.6822 - accuracy: 0.9861 - val_loss: 2.4666 - val_accuracy: 0.9571\n",
            "Epoch 45/100\n",
            "30/30 [==============================] - 3s 101ms/step - loss: 0.6291 - accuracy: 0.9873 - val_loss: 2.4443 - val_accuracy: 0.9579\n",
            "Epoch 46/100\n",
            "30/30 [==============================] - 3s 102ms/step - loss: 0.5803 - accuracy: 0.9884 - val_loss: 2.4046 - val_accuracy: 0.9587\n",
            "Epoch 47/100\n",
            "30/30 [==============================] - 3s 102ms/step - loss: 0.5381 - accuracy: 0.9893 - val_loss: 2.3836 - val_accuracy: 0.9594\n",
            "Epoch 48/100\n",
            "30/30 [==============================] - 3s 102ms/step - loss: 0.4964 - accuracy: 0.9901 - val_loss: 2.3670 - val_accuracy: 0.9601\n",
            "Epoch 49/100\n",
            "30/30 [==============================] - 3s 101ms/step - loss: 0.4596 - accuracy: 0.9911 - val_loss: 2.3478 - val_accuracy: 0.9608\n",
            "Epoch 50/100\n",
            "30/30 [==============================] - 3s 102ms/step - loss: 0.4257 - accuracy: 0.9917 - val_loss: 2.3363 - val_accuracy: 0.9612\n",
            "Epoch 51/100\n",
            "30/30 [==============================] - 3s 100ms/step - loss: 0.3942 - accuracy: 0.9923 - val_loss: 2.3376 - val_accuracy: 0.9618\n",
            "Epoch 52/100\n",
            "30/30 [==============================] - 3s 101ms/step - loss: 0.3668 - accuracy: 0.9929 - val_loss: 2.3187 - val_accuracy: 0.9621\n",
            "Epoch 53/100\n",
            "30/30 [==============================] - 3s 102ms/step - loss: 0.3402 - accuracy: 0.9935 - val_loss: 2.3178 - val_accuracy: 0.9625\n",
            "Epoch 54/100\n",
            "30/30 [==============================] - 3s 101ms/step - loss: 0.3170 - accuracy: 0.9940 - val_loss: 2.3048 - val_accuracy: 0.9632\n",
            "Epoch 55/100\n",
            "30/30 [==============================] - 3s 101ms/step - loss: 0.2954 - accuracy: 0.9944 - val_loss: 2.3076 - val_accuracy: 0.9636\n",
            "Epoch 56/100\n",
            "30/30 [==============================] - 3s 102ms/step - loss: 0.2757 - accuracy: 0.9948 - val_loss: 2.2918 - val_accuracy: 0.9636\n",
            "Epoch 57/100\n",
            "30/30 [==============================] - 3s 101ms/step - loss: 0.2577 - accuracy: 0.9952 - val_loss: 2.2973 - val_accuracy: 0.9638\n",
            "Epoch 58/100\n",
            "30/30 [==============================] - 3s 101ms/step - loss: 0.2405 - accuracy: 0.9956 - val_loss: 2.2814 - val_accuracy: 0.9640\n",
            "Epoch 59/100\n",
            "30/30 [==============================] - 3s 102ms/step - loss: 0.2859 - accuracy: 0.9944 - val_loss: 2.4511 - val_accuracy: 0.9621\n",
            "Epoch 60/100\n",
            "30/30 [==============================] - 3s 100ms/step - loss: 0.3168 - accuracy: 0.9940 - val_loss: 2.1537 - val_accuracy: 0.9651\n",
            "Epoch 61/100\n",
            "30/30 [==============================] - 3s 101ms/step - loss: 0.2479 - accuracy: 0.9953 - val_loss: 2.1569 - val_accuracy: 0.9649\n",
            "Epoch 62/100\n",
            "30/30 [==============================] - 3s 100ms/step - loss: 0.2243 - accuracy: 0.9959 - val_loss: 2.1520 - val_accuracy: 0.9654\n",
            "Epoch 63/100\n",
            "30/30 [==============================] - 3s 102ms/step - loss: 0.1998 - accuracy: 0.9966 - val_loss: 2.1775 - val_accuracy: 0.9660\n",
            "Epoch 64/100\n",
            "30/30 [==============================] - 3s 102ms/step - loss: 0.1868 - accuracy: 0.9969 - val_loss: 2.1851 - val_accuracy: 0.9661\n",
            "Epoch 65/100\n",
            "30/30 [==============================] - 3s 102ms/step - loss: 0.1728 - accuracy: 0.9971 - val_loss: 2.1843 - val_accuracy: 0.9659\n",
            "Epoch 66/100\n",
            "30/30 [==============================] - 3s 102ms/step - loss: 0.1617 - accuracy: 0.9973 - val_loss: 2.2028 - val_accuracy: 0.9659\n",
            "Epoch 67/100\n",
            "30/30 [==============================] - 3s 102ms/step - loss: 0.1506 - accuracy: 0.9975 - val_loss: 2.2063 - val_accuracy: 0.9659\n",
            "Epoch 68/100\n",
            "30/30 [==============================] - 3s 102ms/step - loss: 0.1423 - accuracy: 0.9976 - val_loss: 2.2197 - val_accuracy: 0.9656\n",
            "Epoch 69/100\n",
            "30/30 [==============================] - 3s 102ms/step - loss: 0.1349 - accuracy: 0.9978 - val_loss: 2.2267 - val_accuracy: 0.9655\n",
            "Epoch 70/100\n",
            "30/30 [==============================] - 3s 102ms/step - loss: 0.1280 - accuracy: 0.9979 - val_loss: 2.2225 - val_accuracy: 0.9656\n",
            "Epoch 71/100\n",
            "30/30 [==============================] - 3s 101ms/step - loss: 0.1219 - accuracy: 0.9980 - val_loss: 2.2255 - val_accuracy: 0.9654\n",
            "Epoch 72/100\n",
            "30/30 [==============================] - 3s 101ms/step - loss: 0.1159 - accuracy: 0.9981 - val_loss: 2.2255 - val_accuracy: 0.9654\n",
            "Epoch 73/100\n",
            "30/30 [==============================] - 3s 101ms/step - loss: 0.1105 - accuracy: 0.9982 - val_loss: 2.2409 - val_accuracy: 0.9650\n",
            "Epoch 74/100\n",
            "30/30 [==============================] - 3s 102ms/step - loss: 0.1056 - accuracy: 0.9983 - val_loss: 2.2379 - val_accuracy: 0.9651\n",
            "Epoch 75/100\n",
            "30/30 [==============================] - 3s 103ms/step - loss: 0.1012 - accuracy: 0.9983 - val_loss: 2.2447 - val_accuracy: 0.9651\n",
            "Epoch 76/100\n",
            "30/30 [==============================] - 3s 102ms/step - loss: 0.0971 - accuracy: 0.9984 - val_loss: 2.2443 - val_accuracy: 0.9650\n",
            "Epoch 77/100\n",
            "30/30 [==============================] - 3s 103ms/step - loss: 0.0933 - accuracy: 0.9985 - val_loss: 2.2502 - val_accuracy: 0.9651\n",
            "Epoch 78/100\n",
            "30/30 [==============================] - 3s 102ms/step - loss: 0.0896 - accuracy: 0.9985 - val_loss: 2.2450 - val_accuracy: 0.9655\n",
            "Epoch 79/100\n",
            "30/30 [==============================] - 3s 102ms/step - loss: 0.0864 - accuracy: 0.9986 - val_loss: 2.2597 - val_accuracy: 0.9651\n",
            "Epoch 80/100\n",
            "30/30 [==============================] - 3s 102ms/step - loss: 0.0835 - accuracy: 0.9986 - val_loss: 2.2568 - val_accuracy: 0.9652\n",
            "Epoch 81/100\n",
            "30/30 [==============================] - 3s 101ms/step - loss: 0.0802 - accuracy: 0.9987 - val_loss: 2.2709 - val_accuracy: 0.9651\n",
            "Epoch 82/100\n",
            "30/30 [==============================] - 3s 101ms/step - loss: 0.0774 - accuracy: 0.9987 - val_loss: 2.2759 - val_accuracy: 0.9658\n",
            "Epoch 83/100\n",
            "30/30 [==============================] - 3s 116ms/step - loss: 0.0747 - accuracy: 0.9988 - val_loss: 2.2775 - val_accuracy: 0.9652\n",
            "Epoch 84/100\n",
            "30/30 [==============================] - 4s 121ms/step - loss: 0.0721 - accuracy: 0.9988 - val_loss: 2.2845 - val_accuracy: 0.9659\n",
            "Epoch 85/100\n",
            "30/30 [==============================] - 4s 129ms/step - loss: 0.0697 - accuracy: 0.9988 - val_loss: 2.2848 - val_accuracy: 0.9665\n",
            "Epoch 86/100\n",
            "30/30 [==============================] - 3s 103ms/step - loss: 0.0673 - accuracy: 0.9989 - val_loss: 2.2836 - val_accuracy: 0.9664\n",
            "Epoch 87/100\n",
            "30/30 [==============================] - 3s 102ms/step - loss: 0.0653 - accuracy: 0.9989 - val_loss: 2.2998 - val_accuracy: 0.9664\n",
            "Epoch 88/100\n",
            "30/30 [==============================] - 3s 103ms/step - loss: 0.0632 - accuracy: 0.9990 - val_loss: 2.2960 - val_accuracy: 0.9664\n",
            "Epoch 89/100\n",
            "30/30 [==============================] - 3s 102ms/step - loss: 0.0614 - accuracy: 0.9990 - val_loss: 2.3219 - val_accuracy: 0.9665\n",
            "Epoch 90/100\n",
            "30/30 [==============================] - 3s 102ms/step - loss: 0.0598 - accuracy: 0.9990 - val_loss: 2.3078 - val_accuracy: 0.9664\n",
            "Epoch 91/100\n",
            "30/30 [==============================] - 3s 102ms/step - loss: 0.0578 - accuracy: 0.9991 - val_loss: 2.3132 - val_accuracy: 0.9664\n",
            "Epoch 92/100\n",
            "30/30 [==============================] - 3s 104ms/step - loss: 0.0561 - accuracy: 0.9991 - val_loss: 2.3143 - val_accuracy: 0.9665\n",
            "Epoch 93/100\n",
            "30/30 [==============================] - 3s 102ms/step - loss: 0.0546 - accuracy: 0.9991 - val_loss: 2.3244 - val_accuracy: 0.9664\n",
            "Epoch 94/100\n",
            "30/30 [==============================] - 3s 102ms/step - loss: 0.0530 - accuracy: 0.9991 - val_loss: 2.3331 - val_accuracy: 0.9664\n",
            "Epoch 95/100\n",
            "30/30 [==============================] - 3s 102ms/step - loss: 0.0518 - accuracy: 0.9992 - val_loss: 2.3476 - val_accuracy: 0.9664\n",
            "Epoch 96/100\n",
            "30/30 [==============================] - 3s 103ms/step - loss: 0.0502 - accuracy: 0.9992 - val_loss: 2.3404 - val_accuracy: 0.9665\n",
            "Epoch 97/100\n",
            "30/30 [==============================] - 3s 104ms/step - loss: 0.0487 - accuracy: 0.9992 - val_loss: 2.3564 - val_accuracy: 0.9664\n",
            "Epoch 98/100\n",
            "30/30 [==============================] - 3s 102ms/step - loss: 0.0474 - accuracy: 0.9992 - val_loss: 2.3533 - val_accuracy: 0.9664\n",
            "Epoch 99/100\n",
            "30/30 [==============================] - 3s 103ms/step - loss: 0.0462 - accuracy: 0.9992 - val_loss: 2.3671 - val_accuracy: 0.9664\n",
            "Epoch 100/100\n",
            "30/30 [==============================] - 3s 103ms/step - loss: 0.0457 - accuracy: 0.9992 - val_loss: 2.3509 - val_accuracy: 0.9667\n"
          ]
        }
      ]
    },
    {
      "cell_type": "markdown",
      "metadata": {
        "id": "1bDRQe5xnXtA"
      },
      "source": [
        "#### Plots"
      ]
    },
    {
      "cell_type": "code",
      "metadata": {
        "id": "qsalh1v-mLms",
        "outputId": "4ff1b5bf-42c8-4322-adc0-a55b79e0f042",
        "colab": {
          "base_uri": "https://localhost:8080/",
          "height": 573
        }
      },
      "source": [
        "plt.plot(history.history['accuracy'])\n",
        "plt.plot(history.history['val_accuracy'])\n",
        "plt.title('model accuracy')\n",
        "plt.ylabel('accuracy')\n",
        "plt.xlabel('epoch')\n",
        "plt.legend(['train', 'validation'], loc='upper left')\n",
        "plt.show()\n",
        "\n",
        "plt.plot(history.history['loss'])\n",
        "plt.plot(history.history['val_loss'])\n",
        "plt.title('model loss')\n",
        "plt.ylabel('loss')\n",
        "plt.xlabel('epoch')\n",
        "plt.legend(['train', 'validation'], loc='upper left')\n",
        "plt.show()"
      ],
      "execution_count": 26,
      "outputs": [
        {
          "output_type": "display_data",
          "data": {
            "image/png": "[encoded data removed]",
            "text/plain": [
              "<Figure size 432x288 with 1 Axes>"
            ]
          },
          "metadata": {
            "needs_background": "light"
          }
        },
        {
          "output_type": "display_data",
          "data": {
            "image/png": "[encoded data removed]",
            "text/plain": [
              "<Figure size 432x288 with 1 Axes>"
            ]
          },
          "metadata": {
            "needs_background": "light"
          }
        }
      ]
    },
    {
      "cell_type": "markdown",
      "metadata": {
        "id": "66-AUIz_PWDz"
      },
      "source": [
        "## GRU"
      ]
    },
    {
      "cell_type": "code",
      "metadata": {
        "id": "uvmnm2WtPXWa"
      },
      "source": [
        "def GRUModel(embedding_vector_length):\n",
        "  model_gru = Sequential()\n",
        "  model_gru.add(Embedding(len(tokenizer.vocab.keys())+1, embedding_vector_length, \n",
        "                      input_length=max_seq_length, \n",
        "                      trainable=True))  # do not train embeddings\n",
        "  model_gru.add(Bidirectional(GRU(max_seq_length, return_sequences=True)))\n",
        "  model_gru.add(TimeDistributed(Dense(len(set_pos)+1,  # +1 due to 'PAD'\n",
        "                                  activation='softmax')))\n",
        "\n",
        "  if weight_applied:\n",
        "    model_gru.compile(loss='categorical_crossentropy', optimizer='adam', \n",
        "                  weighted_metrics=['accuracy'], sample_weight_mode=\"temporal\")\n",
        "  else:\n",
        "    model_gru.compile(loss='categorical_crossentropy', optimizer='adam', \n",
        "                  metrics=['accuracy'])\n",
        "  #print(model_gru.summary())\n",
        "  return model_gru"
      ],
      "execution_count": 27,
      "outputs": []
    },
    {
      "cell_type": "markdown",
      "metadata": {
        "id": "HkZrHV5NPrCy"
      },
      "source": [
        "### Training"
      ]
    },
    {
      "cell_type": "code",
      "metadata": {
        "id": "F5T-jFxkPsSp",
        "outputId": "c9534440-9ba2-4563-f366-5da849a2d608",
        "colab": {
          "base_uri": "https://localhost:8080/"
        }
      },
      "source": [
        "model_gru = GRUModel(embedding_vector_length)\n",
        "history = model_gru.fit(x_train, Y_train, validation_data=(x_val, Y_val, sample_weights_val), epochs=100, \n",
        "                    batch_size=64, sample_weight=sample_weights_train)"
      ],
      "execution_count": 28,
      "outputs": [
        {
          "output_type": "stream",
          "name": "stdout",
          "text": [
            "Epoch 1/100\n",
            "30/30 [==============================] - 8s 135ms/step - loss: 26.1102 - accuracy: 0.8505 - val_loss: 5.8975 - val_accuracy: 0.9060\n",
            "Epoch 2/100\n",
            "30/30 [==============================] - 3s 98ms/step - loss: 4.6915 - accuracy: 0.9108 - val_loss: 4.1954 - val_accuracy: 0.9060\n",
            "Epoch 3/100\n",
            "30/30 [==============================] - 3s 96ms/step - loss: 3.7812 - accuracy: 0.9115 - val_loss: 3.9493 - val_accuracy: 0.9070\n",
            "Epoch 4/100\n",
            "30/30 [==============================] - 3s 97ms/step - loss: 3.6297 - accuracy: 0.9147 - val_loss: 3.8703 - val_accuracy: 0.9106\n",
            "Epoch 5/100\n",
            "30/30 [==============================] - 3s 96ms/step - loss: 3.5641 - accuracy: 0.9262 - val_loss: 3.8233 - val_accuracy: 0.9175\n",
            "Epoch 6/100\n",
            "30/30 [==============================] - 3s 96ms/step - loss: 3.5110 - accuracy: 0.9380 - val_loss: 3.7821 - val_accuracy: 0.9240\n",
            "Epoch 7/100\n",
            "30/30 [==============================] - 3s 97ms/step - loss: 3.4597 - accuracy: 0.9408 - val_loss: 3.7388 - val_accuracy: 0.9276\n",
            "Epoch 8/100\n",
            "30/30 [==============================] - 3s 96ms/step - loss: 3.4001 - accuracy: 0.9405 - val_loss: 3.6874 - val_accuracy: 0.9267\n",
            "Epoch 9/100\n",
            "30/30 [==============================] - 3s 96ms/step - loss: 3.3213 - accuracy: 0.9371 - val_loss: 3.6230 - val_accuracy: 0.9259\n",
            "Epoch 10/100\n",
            "30/30 [==============================] - 3s 97ms/step - loss: 3.2186 - accuracy: 0.9348 - val_loss: 3.5316 - val_accuracy: 0.9263\n",
            "Epoch 11/100\n",
            "30/30 [==============================] - 3s 97ms/step - loss: 3.0758 - accuracy: 0.9357 - val_loss: 3.4247 - val_accuracy: 0.9272\n",
            "Epoch 12/100\n",
            "30/30 [==============================] - 3s 98ms/step - loss: 2.9077 - accuracy: 0.9405 - val_loss: 3.3023 - val_accuracy: 0.9299\n",
            "Epoch 13/100\n",
            "30/30 [==============================] - 3s 96ms/step - loss: 2.7074 - accuracy: 0.9448 - val_loss: 3.1543 - val_accuracy: 0.9326\n",
            "Epoch 14/100\n",
            "30/30 [==============================] - 3s 97ms/step - loss: 2.4792 - accuracy: 0.9488 - val_loss: 2.9547 - val_accuracy: 0.9386\n",
            "Epoch 15/100\n",
            "30/30 [==============================] - 3s 97ms/step - loss: 2.2379 - accuracy: 0.9585 - val_loss: 2.7807 - val_accuracy: 0.9406\n",
            "Epoch 16/100\n",
            "30/30 [==============================] - 3s 96ms/step - loss: 1.9876 - accuracy: 0.9637 - val_loss: 2.6053 - val_accuracy: 0.9456\n",
            "Epoch 17/100\n",
            "30/30 [==============================] - 3s 96ms/step - loss: 1.7483 - accuracy: 0.9675 - val_loss: 2.4170 - val_accuracy: 0.9486\n",
            "Epoch 18/100\n",
            "30/30 [==============================] - 3s 97ms/step - loss: 1.5162 - accuracy: 0.9711 - val_loss: 2.2562 - val_accuracy: 0.9520\n",
            "Epoch 19/100\n",
            "30/30 [==============================] - 3s 98ms/step - loss: 1.3037 - accuracy: 0.9761 - val_loss: 2.1179 - val_accuracy: 0.9554\n",
            "Epoch 20/100\n",
            "30/30 [==============================] - 3s 97ms/step - loss: 1.1088 - accuracy: 0.9802 - val_loss: 1.9942 - val_accuracy: 0.9584\n",
            "Epoch 21/100\n",
            "30/30 [==============================] - 3s 96ms/step - loss: 0.9425 - accuracy: 0.9839 - val_loss: 1.8923 - val_accuracy: 0.9612\n",
            "Epoch 22/100\n",
            "30/30 [==============================] - 3s 98ms/step - loss: 0.8051 - accuracy: 0.9865 - val_loss: 1.8308 - val_accuracy: 0.9634\n",
            "Epoch 23/100\n",
            "30/30 [==============================] - 3s 98ms/step - loss: 0.6897 - accuracy: 0.9894 - val_loss: 1.7621 - val_accuracy: 0.9648\n",
            "Epoch 24/100\n",
            "30/30 [==============================] - 3s 97ms/step - loss: 0.5959 - accuracy: 0.9910 - val_loss: 1.7305 - val_accuracy: 0.9660\n",
            "Epoch 25/100\n",
            "30/30 [==============================] - 3s 98ms/step - loss: 0.5192 - accuracy: 0.9921 - val_loss: 1.6992 - val_accuracy: 0.9667\n",
            "Epoch 26/100\n",
            "30/30 [==============================] - 3s 97ms/step - loss: 0.4534 - accuracy: 0.9929 - val_loss: 1.6762 - val_accuracy: 0.9672\n",
            "Epoch 27/100\n",
            "30/30 [==============================] - 3s 97ms/step - loss: 0.3982 - accuracy: 0.9938 - val_loss: 1.6544 - val_accuracy: 0.9677\n",
            "Epoch 28/100\n",
            "30/30 [==============================] - 3s 98ms/step - loss: 0.3520 - accuracy: 0.9943 - val_loss: 1.6454 - val_accuracy: 0.9682\n",
            "Epoch 29/100\n",
            "30/30 [==============================] - 3s 98ms/step - loss: 0.3123 - accuracy: 0.9950 - val_loss: 1.6352 - val_accuracy: 0.9685\n",
            "Epoch 30/100\n",
            "30/30 [==============================] - 3s 98ms/step - loss: 0.2790 - accuracy: 0.9954 - val_loss: 1.6312 - val_accuracy: 0.9688\n",
            "Epoch 31/100\n",
            "30/30 [==============================] - 3s 98ms/step - loss: 0.2509 - accuracy: 0.9959 - val_loss: 1.6374 - val_accuracy: 0.9690\n",
            "Epoch 32/100\n",
            "30/30 [==============================] - 3s 99ms/step - loss: 0.2264 - accuracy: 0.9963 - val_loss: 1.6332 - val_accuracy: 0.9693\n",
            "Epoch 33/100\n",
            "30/30 [==============================] - 3s 98ms/step - loss: 0.2064 - accuracy: 0.9966 - val_loss: 1.6434 - val_accuracy: 0.9694\n",
            "Epoch 34/100\n",
            "30/30 [==============================] - 3s 98ms/step - loss: 0.1892 - accuracy: 0.9968 - val_loss: 1.6266 - val_accuracy: 0.9696\n",
            "Epoch 35/100\n",
            "30/30 [==============================] - 3s 98ms/step - loss: 0.1744 - accuracy: 0.9970 - val_loss: 1.6562 - val_accuracy: 0.9696\n",
            "Epoch 36/100\n",
            "30/30 [==============================] - 3s 99ms/step - loss: 0.1605 - accuracy: 0.9972 - val_loss: 1.6534 - val_accuracy: 0.9699\n",
            "Epoch 37/100\n",
            "30/30 [==============================] - 3s 97ms/step - loss: 0.1485 - accuracy: 0.9974 - val_loss: 1.6616 - val_accuracy: 0.9700\n",
            "Epoch 38/100\n",
            "30/30 [==============================] - 3s 97ms/step - loss: 0.1385 - accuracy: 0.9976 - val_loss: 1.6685 - val_accuracy: 0.9701\n",
            "Epoch 39/100\n",
            "30/30 [==============================] - 3s 98ms/step - loss: 0.1296 - accuracy: 0.9978 - val_loss: 1.6797 - val_accuracy: 0.9700\n",
            "Epoch 40/100\n",
            "30/30 [==============================] - 3s 98ms/step - loss: 0.1219 - accuracy: 0.9978 - val_loss: 1.6845 - val_accuracy: 0.9701\n",
            "Epoch 41/100\n",
            "30/30 [==============================] - 3s 97ms/step - loss: 0.1150 - accuracy: 0.9980 - val_loss: 1.6859 - val_accuracy: 0.9704\n",
            "Epoch 42/100\n",
            "30/30 [==============================] - 3s 98ms/step - loss: 0.1092 - accuracy: 0.9981 - val_loss: 1.6913 - val_accuracy: 0.9705\n",
            "Epoch 43/100\n",
            "30/30 [==============================] - 3s 98ms/step - loss: 0.1033 - accuracy: 0.9981 - val_loss: 1.7006 - val_accuracy: 0.9705\n",
            "Epoch 44/100\n",
            "30/30 [==============================] - 3s 96ms/step - loss: 0.0983 - accuracy: 0.9982 - val_loss: 1.7069 - val_accuracy: 0.9705\n",
            "Epoch 45/100\n",
            "30/30 [==============================] - 3s 97ms/step - loss: 0.0936 - accuracy: 0.9983 - val_loss: 1.7212 - val_accuracy: 0.9706\n",
            "Epoch 46/100\n",
            "30/30 [==============================] - 3s 99ms/step - loss: 0.0893 - accuracy: 0.9984 - val_loss: 1.7225 - val_accuracy: 0.9706\n",
            "Epoch 47/100\n",
            "30/30 [==============================] - 3s 98ms/step - loss: 0.0854 - accuracy: 0.9984 - val_loss: 1.7414 - val_accuracy: 0.9703\n",
            "Epoch 48/100\n",
            "30/30 [==============================] - 3s 97ms/step - loss: 0.0817 - accuracy: 0.9985 - val_loss: 1.7439 - val_accuracy: 0.9704\n",
            "Epoch 49/100\n",
            "30/30 [==============================] - 3s 97ms/step - loss: 0.0784 - accuracy: 0.9986 - val_loss: 1.7480 - val_accuracy: 0.9703\n",
            "Epoch 50/100\n",
            "30/30 [==============================] - 3s 98ms/step - loss: 0.0754 - accuracy: 0.9986 - val_loss: 1.7641 - val_accuracy: 0.9704\n",
            "Epoch 51/100\n",
            "30/30 [==============================] - 3s 98ms/step - loss: 0.0724 - accuracy: 0.9987 - val_loss: 1.7722 - val_accuracy: 0.9703\n",
            "Epoch 52/100\n",
            "30/30 [==============================] - 3s 98ms/step - loss: 0.0698 - accuracy: 0.9987 - val_loss: 1.7802 - val_accuracy: 0.9704\n",
            "Epoch 53/100\n",
            "30/30 [==============================] - 3s 98ms/step - loss: 0.0676 - accuracy: 0.9987 - val_loss: 1.7853 - val_accuracy: 0.9704\n",
            "Epoch 54/100\n",
            "30/30 [==============================] - 3s 98ms/step - loss: 0.0654 - accuracy: 0.9988 - val_loss: 1.8061 - val_accuracy: 0.9704\n",
            "Epoch 55/100\n",
            "30/30 [==============================] - 3s 98ms/step - loss: 0.0628 - accuracy: 0.9988 - val_loss: 1.8170 - val_accuracy: 0.9704\n",
            "Epoch 56/100\n",
            "30/30 [==============================] - 3s 98ms/step - loss: 0.0605 - accuracy: 0.9989 - val_loss: 1.8238 - val_accuracy: 0.9704\n",
            "Epoch 57/100\n",
            "30/30 [==============================] - 3s 98ms/step - loss: 0.0583 - accuracy: 0.9989 - val_loss: 1.8368 - val_accuracy: 0.9704\n",
            "Epoch 58/100\n",
            "30/30 [==============================] - 3s 97ms/step - loss: 0.0563 - accuracy: 0.9989 - val_loss: 1.8455 - val_accuracy: 0.9704\n",
            "Epoch 59/100\n",
            "30/30 [==============================] - 3s 97ms/step - loss: 0.0544 - accuracy: 0.9990 - val_loss: 1.8632 - val_accuracy: 0.9704\n",
            "Epoch 60/100\n",
            "30/30 [==============================] - 3s 98ms/step - loss: 0.0527 - accuracy: 0.9990 - val_loss: 1.8719 - val_accuracy: 0.9704\n",
            "Epoch 61/100\n",
            "30/30 [==============================] - 3s 97ms/step - loss: 0.0510 - accuracy: 0.9991 - val_loss: 1.8880 - val_accuracy: 0.9705\n",
            "Epoch 62/100\n",
            "30/30 [==============================] - 3s 98ms/step - loss: 0.0495 - accuracy: 0.9991 - val_loss: 1.8899 - val_accuracy: 0.9705\n",
            "Epoch 63/100\n",
            "30/30 [==============================] - 3s 100ms/step - loss: 0.0482 - accuracy: 0.9991 - val_loss: 1.9138 - val_accuracy: 0.9705\n",
            "Epoch 64/100\n",
            "30/30 [==============================] - 3s 97ms/step - loss: 0.0465 - accuracy: 0.9991 - val_loss: 1.9248 - val_accuracy: 0.9705\n",
            "Epoch 65/100\n",
            "30/30 [==============================] - 3s 98ms/step - loss: 0.0450 - accuracy: 0.9992 - val_loss: 1.9388 - val_accuracy: 0.9705\n",
            "Epoch 66/100\n",
            "30/30 [==============================] - 3s 98ms/step - loss: 0.0438 - accuracy: 0.9992 - val_loss: 1.9389 - val_accuracy: 0.9704\n",
            "Epoch 67/100\n",
            "30/30 [==============================] - 3s 98ms/step - loss: 0.0427 - accuracy: 0.9992 - val_loss: 1.9514 - val_accuracy: 0.9706\n",
            "Epoch 68/100\n",
            "30/30 [==============================] - 3s 97ms/step - loss: 0.0412 - accuracy: 0.9992 - val_loss: 1.9616 - val_accuracy: 0.9706\n",
            "Epoch 69/100\n",
            "30/30 [==============================] - 3s 97ms/step - loss: 0.0399 - accuracy: 0.9993 - val_loss: 1.9826 - val_accuracy: 0.9705\n",
            "Epoch 70/100\n",
            "30/30 [==============================] - 3s 99ms/step - loss: 0.0387 - accuracy: 0.9993 - val_loss: 1.9935 - val_accuracy: 0.9706\n",
            "Epoch 71/100\n",
            "30/30 [==============================] - 3s 98ms/step - loss: 0.0376 - accuracy: 0.9993 - val_loss: 2.0079 - val_accuracy: 0.9702\n",
            "Epoch 72/100\n",
            "30/30 [==============================] - 3s 98ms/step - loss: 0.0365 - accuracy: 0.9993 - val_loss: 2.0127 - val_accuracy: 0.9702\n",
            "Epoch 73/100\n",
            "30/30 [==============================] - 3s 98ms/step - loss: 0.0355 - accuracy: 0.9994 - val_loss: 2.0360 - val_accuracy: 0.9701\n",
            "Epoch 74/100\n",
            "30/30 [==============================] - 3s 98ms/step - loss: 0.0344 - accuracy: 0.9994 - val_loss: 2.0385 - val_accuracy: 0.9702\n",
            "Epoch 75/100\n",
            "30/30 [==============================] - 3s 98ms/step - loss: 0.0335 - accuracy: 0.9994 - val_loss: 2.0568 - val_accuracy: 0.9700\n",
            "Epoch 76/100\n",
            "30/30 [==============================] - 3s 99ms/step - loss: 0.0325 - accuracy: 0.9994 - val_loss: 2.0598 - val_accuracy: 0.9701\n",
            "Epoch 77/100\n",
            "30/30 [==============================] - 3s 98ms/step - loss: 0.0318 - accuracy: 0.9994 - val_loss: 2.0736 - val_accuracy: 0.9699\n",
            "Epoch 78/100\n",
            "30/30 [==============================] - 3s 101ms/step - loss: 0.0309 - accuracy: 0.9995 - val_loss: 2.0815 - val_accuracy: 0.9701\n",
            "Epoch 79/100\n",
            "30/30 [==============================] - 3s 99ms/step - loss: 0.0300 - accuracy: 0.9995 - val_loss: 2.0939 - val_accuracy: 0.9700\n",
            "Epoch 80/100\n",
            "30/30 [==============================] - 3s 100ms/step - loss: 0.0294 - accuracy: 0.9995 - val_loss: 2.1136 - val_accuracy: 0.9701\n",
            "Epoch 81/100\n",
            "30/30 [==============================] - 3s 102ms/step - loss: 0.0287 - accuracy: 0.9995 - val_loss: 2.1140 - val_accuracy: 0.9701\n",
            "Epoch 82/100\n",
            "30/30 [==============================] - 3s 100ms/step - loss: 0.0277 - accuracy: 0.9995 - val_loss: 2.1277 - val_accuracy: 0.9700\n",
            "Epoch 83/100\n",
            "30/30 [==============================] - 3s 99ms/step - loss: 0.0269 - accuracy: 0.9995 - val_loss: 2.1403 - val_accuracy: 0.9699\n",
            "Epoch 84/100\n",
            "30/30 [==============================] - 3s 100ms/step - loss: 0.0261 - accuracy: 0.9995 - val_loss: 2.1512 - val_accuracy: 0.9699\n",
            "Epoch 85/100\n",
            "30/30 [==============================] - 3s 98ms/step - loss: 0.0254 - accuracy: 0.9995 - val_loss: 2.1648 - val_accuracy: 0.9700\n",
            "Epoch 86/100\n",
            "30/30 [==============================] - 3s 99ms/step - loss: 0.0247 - accuracy: 0.9996 - val_loss: 2.1691 - val_accuracy: 0.9700\n",
            "Epoch 87/100\n",
            "30/30 [==============================] - 3s 99ms/step - loss: 0.0242 - accuracy: 0.9996 - val_loss: 2.1825 - val_accuracy: 0.9699\n",
            "Epoch 88/100\n",
            "30/30 [==============================] - 3s 99ms/step - loss: 0.0235 - accuracy: 0.9996 - val_loss: 2.1900 - val_accuracy: 0.9699\n",
            "Epoch 89/100\n",
            "30/30 [==============================] - 3s 99ms/step - loss: 0.0229 - accuracy: 0.9996 - val_loss: 2.2041 - val_accuracy: 0.9700\n",
            "Epoch 90/100\n",
            "30/30 [==============================] - 3s 99ms/step - loss: 0.0224 - accuracy: 0.9996 - val_loss: 2.2125 - val_accuracy: 0.9700\n",
            "Epoch 91/100\n",
            "30/30 [==============================] - 3s 101ms/step - loss: 0.0219 - accuracy: 0.9996 - val_loss: 2.2157 - val_accuracy: 0.9700\n",
            "Epoch 92/100\n",
            "30/30 [==============================] - 3s 99ms/step - loss: 0.0212 - accuracy: 0.9996 - val_loss: 2.2324 - val_accuracy: 0.9700\n",
            "Epoch 93/100\n",
            "30/30 [==============================] - 3s 100ms/step - loss: 0.0206 - accuracy: 0.9996 - val_loss: 2.2416 - val_accuracy: 0.9700\n",
            "Epoch 94/100\n",
            "30/30 [==============================] - 3s 100ms/step - loss: 0.0201 - accuracy: 0.9997 - val_loss: 2.2546 - val_accuracy: 0.9700\n",
            "Epoch 95/100\n",
            "30/30 [==============================] - 3s 99ms/step - loss: 0.0195 - accuracy: 0.9997 - val_loss: 2.2610 - val_accuracy: 0.9698\n",
            "Epoch 96/100\n",
            "30/30 [==============================] - 3s 99ms/step - loss: 0.0190 - accuracy: 0.9997 - val_loss: 2.2818 - val_accuracy: 0.9698\n",
            "Epoch 97/100\n",
            "30/30 [==============================] - 3s 102ms/step - loss: 0.0185 - accuracy: 0.9997 - val_loss: 2.2777 - val_accuracy: 0.9696\n",
            "Epoch 98/100\n",
            "30/30 [==============================] - 3s 101ms/step - loss: 0.0180 - accuracy: 0.9997 - val_loss: 2.2959 - val_accuracy: 0.9697\n",
            "Epoch 99/100\n",
            "30/30 [==============================] - 3s 101ms/step - loss: 0.0176 - accuracy: 0.9997 - val_loss: 2.3057 - val_accuracy: 0.9697\n",
            "Epoch 100/100\n",
            "30/30 [==============================] - 3s 101ms/step - loss: 0.0171 - accuracy: 0.9997 - val_loss: 2.3219 - val_accuracy: 0.9696\n"
          ]
        }
      ]
    },
    {
      "cell_type": "markdown",
      "metadata": {
        "id": "2yF_eC0EXCO0"
      },
      "source": [
        "#### Plots"
      ]
    },
    {
      "cell_type": "code",
      "metadata": {
        "id": "ahpgKT0zXEuY",
        "outputId": "82be7f0b-91a9-4f4b-bcc4-f3532fdb48cf",
        "colab": {
          "base_uri": "https://localhost:8080/",
          "height": 573
        }
      },
      "source": [
        "plt.plot(history.history['accuracy'])\n",
        "plt.plot(history.history['val_accuracy'])\n",
        "plt.title('model accuracy')\n",
        "plt.ylabel('accuracy')\n",
        "plt.xlabel('epoch')\n",
        "plt.legend(['train', 'validation'], loc='upper left')\n",
        "plt.show()\n",
        "\n",
        "plt.plot(history.history['loss'])\n",
        "plt.plot(history.history['val_loss'])\n",
        "plt.title('model loss')\n",
        "plt.ylabel('loss')\n",
        "plt.xlabel('epoch')\n",
        "plt.legend(['train', 'validation'], loc='upper left')\n",
        "plt.show()"
      ],
      "execution_count": 29,
      "outputs": [
        {
          "output_type": "display_data",
          "data": {
            "image/png": "[encoded data removed]",
            "text/plain": [
              "<Figure size 432x288 with 1 Axes>"
            ]
          },
          "metadata": {
            "needs_background": "light"
          }
        },
        {
          "output_type": "display_data",
          "data": {
            "image/png": "[encoded data removed]",
            "text/plain": [
              "<Figure size 432x288 with 1 Axes>"
            ]
          },
          "metadata": {
            "needs_background": "light"
          }
        }
      ]
    },
    {
      "cell_type": "markdown",
      "metadata": {
        "id": "rtT1h1G-VZP5"
      },
      "source": [
        "## 2 LSTM"
      ]
    },
    {
      "cell_type": "code",
      "metadata": {
        "id": "UrrBTDesVdsn"
      },
      "source": [
        "def LSTMModel(embedding_vector_length):\n",
        "  model_2_LSTM = Sequential()\n",
        "  model_2_LSTM.add(Embedding(len(tokenizer.vocab.keys())+1, embedding_vector_length, \n",
        "                      input_length=max_seq_length, \n",
        "                      trainable=True))  # do not train embeddings\n",
        "  model_2_LSTM.add(Bidirectional(LSTM(max_seq_length, return_sequences=True)))\n",
        "  model_2_LSTM.add(Bidirectional(LSTM(max_seq_length, return_sequences=True)))\n",
        "  model_2_LSTM.add(TimeDistributed(Dense(len(set_pos)+1,  # +1 due to 'PAD'\n",
        "                                  activation='softmax')))\n",
        "\n",
        "  if weight_applied:\n",
        "    model_2_LSTM.compile(loss='categorical_crossentropy', optimizer='adam', \n",
        "                  weighted_metrics=['accuracy'], sample_weight_mode=\"temporal\")\n",
        "  else:\n",
        "    model_2_LSTM.compile(loss='categorical_crossentropy', optimizer='adam', \n",
        "                  metrics=['accuracy'])\n",
        "  #print(model_2_LSTM.summary())\n",
        "  return model_2_LSTM"
      ],
      "execution_count": 30,
      "outputs": []
    },
    {
      "cell_type": "markdown",
      "metadata": {
        "id": "wP5u35QqVceJ"
      },
      "source": [
        "### Training"
      ]
    },
    {
      "cell_type": "code",
      "metadata": {
        "id": "67vxEDYQWIQE",
        "outputId": "77f793bf-4afa-41a4-c317-c1c4627f5311",
        "colab": {
          "base_uri": "https://localhost:8080/"
        }
      },
      "source": [
        "model_2_LSTM = LSTMModel(embedding_vector_length)\n",
        "history = model_2_LSTM.fit(x_train, Y_train, validation_data=(x_val, Y_val, sample_weights_val), epochs=100, \n",
        "                    batch_size=64, sample_weight=sample_weights_train)"
      ],
      "execution_count": 31,
      "outputs": [
        {
          "output_type": "stream",
          "name": "stdout",
          "text": [
            "Epoch 1/100\n",
            "30/30 [==============================] - 15s 268ms/step - loss: 17.2170 - accuracy: 0.8793 - val_loss: 6.4881 - val_accuracy: 0.9060\n",
            "Epoch 2/100\n",
            "30/30 [==============================] - 6s 199ms/step - loss: 5.0623 - accuracy: 0.9108 - val_loss: 4.5589 - val_accuracy: 0.9060\n",
            "Epoch 3/100\n",
            "30/30 [==============================] - 6s 201ms/step - loss: 3.8974 - accuracy: 0.9126 - val_loss: 4.0940 - val_accuracy: 0.9070\n",
            "Epoch 4/100\n",
            "30/30 [==============================] - 6s 202ms/step - loss: 3.7020 - accuracy: 0.9136 - val_loss: 3.9931 - val_accuracy: 0.9089\n",
            "Epoch 5/100\n",
            "30/30 [==============================] - 6s 203ms/step - loss: 3.6330 - accuracy: 0.9152 - val_loss: 3.9028 - val_accuracy: 0.9078\n",
            "Epoch 6/100\n",
            "30/30 [==============================] - 6s 205ms/step - loss: 3.5851 - accuracy: 0.9129 - val_loss: 3.8892 - val_accuracy: 0.9082\n",
            "Epoch 7/100\n",
            "30/30 [==============================] - 6s 203ms/step - loss: 3.5440 - accuracy: 0.9193 - val_loss: 3.8816 - val_accuracy: 0.9085\n",
            "Epoch 8/100\n",
            "30/30 [==============================] - 6s 204ms/step - loss: 3.5130 - accuracy: 0.9182 - val_loss: 3.8807 - val_accuracy: 0.9081\n",
            "Epoch 9/100\n",
            "30/30 [==============================] - 6s 202ms/step - loss: 3.4803 - accuracy: 0.9213 - val_loss: 3.8990 - val_accuracy: 0.9085\n",
            "Epoch 10/100\n",
            "30/30 [==============================] - 6s 201ms/step - loss: 3.4573 - accuracy: 0.9197 - val_loss: 3.9012 - val_accuracy: 0.9081\n",
            "Epoch 11/100\n",
            "30/30 [==============================] - 6s 203ms/step - loss: 3.4279 - accuracy: 0.9217 - val_loss: 3.8941 - val_accuracy: 0.9084\n",
            "Epoch 12/100\n",
            "30/30 [==============================] - 6s 202ms/step - loss: 3.3964 - accuracy: 0.9213 - val_loss: 3.9014 - val_accuracy: 0.9090\n",
            "Epoch 13/100\n",
            "30/30 [==============================] - 6s 202ms/step - loss: 3.3425 - accuracy: 0.9224 - val_loss: 3.8972 - val_accuracy: 0.9087\n",
            "Epoch 14/100\n",
            "30/30 [==============================] - 6s 200ms/step - loss: 3.2786 - accuracy: 0.9241 - val_loss: 3.8477 - val_accuracy: 0.9099\n",
            "Epoch 15/100\n",
            "30/30 [==============================] - 6s 201ms/step - loss: 3.2027 - accuracy: 0.9240 - val_loss: 3.8831 - val_accuracy: 0.9102\n",
            "Epoch 16/100\n",
            "30/30 [==============================] - 6s 202ms/step - loss: 3.1523 - accuracy: 0.9259 - val_loss: 3.8915 - val_accuracy: 0.9100\n",
            "Epoch 17/100\n",
            "30/30 [==============================] - 6s 202ms/step - loss: 3.0581 - accuracy: 0.9269 - val_loss: 3.8329 - val_accuracy: 0.9100\n",
            "Epoch 18/100\n",
            "30/30 [==============================] - 6s 204ms/step - loss: 2.9481 - accuracy: 0.9294 - val_loss: 3.8843 - val_accuracy: 0.9101\n",
            "Epoch 19/100\n",
            "30/30 [==============================] - 6s 203ms/step - loss: 2.8950 - accuracy: 0.9295 - val_loss: 3.9407 - val_accuracy: 0.9096\n",
            "Epoch 20/100\n",
            "30/30 [==============================] - 6s 204ms/step - loss: 2.8032 - accuracy: 0.9319 - val_loss: 3.9850 - val_accuracy: 0.9108\n",
            "Epoch 21/100\n",
            "30/30 [==============================] - 6s 202ms/step - loss: 2.6985 - accuracy: 0.9355 - val_loss: 4.0016 - val_accuracy: 0.9116\n",
            "Epoch 22/100\n",
            "30/30 [==============================] - 6s 204ms/step - loss: 2.6306 - accuracy: 0.9373 - val_loss: 4.1822 - val_accuracy: 0.9112\n",
            "Epoch 23/100\n",
            "30/30 [==============================] - 6s 203ms/step - loss: 2.6166 - accuracy: 0.9379 - val_loss: 4.0182 - val_accuracy: 0.9119\n",
            "Epoch 24/100\n",
            "30/30 [==============================] - 6s 203ms/step - loss: 2.5403 - accuracy: 0.9380 - val_loss: 4.0683 - val_accuracy: 0.9127\n",
            "Epoch 25/100\n",
            "30/30 [==============================] - 6s 202ms/step - loss: 2.4403 - accuracy: 0.9426 - val_loss: 4.1325 - val_accuracy: 0.9126\n",
            "Epoch 26/100\n",
            "30/30 [==============================] - 6s 201ms/step - loss: 2.3724 - accuracy: 0.9432 - val_loss: 4.1041 - val_accuracy: 0.9138\n",
            "Epoch 27/100\n",
            "30/30 [==============================] - 6s 202ms/step - loss: 2.2744 - accuracy: 0.9450 - val_loss: 4.1567 - val_accuracy: 0.9136\n",
            "Epoch 28/100\n",
            "30/30 [==============================] - 6s 201ms/step - loss: 2.1903 - accuracy: 0.9476 - val_loss: 4.1276 - val_accuracy: 0.9156\n",
            "Epoch 29/100\n",
            "30/30 [==============================] - 6s 202ms/step - loss: 2.1121 - accuracy: 0.9497 - val_loss: 4.1744 - val_accuracy: 0.9157\n",
            "Epoch 30/100\n",
            "30/30 [==============================] - 6s 203ms/step - loss: 2.0519 - accuracy: 0.9502 - val_loss: 4.0731 - val_accuracy: 0.9173\n",
            "Epoch 31/100\n",
            "30/30 [==============================] - 6s 201ms/step - loss: 1.9726 - accuracy: 0.9518 - val_loss: 4.0452 - val_accuracy: 0.9190\n",
            "Epoch 32/100\n",
            "30/30 [==============================] - 6s 202ms/step - loss: 1.9046 - accuracy: 0.9535 - val_loss: 4.0446 - val_accuracy: 0.9200\n",
            "Epoch 33/100\n",
            "30/30 [==============================] - 6s 202ms/step - loss: 1.8350 - accuracy: 0.9548 - val_loss: 3.9540 - val_accuracy: 0.9218\n",
            "Epoch 34/100\n",
            "30/30 [==============================] - 8s 253ms/step - loss: 1.7653 - accuracy: 0.9567 - val_loss: 3.9849 - val_accuracy: 0.9233\n",
            "Epoch 35/100\n",
            "30/30 [==============================] - 7s 215ms/step - loss: 1.7152 - accuracy: 0.9579 - val_loss: 3.9328 - val_accuracy: 0.9251\n",
            "Epoch 36/100\n",
            "30/30 [==============================] - 6s 202ms/step - loss: 1.6361 - accuracy: 0.9598 - val_loss: 3.8453 - val_accuracy: 0.9272\n",
            "Epoch 37/100\n",
            "30/30 [==============================] - 6s 202ms/step - loss: 1.5406 - accuracy: 0.9625 - val_loss: 3.7511 - val_accuracy: 0.9298\n",
            "Epoch 38/100\n",
            "30/30 [==============================] - 6s 202ms/step - loss: 1.4568 - accuracy: 0.9646 - val_loss: 3.7097 - val_accuracy: 0.9307\n",
            "Epoch 39/100\n",
            "30/30 [==============================] - 6s 203ms/step - loss: 1.3642 - accuracy: 0.9670 - val_loss: 3.6111 - val_accuracy: 0.9329\n",
            "Epoch 40/100\n",
            "30/30 [==============================] - 6s 203ms/step - loss: 1.2805 - accuracy: 0.9689 - val_loss: 3.5958 - val_accuracy: 0.9347\n",
            "Epoch 41/100\n",
            "30/30 [==============================] - 6s 202ms/step - loss: 1.1996 - accuracy: 0.9712 - val_loss: 3.5069 - val_accuracy: 0.9373\n",
            "Epoch 42/100\n",
            "30/30 [==============================] - 6s 202ms/step - loss: 1.1266 - accuracy: 0.9734 - val_loss: 3.4055 - val_accuracy: 0.9393\n",
            "Epoch 43/100\n",
            "30/30 [==============================] - 6s 203ms/step - loss: 1.0653 - accuracy: 0.9750 - val_loss: 3.3844 - val_accuracy: 0.9409\n",
            "Epoch 44/100\n",
            "30/30 [==============================] - 6s 204ms/step - loss: 1.0958 - accuracy: 0.9742 - val_loss: 3.2731 - val_accuracy: 0.9383\n",
            "Epoch 45/100\n",
            "30/30 [==============================] - 6s 204ms/step - loss: 1.2705 - accuracy: 0.9704 - val_loss: 3.0398 - val_accuracy: 0.9425\n",
            "Epoch 46/100\n",
            "30/30 [==============================] - 6s 203ms/step - loss: 1.0068 - accuracy: 0.9774 - val_loss: 3.1022 - val_accuracy: 0.9454\n",
            "Epoch 47/100\n",
            "30/30 [==============================] - 6s 206ms/step - loss: 0.8519 - accuracy: 0.9812 - val_loss: 3.0653 - val_accuracy: 0.9476\n",
            "Epoch 48/100\n",
            "30/30 [==============================] - 6s 203ms/step - loss: 0.7760 - accuracy: 0.9831 - val_loss: 3.0668 - val_accuracy: 0.9489\n",
            "Epoch 49/100\n",
            "30/30 [==============================] - 6s 205ms/step - loss: 0.7136 - accuracy: 0.9847 - val_loss: 2.9939 - val_accuracy: 0.9508\n",
            "Epoch 50/100\n",
            "30/30 [==============================] - 6s 203ms/step - loss: 0.6505 - accuracy: 0.9863 - val_loss: 2.9872 - val_accuracy: 0.9523\n",
            "Epoch 51/100\n",
            "30/30 [==============================] - 6s 203ms/step - loss: 0.5973 - accuracy: 0.9876 - val_loss: 2.9653 - val_accuracy: 0.9535\n",
            "Epoch 52/100\n",
            "30/30 [==============================] - 6s 203ms/step - loss: 0.5488 - accuracy: 0.9890 - val_loss: 2.9364 - val_accuracy: 0.9545\n",
            "Epoch 53/100\n",
            "30/30 [==============================] - 6s 204ms/step - loss: 0.5053 - accuracy: 0.9901 - val_loss: 2.9165 - val_accuracy: 0.9556\n",
            "Epoch 54/100\n",
            "30/30 [==============================] - 6s 204ms/step - loss: 0.4667 - accuracy: 0.9910 - val_loss: 2.9064 - val_accuracy: 0.9565\n",
            "Epoch 55/100\n",
            "30/30 [==============================] - 6s 204ms/step - loss: 0.4324 - accuracy: 0.9919 - val_loss: 2.8847 - val_accuracy: 0.9573\n",
            "Epoch 56/100\n",
            "30/30 [==============================] - 6s 202ms/step - loss: 0.4015 - accuracy: 0.9925 - val_loss: 2.8792 - val_accuracy: 0.9581\n",
            "Epoch 57/100\n",
            "30/30 [==============================] - 6s 203ms/step - loss: 0.3709 - accuracy: 0.9932 - val_loss: 2.8315 - val_accuracy: 0.9588\n",
            "Epoch 58/100\n",
            "30/30 [==============================] - 6s 203ms/step - loss: 0.3436 - accuracy: 0.9938 - val_loss: 2.8686 - val_accuracy: 0.9589\n",
            "Epoch 59/100\n",
            "30/30 [==============================] - 6s 203ms/step - loss: 0.3187 - accuracy: 0.9944 - val_loss: 2.8551 - val_accuracy: 0.9595\n",
            "Epoch 60/100\n",
            "30/30 [==============================] - 6s 202ms/step - loss: 0.2970 - accuracy: 0.9949 - val_loss: 2.8441 - val_accuracy: 0.9598\n",
            "Epoch 61/100\n",
            "30/30 [==============================] - 6s 202ms/step - loss: 0.2758 - accuracy: 0.9954 - val_loss: 2.8467 - val_accuracy: 0.9602\n",
            "Epoch 62/100\n",
            "30/30 [==============================] - 6s 202ms/step - loss: 0.2572 - accuracy: 0.9957 - val_loss: 2.8001 - val_accuracy: 0.9604\n",
            "Epoch 63/100\n",
            "30/30 [==============================] - 6s 203ms/step - loss: 0.2394 - accuracy: 0.9961 - val_loss: 2.8146 - val_accuracy: 0.9610\n",
            "Epoch 64/100\n",
            "30/30 [==============================] - 6s 203ms/step - loss: 0.2240 - accuracy: 0.9964 - val_loss: 2.8274 - val_accuracy: 0.9610\n",
            "Epoch 65/100\n",
            "30/30 [==============================] - 6s 204ms/step - loss: 0.2118 - accuracy: 0.9966 - val_loss: 2.8492 - val_accuracy: 0.9613\n",
            "Epoch 66/100\n",
            "30/30 [==============================] - 6s 204ms/step - loss: 0.1978 - accuracy: 0.9970 - val_loss: 2.8725 - val_accuracy: 0.9616\n",
            "Epoch 67/100\n",
            "30/30 [==============================] - 6s 203ms/step - loss: 0.1847 - accuracy: 0.9972 - val_loss: 2.8250 - val_accuracy: 0.9618\n",
            "Epoch 68/100\n",
            "30/30 [==============================] - 6s 202ms/step - loss: 0.1726 - accuracy: 0.9974 - val_loss: 2.8532 - val_accuracy: 0.9620\n",
            "Epoch 69/100\n",
            "30/30 [==============================] - 6s 203ms/step - loss: 0.1623 - accuracy: 0.9976 - val_loss: 2.8477 - val_accuracy: 0.9621\n",
            "Epoch 70/100\n",
            "30/30 [==============================] - 6s 202ms/step - loss: 0.1526 - accuracy: 0.9978 - val_loss: 2.8629 - val_accuracy: 0.9623\n",
            "Epoch 71/100\n",
            "30/30 [==============================] - 6s 204ms/step - loss: 0.1441 - accuracy: 0.9979 - val_loss: 2.8716 - val_accuracy: 0.9624\n",
            "Epoch 72/100\n",
            "30/30 [==============================] - 6s 203ms/step - loss: 0.1359 - accuracy: 0.9980 - val_loss: 2.8645 - val_accuracy: 0.9626\n",
            "Epoch 73/100\n",
            "30/30 [==============================] - 6s 202ms/step - loss: 0.1287 - accuracy: 0.9982 - val_loss: 2.8717 - val_accuracy: 0.9626\n",
            "Epoch 74/100\n",
            "30/30 [==============================] - 6s 204ms/step - loss: 0.1216 - accuracy: 0.9983 - val_loss: 2.8472 - val_accuracy: 0.9629\n",
            "Epoch 75/100\n",
            "30/30 [==============================] - 6s 204ms/step - loss: 0.1157 - accuracy: 0.9984 - val_loss: 2.8733 - val_accuracy: 0.9630\n",
            "Epoch 76/100\n",
            "30/30 [==============================] - 6s 202ms/step - loss: 0.1095 - accuracy: 0.9985 - val_loss: 2.9110 - val_accuracy: 0.9630\n",
            "Epoch 77/100\n",
            "30/30 [==============================] - 6s 202ms/step - loss: 0.1046 - accuracy: 0.9985 - val_loss: 2.9195 - val_accuracy: 0.9631\n",
            "Epoch 78/100\n",
            "30/30 [==============================] - 6s 202ms/step - loss: 0.1001 - accuracy: 0.9986 - val_loss: 2.8868 - val_accuracy: 0.9631\n",
            "Epoch 79/100\n",
            "30/30 [==============================] - 6s 203ms/step - loss: 0.0950 - accuracy: 0.9986 - val_loss: 2.8936 - val_accuracy: 0.9631\n",
            "Epoch 80/100\n",
            "30/30 [==============================] - 6s 201ms/step - loss: 0.0905 - accuracy: 0.9987 - val_loss: 2.9196 - val_accuracy: 0.9636\n",
            "Epoch 81/100\n",
            "30/30 [==============================] - 6s 202ms/step - loss: 0.0865 - accuracy: 0.9988 - val_loss: 2.9185 - val_accuracy: 0.9643\n",
            "Epoch 82/100\n",
            "30/30 [==============================] - 6s 202ms/step - loss: 0.0826 - accuracy: 0.9988 - val_loss: 2.9119 - val_accuracy: 0.9645\n",
            "Epoch 83/100\n",
            "30/30 [==============================] - 6s 204ms/step - loss: 0.0792 - accuracy: 0.9989 - val_loss: 2.9381 - val_accuracy: 0.9644\n",
            "Epoch 84/100\n",
            "30/30 [==============================] - 6s 205ms/step - loss: 0.0758 - accuracy: 0.9989 - val_loss: 2.9939 - val_accuracy: 0.9644\n",
            "Epoch 85/100\n",
            "30/30 [==============================] - 6s 203ms/step - loss: 0.0731 - accuracy: 0.9990 - val_loss: 2.9543 - val_accuracy: 0.9644\n",
            "Epoch 86/100\n",
            "30/30 [==============================] - 6s 204ms/step - loss: 0.0703 - accuracy: 0.9990 - val_loss: 2.9277 - val_accuracy: 0.9652\n",
            "Epoch 87/100\n",
            "30/30 [==============================] - 6s 205ms/step - loss: 0.0670 - accuracy: 0.9990 - val_loss: 2.9540 - val_accuracy: 0.9650\n",
            "Epoch 88/100\n",
            "30/30 [==============================] - 6s 204ms/step - loss: 0.0642 - accuracy: 0.9991 - val_loss: 2.9630 - val_accuracy: 0.9651\n",
            "Epoch 89/100\n",
            "30/30 [==============================] - 6s 203ms/step - loss: 0.0618 - accuracy: 0.9991 - val_loss: 3.0069 - val_accuracy: 0.9652\n",
            "Epoch 90/100\n",
            "30/30 [==============================] - 6s 204ms/step - loss: 0.0592 - accuracy: 0.9992 - val_loss: 2.9871 - val_accuracy: 0.9652\n",
            "Epoch 91/100\n",
            "30/30 [==============================] - 6s 204ms/step - loss: 0.0567 - accuracy: 0.9992 - val_loss: 2.9830 - val_accuracy: 0.9649\n",
            "Epoch 92/100\n",
            "30/30 [==============================] - 6s 203ms/step - loss: 0.0553 - accuracy: 0.9993 - val_loss: 3.0052 - val_accuracy: 0.9652\n",
            "Epoch 93/100\n",
            "30/30 [==============================] - 6s 204ms/step - loss: 0.0529 - accuracy: 0.9993 - val_loss: 3.0703 - val_accuracy: 0.9652\n",
            "Epoch 94/100\n",
            "30/30 [==============================] - 6s 205ms/step - loss: 0.0514 - accuracy: 0.9993 - val_loss: 3.0603 - val_accuracy: 0.9656\n",
            "Epoch 95/100\n",
            "30/30 [==============================] - 6s 206ms/step - loss: 0.0490 - accuracy: 0.9993 - val_loss: 3.0192 - val_accuracy: 0.9658\n",
            "Epoch 96/100\n",
            "30/30 [==============================] - 6s 204ms/step - loss: 0.0470 - accuracy: 0.9994 - val_loss: 3.0832 - val_accuracy: 0.9652\n",
            "Epoch 97/100\n",
            "30/30 [==============================] - 6s 203ms/step - loss: 0.0452 - accuracy: 0.9994 - val_loss: 3.0426 - val_accuracy: 0.9658\n",
            "Epoch 98/100\n",
            "30/30 [==============================] - 6s 205ms/step - loss: 0.0436 - accuracy: 0.9994 - val_loss: 3.0765 - val_accuracy: 0.9654\n",
            "Epoch 99/100\n",
            "30/30 [==============================] - 6s 205ms/step - loss: 0.0422 - accuracy: 0.9995 - val_loss: 3.0755 - val_accuracy: 0.9656\n",
            "Epoch 100/100\n",
            "30/30 [==============================] - 6s 204ms/step - loss: 0.0408 - accuracy: 0.9995 - val_loss: 3.0956 - val_accuracy: 0.9659\n"
          ]
        }
      ]
    },
    {
      "cell_type": "markdown",
      "metadata": {
        "id": "6kc8XWp7XGXC"
      },
      "source": [
        "#### Plots"
      ]
    },
    {
      "cell_type": "code",
      "metadata": {
        "id": "B2V7ibqCXIA0",
        "outputId": "46fc1082-6dc2-4a83-a683-cd5620c803e9",
        "colab": {
          "base_uri": "https://localhost:8080/",
          "height": 573
        }
      },
      "source": [
        "plt.plot(history.history['accuracy'])\n",
        "plt.plot(history.history['val_accuracy'])\n",
        "plt.title('model accuracy')\n",
        "plt.ylabel('accuracy')\n",
        "plt.xlabel('epoch')\n",
        "plt.legend(['train', 'validation'], loc='upper left')\n",
        "plt.show()\n",
        "\n",
        "plt.plot(history.history['loss'])\n",
        "plt.plot(history.history['val_loss'])\n",
        "plt.title('model loss')\n",
        "plt.ylabel('loss')\n",
        "plt.xlabel('epoch')\n",
        "plt.legend(['train', 'validation'], loc='upper left')\n",
        "plt.show()"
      ],
      "execution_count": 32,
      "outputs": [
        {
          "output_type": "display_data",
          "data": {
            "image/png": "[encoded data removed]",
            "text/plain": [
              "<Figure size 432x288 with 1 Axes>"
            ]
          },
          "metadata": {
            "needs_background": "light"
          }
        },
        {
          "output_type": "display_data",
          "data": {
            "image/png": "[encoded data removed]",
            "text/plain": [
              "<Figure size 432x288 with 1 Axes>"
            ]
          },
          "metadata": {
            "needs_background": "light"
          }
        }
      ]
    },
    {
      "cell_type": "markdown",
      "metadata": {
        "id": "Fe7ETkc1WR3-"
      },
      "source": [
        "## 2 Dense"
      ]
    },
    {
      "cell_type": "code",
      "metadata": {
        "id": "iQExluIcWTUS"
      },
      "source": [
        "def DenseModel(embedding_vector_length, hidden_units):\n",
        "  model_2_dense = Sequential()\n",
        "  model_2_dense.add(Embedding(len(tokenizer.vocab.keys())+1, embedding_vector_length, \n",
        "                      input_length=max_seq_length, \n",
        "                      trainable=True))  # do not train embeddings\n",
        "  model_2_dense.add(Bidirectional(LSTM(max_seq_length, return_sequences=True)))\n",
        "  model_2_dense.add(TimeDistributed(Dense(hidden_units, activation='relu')))\n",
        "  model_2_dense.add(TimeDistributed(Dense(len(set_pos)+1,  # +1 due to 'PAD'\n",
        "                                  activation='softmax')))\n",
        "\n",
        "  if weight_applied:\n",
        "    model_2_dense.compile(loss='categorical_crossentropy', optimizer='adam', \n",
        "                  weighted_metrics=['accuracy'], sample_weight_mode=\"temporal\")\n",
        "  else:\n",
        "    model_2_dense.compile(loss='categorical_crossentropy', optimizer='adam', \n",
        "                  metrics=['accuracy'])\n",
        "  \n",
        "  #print(model_2_dense.summary())\n",
        "  return model_2_dense"
      ],
      "execution_count": 33,
      "outputs": []
    },
    {
      "cell_type": "markdown",
      "metadata": {
        "id": "FlYcaAijWTeK"
      },
      "source": [
        "### Training"
      ]
    },
    {
      "cell_type": "code",
      "metadata": {
        "id": "bzsGHnzgWTs3",
        "outputId": "38c65c9d-ddbd-4ae9-87dd-f44958bb15f4",
        "colab": {
          "base_uri": "https://localhost:8080/"
        }
      },
      "source": [
        "model_2_dense = DenseModel(embedding_vector_length, max_seq_length)\n",
        "history = model_2_dense.fit(x_train, Y_train, validation_data=(x_val, Y_val, sample_weights_val), epochs=100, \n",
        "                    batch_size=64, sample_weight=sample_weights_train)"
      ],
      "execution_count": 34,
      "outputs": [
        {
          "output_type": "stream",
          "name": "stdout",
          "text": [
            "Epoch 1/100\n",
            "30/30 [==============================] - 9s 145ms/step - loss: 23.2874 - accuracy: 0.8784 - val_loss: 7.6287 - val_accuracy: 0.9060\n",
            "Epoch 2/100\n",
            "30/30 [==============================] - 3s 105ms/step - loss: 5.5804 - accuracy: 0.9108 - val_loss: 4.8229 - val_accuracy: 0.9060\n",
            "Epoch 3/100\n",
            "30/30 [==============================] - 3s 105ms/step - loss: 4.2541 - accuracy: 0.9108 - val_loss: 4.3376 - val_accuracy: 0.9060\n",
            "Epoch 4/100\n",
            "30/30 [==============================] - 3s 103ms/step - loss: 3.8320 - accuracy: 0.9113 - val_loss: 4.1523 - val_accuracy: 0.9067\n",
            "Epoch 5/100\n",
            "30/30 [==============================] - 3s 105ms/step - loss: 3.7084 - accuracy: 0.9128 - val_loss: 4.0722 - val_accuracy: 0.9087\n",
            "Epoch 6/100\n",
            "30/30 [==============================] - 3s 105ms/step - loss: 3.6366 - accuracy: 0.9157 - val_loss: 3.9906 - val_accuracy: 0.9081\n",
            "Epoch 7/100\n",
            "30/30 [==============================] - 3s 105ms/step - loss: 3.5779 - accuracy: 0.9150 - val_loss: 3.9648 - val_accuracy: 0.9087\n",
            "Epoch 8/100\n",
            "30/30 [==============================] - 3s 106ms/step - loss: 3.5260 - accuracy: 0.9161 - val_loss: 3.9253 - val_accuracy: 0.9090\n",
            "Epoch 9/100\n",
            "30/30 [==============================] - 3s 106ms/step - loss: 3.4733 - accuracy: 0.9157 - val_loss: 3.9043 - val_accuracy: 0.9092\n",
            "Epoch 10/100\n",
            "30/30 [==============================] - 3s 105ms/step - loss: 3.4073 - accuracy: 0.9167 - val_loss: 3.9653 - val_accuracy: 0.9090\n",
            "Epoch 11/100\n",
            "30/30 [==============================] - 3s 106ms/step - loss: 3.3405 - accuracy: 0.9178 - val_loss: 3.9033 - val_accuracy: 0.9106\n",
            "Epoch 12/100\n",
            "30/30 [==============================] - 3s 107ms/step - loss: 3.2635 - accuracy: 0.9185 - val_loss: 3.8455 - val_accuracy: 0.9100\n",
            "Epoch 13/100\n",
            "30/30 [==============================] - 3s 105ms/step - loss: 3.1733 - accuracy: 0.9204 - val_loss: 3.7490 - val_accuracy: 0.9123\n",
            "Epoch 14/100\n",
            "30/30 [==============================] - 3s 104ms/step - loss: 3.0441 - accuracy: 0.9228 - val_loss: 3.7115 - val_accuracy: 0.9137\n",
            "Epoch 15/100\n",
            "30/30 [==============================] - 3s 106ms/step - loss: 2.9529 - accuracy: 0.9228 - val_loss: 3.7142 - val_accuracy: 0.9149\n",
            "Epoch 16/100\n",
            "30/30 [==============================] - 3s 105ms/step - loss: 2.8157 - accuracy: 0.9270 - val_loss: 3.6184 - val_accuracy: 0.9147\n",
            "Epoch 17/100\n",
            "30/30 [==============================] - 3s 106ms/step - loss: 2.7067 - accuracy: 0.9298 - val_loss: 3.6103 - val_accuracy: 0.9158\n",
            "Epoch 18/100\n",
            "30/30 [==============================] - 3s 106ms/step - loss: 2.6096 - accuracy: 0.9313 - val_loss: 3.5570 - val_accuracy: 0.9166\n",
            "Epoch 19/100\n",
            "30/30 [==============================] - 3s 106ms/step - loss: 2.5064 - accuracy: 0.9348 - val_loss: 3.5265 - val_accuracy: 0.9174\n",
            "Epoch 20/100\n",
            "30/30 [==============================] - 3s 105ms/step - loss: 2.4101 - accuracy: 0.9374 - val_loss: 3.5155 - val_accuracy: 0.9188\n",
            "Epoch 21/100\n",
            "30/30 [==============================] - 3s 107ms/step - loss: 2.3114 - accuracy: 0.9396 - val_loss: 3.4454 - val_accuracy: 0.9206\n",
            "Epoch 22/100\n",
            "30/30 [==============================] - 3s 106ms/step - loss: 2.2517 - accuracy: 0.9412 - val_loss: 3.3641 - val_accuracy: 0.9184\n",
            "Epoch 23/100\n",
            "30/30 [==============================] - 3s 105ms/step - loss: 2.1290 - accuracy: 0.9441 - val_loss: 3.3696 - val_accuracy: 0.9241\n",
            "Epoch 24/100\n",
            "30/30 [==============================] - 3s 105ms/step - loss: 2.0243 - accuracy: 0.9472 - val_loss: 3.3827 - val_accuracy: 0.9239\n",
            "Epoch 25/100\n",
            "30/30 [==============================] - 3s 108ms/step - loss: 1.9304 - accuracy: 0.9485 - val_loss: 3.3405 - val_accuracy: 0.9269\n",
            "Epoch 26/100\n",
            "30/30 [==============================] - 3s 106ms/step - loss: 1.8401 - accuracy: 0.9541 - val_loss: 3.2889 - val_accuracy: 0.9287\n",
            "Epoch 27/100\n",
            "30/30 [==============================] - 3s 106ms/step - loss: 1.7589 - accuracy: 0.9540 - val_loss: 3.2216 - val_accuracy: 0.9316\n",
            "Epoch 28/100\n",
            "30/30 [==============================] - 3s 106ms/step - loss: 1.6312 - accuracy: 0.9601 - val_loss: 3.0953 - val_accuracy: 0.9340\n",
            "Epoch 29/100\n",
            "30/30 [==============================] - 3s 106ms/step - loss: 1.5134 - accuracy: 0.9637 - val_loss: 3.0610 - val_accuracy: 0.9392\n",
            "Epoch 30/100\n",
            "30/30 [==============================] - 3s 107ms/step - loss: 1.4172 - accuracy: 0.9656 - val_loss: 3.0456 - val_accuracy: 0.9415\n",
            "Epoch 31/100\n",
            "30/30 [==============================] - 3s 105ms/step - loss: 1.3088 - accuracy: 0.9699 - val_loss: 2.9524 - val_accuracy: 0.9446\n",
            "Epoch 32/100\n",
            "30/30 [==============================] - 3s 106ms/step - loss: 1.2016 - accuracy: 0.9730 - val_loss: 2.9121 - val_accuracy: 0.9471\n",
            "Epoch 33/100\n",
            "30/30 [==============================] - 3s 106ms/step - loss: 1.1380 - accuracy: 0.9747 - val_loss: 2.8531 - val_accuracy: 0.9483\n",
            "Epoch 34/100\n",
            "30/30 [==============================] - 3s 105ms/step - loss: 1.0236 - accuracy: 0.9776 - val_loss: 2.8550 - val_accuracy: 0.9517\n",
            "Epoch 35/100\n",
            "30/30 [==============================] - 3s 106ms/step - loss: 0.9339 - accuracy: 0.9806 - val_loss: 2.7809 - val_accuracy: 0.9535\n",
            "Epoch 36/100\n",
            "30/30 [==============================] - 3s 106ms/step - loss: 0.8531 - accuracy: 0.9826 - val_loss: 2.7762 - val_accuracy: 0.9557\n",
            "Epoch 37/100\n",
            "30/30 [==============================] - 3s 105ms/step - loss: 0.7699 - accuracy: 0.9846 - val_loss: 2.7254 - val_accuracy: 0.9566\n",
            "Epoch 38/100\n",
            "30/30 [==============================] - 3s 107ms/step - loss: 0.6922 - accuracy: 0.9865 - val_loss: 2.6931 - val_accuracy: 0.9590\n",
            "Epoch 39/100\n",
            "30/30 [==============================] - 3s 106ms/step - loss: 0.6229 - accuracy: 0.9882 - val_loss: 2.6504 - val_accuracy: 0.9607\n",
            "Epoch 40/100\n",
            "30/30 [==============================] - 3s 107ms/step - loss: 0.5591 - accuracy: 0.9897 - val_loss: 2.6782 - val_accuracy: 0.9617\n",
            "Epoch 41/100\n",
            "30/30 [==============================] - 3s 106ms/step - loss: 0.5020 - accuracy: 0.9908 - val_loss: 2.6264 - val_accuracy: 0.9623\n",
            "Epoch 42/100\n",
            "30/30 [==============================] - 3s 106ms/step - loss: 0.4569 - accuracy: 0.9919 - val_loss: 2.5874 - val_accuracy: 0.9638\n",
            "Epoch 43/100\n",
            "30/30 [==============================] - 3s 106ms/step - loss: 0.4110 - accuracy: 0.9929 - val_loss: 2.5755 - val_accuracy: 0.9638\n",
            "Epoch 44/100\n",
            "30/30 [==============================] - 3s 105ms/step - loss: 0.3703 - accuracy: 0.9937 - val_loss: 2.6098 - val_accuracy: 0.9653\n",
            "Epoch 45/100\n",
            "30/30 [==============================] - 3s 105ms/step - loss: 0.3387 - accuracy: 0.9944 - val_loss: 2.6925 - val_accuracy: 0.9655\n",
            "Epoch 46/100\n",
            "30/30 [==============================] - 3s 105ms/step - loss: 0.3102 - accuracy: 0.9949 - val_loss: 2.6167 - val_accuracy: 0.9661\n",
            "Epoch 47/100\n",
            "30/30 [==============================] - 3s 105ms/step - loss: 0.2799 - accuracy: 0.9955 - val_loss: 2.5693 - val_accuracy: 0.9666\n",
            "Epoch 48/100\n",
            "30/30 [==============================] - 3s 106ms/step - loss: 0.2559 - accuracy: 0.9959 - val_loss: 2.5804 - val_accuracy: 0.9667\n",
            "Epoch 49/100\n",
            "30/30 [==============================] - 3s 108ms/step - loss: 0.2343 - accuracy: 0.9962 - val_loss: 2.5855 - val_accuracy: 0.9669\n",
            "Epoch 50/100\n",
            "30/30 [==============================] - 3s 106ms/step - loss: 0.2176 - accuracy: 0.9965 - val_loss: 2.6568 - val_accuracy: 0.9668\n",
            "Epoch 51/100\n",
            "30/30 [==============================] - 3s 105ms/step - loss: 0.2005 - accuracy: 0.9968 - val_loss: 2.6356 - val_accuracy: 0.9672\n",
            "Epoch 52/100\n",
            "30/30 [==============================] - 3s 105ms/step - loss: 0.1861 - accuracy: 0.9970 - val_loss: 2.6542 - val_accuracy: 0.9674\n",
            "Epoch 53/100\n",
            "30/30 [==============================] - 3s 106ms/step - loss: 0.1763 - accuracy: 0.9971 - val_loss: 2.6461 - val_accuracy: 0.9674\n",
            "Epoch 54/100\n",
            "30/30 [==============================] - 3s 105ms/step - loss: 0.1636 - accuracy: 0.9972 - val_loss: 2.6669 - val_accuracy: 0.9670\n",
            "Epoch 55/100\n",
            "30/30 [==============================] - 3s 106ms/step - loss: 0.1536 - accuracy: 0.9974 - val_loss: 2.6376 - val_accuracy: 0.9677\n",
            "Epoch 56/100\n",
            "30/30 [==============================] - 3s 106ms/step - loss: 0.1448 - accuracy: 0.9975 - val_loss: 2.6813 - val_accuracy: 0.9669\n",
            "Epoch 57/100\n",
            "30/30 [==============================] - 3s 106ms/step - loss: 0.1370 - accuracy: 0.9977 - val_loss: 2.6572 - val_accuracy: 0.9671\n",
            "Epoch 58/100\n",
            "30/30 [==============================] - 3s 107ms/step - loss: 0.1298 - accuracy: 0.9978 - val_loss: 2.6826 - val_accuracy: 0.9677\n",
            "Epoch 59/100\n",
            "30/30 [==============================] - 3s 108ms/step - loss: 0.1227 - accuracy: 0.9979 - val_loss: 2.6641 - val_accuracy: 0.9677\n",
            "Epoch 60/100\n",
            "30/30 [==============================] - 3s 105ms/step - loss: 0.1169 - accuracy: 0.9981 - val_loss: 2.6710 - val_accuracy: 0.9678\n",
            "Epoch 61/100\n",
            "30/30 [==============================] - 3s 105ms/step - loss: 0.1119 - accuracy: 0.9981 - val_loss: 2.6754 - val_accuracy: 0.9681\n",
            "Epoch 62/100\n",
            "30/30 [==============================] - 3s 107ms/step - loss: 0.1071 - accuracy: 0.9982 - val_loss: 2.7382 - val_accuracy: 0.9664\n",
            "Epoch 63/100\n",
            "30/30 [==============================] - 3s 106ms/step - loss: 0.1026 - accuracy: 0.9983 - val_loss: 2.6738 - val_accuracy: 0.9670\n",
            "Epoch 64/100\n",
            "30/30 [==============================] - 3s 105ms/step - loss: 0.0991 - accuracy: 0.9983 - val_loss: 2.7505 - val_accuracy: 0.9666\n",
            "Epoch 65/100\n",
            "30/30 [==============================] - 3s 106ms/step - loss: 0.0943 - accuracy: 0.9984 - val_loss: 2.7559 - val_accuracy: 0.9665\n",
            "Epoch 66/100\n",
            "30/30 [==============================] - 3s 106ms/step - loss: 0.0905 - accuracy: 0.9985 - val_loss: 2.7895 - val_accuracy: 0.9667\n",
            "Epoch 67/100\n",
            "30/30 [==============================] - 3s 106ms/step - loss: 0.0866 - accuracy: 0.9985 - val_loss: 2.8013 - val_accuracy: 0.9665\n",
            "Epoch 68/100\n",
            "30/30 [==============================] - 3s 106ms/step - loss: 0.0840 - accuracy: 0.9986 - val_loss: 2.8053 - val_accuracy: 0.9668\n",
            "Epoch 69/100\n",
            "30/30 [==============================] - 3s 106ms/step - loss: 0.0808 - accuracy: 0.9986 - val_loss: 2.8065 - val_accuracy: 0.9666\n",
            "Epoch 70/100\n",
            "30/30 [==============================] - 3s 105ms/step - loss: 0.0792 - accuracy: 0.9987 - val_loss: 2.8243 - val_accuracy: 0.9662\n",
            "Epoch 71/100\n",
            "30/30 [==============================] - 3s 106ms/step - loss: 0.0773 - accuracy: 0.9987 - val_loss: 2.7837 - val_accuracy: 0.9665\n",
            "Epoch 72/100\n",
            "30/30 [==============================] - 3s 104ms/step - loss: 0.0824 - accuracy: 0.9986 - val_loss: 2.9252 - val_accuracy: 0.9659\n",
            "Epoch 73/100\n",
            "30/30 [==============================] - 3s 106ms/step - loss: 0.1074 - accuracy: 0.9976 - val_loss: 2.6107 - val_accuracy: 0.9672\n",
            "Epoch 74/100\n",
            "30/30 [==============================] - 3s 107ms/step - loss: 0.1807 - accuracy: 0.9957 - val_loss: 2.6785 - val_accuracy: 0.9704\n",
            "Epoch 75/100\n",
            "30/30 [==============================] - 3s 106ms/step - loss: 0.1130 - accuracy: 0.9976 - val_loss: 2.6165 - val_accuracy: 0.9702\n",
            "Epoch 76/100\n",
            "30/30 [==============================] - 3s 106ms/step - loss: 0.0904 - accuracy: 0.9983 - val_loss: 2.6831 - val_accuracy: 0.9695\n",
            "Epoch 77/100\n",
            "30/30 [==============================] - 3s 106ms/step - loss: 0.0826 - accuracy: 0.9985 - val_loss: 2.7668 - val_accuracy: 0.9686\n",
            "Epoch 78/100\n",
            "30/30 [==============================] - 3s 107ms/step - loss: 0.0750 - accuracy: 0.9987 - val_loss: 2.7400 - val_accuracy: 0.9689\n",
            "Epoch 79/100\n",
            "30/30 [==============================] - 3s 105ms/step - loss: 0.0711 - accuracy: 0.9988 - val_loss: 2.7664 - val_accuracy: 0.9682\n",
            "Epoch 80/100\n",
            "30/30 [==============================] - 3s 105ms/step - loss: 0.0680 - accuracy: 0.9989 - val_loss: 2.7214 - val_accuracy: 0.9698\n",
            "Epoch 81/100\n",
            "30/30 [==============================] - 3s 106ms/step - loss: 0.0648 - accuracy: 0.9989 - val_loss: 2.7546 - val_accuracy: 0.9696\n",
            "Epoch 82/100\n",
            "30/30 [==============================] - 3s 105ms/step - loss: 0.0625 - accuracy: 0.9990 - val_loss: 2.7463 - val_accuracy: 0.9695\n",
            "Epoch 83/100\n",
            "30/30 [==============================] - 3s 106ms/step - loss: 0.0603 - accuracy: 0.9990 - val_loss: 2.7838 - val_accuracy: 0.9698\n",
            "Epoch 84/100\n",
            "30/30 [==============================] - 3s 106ms/step - loss: 0.0583 - accuracy: 0.9991 - val_loss: 2.7951 - val_accuracy: 0.9696\n",
            "Epoch 85/100\n",
            "30/30 [==============================] - 3s 106ms/step - loss: 0.0564 - accuracy: 0.9991 - val_loss: 2.8269 - val_accuracy: 0.9696\n",
            "Epoch 86/100\n",
            "30/30 [==============================] - 3s 106ms/step - loss: 0.0547 - accuracy: 0.9992 - val_loss: 2.8316 - val_accuracy: 0.9693\n",
            "Epoch 87/100\n",
            "30/30 [==============================] - 3s 106ms/step - loss: 0.0530 - accuracy: 0.9992 - val_loss: 2.8272 - val_accuracy: 0.9692\n",
            "Epoch 88/100\n",
            "30/30 [==============================] - 3s 106ms/step - loss: 0.0517 - accuracy: 0.9992 - val_loss: 2.8446 - val_accuracy: 0.9688\n",
            "Epoch 89/100\n",
            "30/30 [==============================] - 3s 106ms/step - loss: 0.0502 - accuracy: 0.9993 - val_loss: 2.8895 - val_accuracy: 0.9688\n",
            "Epoch 90/100\n",
            "30/30 [==============================] - 3s 106ms/step - loss: 0.0492 - accuracy: 0.9993 - val_loss: 2.8479 - val_accuracy: 0.9692\n",
            "Epoch 91/100\n",
            "30/30 [==============================] - 3s 106ms/step - loss: 0.0482 - accuracy: 0.9993 - val_loss: 2.9313 - val_accuracy: 0.9688\n",
            "Epoch 92/100\n",
            "30/30 [==============================] - 3s 106ms/step - loss: 0.0467 - accuracy: 0.9993 - val_loss: 2.9369 - val_accuracy: 0.9686\n",
            "Epoch 93/100\n",
            "30/30 [==============================] - 3s 106ms/step - loss: 0.0455 - accuracy: 0.9993 - val_loss: 2.9494 - val_accuracy: 0.9687\n",
            "Epoch 94/100\n",
            "30/30 [==============================] - 3s 107ms/step - loss: 0.0443 - accuracy: 0.9994 - val_loss: 2.9734 - val_accuracy: 0.9691\n",
            "Epoch 95/100\n",
            "30/30 [==============================] - 3s 107ms/step - loss: 0.0439 - accuracy: 0.9994 - val_loss: 2.9893 - val_accuracy: 0.9681\n",
            "Epoch 96/100\n",
            "30/30 [==============================] - 3s 107ms/step - loss: 0.0424 - accuracy: 0.9994 - val_loss: 2.9848 - val_accuracy: 0.9690\n",
            "Epoch 97/100\n",
            "30/30 [==============================] - 3s 106ms/step - loss: 0.0413 - accuracy: 0.9994 - val_loss: 3.0070 - val_accuracy: 0.9690\n",
            "Epoch 98/100\n",
            "30/30 [==============================] - 3s 107ms/step - loss: 0.0407 - accuracy: 0.9994 - val_loss: 3.0253 - val_accuracy: 0.9679\n",
            "Epoch 99/100\n",
            "30/30 [==============================] - 3s 107ms/step - loss: 0.0398 - accuracy: 0.9995 - val_loss: 3.0172 - val_accuracy: 0.9685\n",
            "Epoch 100/100\n",
            "30/30 [==============================] - 3s 105ms/step - loss: 0.0388 - accuracy: 0.9995 - val_loss: 3.0507 - val_accuracy: 0.9684\n"
          ]
        }
      ]
    },
    {
      "cell_type": "markdown",
      "metadata": {
        "id": "zypRkoecXJIV"
      },
      "source": [
        "#### Plots"
      ]
    },
    {
      "cell_type": "code",
      "metadata": {
        "id": "FBrLmQdBXKLR",
        "outputId": "5874f0dc-7221-4c16-a751-857166c95a4b",
        "colab": {
          "base_uri": "https://localhost:8080/",
          "height": 573
        }
      },
      "source": [
        "plt.plot(history.history['accuracy'])\n",
        "plt.plot(history.history['val_accuracy'])\n",
        "plt.title('model accuracy')\n",
        "plt.ylabel('accuracy')\n",
        "plt.xlabel('epoch')\n",
        "plt.legend(['train', 'validation'], loc='upper left')\n",
        "plt.show()\n",
        "\n",
        "plt.plot(history.history['loss'])\n",
        "plt.plot(history.history['val_loss'])\n",
        "plt.title('model loss')\n",
        "plt.ylabel('loss')\n",
        "plt.xlabel('epoch')\n",
        "plt.legend(['train', 'validation'], loc='upper left')\n",
        "plt.show()"
      ],
      "execution_count": 35,
      "outputs": [
        {
          "output_type": "display_data",
          "data": {
            "image/png": "[encoded data removed]",
            "text/plain": [
              "<Figure size 432x288 with 1 Axes>"
            ]
          },
          "metadata": {
            "needs_background": "light"
          }
        },
        {
          "output_type": "display_data",
          "data": {
            "image/png": "[encoded data removed]",
            "text/plain": [
              "<Figure size 432x288 with 1 Axes>"
            ]
          },
          "metadata": {
            "needs_background": "light"
          }
        }
      ]
    },
    {
      "cell_type": "markdown",
      "metadata": {
        "id": "s4jhKvrLkfEY"
      },
      "source": [
        "## Grid-search"
      ]
    },
    {
      "cell_type": "code",
      "metadata": {
        "id": "fCO359DYk8wQ",
        "outputId": "1c8e340c-c478-4253-e75c-3b499451a000",
        "colab": {
          "base_uri": "https://localhost:8080/",
          "height": 322
        }
      },
      "source": [
        "models = {'2_dense': DenseModel, \"baseline\": BaselineModel}\n",
        "parameters = {'baseline': {'epochs': [1, 1, 1], 'batch_size':[16]},\n",
        "              '2_dense': {'hidden_units': [32],'epochs': [1, 1, 1], 'batch_size':[16]}\n",
        "              }\n",
        "best_scores = {1: 0, 2: 0}\n",
        "best_models = {1: None, 2: None}\n",
        "\n",
        "for model_name in models.keys():\n",
        "  print(\"Model: \", model_name)\n",
        "  if model_name == '2_dense':\n",
        "    for hidden_units in parameters[model_name]['hidden_units']:\n",
        "      print(\"Hidden units: \", hidden_units)\n",
        "      model = models[model_name](embedding_vector_length, hidden_units)\n",
        "      for epochs in parameters[model_name]['epochs']:\n",
        "        print(\"\\tEpochs: \", epochs)\n",
        "        for batch_size in parameters[model_name]['batch_size']:\n",
        "          print(\"\\tBatch Size\",batch_size)\n",
        "          model.fit(x_train, Y_train, validation_data=(x_val, Y_val, sample_weights_val), \n",
        "                    epochs=epochs, batch_size=batch_size, \n",
        "                    sample_weight=sample_weights_train)\n",
        "          \n",
        "          scores = evaluate_f1(model, x_val, Y_val)\n",
        "          if scores['f1-score'] > best_scores[2]:\n",
        "            if scores['f1-score'] > best_scores[1]:\n",
        "              best_scores[2] = best_scores[1]\n",
        "              best_scores[1] = scores['f1-score']\n",
        "              best_models[2] = best_models[1]\n",
        "              best_models[1] = copy.deepcopy(model)\n",
        "            else:\n",
        "              best_scores[2] = scores['f1-score']\n",
        "              best_models[2] = copy.deepcopy(model)\n",
        "\n",
        "  else:\n",
        "    model = models[model_name](embedding_vector_length)\n",
        "    for epochs in parameters[model_name]['epochs']:\n",
        "      print(\"\\tEpochs: \", epochs)\n",
        "      for batch_size in parameters[model_name]['batch_size']:\n",
        "        print(\"\\tBatch Size\",batch_size)\n",
        "        model.fit(x_train, Y_train, validation_data=(x_val, Y_val, sample_weights_val), \n",
        "                  epochs=epochs, batch_size=batch_size, \n",
        "                  sample_weight=sample_weights_train)\n",
        "        scores = evaluate_f1(model, x_val, Y_val)\n",
        "        if scores['f1-score'] > best_scores[2]:\n",
        "          if scores['f1-score'] > best_scores[1]:\n",
        "            best_scores[2] = best_scores[1]\n",
        "            best_scores[1] = scores['f1-score']\n",
        "            best_models[2] = best_models[1]\n",
        "            best_models[1] = copy.deepcopy(model)\n",
        "          else:\n",
        "            best_scores[2] = scores['f1-score']\n",
        "            best_models[2] = copy.deepcopy(model)\n"
      ],
      "execution_count": 36,
      "outputs": [
        {
          "output_type": "stream",
          "name": "stdout",
          "text": [
            "Model:  2_dense\n",
            "Hidden units:  32\n",
            "\tEpochs:  1\n",
            "\tBatch Size 16\n",
            "117/117 [==============================] - 12s 70ms/step - loss: 10.5349 - accuracy: 0.8942 - val_loss: 4.6069 - val_accuracy: 0.9060\n"
          ]
        },
        {
          "output_type": "error",
          "ename": "NameError",
          "evalue": "ignored",
          "traceback": [
            "\u001b[0;31m---------------------------------------------------------------------------\u001b[0m",
            "\u001b[0;31mNameError\u001b[0m                                 Traceback (most recent call last)",
            "\u001b[0;32m<ipython-input-36-3228ed166a6f>\u001b[0m in \u001b[0;36m<module>\u001b[0;34m()\u001b[0m\n\u001b[1;32m     20\u001b[0m                     sample_weight=sample_weights_train)\n\u001b[1;32m     21\u001b[0m \u001b[0;34m\u001b[0m\u001b[0m\n\u001b[0;32m---> 22\u001b[0;31m           \u001b[0mscores\u001b[0m \u001b[0;34m=\u001b[0m \u001b[0mevaluate_f1\u001b[0m\u001b[0;34m(\u001b[0m\u001b[0mmodel\u001b[0m\u001b[0;34m,\u001b[0m \u001b[0mx_val\u001b[0m\u001b[0;34m,\u001b[0m \u001b[0mY_val\u001b[0m\u001b[0;34m)\u001b[0m\u001b[0;34m\u001b[0m\u001b[0;34m\u001b[0m\u001b[0m\n\u001b[0m\u001b[1;32m     23\u001b[0m           \u001b[0;32mif\u001b[0m \u001b[0mscores\u001b[0m\u001b[0;34m[\u001b[0m\u001b[0;34m'f1-score'\u001b[0m\u001b[0;34m]\u001b[0m \u001b[0;34m>\u001b[0m \u001b[0mbest_scores\u001b[0m\u001b[0;34m[\u001b[0m\u001b[0;36m2\u001b[0m\u001b[0;34m]\u001b[0m\u001b[0;34m:\u001b[0m\u001b[0;34m\u001b[0m\u001b[0;34m\u001b[0m\u001b[0m\n\u001b[1;32m     24\u001b[0m             \u001b[0;32mif\u001b[0m \u001b[0mscores\u001b[0m\u001b[0;34m[\u001b[0m\u001b[0;34m'f1-score'\u001b[0m\u001b[0;34m]\u001b[0m \u001b[0;34m>\u001b[0m \u001b[0mbest_scores\u001b[0m\u001b[0;34m[\u001b[0m\u001b[0;36m1\u001b[0m\u001b[0;34m]\u001b[0m\u001b[0;34m:\u001b[0m\u001b[0;34m\u001b[0m\u001b[0;34m\u001b[0m\u001b[0m\n",
            "\u001b[0;31mNameError\u001b[0m: name 'evaluate_f1' is not defined"
          ]
        }
      ]
    },
    {
      "cell_type": "markdown",
      "metadata": {
        "id": "NusqzqOCY8e1"
      },
      "source": [
        "# Evaluate models"
      ]
    },
    {
      "cell_type": "code",
      "metadata": {
        "id": "_B-pBtRqY-GB"
      },
      "source": [
        "def evaluate_predictions(predictions: np.ndarray,\n",
        "                         y: np.ndarray,\n",
        "                         metrics: List[Callable],\n",
        "                         metric_names: List[str]):\n",
        "    \"\"\"\n",
        "    Evaluates given model predictions on a list of metric functions\n",
        "\n",
        "    :param predictions: model predictions in np.ndarray format\n",
        "    :param y: ground-truth labels in np.ndarray format\n",
        "    :param metrics: list of metric functions\n",
        "    :param metric_names: list of metric names\n",
        "\n",
        "    :return\n",
        "        metric_info: dictionary containing metric values for each input metric\n",
        "    \"\"\"\n",
        "\n",
        "    assert len(metrics) == len(metric_names)\n",
        "\n",
        "    print(\"Evaluating predictions! Total samples: \", y.shape[0])\n",
        "\n",
        "    metric_info = {}\n",
        "\n",
        "    for i, metric in enumerate(metrics):\n",
        "        metric_name = metric_names[i]\n",
        "        metric_value = metric(y_pred=predictions, y_true=y)\n",
        "        metric_info[metric_name] = metric_value\n",
        "\n",
        "    return metric_info"
      ],
      "execution_count": 38,
      "outputs": []
    },
    {
      "cell_type": "code",
      "metadata": {
        "id": "y1VJTN8vY_HS"
      },
      "source": [
        "def evaluate_f1(model, x_data, y_data):\n",
        "  test_predictions = model.predict(x_data)\n",
        "  test_predictions = np.argmax(test_predictions, axis=-1)\n",
        "\n",
        "  # Flatten\n",
        "  predictions = [item for sublist in test_predictions for item in sublist]\n",
        "  y = [item for sublist in np.argmax(y_data, axis=-1) for item in sublist]\n",
        "\n",
        "  # Removing 'PAD'\n",
        "  #y_new = []\n",
        "  #predictions_new = []\n",
        "  #for i in range(len(y)):\n",
        "  #  if one_hot_encoder.get_pos_from_label(y[i]) != 'PAD':\n",
        "  #    predictions_new.append(predictions[i])\n",
        "  #    y_new.append(y[i])\n",
        "\n",
        "  metrics = [\n",
        "             accuracy_score,\n",
        "             partial(f1_score, pos_label=1, average='macro')\n",
        "             ]\n",
        "  metric_names = [\n",
        "      \"accuracy\",\n",
        "      \"f1-score\"\n",
        "  ]\n",
        "  metric_info = evaluate_predictions(predictions=np.array(predictions),\n",
        "                                    y=np.array(y),\n",
        "                                    metrics=metrics,\n",
        "                                    metric_names=metric_names)\n",
        "\n",
        "  #print('Metrics info: \\n{}'.format(metric_info))\n",
        "  return metric_info"
      ],
      "execution_count": 40,
      "outputs": []
    },
    {
      "cell_type": "code",
      "metadata": {
        "id": "8Ina7zDXh5Zv",
        "outputId": "c0eae03c-1e35-4cbd-a6a6-3e89cc66e57f",
        "colab": {
          "base_uri": "https://localhost:8080/"
        }
      },
      "source": [
        "evaluate_f1(model_baseline, x_test, Y_test)\n",
        "#evaluate_f1(model_gru, x_test, Y_test)\n",
        "#evaluate_f1(model_2_LSTM, x_test, Y_test)\n",
        "#evaluate_f1(model_2_dense, x_test, Y_test)\n",
        "\n",
        "#from sklearn.metrics import classification_report\n",
        "#report = classification_report(np.array(y_new), np.array(predictions_new), \n",
        "#                               target_names=[one_hot_encoder.get_pos_from_label(i)[0] for i in range(len(set_pos))]);\n",
        "#print(report)"
      ],
      "execution_count": 41,
      "outputs": [
        {
          "output_type": "stream",
          "name": "stdout",
          "text": [
            "Evaluating predictions! Total samples:  34974\n"
          ]
        },
        {
          "output_type": "execute_result",
          "data": {
            "text/plain": [
              "{'accuracy': 0.9446160004574827, 'f1-score': 0.7086106180740873}"
            ]
          },
          "metadata": {},
          "execution_count": 41
        }
      ]
    },
    {
      "cell_type": "markdown",
      "metadata": {
        "id": "b2FD-fS1v0kG"
      },
      "source": [
        "# Test"
      ]
    },
    {
      "cell_type": "code",
      "metadata": {
        "id": "hkEmRmoyXYbx"
      },
      "source": [
        "best_model = best_models[1]"
      ],
      "execution_count": null,
      "outputs": []
    },
    {
      "cell_type": "code",
      "metadata": {
        "id": "S4kX9EL2v1nL"
      },
      "source": [
        "best_model.evaluate(x_test, Y_test, batch_size=128, sample_weight=sample_weights_test)"
      ],
      "execution_count": null,
      "outputs": []
    },
    {
      "cell_type": "markdown",
      "metadata": {
        "id": "WVZQwn88v128"
      },
      "source": [
        "# Result Visualization"
      ]
    },
    {
      "cell_type": "code",
      "metadata": {
        "id": "RF8FP7JfwTL3"
      },
      "source": [
        "id = 1\n",
        "prediction = best_model.predict(x_test[id].reshape(-1, 58))  # Add batch dimension\n",
        "prediction.shape"
      ],
      "execution_count": null,
      "outputs": []
    },
    {
      "cell_type": "code",
      "metadata": {
        "id": "w-M2xOBfxXig"
      },
      "source": [
        "for word in tokenizer.convert_ids_to_tokens([x_test[id]]):\n",
        "  print(word)\n",
        "for i, preds_pos in enumerate(prediction[0]):  # Remove batch dimension\n",
        "  pos = one_hot_encoder.get_pos_from_label(np.argmax(preds_pos))\n",
        "  true_pos = one_hot_encoder.get_pos_from_label(np.argmax(Y_test[id][i]))\n",
        "  if true_pos != 'PAD':\n",
        "    print(pos, true_pos)"
      ],
      "execution_count": null,
      "outputs": []
    }
  ]
}