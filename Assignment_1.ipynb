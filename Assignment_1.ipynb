{
  "nbformat": 4,
  "nbformat_minor": 0,
  "metadata": {
    "colab": {
      "name": "Assignment_1.ipynb",
      "provenance": [],
      "collapsed_sections": [],
      "toc_visible": true,
      "include_colab_link": true
    },
    "kernelspec": {
      "name": "python3",
      "display_name": "Python 3"
    }
  },
  "cells": [
    {
      "cell_type": "markdown",
      "metadata": {
        "id": "view-in-github",
        "colab_type": "text"
      },
      "source": [
        "<a href=\"https://colab.research.google.com/github/ElFosco/NLP_assignments/blob/main/Assignment_1.ipynb\" target=\"_parent\"><img src=\"https://colab.research.google.com/assets/colab-badge.svg\" alt=\"Open In Colab\"/></a>"
      ]
    },
    {
      "cell_type": "markdown",
      "metadata": {
        "id": "-WeCeITXoxLf"
      },
      "source": [
        "# Assignment 1\n",
        "\n",
        "**Due to**: 23/12/2021 (dd/mm/yyyy)\n",
        "\n",
        "**Credits**: Andrea Galassi, Federico Ruggeri, Paolo Torroni\n",
        "\n",
        "**Summary**: Part-of Speech (POS) tagging as Sequence Labelling using Recurrent Neural Architectures"
      ]
    },
    {
      "cell_type": "markdown",
      "metadata": {
        "id": "a4_wqPdlBcKS"
      },
      "source": [
        "# Intro\n",
        "\n",
        "In this assignment  we will ask you to perform POS tagging using neural architectures\n",
        "\n",
        "You are asked to follow these steps:\n",
        "*   Download the corpora and split it in training and test sets, structuring a dataframe.\n",
        "*   Embed the words using GloVe embeddings\n",
        "*   Create a baseline model, using a simple neural architecture\n",
        "*   Experiment doing small modifications to the baseline model, choose hyperparameters using the validation set\n",
        "*   Evaluate your two best model\n",
        "*   Analyze the errors of your model\n",
        "\n",
        "\n",
        "**Task**: given a corpus of documents, predict the POS tag for each word\n",
        "\n",
        "**Corpus**:\n",
        "Ignore the numeric value in the third column, use only the words/symbols and its label. \n",
        "The corpus is available at:\n",
        "https://raw.githubusercontent.com/nltk/nltk_data/gh-pages/packages/corpora/dependency_treebank.zip\n",
        "\n",
        "**Splits**: documents 1-100 are the train set, 101-150 validation set, 151-199 test set.\n",
        "\n",
        "\n",
        "**Features**: you MUST use GloVe embeddings as the only input features to the model.\n",
        "\n",
        "**Splitting**: you can decide to split documents into sentences or not, the choice is yours.\n",
        "\n",
        "**I/O structure**: The input data will have three dimensions: 1-documents/sentences, 2-token, 3-features; for the output there are 2 possibilities: if you use one-hot encoding it will be 1-documents/sentences, 2-token labels, 3-classes, if you use a single integer that indicates the number of the class it will be 1-documents/sentences, 2-token labels.\n",
        "\n",
        "**Baseline**: two layers architecture: a Bidirectional LSTM layer and a Dense/Fully-Connected layer on top; the choice of hyper-parameters is yours.\n",
        "\n",
        "**Architectures**: experiment using a GRU instead of the LSTM, adding an additional LSTM layer, and adding an additional dense layer; do not mix these variantions.\n",
        "\n",
        "\n",
        "**Training and Experiments**: all the experiments must involve only the training and validation sets.\n",
        "\n",
        "**Evaluation**: in the end, only the two best models of your choice (according to the validation set) must be evaluated on the test set. The main metric must be F1-Macro computed between the various part of speech. DO NOT CONSIDER THE PUNCTUATION CLASSES.\n",
        "\n",
        "**Metrics**: the metric you must use to evaluate your final model is the F1-macro, WITHOUT considering punctuation/symbols classes; during the training process you can use accuracy because you can't use the F1 metric unless you use a single (gigantic) batch because there is no way to aggregate \"partial\" F1 scores computed on mini-batches.\n",
        "\n",
        "**Discussion and Error Analysis** : verify and discuss if the results on the test sets are coherent with those on the validation set; analyze the errors done by your model, try to understand which may be the causes and think about how to improve it.\n",
        "\n",
        "**Report**: you are asked to deliver the code of your experiments and a small pdf report of about 2 pages; the pdf must begin with the names of the people of your team and a small abstract (4-5 lines) that sums up your findings.\n",
        "\n",
        "# Out Of Vocabulary (OOV) terms\n",
        "\n",
        "How to handle words that are not in GloVe vocabulary?\n",
        "You can handle them as you want (random embedding, placeholder, whatever!), but they must be STATIC embeddings (you cannot train them).\n",
        "\n",
        "But there is a very important caveat! As usual, the element of the test set must not influence the elements of the other splits!\n",
        "\n",
        "So, when you compute new embeddings for train+validation, you must forget about test documents.\n",
        "The motivation is to emulate a real-world scenario, where you select and train a model in the first stage, without knowing nothing about the testing environment.\n",
        "\n",
        "For implementation convenience, you CAN use a single vocabulary file/matrix/whatever. The principle of the previous point is that the embeddings inside that file/matrix must be generated independently for train and test splits.\n",
        "\n",
        "Basically in a real-world scenario, this is what would happen:\n",
        "1. Starting vocabulary V1 (in this assignment, GloVe vocabulary)\n",
        "2. Compute embeddings for terms out of vocabulary V1 (OOV1) of the training split \n",
        "3. Add embeddings to the vocabulary, so to obtain vocabulary V2=V1+OOV1\n",
        "4. Training of the model(s)\n",
        "5. Compute embeddings for terms OOV2 of the validation split \n",
        "6. Add embeddings to the vocabulary, so to obtain vocabulary V3=V1+OOV1+OOV2\n",
        "7. Validation of the model(s)\n",
        "8. Compute embeddings for terms OOV3 of the test split \n",
        "9. Add embeddings to the vocabulary, so to obtain vocabulary V4=V1+OOV1+OOV2+OOV3\n",
        "10. Testing of the final model\n",
        "\n",
        "In this case, where we already have all the documents, we can simplify the process a bit, but the procedure must remain rigorous.\n",
        "\n",
        "1. Starting vocabulary V1 (in this assignment, GloVe vocabulary)\n",
        "2. Compute embeddings for terms out of vocabulary V1 (OOV1) of the training split \n",
        "3. Add embeddings to the vocabulary, so to obtain vocabulary V2=V1+OOV1\n",
        "4. Compute embeddings for terms OOV2 of the validation split \n",
        "5. Add embeddings to the vocabulary, so to obtain vocabulary V3=V1+OOV1+OOV2\n",
        "6. Compute embeddings for terms OOV3 of the test split \n",
        "7. Add embeddings to the vocabulary, so to obtain vocabulary V4=V1+OOV1+OOV2\n",
        "8. Training of the model(s)\n",
        "9. Validation of the model(s)\n",
        "10. Testing of the final model\n",
        "\n",
        "Step 2 and step 6 must be completely independent of each other, for what concerns the method and the documents. But they can rely on the previous vocabulary (V1 for step 2 and V3 for step 6)\n",
        "THEREFORE if a word is present both in the training set and the test split and not in the starting vocabulary, its embedding is computed in step 2) and it is not considered OOV anymore in step 6).\n",
        "\n",
        "# Report\n",
        "The report must not be just a copy and paste of graphs and tables!\n",
        "\n",
        "The report must not be longer than 2 pages and must contain:\n",
        "* The names of the member of your team\n",
        "* A short abstract (4-5 lines) that sum ups everything\n",
        "* A general description of the task you have addressed and how you have addressed it\n",
        "* A short description of the models you have used\n",
        "* Some tables that sum up your findings in validation and test and a discussion of those results\n",
        "* The most relevant findings of your error analysis\n",
        "\n",
        "# Evaluation Criterion\n",
        "\n",
        "The goal of this assignment is not to prove you can find best model ever, but to face a common task, structure it correctly, and follow a correct and rigorous experimental procedure.\n",
        "In other words, we don't care if you final models are awful as long as you have followed the correct procedure and wrote a decent report.\n",
        "\n",
        "The score of the assignment will be computed roughly as follows\n",
        "* 1 point for the general setting of the problem\n",
        "* 1 point for the handling of OOV terms\n",
        "* 1 point for the models\n",
        "* 1 point for train-validation-test procedure\n",
        "* 2 point for the discussion of the results, error analysis, and report\n",
        "\n",
        "This distribution of scores is tentative and we may decide to alter it at any moment.\n",
        "We also reserve the right to assign a small bonus (0.5 points) to any assignment that is particularly worthy. Similarly, in case of grave errors, we may decide to assign an equivalent malus (-0.5 points).\n",
        "\n",
        "# Contacts\n",
        "\n",
        "In case of any doubt, question, issue, or help we highly recommend you to check the [course useful material](https://virtuale.unibo.it/pluginfile.php/1036039/mod_resource/content/2/NLP_Course_Useful_Material.pdf) for additional information, and to use the Virtuale forums to discuss with other students.\n",
        "\n",
        "You can always contact us at the following email addresses. To increase the probability of a prompt response, we reccomend you to write to both the teaching assistants.\n",
        "\n",
        "Teaching Assistants:\n",
        "\n",
        "* Andrea Galassi -> a.galassi@unibo.it\n",
        "* Federico Ruggeri -> federico.ruggeri6@unibo.it\n",
        "\n",
        "Professor:\n",
        "\n",
        "* Paolo Torroni -> p.torroni@unibo.it\n",
        "\n",
        "\n",
        "# FAQ\n",
        "* You can use a non-trainable Embedding layer to load the glove embeddings\n",
        "* You can use any library of your choice to implement the networks. Two options are tensorflow/keras or pythorch. Both these libraries have all the classes you need to implement these simple architectures and there are plenty of tutorials around, where you can learn how to use them."
      ]
    },
    {
      "cell_type": "markdown",
      "metadata": {
        "id": "aCkKqTG1R2A3"
      },
      "source": [
        "# Imports"
      ]
    },
    {
      "cell_type": "code",
      "metadata": {
        "id": "gCFUaNkDHxvU"
      },
      "source": [
        "# The libraries we will use are imported here, in case of runtime problems\n",
        "import os, shutil  # file management\n",
        "import sys \n",
        "import pandas as pd  # dataframe management\n",
        "import numpy as np  # data manipulation\n",
        "from tqdm import tqdm  # useful during debugging (progress bars)\n",
        "from typing import List, Callable, Dict  # typing"
      ],
      "execution_count": 1,
      "outputs": []
    },
    {
      "cell_type": "markdown",
      "metadata": {
        "id": "6uk40AfIRyk9"
      },
      "source": [
        "# Dataframe"
      ]
    },
    {
      "cell_type": "markdown",
      "metadata": {
        "id": "eZEog8bfHZkn"
      },
      "source": [
        "Download the corpora and split it in training and test sets, structuring a dataframe."
      ]
    },
    {
      "cell_type": "markdown",
      "metadata": {
        "id": "00vKWJXWIKdH"
      },
      "source": [
        "## Download & Extraction"
      ]
    },
    {
      "cell_type": "code",
      "metadata": {
        "colab": {
          "base_uri": "https://localhost:8080/"
        },
        "id": "XjYnrT-jGto5",
        "outputId": "3ae03e42-b48c-4d4d-8dee-ea594eb9491b"
      },
      "source": [
        "import urllib.request  # download files\n",
        "import zipfile  # unzip files\n",
        "\n",
        "dataset_folder = os.path.join(os.getcwd(), \"Datasets\", \"Original\")\n",
        "\n",
        "if not os.path.exists(dataset_folder):\n",
        "    os.makedirs(dataset_folder)\n",
        "\n",
        "url = 'https://raw.githubusercontent.com/nltk/nltk_data/gh-pages/packages/corpora/dependency_treebank.zip'\n",
        "\n",
        "dataset_path = os.path.join(dataset_folder, \"dependency_treebank.zip\")\n",
        "\n",
        "if not os.path.exists(dataset_path):\n",
        "    urllib.request.urlretrieve(url, dataset_path)\n",
        "    print(\"Successful download\")\n",
        "\n",
        "zip = zipfile.ZipFile(dataset_path)\n",
        "zip.extractall(dataset_folder)\n",
        "zip.close()\n",
        "print(\"Successful extraction\")"
      ],
      "execution_count": 2,
      "outputs": [
        {
          "output_type": "stream",
          "name": "stdout",
          "text": [
            "Successful download\n",
            "Successful extraction\n"
          ]
        }
      ]
    },
    {
      "cell_type": "markdown",
      "metadata": {
        "id": "-frhRxTJIM6p"
      },
      "source": [
        "## Creation Dataframe and splitting (check if pre processing is needed)"
      ]
    },
    {
      "cell_type": "code",
      "metadata": {
        "id": "WNL6xexFIJ5F"
      },
      "source": [
        "folder = \"/content/Datasets/Original/dependency_treebank\"\n",
        "folder_pkl = \"/content/Datasets/Original\"\n",
        "dataset_name = \"dependency_treebank\"\n",
        "\n",
        "dataframe_rows_train = []\n",
        "dataframe_rows_val = []\n",
        "dataframe_rows_test = []\n",
        "i=0\n",
        "files = os.listdir(folder)\n",
        "files.sort()\n",
        "for filename in files:\n",
        "  i+=1\n",
        "  file_path = os.path.join(folder, filename)\n",
        "  try:\n",
        "    if os.path.isfile(file_path):\n",
        "      # open the file\n",
        "      with open(file_path, mode='r', encoding='utf-8') as text_file:\n",
        "        lines = text_file.readlines()\n",
        "        for line in lines:\n",
        "              if line != '\\n':\n",
        "                word = str(line.split('\\t')[0])\n",
        "                pos = line.split('\\t')[1]\n",
        "                if word not in ['--', '...', ';', '?', '!', pos]:  # to check\n",
        "                  dataframe_row = {\n",
        "                                    \"word\": word,\n",
        "                                    \"pos\": pos,\n",
        "                                }\n",
        "                  if i>=1 and i<=100:\n",
        "                    dataframe_rows_train.append(dataframe_row)\n",
        "                  elif i>=101 and i<=150:\n",
        "                    dataframe_rows_val.append(dataframe_row)\n",
        "                  elif i>=151 and i<=199:\n",
        "                    dataframe_rows_test.append(dataframe_row)\n",
        "          \n",
        "                \n",
        "\n",
        "  except Exception as e:\n",
        "                print('Failed to process %s. Reason: %s' % (file_path, e))\n",
        "                sys.exit(0)\n",
        "\n",
        "dataframe_train = pd.DataFrame(dataframe_rows_train)\n",
        "dataframe_val = pd.DataFrame(dataframe_rows_val)\n",
        "dataframe_test = pd.DataFrame(dataframe_rows_test)\n",
        "\n",
        "dataframe_train = dataframe_train[[\"word\",\"pos\"]]\n",
        "dataframe_test = dataframe_test[[\"word\",\"pos\"]]\n",
        "dataframe_val = dataframe_val[[\"word\",\"pos\"]]\n",
        "\n",
        "dataframe_train_path = os.path.join(folder_pkl, dataset_name + \"_train.pkl\")\n",
        "dataframe_val_path = os.path.join(folder_pkl, dataset_name + \"_val.pkl\")\n",
        "dataframe_test_path = os.path.join(folder_pkl, dataset_name + \"_test.pkl\")\n",
        "dataframe_train.to_pickle(dataframe_train_path)\n",
        "dataframe_test.to_pickle(dataframe_val_path)\n",
        "dataframe_val.to_pickle(dataframe_test_path)\n",
        "\n",
        "dataframe = pd.concat([dataframe_train,dataframe_val,dataframe_test])"
      ],
      "execution_count": 15,
      "outputs": []
    },
    {
      "cell_type": "markdown",
      "metadata": {
        "id": "i8NEmJp1Ui6z"
      },
      "source": [
        "## Create GloVe embeddings (keep attention to the size, maybe we have to change it)"
      ]
    },
    {
      "cell_type": "code",
      "metadata": {
        "id": "6SgHagnSUlxq"
      },
      "source": [
        "import gensim\n",
        "import gensim.downloader as gloader\n",
        "\n",
        "def load_embedding_model(model_type: str,\n",
        "                         embedding_dimension: int = 50) -> gensim.models.keyedvectors.KeyedVectors:\n",
        "    \"\"\"\n",
        "    Loads a pre-trained word embedding model via gensim library.\n",
        "\n",
        "    :param model_type: name of the word embedding model to load.\n",
        "    :param embedding_dimension: size of the embedding space to consider\n",
        "\n",
        "    :return\n",
        "        - pre-trained word embedding model (gensim KeyedVectors object)\n",
        "    \"\"\"\n",
        "\n",
        "    download_path = \"\"\n",
        "\n",
        "    # Find the correct embedding model name\n",
        "    if model_type.strip().lower() == 'word2vec':\n",
        "        download_path = \"word2vec-google-news-300\"\n",
        "\n",
        "    elif model_type.strip().lower() == 'glove':\n",
        "        download_path = \"glove-wiki-gigaword-{}\".format(embedding_dimension)\n",
        "    elif model_type.strip().lower() == 'fasttext':\n",
        "        download_path = \"fasttext-wiki-news-subwords-300\"\n",
        "    else:\n",
        "        raise AttributeError(\"Unsupported embedding model type! Available ones: word2vec, glove, fasttext\")\n",
        "\n",
        "    # Check download\n",
        "    try:\n",
        "        emb_model = gloader.load(download_path)\n",
        "    except ValueError as e:\n",
        "        print(\"Invalid embedding model name! Check the embedding dimension:\")\n",
        "        print(\"Word2Vec: 300\")\n",
        "        print(\"Glove: 50, 100, 200, 300\")\n",
        "        raise e\n",
        "\n",
        "    return emb_model"
      ],
      "execution_count": 4,
      "outputs": []
    },
    {
      "cell_type": "code",
      "metadata": {
        "id": "Mff7TRr0V8hv"
      },
      "source": [
        "def check_OOV_terms(embedding_model: gensim.models.keyedvectors.KeyedVectors,\n",
        "                    word_listing: List[str]):\n",
        "    \"\"\"\n",
        "    Checks differences between pre-trained embedding model vocabulary\n",
        "    and dataset specific vocabulary in order to highlight out-of-vocabulary terms.\n",
        "\n",
        "    :param embedding_model: pre-trained word embedding model (gensim wrapper)\n",
        "    :param word_listing: dataset specific vocabulary (list)\n",
        "\n",
        "    :return\n",
        "        - list of OOV terms\n",
        "    \"\"\"\n",
        "\n",
        "    embedding_vocabulary = set(embedding_model.vocab.keys())\n",
        "    oov = set(word_listing).difference(embedding_vocabulary)\n",
        "    return list(oov)"
      ],
      "execution_count": 5,
      "outputs": []
    },
    {
      "cell_type": "code",
      "metadata": {
        "id": "ks3PUZeyFuYB"
      },
      "source": [
        "def build_embedding_matrix(embedding_model: gensim.models.keyedvectors.KeyedVectors,\n",
        "                           embedding_dimension: int,\n",
        "                           word_to_idx: Dict[str, int],\n",
        "                           vocab_size: int,\n",
        "                           oov_terms: List[str]) -> np.ndarray:\n",
        "    \"\"\"\n",
        "    Builds the embedding matrix of a specific dataset given a pre-trained word embedding model\n",
        "\n",
        "    :param embedding_model: pre-trained word embedding model (gensim wrapper)\n",
        "    :param word_to_idx: vocabulary map (word -> index) (dict)\n",
        "    :param vocab_size: size of the vocabulary\n",
        "    :param oov_terms: list of OOV terms (list)\n",
        "\n",
        "    :return\n",
        "        - embedding matrix that assigns a high dimensional vector to each word in the dataset specific vocabulary (shape |V| x d)\n",
        "    \"\"\"\n",
        "\n",
        "    embedding_matrix = np.zeros((vocab_size, embedding_dimension), dtype=np.float32)\n",
        "\n",
        "    for word, idx in tqdm(word_to_idx.items()):\n",
        "        try:\n",
        "            embedding_vector = embedding_model[word]\n",
        "        except (KeyError, TypeError):\n",
        "            embedding_vector = np.random.uniform(low=-0.05, high=0.05, size=embedding_dimension)\n",
        "\n",
        "        embedding_matrix[idx] = embedding_vector\n",
        "\n",
        "    return embedding_matrix\n"
      ],
      "execution_count": 6,
      "outputs": []
    },
    {
      "cell_type": "code",
      "metadata": {
        "id": "LHclnVYLXWZN"
      },
      "source": [
        "import tensorflow as tf\n",
        "\n",
        "# Modify these variables as you wish!\n",
        "# Glove -> 50, 100, 200, 300\n",
        "# Word2Vec -> 300\n",
        "# Fasttext -> 300\n",
        "\n",
        "class KerasTokenizer(object):\n",
        "    \"\"\"\n",
        "    A simple high-level wrapper for the Keras tokenizer.\n",
        "    \"\"\"\n",
        "\n",
        "    def __init__(self, build_embedding_matrix=False, embedding_dimension=None,\n",
        "                 embedding_model_type=None, tokenizer_args=None):\n",
        "        if build_embedding_matrix:\n",
        "            assert embedding_model_type is not None\n",
        "            assert embedding_dimension is not None and type(embedding_dimension) == int\n",
        "\n",
        "        self.build_embedding_matrix = build_embedding_matrix\n",
        "        self.embedding_dimension = embedding_dimension\n",
        "        self.embedding_model_type = embedding_model_type\n",
        "        self.embedding_model = None\n",
        "        self.embedding_matrix = None\n",
        "        self.vocab = None\n",
        "\n",
        "        tokenizer_args = {} if tokenizer_args is None else tokenizer_args\n",
        "        assert isinstance(tokenizer_args, dict) or isinstance(tokenizer_args, collections.OrderedDict)\n",
        "\n",
        "        self.tokenizer_args = tokenizer_args\n",
        "\n",
        "    def build_vocab(self, data, **kwargs):\n",
        "        print('Fitting tokenizer...')\n",
        "        self.tokenizer = tf.keras.preprocessing.text.Tokenizer(**self.tokenizer_args)\n",
        "        self.tokenizer.fit_on_texts(data)\n",
        "        print('Fit completed!')\n",
        "\n",
        "        self.vocab = self.tokenizer.word_index\n",
        "\n",
        "        if self.build_embedding_matrix:\n",
        "            print('Loading embedding model! It may take a while...')\n",
        "            self.embedding_model = load_embedding_model(model_type=self.embedding_model_type,\n",
        "                                                        embedding_dimension=self.embedding_dimension)\n",
        "            \n",
        "            print('Checking OOV terms...')\n",
        "            self.oov_terms = check_OOV_terms(embedding_model=self.embedding_model,\n",
        "                                             word_listing=list(self.vocab.keys()))\n",
        "\n",
        "            print('Building the embedding matrix...')\n",
        "            self.embedding_matrix = build_embedding_matrix(embedding_model=self.embedding_model,\n",
        "                                                           word_to_idx=self.vocab,\n",
        "                                                           vocab_size=len(self.vocab) + 1,          \n",
        "                                                           embedding_dimension=self.embedding_dimension,\n",
        "                                                           oov_terms=self.oov_terms)\n",
        "            print('Done!')\n",
        "\n",
        "\n",
        "    def get_info(self):\n",
        "        return {\n",
        "            'build_embedding_matrix': self.build_embedding_matrix,\n",
        "            'embedding_dimension': self.embedding_dimension,\n",
        "            'embedding_model_type': self.embedding_model_type,\n",
        "            'embedding_matrix': self.embedding_matrix.shape if self.embedding_matrix is not None else self.embedding_matrix,\n",
        "            'embedding_model': self.embedding_model,\n",
        "            'vocab_size': len(self.vocab) + 1,\n",
        "        }\n",
        "\n",
        "    def tokenize(self, text):\n",
        "        return text\n",
        "\n",
        "    def convert_tokens_to_ids(self, tokens):\n",
        "        if type(tokens) == str:\n",
        "            return self.tokenizer.texts_to_sequences([tokens])[0]\n",
        "        else:\n",
        "            return self.tokenizer.texts_to_sequences(tokens)\n",
        "\n",
        "    def convert_ids_to_tokens(self, ids):\n",
        "        return self.tokenizer.sequences_to_texts(ids)"
      ],
      "execution_count": 7,
      "outputs": []
    },
    {
      "cell_type": "code",
      "metadata": {
        "colab": {
          "base_uri": "https://localhost:8080/"
        },
        "id": "rd7WJ8fOerEt",
        "outputId": "81779bb0-e3b6-40a7-9b39-a7985439c88e"
      },
      "source": [
        "tokenizer_args = {\n",
        "    'oov_token': 1,      # The vocabulary id for unknown terms during text conversion\n",
        "    'lower' : True,      # default\n",
        "    'filters' : '' \n",
        "}\n",
        "tokenizer = KerasTokenizer(tokenizer_args=tokenizer_args,\n",
        "                           build_embedding_matrix=True,\n",
        "                           embedding_dimension=50,\n",
        "                           embedding_model_type=\"glove\")\n",
        "tokenizer.build_vocab(dataframe_train[\"word\"])\n",
        "\n",
        "tokenizer_info = tokenizer.get_info()\n",
        "\n",
        "print('Tokenizer info: ', tokenizer_info)"
      ],
      "execution_count": 16,
      "outputs": [
        {
          "output_type": "stream",
          "name": "stdout",
          "text": [
            "Fitting tokenizer...\n",
            "Fit completed!\n",
            "Loading embedding model! It may take a while...\n",
            "Checking OOV terms...\n",
            "Building the embedding matrix...\n"
          ]
        },
        {
          "output_type": "stream",
          "name": "stderr",
          "text": [
            "100%|██████████| 7391/7391 [00:00<00:00, 252573.40it/s]"
          ]
        },
        {
          "output_type": "stream",
          "name": "stdout",
          "text": [
            "Done!\n",
            "Tokenizer info:  {'build_embedding_matrix': True, 'embedding_dimension': 50, 'embedding_model_type': 'glove', 'embedding_matrix': (7392, 50), 'embedding_model': <gensim.models.keyedvectors.Word2VecKeyedVectors object at 0x7f430dfa2dd0>, 'vocab_size': 7392}\n"
          ]
        },
        {
          "output_type": "stream",
          "name": "stderr",
          "text": [
            "\n"
          ]
        }
      ]
    },
    {
      "cell_type": "code",
      "metadata": {
        "colab": {
          "base_uri": "https://localhost:8080/"
        },
        "id": "OoGXyYUUgG2i",
        "outputId": "208d55af-52d9-47c9-bfa5-46f6ba53d388"
      },
      "source": [
        "print(tokenizer.vocab.keys())"
      ],
      "execution_count": 17,
      "outputs": [
        {
          "output_type": "stream",
          "name": "stdout",
          "text": [
            "dict_keys([1, 'the', 'of', 'to', 'a', 'in', 'and', 'for', \"'s\", 'that', 'is', 'said', 'it', 'on', 'mr.', 'at', 'with', 'by', 'as', 'was', 'has', 'are', \"n't\", 'have', 'its', 'he', 'new', 'but', 'an', 'from', 'be', 'u.s.', '%', 'they', 'says', 'will', 'about', 'million', 'or', 'this', 'company', 'their', 'more', 'who', 'were', 'year', 'which', 'japanese', 'than', 'had', 'would', 'she', 'one', 'also', 'been', 'not', 'president', 'years', 'billion', 'market', 'up', 'some', 'japan', 'first', 'corp.', 'other', 'his', 'because', 'i', 'two', 'we', 'there', 'all', 'can', 'trading', 'last', 'stock', 'mrs.', 'if', 'many', 'no', 'so', 'york', 'say', 'any', 'such', 'when', 'could', 'these', 'her', 'inc.', 'into', 'funds', 'time', 'after', 'do', 'even', '&', \"'\", 'out', 'only', 'companies', 'bank', 'most', 'over', 'research', 'co.', 'next', 'business', 'test', 'group', 'now', 'share', 'federal', 'what', 'did', 'prices', 'trade', 'high', 'may', 'government', 'price', 'yeargin', 'them', 'department', 'under', 'made', 'you', 'securities', 'shares', 'since', 'while', 'cray', 'investment', 'school', 'vice', 'those', 'rates', 'week', 'state', 'much', 'banks', 'make', 'recent', 'investors', 'sales', 'executive', 'another', 'country', 'american', 'students', 'down', 'like', 'south', 'program', 'chairman', 'three', 'common', 'ad', 'exchange', 'number', 'does', 'money', 'both', 'growth', 'before', 'financial', 'people', 'issue', 'off', 'officials', 'small', 'interest', 'average', 'well', 'economic', 'plan', 'chief', 'yesterday', 'september', '10', 'board', 'rate', 'earlier', 'international', 'offer', 'pay', 'help', 'yen', 'stocks', 'according', 'still', 'take', 'just', 'month', 'computer', 'ringers', 'suspension', 'report', 'october', 'construction', 'china', 'england', 'university', 'contract', 'where', 'same', 'magazine', 'world', 'bid', 'less', 'foreign', 'part', 'get', 'index', 'products', 'early', 'far', 'higher', 'force', 'cash', 'during', 'debt', 'until', 'months', 'fine', 'without', 'big', 'john', 'edison', 'judge', '50', 'each', 'through', 'firm', 'several', 'concern', 'georgia', 'wine', 'hahn', 'ago', 'sold', 'countries', 'managers', 'work', 'tuesday', 'dividends', 'days', 'based', '1990', 'added', 'own', 'dividend', 'markets', 'tokyo', '15,000', 'futures', 'bells', 'director', 'unit', 'treasury', 'city', 'good', 'economy', 'spending', 'orders', 'issues', 'very', 'five', 'took', 'yield', 'rose', 'industry', 'house', 'association', 'capital', 'end', 'return', 'way', 'against', 'court', 'cents', 'customers', 'spokesman', 'law', 'firms', 'major', 'bush', 'often', 'buy', 'gulf', 'limit', 'fined', 'among', \"'re\", 'including', 'should', 'currently', 'management', 'then', 'general', 'korea', 'between', 'public', 'officer', '100', 'materials', 'questions', 'nixon', 'used', '30', 'reported', 'current', 'savings', 'washington', 'however', 'largest', '1', 'case', 'want', 'analysts', 'being', '15', 'growing', '1987', 'tests', 'your', 'services', 'sea', 'containers', 'wage', 'old', 'workers', 'today', 'national', 'expected', 'recently', 'fund', 'point', 'example', 'fell', 'raise', 'manufacturing', 'corporate', 'increase', 'began', 'plans', 'news', 'too', '2', 'below', 'demand', 'political', 'around', 'commission', 'set', 'comment', 'rights', 'office', 'members', 'see', 'talks', 'never', 'life', 'region', '10,000', 'church', 'although', 'information', 'whether', 'four', 'total', 'factory', 'nations', 'reached', 'ltd.', 'manager', 'maker', 'william', 'official', '500', 'give', 'long', 'use', 'banking', 'robert', 'commonwealth', '1985', 'trucks', 'strong', 'little', 'principal', 'finance', 'here', 'michael', 'sell', 'asia', 'union', 'think', 'deal', 'campaign', 'net', 'notes', 'teacher', 'ward', 'irs', 'wines', 'form', 'our', 'us', 'plant', 'few', 'almost', 'august', 'act', 'senior', 'offered', 'become', 'purchase', '1988', 'past', '12', 'called', 'face', 'fujitsu', 'hills', 'cases', 'following', 'london', 'late', 'committee', 'always', 'young', 'abortion', 'carolina', 'scoring', 'named', 'problem', 'james', 'dr.', 'different', 'though', 'investments', 'period', 'despite', 'dollar', 'congress', 'marketing', 'meeting', 'decided', 'fed', 'trying', 'advertisers', 'full', '1989', 'six', 'come', 'noted', 'owns', 'might', 'possible', 'commerce', 'local', 'richard', 'close', 'weeks', 'action', 'right', 'production', 'dollars', 'designed', '13', 'johnson', 'declined', 'great', 'health', 'women', 'job', 'lawyers', 'greenville', 'light', 'nl', 's&p', 'bell', 'former', 'industrial', 'asbestos', 'times', 'found', 'continue', 'sale', 'annual', 'held', 'free', 'ministry', 'credit', 'decline', 'paying', 'r.', 'ordered', 'already', 'additional', 'every', 'least', 'loss', 'paid', 'result', '-lcb-', '-rcb-', 'data', 'became', 'level', 'cut', 'nearly', 'put', 'above', 'how', 'account', 'oct.', 'contracts', 'going', 'lane', 'charge', 'mitsubishi', 'commercial', 'tv', 'dinkins', 'coleman', 'wanted', 'chicago', 'california', 'effect', 'my', 'scores', 'education', 'learning', 'points', 'administration', 'bottle', 'consented', 'fields', 'once', 'show', 'using', 'having', 'institute', 'making', '18', 'western', 'support', 'kind', 'further', 'watch', 'go', 'shareholders', 'holding', 'bonds', 'legislation', 'service', 'previously', '20', 'back', 'away', 'future', 'newsweek', 'advertising', 'increasing', 'system', 'move', 'matter', 'order', '3', 'disclosed', 'believe', 'age', 'terms', 'half', '40', 'came', 'david', 'wants', 'ii', 'product', 'home', 'telephone', 'organization', 'clients', '90', 'agreed', 'rise', 'survey', 'indicated', 'asked', 'relations', 'line', 'bond', 'student', 'artist', 'across', 'courter', 'asian', 'policy', 'teachers', 'testing', 'safety', 'told', 'need', 'stock-index', 'later', 'schools', 'study', 'class', 't.', 'acquisition', 'expects', 'transaction', 'completed', 'nation', 'decision', 'special', 'cars', 'figures', 'wednesday', 'imports', 'remain', 'keep', 'costs', 'drop', 'proposed', 'got', 'hard', 'increases', 'review', 'closed', 'consumer', 'refund', 'april', 'record', 'dealers', 'march', 'compared', 'development', 'cray-3', 'him', '1991', 'profit', 'software', 'agreement', 'standards', 'slow', 'street', 'acquired', 'stake', 'changes', 'role', 'co', 'traded', 'goods', 'failed', 'purchasing', 'defense', 'private', 'leading', 'change', 'lot', 'mark', 'man', 'something', 'ms.', 'chinese', 'real', 'martin', 'woman', 'look', 'insurance', 'mary', 'southeast', 'cheating', 'answers', 'district', 'unfair', 'funding', 'volume', 'rally', 'quarter', 'criminal', 'guild', 'minimum', 'georgia-pacific', 'cosby', 'ratings', 'st.', 'temple', 'barred', 'simmons', 'nov.', 'publishing', 'percentage', 'researchers', 'makes', 'latest', 'likely', 'a.', 'led', 'team', 'standard', 'particularly', 'large', 'question', 'place', 'considered', 'institutions', 'assets', 'seats', 'regulatory', 'operations', 'systems', 'ceiling', 'j.', 'manufacturers', 'fall', '4', 'announced', 'second', 'competition', 'cost', 'circulation', 'lower', 'hampshire', 'saying', 'potential', 'outside', 'value', 'concerns', 'curry', 'earnings', 'rule', 'poor', '21', 'previous', 'texas', 'opened', 'working', 'beginning', 'technology', 'equipment', 'addition', 'improve', 'themselves', 'enough', 'secretary', '8', 'history', 'television', 'jobs', 'barrels', 'white', 'magna', 'offering', 'issued', 'june', '6', \"'m\", 'better', 'quickly', 'clear', 'sector', 'building', 'lead', 'slowing', 'low', 'evidence', 'thing', 'important', 'sony', 'proposal', 'bill', 'given', 'needed', 'taken', 'industries', 'ads', 'income', 'voice', 'know', 'wilder', 'stations', 'rep.', 'involved', 'standardized', '5,000', 'third', 'others', 'fetal-tissue', 'takeover', 'media', 'attorneys', 'bids', 'leaders', 'profits', 'nekoosa', 'la', 'mitsui', 'training', 'phelan', 'kent', 'filters', 'cancer', 'findings', 'neither', 'nor', 'risk', 'medical', 'paper', 'men', 'closely', 'probably', 'college', 'day', 'longer', 'sign', 'monday', '9', '30-day', 'd.', 'energy', 'approved', 'suspended', 'course', 'valley', 'executives', 'nine', 'looking', 'showed', 'increased', '1986', 'yet', 'meet', 'pages', 'watches', 'electric', 'united', 'northeast', 'ps', '11', 'raising', 'jr.', 'fact', 'field', 'turned', 'composite', 'm.', 'circuit', 'groups', 'received', 'amount', 'dec.', 'ruling', 'estimated', 'performance', 'spinoff', 'include', 'investor', 'direct', 'nec', 'why', 'list', 'spring', 'movie', 'problems', 'continuing', 'minister', 'wall', 'computers', 'developed', 'together', 'raised', 'thomas', 'certain', 'produced', 'effort', 'english', 'went', 'france', 'jointly', 'outstanding', 'anything', 'find', '7', 'instance', 'americans', 'legal', 'meanwhile', 'recession', 'provide', 'accounts', 'included', 'strike', 'hours', 'consumers', 'charges', 'planned', 'ca', 'film', 'night', 'achievement', 'negative', 'introduced', 'known', 'coming', 'friends', 'remains', 'forms', 'partly', 'won', 'alleged', '1984', 'pressure', 'wrongdoing', 'states', 'classroom', 'programs', \"'ve\", 'gained', 'connecticut', 'traders', '3\\\\/4', 'customer', 'individuals', 'trudeau', 'america', 'member', 'violations', 'calif.', 'g.', 'thursday', 'viacom', 'garbage', 'jones', 'glass', 'packages', 'fla.', 'trades', 'ringing', 'vicar', 'nasd', '55', 'caused', 'cigarettes', 'journal', 'bring', 'attention', 'highest', 'agency', 'ban', 'areas', 'continued', 'continues', 'rising', 'again', 'short-term', 'seven', 'pacific', 'complete', 'dropped', 'chrysler', 'division', 'idea', 'makers', 'gave', 'treatment', 'registered', 'monthly', 'exports', 'january', '19', 'base', 'doing', 'gains', 'worth', 'equity', 'related', 'operating', 'summer', 'electronics', 'begin', 'whose', 'domestic', 'instruments', 'control', '60', 'filed', 'financing', 'fully', '16', 'believes', 'nasdaq', 'able', 'rather', 'taiwan', 'best', 'measure', 'lawyer', 'malaysia', 'elaborate', 'bad', 'assistant', 'significant', 'personal', 'launched', '1977', 'sets', 'pcs', 'types', 'capacity', 'scheduled', 'venture', 'turn', 'shareholder', 'seek', 'conference', 'similar', 'goldman', 'sachs', 'key', 'giant', 'november', 'currency', 'publicly', 'single', 'head', 'associates', 'soon', 'individual', 'easy', 'mature', 'european', 'democratic', 'society', 'front', 'helped', 'boost', 'mcgraw-hill', 'export', 'reporting', 'improvement', 'chase', 'sides', 'talk', 'offers', 'seems', 'practice', 'rules', 'employees', 'partners', 'except', 'feel', 'build', 'estate', 'tramp', 'really', 'prepared', 'black', 'seem', 'expensive', 'sound', 'resistance', 'client', 'discussions', 'goes', 'ahead', 'marshall', 'de', 'taking', 'wrong', 'blacks', 'things', 'hearing', 'radio', 'britain', 'cat', 'loan', 'c.', 'transplants', 'wo', 'cause', 'interstate', 'massachusetts', 'transactions', 'justice', 'statement', 'access', 'adds', 'campbell', 'belts', 'dow', 'cabernet', 'experience', 'candela', 'package', 'foster', 'merc', 'tower', 'admitting', 'denying', 'disgorge', 'compromise', 'nonexecutive', 'gold', 'british', 'deaths', 'crocidolite', 'lorillard', 'medicine', 'story', 'worked', 'mass.', 'professor', 'july', 'huge', 'area', 'human', '35', 'yields', 'signs', 'compound', '400', 'ended', 'thought', 'open', 'six-month', 'bills', 'top', 'fees', 'resigned', 'controls', 'revenue', 'senate', 'default', 'corp', 'followed', 'police', 'announcer', 'meetings', 'deficit', 'sharply', 'pace', 'introduce', 'b.', '5', 'page', 'heavy', 'none', 'internal', 'bankruptcy', 'acquire', 'rowe', 'true', 'ross', 'seeking', 'succeed', '250', 'power', 'required', '45', 'underlying', 'exact', 'changed', 'ill.', 'involving', 'devices', 'machine', 'balance', 'documents', 'project', 'perhaps', 'details', 'note', 'p.', 'either', 'require', 'handling', 'fewer', 'range', 'instead', 'book', 'posted', 'colo.', 'includes', 'douglas', 'hardware', 'patents', 'intellectual-property', 'thailand', 'representative', 'sanctions', 'property', 'progress', 'prosecutors', 'producers', '17', 'canada', 'patent', 'efforts', 'reports', 'met', 'stand', 'apple', 'built', 'stephen', 'unlike', 'gives', '70', 'oil', 'australia', 'joint', 'southern', 'businesses', 'duty-free', 'covered', 'grant', 'main', 'stronach', 'parliament', 'chemical', 'bought', 'buying', '14', 'extend', 'debts', 'hefty', 'marks', 'consecutive', 'surged', 'announcement', 'regulators', 'charles', 'e.', 'visit', 'partner', 'popular', 'analyst', 'premium', 'global', 'europe', 'levels', 'affairs', 'unless', 'war', 'generally', 'ran', 'activity', 'adjusted', 'inventories', '`', 'strength', 'consider', 'difference', 'items', 'sheep', 'especially', 'worry', 'call', 'game', 'must', 'run', 'katzenstein', 'whom', 'crime', 'deputy', 'stores', 'central', 'conditions', 'membership', '1979', 'win', 'beijing', 'daily', 'newspaper', 'loans', 'dam', 'highly', 'view', 'selling', 'larger', 'getting', 'giuliani', 'shows', 'candidates', 'opposed', 'situation', 'series', 'suggested', 'victims', 'tried', 'positive', 'florio', 'female', 'asks', 'environment', 'rockefeller', 'quoted', 'budget', 'comes', 'approach', 'east', 'gain', 'security', 'pennsylvania', 'parents', 'geography', 'actions', 'bonus', 'educators', 'booklets', 'critics', 'kids', 'overall', 'indeed', 'interested', 'prevent', 'pretty', 'avoid', 'trial', 'macmillan\\\\/mcgraw', 'aimed', 'louis', 'sullivan', 'approve', '1\\\\/4', '5\\\\/8', 'miami', 'letters', 'moderate', 'judicial', 'judges', 'san', 'francisco', 'care', 'gaf', 'n.j.', 'auctions', 'retail', 'air', \"'ll\", 'n.y.', 'packaging', '75', 'minivans', 'stanley', 'retin-a', 'corporations', 'institution', 'floor', 'markey', 'nbi', 'guards', 'hour', 'join', 'cigarette', 'brief', 'york-based', 'stopped', 'preliminary', 'results', 'talking', 'studied', 'talcott', 'boston', 'diseases', 'finding', 'appears', 'argue', 'fibers', 'protection', 'uses', 'imported', 'process', 'described', 'mutual', 'slide', 'portfolio', 'expect', 'declines', 'declining', 'relatively', 'stronger', 'editor', 'yielding', 'world-wide', 'overseas', 'simple', 'grace', 'elected', 'approval', 'interests', 'mechanical', 'engineering', 'lift', 'taxes', 'auto', 'motor', 'indianapolis', 'owners', 'along', 'evening', 'champagne', 'red', 'honor', 'space', 'name', 'hotel', 'block', 'standing', 'released', 'fifth', 'labor', 'sluggish', 'rival', 'incentive', 'spent', 'totaled', 'bidding', 'risks', 'reorganization', 'proceedings', 'conn.', 'suffer', 'improved', 'substantial', 'factors', 'adviser', 'troubled', 'request', 'hopes', '25', 'illegal', 'nuclear', 'ever', 'appeals', 'round', '31', 'administrative', 'near', 'supreme', 'expenses', 'subject', 'hope', 'introduction', 'miles', 'produce', 'vehicles', 'supercomputer', 'seymour', 'pending', 'providing', 'heads', '120', 'presence', 'minneapolis', 'chip', 'sec', 'leave', 'clearly', 'eastern', 'so-called', 'priority', 'varying', 'enforcement', 'spain', 'combined', 'prompted', 'requires', 'ask', 'rapanelli', 'advance', 'club', 'paul', 'atlanta', 'allow', 'shipments', 'annually', '23', 'convertible', 'preferred', 'launch', 'whiting', 'brought', 'started', 'reserves', 'start', 'shearson', 'philippines', 'aide', 'mcalpine', 'expansion', 'quarterly', 'canadian', 'founder', 'mortgage', 'purchases', 'institutional', 'rest', 'hong', 'kong', 'boosted', 'l.', 'expanding', 'giving', 'tender', 'expire', 'sixth', 'portfolios', 'george', 'foot', 'porter', 'smith', 'behind', 'swing', 'broader', 'wild', 'reason', 'long-term', '1992', 'integration', 'jumped', 'increasingly', 'suggests', 'adrs', 'party', 'soviet', 'separate', 'inflation', 'reserve', 'slowdown', 'bankers', 'eventually', 'dodge', 'pressures', 'delivery', 'provided', 'trend', 'short', 'supply', 'milk', 'article', 'novel', 'reruns', 'read', 'writers', 'figure', 'copies', 'books', 'written', 'language', 'usually', 'carry', 'spirit', 'male', 'ties', 'lives', 'parties', 'sometimes', 'fired', 'social', 'becoming', 'prime', 'urged', 'center', '20,000', 'necessary', 'asking', 'disease', 'hungary', 'czechoslovakia', 'warrants', '1,000', 'chaplin', 'writer', 'streets', 'sidewalk', 'stories', 'playing', 'purpose', 'returns', 'child', 'children', 'final', 'french', 'picture', 'attack', 'politics', 'needs', 'jersey', 'virginia', 'screen', 'straight', 'politicians', 'insists', 'refused', 'incomplete', 'side', 'knows', 'rape', 'attorney', 'bob', '1983', 'mean', 'pictures', 'waste', 'grows', 'appeared', 'influence', 'military', 'decade', 'regional', 'ease', 'basic', 'skills', 'seen', 'passed', 'matched', 'section', 'me', 'colleagues', 'reform', 'ability', 'practices', 'keeping', 'preparation', 'trouble', 'teaching', 'source', 'admits', 'watson', 'host', 'favor', 'add', 'kaminski', 'mich.', 'bar', 'knowledge', 'oppose', 'mason', 'scientific', 'majority', 'panel', 'nih', 'debate', 'trust', '7\\\\/8', 'merger', 'heritage', 'pop', 'operator', 'trotter', 'fiscal', 'sonnett', 'sent', 'troubles', 'suit', 'disciplinary', 'activities', 'opening', 'manhattan', 'specialty', 'sure', 'yamamoto', 'headquarters', 'communications', 'lake', 'columbia', 'valued', 'network', 'willing', 'poore', 'editors', 'soup', 'spend', 'programming', 'philadelphia', 'sherwood', 'vans', 'vehicle', 'car', 'fairly', 'roof-crush', 'ford', '1982', 'heights', 'leap', 'diamond', 'creek', 'segments', 'petrus', 'salon', 'soared', 'pratt', 'rapidly', 'orleans', 'ideas', 'door', 'guffey', 'slower', 'vote', 'estimates', 'chemicals', 'morgan', 'acquisitions', 'differences', 'dallara', 'pickens', 'minority', 'klauser', 'deposit', 'breaker', 'subcommittee', 'ropes', 'churches', 'band', 'ringer', 'ring', 'baldwin', 'payouts', 'embassy', '30,000', '10-day', 'whelen', '2,500', '25,000', 'arbitrage', '61', 'n.v.', 'rudolph', 'plc', 'enters', 'decades', 'heard', 'aware', 'spokeswoman', 'type', '33', 'asbestos-related', 'owned', 'buildings', 'easily', 'rejected', 'environmental', 'virtually', 'remaining', 'dumped', 'material', 'mixed', 'dry', 'parts', 'recognize', 'events', 'seven-day', 'maturity', 'maturities', 'indicate', 'indicator', 'grew', '1.5', 'dollar-denominated', 'w.r.', 'holds', '27', 'thrift', 'bailey', 'ohio', 'authority', 'borrowing', 'trillion', 'cutting', '3.1', 'position', 'boca', 'hot', 'springs', 'settled', 'guests', 'prove', '125', 'receiving', 'message', 'giants', 'steel', 'joined', 'mayor', 'h.', 'iii', 'morning', 'lights', 'governor', 'food', 'drivers', 'race', 'machines', 'buses', 'february', 'stood', 'disputes', 'target', 'post', 'maintaining', 'alan', 'spoon', 'effectively', 'per', 'matters', 'flat', 'leaves', 'illuminating', 'utilities', 'independent', 'places', '2.2', 'forecasts', 'electricity', 'persistent', 'withdraw', 'complicated', '63', 'directors', 'appliances', 'retired', 'illinois', 'considering', '1\\\\/2', '49', 'upheld', 'plus', 'braidwood', 'units', 'records', 'passenger', 'reductions', 'tax', 'located', 'seoul', 'survival', 'designer', 'initial', 'tied', 'directly', 'moreover', 'barnum', 'interview', 'gary', 'intense', 'competitor', 'receive', 'occur', 'decide', 'applied', 'primarily', 'sheets', 'messrs.', 'joseph', 'positions', 'removed', 'saudi', 'arabia', 'allegedly', 'failing', 'mexico', 'carla', 'accelerated', 'placed', 'degrees', 'authors', 'pursue', 'effective', 'procedures', 'aid', 'bilateral', 'copyright', 'protect', 'recognition', 'disturbing', 'complained', 'investigation', 'developing', 'reach', 'reduction', 'carlos', 'triggered', 'greater', 'pc', '1981', 'entered', 'faulding', 'australian', 'pharmaceuticals', 'moleculon', 'affiliate', 'sells', 'bass', 'esso', 'broken', 'hill', 'subsidiary', 'buy-out', 'lehman', 'hutton', 'itself', 'response', 'timex', 'producer', 'frank', 'stepping', 'manufacturer', 'maintained', 'left', 'downturn', 'steady', 'seat', 'restructuring', 'consulting', 'fannie', 'mae', 'maxwell', 'mortgage-backed', 'aerospace', 'exclusive', 'file', 'code', 'montedison', 'reflects', 'temporarily', 'follows', 'pick', 'closed-end', 'ranged', 'crash', 'traditional', 'surge', 'listed', 'billions', 'available', 'runs', 'hold', 'historically', 'premiums', 'climbed', 'invested', 'rich', 'receipts', 'moscow', 'happen', 'permitted', 'branch', 'settle', 'millions', '46', 'reading', 'economist', 'cleveland', 'residential', 'draw', 'measures', 'economists', 'warning', 'excessive', 'awarded', 'imminent', 'bretz', 'purchased', 'indicators', 'particular', 'import', 'dozen', 'blamed', 'entirely', 'contemporary', 'funny', 'wa', 'version', 'ballplayers', 'image', 'size', 'shame', 'players', 'road', 'complaint', 'certainly', 'globe', 'singapore', 'restaurants', 'smoking', 'fast-food', 'carried', 'pressured', 'olympic', 'aids', 'confirmed', 'tested', '150', 'ending', '1972', 'due', '100,000', '1976', 'shot', 'contained', 'person', 'friend', 'feeling', 'takes', 'box', 'calls', 'sense', 'serious', 'managed', 'harsh', 'marie-louise', 'thousands', 'killed', 'husband', 'deserve', 'scenes', 'die', 'seeing', 'regular', '767', 'press', 'speculated', 'hit', 'campaigns', 'fears', 'art', 'consultant', 'means', 'republican', 'master', 'gets', 'convicted', 'wait', 'caught', 'cop-killer', 'bullets', 'choose', 'peter', 'freedom', 'denies', 'accused', 'pass', 'himself', 'pinocchio', 'focus', 'nose', 'responded', 'lying', 'cooperation', 'starts', 'hormats', 'commitments', 'ground', 'plants', 'specialist', 'closer', 'discuss', 'transportation', 'telecommunications', 'speech', 'baker', 'flows', 'step', 'hardly', 'comprehensive', 'graders', 'crib', 'germany', 'examination', 'low-ability', 'gone', 'unusual', 'teach', 'wake', 'concluded', 'widespread', 'ones', 'numerous', 'macmillan\\\\/mcgraw-hill', 'nothing', 'academic', 'telegraph', 'extra', 'projects', 'posts', 'lowest', 'cannell', 'seriously', 'winning', 'term', 'curriculum', 'taught', 'encourage', \"'d\", 'helping', 'salary', 'eager', 'returned', 'bottom', 'mostly', 'badly', 'offenders', 'familiar', 'afraid', 'sentiment', 'worksheets', 'parent', 'parallels', 'referred', 'fifth-grade', 'sounds', 'sacramento', '44', 'fetal', 'stop', 'funded', 'letter', 'threatened', 'controversy', 'ethical', 'prestigious', 'charged', 'damaged', 'roughly', 'biggest', 'modestly', 'targets', 'saw', 'otc', 'bancorp', 'signed', 'third-quarter', 'pretax', 'substantially', 'losses', 'assuming', '51', 'lost', 'sept.', 'year-earlier', 'payment', 'formed', 'confidential', 'victim', 'professional', 'high-priced', 'laughing', 'darkhorse', 'employed', 'lawsuit', 'samnick', 'seeks', 'opinion', 'violate', 'homosexual', 'dallas', 'hampton', 'december', 'park', 'murray', 'impose', 'inc', 'alone', 'accepted', 'limited', 'hurt', 'design', 'backe', 'facing', 'n.j', 'offset', 'resulting', 'lure', 'sterling', 'madison', 'los', 'angeles', 'solid', 'entertainment', 'northern', 'commodity', 'negotiate', 'station', 'quite', 'premiere', 'opportunity', 'printed', 'turning', 'economics', 'initially', 'interpublic', 'original', 'leaving', 'possibility', 'subsidiaries', 'reaction', 'advocates', 'requirements', 'model', 'surprising', 'sen.', 'rear-seat', 'railcars', 'sir', 'within', 'interesting', 'upon', 'stag', 'vineyard', 'quality', 'bordeaux', 'romanee-conti', 'tache', 'roederer', 'cristal', 'chateau', 'shapiro', 'responses', '62', 'sort', 'equally', 'expecting', 'chance', 'copperweld', 'basham', 'congressional', 'auctioned', 'various', 'apparently', 'acne', 'signal', 'notably', 'koito', 'successful', 'smaller', 'provides', 'deals', 'wakui', 'houses', 'hudson', 'stearn', 'checking', 'card', 'loyalty', 'deposits', 'targeting', 'moore', 'charlotte', 'starting', 'fee', 'realize', 'sharedata', 'send', 'felt', 'collar', 'session', '12-point', 'shortly', 'expressed', 'program-trading', 'edward', 'done', 'aslacton', 'ancient', 'hammond', 'live', 'youth', 'belfry', 'crunch', 'bang', 'attract', 'boesel', 'relative', 'coxon', 'einhorn', 'berliner', 'yang', 'expelled', 'vargas', 'listing', 'henry', 'otero', 'triton', 'connection', 'crane', 'canepa', 'pa.', 'one-year', 'index-arbitrage', 'vinken', '29', 'consolidated', 'exposed', '1956', 'anyone', 'questionable', 'smokers', 'modest', 'amounts', '1950s', '28', 'lung', 'striking', 'west', 'industrialized', 'hollingsworth', 'vose', 'regulate', 'chrysotile', 'mossman', 'body', 'imposed', 'blue', 'fans', 'contracted', 'resources', 'money-market', 'amid', 'taxable', '41', 'permit', 'capture', 'sooner', 'nevertheless', 'blip', 'auction', 'typically', 'beat', 'heavily', 'boosts', 'slid', 'formerly', 'toronto', 'obtain', 'finmeccanica', 'italian', 'employs', 'acts', 'midnight', 'fight', 'capital-gains', 'voted', 'vitulli', 'arm', 'mazda', '43', 'towns', 'raton', 'treat', 'rock', 'stars', 'belt', 'expand', 'victor', 'speedway', 'welcomed', 'buffet', 'banned', 'pointed', 'downtown', 'squeezed', 'dinner', 'indiana', 'roof', 'chefs', 'meal', 'forward', 'reflecting', 'casting', 'mere', 'forecast', 'recorded', 'surplus', 'weeklies', 'guaranteed', '7.5', 'announce', 'reward', 'bonuses', 'attempt', '3.2', 'bureau', 'gaining', 'electronic', 'audit', 'decrease', '2.6', 'bowed', 'bidders', 'chapter', 'hartford', 'conn', 'values', 'seemed', 'worried', 'holders', '4.8', 'negotiations', 'asserted', 'separately', 'norman', 'chain', 'undersecretary', 'utility', 'refunds', 'moved', 'attempts', 'appealing', 'determined', 'actual', 'collections', '2.5', 'byron', 'courts', 'challenge', 'unreasonable', 'ruled', '190', '195', 'inched', 'medium-sized', 'doubled', 'manufacture', 'household', 'creativity', 'sheet', '64-year-old', 'prospects', 'attached', 'choice', 'gregory', 'theory', 'scenario', 'valuation', 'smaby', 'concept', 'besides', 'describe', 'chips', 'contain', 'processors', 'roll', 'ltd', 'supercomputers', 'presumably', 'stockholders', 'distribution', '53', 'hand', 'colorado', 'arrangement', 'father', 'neil', 'malcolm', '450', 'stevens', 'arthur', 'hatch', 'claiming', 'success', 'intellectual', 'scrutiny', 'negotiators', 'scientists', 'investing', 'creating', 'task', 'teams', 'trained', 'films', 'taipei', 'showing', 'apply', 'italy', 'deemed', 'threat', 'tells', 'concerned', 'turkey', 'argentina', '64', 'believed', 'argentine', 'feels', 'forgiven', 'century', 'computing', 'crude', 'steven', 'models', 'store', 'memories', 'memory', 'counterparts', 'pioneer', 'gates', '1975', 'ibm', 'versions', 'f.', 'dennis', 'leader', 'kalipharma', 'voting', 'holdings', '11,000', 'operate', 'r.p.', 'scherer', 'optical', 'virgin', 'islands', 'preferences', 'denied', 'requested', '58', 'tariff', 'status', 'assembled', 'eligible', 'reduce', 'overhead', 'excess', 'load', 'automotive', 'us$', 'c$', 'controlling', 'running', 'career', 'single-handedly', 'snapped', 'fixed-rate', 'eliminate', 'prepayment', 'forces', 'payments', 'semiannual', 'reducing', 'burden', 'purchasers', '2.4', 'erbamont', 'netherlands', '72', 'currencies', 'drawing', 'protracted', 'intensity', 'invest', 'simon', 'philippine', 'managing', 'newgate', '1929', 'claims', 'barney', 'diversify', 'gyrations', 'tend', 'plunged', 'discount', 'startling', 'play', 'newly', 'reflect', 'cast', 'plenty', 'depositary', 'represent', 'essentially', 'insist', 'folks', '188', 'owed', 'soviets', 'monetary', 'obstacles', 'hundreds', '47.6', 'fallen', 'remove', 'effects', 'usual', 'patterns', 'kenneth', 'slack', 'slowly', 'predicting', 'lack', '0.1', 'soft', 'landing', 'platt', 'intended', '0.3', '0.9', 'backlogs', '88', 'adjusting', 'counts', 'stamford', 'steeper', 'suppliers', 'row', 'exceptionally', 'contributed', 'seasonally', 'americana', 'murakami', 'kodansha', 'characters', 'drink', 'careers', 'marriages', 'belong', 'notion', 'carries', 'hero', 'star', 'stanford', 'phone', 'sweet', 'beatles', 'gotta', 'macmillan', '17.95', 'baseball', 'nipponese', 'describes', 'harmony', 'commitment', 'symbol', 'played', 'unrecognizable', 'zone', 'defeat', 'strict', 'conduct', 'amusing', 'fare', 'plate', 'regret', 'employee', 'responsibility', 'science', 'ultimately', 'morita', 'learned', 'editorial', 'features', 'entering', 'centers', 'discos', 'clubs', 'indicates', 'materialistic', 'colony', 'identified', 'one-third', 'balked', 'palestinian', 'renewed', 'application', 'organizations', 'sex', 'family', 'polish', 'gas', 'victory', 'nagymaros', 'nemeth', 'modify', 'damage', 'operated', 'peak', 'periods', 'weddings', '6,000', 'rings', 'statistics', 'bramalea', 'debentures', '1999', 'toronto-based', 'entitles', 'date', 'claim', 'sketch', 'dialogue', 'silent', 'earns', 'double', 'score', 'thinking', 'precisely', 'romanticized', 'walk', 'avenue', 'crack', 'spends', 'girl', 'mother', 'blessing', 'stakes', 'strongly', 'chabrol', 'viewed', 'historical', 'vichy', 'abortionist', 'openly', 'presented', 'latour', 'recommend', 'mention', 'bright', 'tip', 'boeing', 'discussing', 'possibly', 'stages', 'specific', 'sections', 'aircraft', 'secondary', 'contests', 'era', 'content', 'fills', 'roger', 'ailes', 'kicker', 'simply', 'finally', 'pro-choice', 'telling', 'truth', 'everybody', 'nobody', 'classic', 'accurate', 'fail', 'voluntarily', 'admitted', 'reservations', 'gov.', 'battle', 'agree', 'flag', 'tradition', 'dynamics', 'created', 'attracted', 'featured', 'courtroom', 'younger', 'grown', 'gotten', 'scientist', 'campaigning', 'remainder', 'featuring', 'jim', 'suing', 'fraud', 'land', 'heating', 'salmore', 'credibility', \"o'connor\", 'gop', '350,000', '16,000', 'friday', 'aug.', 'toward', 'suggest', 'domination', 'flow', 'motion', 'economies', 'tripled', 'assistance', 'pumping', 'forcing', 'spur', 'evolution', 'concentrated', 'spurred', 'accommodate', 'donor', 'parallel', 'indonesia', 'pull', 'integrated', 'participants', 'crucial', 'architecture', 'difficult', 'regard', 'try', 'cathryn', 'rice', 'surrendered', 'word', 'social-studies', 'protest', 'nancy', 'classes', 'breach', 'pleaded', 'guilty', 'inspired', 'defended', 'treated', 'harshly', 'casts', 'laws', 'albuquerque', 'n.m.', 'outright', 'greatly', 'surfaced', 'statewide', 'test-coaching', 'instruction', 'booming', 'sophisticated', 'experts', 'entire', 'districts', 'reforms', 'primary', 'stressing', 'foundation', 'worries', 'run-down', 'governors', 'physicist', 'immediate', 'prior', 'death', 'split', 'neighborhoods', 'faculty', 'restore', 'behalf', 'educational', 'ambitions', 'loved', 'favorite', 'cadet', 'civilization', 'lady', 'beth', 'marchand', 'green', 'furniture', 'stands', 'fellow', 'pushing', 'meaningful', 'seminar', 'studies', 'mistake', 'subjects', 'newspapers', 'advanced', 'adding', 'hands', 'discovered', 'certificate', 'someone', 'authorities', 'supportive', 'policies', 'allowed', 'murder', 'angry', 'damn', 'wisdom', 'mathematics', 'jury', 'answer', 'widely', 'communication', 'test-preparation', 'coaching', 'grade', 'iowa', 'metropolitan', 'kean', 'publishes', 'mehrens', 'scale', 'subskills', '69', 'brownell', 'random', 'represented', 'alleghany', 's&l', 'offices', 'north', 'moratorium', 'tissue', 'parkinson', 'transplant', 'privately', 'involve', 'hhs', 'institutes', 'dispute', 'prominent', 'names', 'consideration', 'views', 'novello', 'assured', 'ideological', 'moves', 'uncharted', 'applications', 'genel', 'associate', 'yale', 'climate', 'visible', 'flap', 'tissues', 'genes', 'mental', 'summary', 'over-the-counter', 'slightly', 'paltry', 'turnover', 'tracks', 'regions', 'real-estate', 'speculators', 'immediately', 'water', 'jennison', 'trader', 'constitution', 'one-time', 'dramatic', 'weisfield', 'ratners', 'acquiring', 'swap', 'restaurant', 'redeemed', 'resolve', 'burt', 'sugarman', '42.5', 'nine-member', 'sci', 'detailed', 'warnings', 'attorney-client', 'privilege', 'stem', '8300', 'punishable', 'prison', 'argued', 'citing', 'hire', 'retained', 'chaired', 'gerald', 'aba', 'grand', 'stance', 'detroit', 'permission', 'obtained', 'salaries', 'ramirez', 'calif', 'unjust', 'cartoonist', 'mounted', 'harass', 'picket', 'k.', 'unjustified', 'damages', 'family-planning', 'adopted', 'prohibits', 'title', 'x', 'counseling', 'promote', 'restrictions', 'inquiry', 'bias', 'comments', 'boys', 'fairness', 'wayne', 'prosecution', 'brown', 'bromwich', 'oliver', 'tire', 'consist', 'acres', 'apology', 'equivalent', 'municipal', 'investigating', 'takuma', 'reputation', 'benefits', 'normal', 'accepting', 'complaints', 'touch', 'tense', 'foreigners', 'hiroshima', 'library', 'nagano', 'prefecture', 'insisted', 'contacted', 'papers', 'community', 'cbs', 'ntg', 'operates', 'furukawa', 'machinery', 'dresser', 'structural', '-', 'thrifts', '35.7', 'billings', 'cover', 'switch', 'oldest', '42', 'older', 'silicon', 'aggressively', 'dead', 'traditionally', 'kept', 'stalemate', 'jay', '1.8500', '1.8415', '143.80', '142.85', 'contends', '10-year', 'high-yield', 'expectations', 'ounce', 'debut', 'keeps', 'affiliates', 'episodes', 'distributor', 'losing', 'gillespie', 'syndication', 'providence', 'n.c.', 'louisville', 'pleased', 'disappointed', 'frankly', 'officially', 'survive', 'founded', 'brooklyn', 'promise', 'crisis', 'combines', 'pieces', 'considerable', 'dumpster', 'offender', 'souper', 'combo', 'chastised', 'wrote', 'surprisingly', 'advertise', 'spenders', 'needham', 'haul', 'subscriptions', 'replies', '4,000', 'fax', 'rubicam', 'enterprise', 'breaks', 'landor', 'buy-back', 'shipping', '1.1', 'hostile', 'stena', 'tiphook', '130', 'raises', 'criticized', 'mired', '62.5', 'requiring', 'roofs', 'systematic', 'danforth', 'praised', 'light-truck', 'automatic', 'shoulder', 'installed', 'deadline', 'leinonen', 'petroleum', '65', 'circle', 'formal', 'opposition', 'driscoll', 'options', 'altogether', '18,000', 'reduced', 'accessories', 'butler', 'warren', 'winiarski', 'cask', 'shops', 'declared', 'superpremiums', 'classics', 'growths', 'burgundies', 'yquem', 'biondi-santi', 'brunello', 'tuscany', 'magnitude', 'vintages', 'vintage', 'barrier', 'mesnil', 'blanc', 'blancs', '115', 'burgundy', 'richebourg', 'hermitage', 'larry', 'grapes', 'owner', 'wholesale', 'merchants', 'spread', 'thin', 'remarked', 'cabernets', 'appeal', 'explains', 'movement', 'forced', 'beautiful', 'moment', 'looming', 'fourth', 'agrees', 'easier', 'plunge', 'weak', 'discretionary', 'halt', 'exercised', 'integra', 'hallwood', 'exercise', 'merchant', '30-year', 'two-year', 'aim', 'lancaster', 'reames', 'fractionally', 'pattern', 'benchmark', 'afternoon', 'eaton', 'sierra', 'harold', 'alternatives', 'pit', 'leming', 'valhi', 'becomes', 'unchanged', 'consent', 'jerry', 'respond', 'friendly', 'earned', '1.85', 'license', 'elsewhere', 'albert', 'kligman', 'disagree', 'barriers', 'focusing', 'half-hour', 'hay', 'anxious', 'miti', 'controversial', 'laser', 'high-tech', 'frequently', 'financed', 'catch', 'strategic', 'fit', 'ronald', 'bodner', 'itoh', 'drive', 'basis', 'performed', 'extent', 'maintenance', 'driskill', 'neighborhood', 'installment', 'competitive', 'synergistics', 'segment', 'macdonald', 'barnett', 'seniors', 'active', 'checks', 'ways', 'deregulation', 'banker', 'unions', 'define', 'costly', 'jacob', 'moving', 'alvin', 'registration', 'peripheral', 'chevrolet', 'savings-and-loan', 'ailing', 'healthy', 'confidence', 'one-hour', 'p.m', 'execute', 'industrials', 'remained', '30-point', 'one-day', 'five-point', 'minutes', 'aides', 'trigger', 'beyond', 'dingell', 'sources', 'change-ringing', 'dorothy', 'sayers', 'rural', 'peal', 'sunday', 'youngsters', 'worker', 'train', 'ranks', 'rung', 'invented', 'abbot', 'chamber', 'speaks', 'passion', 'bit', 'stephanie', 'worship', 'strong-willed', 'vicars', 'attend', 'hummerstone', 'torrington', 'devon', 'congregation', 'nearby', 'fault', 'council', 'peals', 'stock-market', 'reference', 'recessionary', 'environments', 'risen', 'watchers', 'double-digit', '3.3', 'w.', 'perritt', 'manner', 'cigna', 'painewebber', 'tally', 'basically', 'page-one', 'plight', 'microphone', '50,000', 'beverly', 'boulder', 'kingdom', 'jerritts', 'relationship', 'demonstrators', 'normally', 'toast', 'exchanges', 'greatest', 'fang', 'li', 'arms', 'rifles', 'continually', 'professionals', '85', 'j.l.', 'unpublished', 'biscayne', 'rosenblum', 'suspensions', 'danville', 'settlement', 'limited-partnership', 'escrow', 'two-week', 'inaccurate', 'eugene', 'mcfall', 'georgetown', 'francis', 'anthony', 'arlington', '7,500', 'miss.', 'felten', 'houston', '60,000', 'dahl', 'stupid', '2,000', 'cutrer', 'baton', 'rouge', 'aurora', 'las', 'vegas', 'nev.', 'scrutinizing', 'salomon', 'maughan', 'pegged', 'option', 'ft-se', '4.25', '3.35', 'williams', 'roukema', 'subminimum', 'employers', 'covers', 'zenith', 'intelligence', 'faced', 'observers', 'correll', 'pulp', 'consensus', 'knew', 'pamplin', 'new-home', 'pierre', 'elsevier', 'dutch', 'agnew', 'conglomerate', 'fiber', 'unusually', 'resilient', 'lungs', 'exposures', 'causing', 'symptoms', 'loews', 'micronite', 'appear', 'forum', 'spokewoman', 'properties', 'useful', 'users', 'dana-farber', 'harvard', 'replaced', 'filter', '1953', '1955', '9.8', 'substance', 'died', 'surviving', 'diagnosed', 'malignant', 'mesothelioma', 'asbestosis', 'morbidity', 'groton', 'stringently', 'regulation', 'smooth', 'needle-like', 'classified', 'amphobiles', 'brooke', 'pathlogy', 'vermont', 'curly', 'explained', 'gradual', '1997', 'cancer-causing', 'outlawed', '160', 'dusty', 'burlap', 'sacks', 'bin', 'poured', 'cotton', 'acetate', 'mechanically', 'clouds', 'dust', 'hung', 'exhaust', 'ventilated', 'darrell', 'phillips', 'bearing', 'tracked', 'ibc', 'eased', 'fraction', '8.45', '8.47', 'assume', 'reinvestment', 'lengthened', 'longest', 'donoghue', 'retain', 'shorter', 'brenda', 'malizia', 'negus', 'rises', '8.04', '7.90', 'pour', '352.7', 'money-fund', 'comparable', 'vary', 'dreyfus', 'top-yielding', '9.37', '9.45', 'invests', 'waiving', '8.12', '8.14', '8.19', '8.22', '8.53', '8.56', 'j.p.', 'bolduc', '83.4', 'energy-services', 'succeeds', 'terrence', 'daniels', 'royal', 'trustco', '212', 'year-end', 'mcdermott', 'babcock', 'wilcox', 's.p', '295', 'state-owned', 'wickliffe', 'computerized', '2,700', '370', 'lifted', 'obligations', '2.80', '2.87', 'ensnarled', 'earliest', 'clark', 'oversee', 'biannual', 'powwow', 'titans', 'jet', 'sunny', 'confines', 'resort', 'hoosier', 'royalty', 'buckle', 'rust', 'rusty', 'du', 'pont', 'maytag', 'lesser', 'knowns', 'trojan', 'queen', 'cheese', 'starters', 'hudnut', 'symphony', 'orchestra', 'guest', 'pianist-comedian', 'borge', 'dessert', 'escort', 'busloads', 'wives', 'raced', 'unimpeded', 'traffic', 'lieutenant', 'breakfast', 'museum', 'drinks', 'everyday', 'visitors', 'hauled', 'crews', '10-lap', 'exhibition', 'fortune', 'drooled', 'schoolboys', 'dummies', 'sponsor', 'execs', 'boarding', 'dancing', 'moons', 'renovated', 'ballroom', 'hottest', 'town', 'duckling', 'mousseline', 'lobster', 'consomme', 'veal', 'mignon', 'chocolate', 'terrine', 'raspberry', 'sauce', 'knowing', 'tasty', 'eat', 'ovation', 'ceos', 'red-carpet', 'tempts', 'heartland', 'winter', '101', 'sluggishness', 'tallies', 'setback', 'cloud', 'export-oriented', '5.29', '0.7', '5.39', 'boom', 'prolonged', 'conflicts', '68', 'gloomy', '71', 'accumulated', '50.45', '50.38', 'discounts', 'permanent', 'fixtures', 'underscore', 'fierce', 'warner', 'mortimer', 'zuckerman', 'four-color', '100,980', 'mid-october', 'lowered', 'subscriber', '120,000', 'awards', 'credits', 'renewal', 'exceed', '325,000', '340,000', 'shore', '1,620', 'publishers', 'giveaways', 'subscribers', 'telephones', 'circulations', 'newsweekly', '4,393,237', '7.3', '3,288,453', '2,303,328', 'payoff', 'justify', 'westborough', '2.29', '2.25', 'haven', 'manchester', 'n.h.', 'efficiencies', 'evaluated', 'rewards', 'emerges', 'attracts', 'wilbur', 'rothschild', 'withdrawal', 'speed', '5.5', 'cluttered', 'refile', 'expedited', 'ferc', '3.75', 'ricken', '52', 'toys', 'r', 'frederick', 'deane', 'signet', 'retailing', 'daniel', 'rexinger', 'glauber', '12-member', 'ratepayers', 'collected', 'overruns', 'feb.', 'entertain', 'pool', 'hostage', 'slash', '1.55', '737.5', '3.01', 'tracking', 'addresses', 'nightmare', '38.375', '12.5', 'rockford', 'disputed', 'collecting', 'refunded', 'calculations', 'faces', 'court-ordered', 'summer\\\\/winter', 'differential', 'appellate', '140', 'precedent', '245', '72.7', 'lasalle', '500,004', 'automobile', 'year-to-year', 'setting', '0.4', '22', '361,376', 'benefited', 'arising', 'consumption', '30,841', '13,056', 'chinchon', 'diversifying', 'fledgling', 'depend', 'longevity', 'product-design', 'scrapped', 'operational', 'prototype', 'anticipated', 'minneapolis-based', 'strings', 'anticipates', 'needing', 'worst-case', 'filing', 'jump', '2.875', '38', 'link', '98.3', 'promissory', 'complicate', 'tricky', 'unproven', 'gallium', 'arsenide', 'fragile', 'minute', 'robotic', 'twice', 'c-90', 'compete', 'hitachi', 'priced', 'marketplace', 'calculate', '4.75', 'transferring', 'drain', 'pro-forma', 'favored', '19.3', '5.9', 'existed', 'incurred', '20.5', 'contractor', 'regarded', '600,000', '240,000', 'davenport', '47', 'blanchard', '37', 'hammerton', 'wheeland', '241', 'donald', 'pardus', 'electric-utility', '59', 'carney', 'tassinari', 'diplomacy', 'watching', 'copyrights', 'india', 'brazil', 'interim', 'unfair-trade', 'investigations', 'stiff', 'genuine', 'touchy', 'realization', 'denial', 'harms', 'inventiveness', 'offending', 'citizens', 'inadequate', 'protections', 'hurting', 'discouraging', 'deterring', 'high-technology', 'lauded', 'officers', 'pirates', 'instituted', 'search-and-seizure', 'initialing', 'amending', 'trademark', 'introducing', 'unauthorized', 'showings', 'compel', 'video-viewing', 'parlors', 'vowed', 'enact', 'compatible', 'literary', 'works', 'completely', 'hook', 'lower-priority', 'greece', 'pose', 'less-serious', 'hoffman', 'specializing', 'retaliation', 'protecting', 'improvements', 'craft', 'developments', 'videocassette', 'piracy', 'disregard', 'pharmaceutical', 'merit', '301', 'provision', 'creditor', 'halve', 'third-highest', 'declaration', 'nestor', 'stature', 'latin', 'aspires', 'external', 'miguel', 'alurralde', 'mulford', 'negotiator', 'carballo', 'menem', 'solved', 'centennial', 'milestones', 'commodore', 'pet', 'tandy', 'trs-80', 'screens', 'stored', 'audiocassettes', 'garage', 'wozniak', 'hobbyists', 'homebrew', 'affordable', '1,298', 'explosive', 'desktop', 'mainframe', 'built-from-kit', 'altair', 'sol', 'imsai', 'keyboards', 'faster', 'contributors', 'allen', 'language-housekeeper', 'billionaire', 'adapted', 'shugart', 'seagate', 'disk', 'drives', 'hayes', 'dale', 'heatherington', 'engineers', 'co-developers', 'modems', 'via', '38.3', 'f.h.', 'jersey-based', 'purepac', 'label', 'strait', '321,000', 'exxon', 'pty.', 'output', 'gradually', 'reaches', 'perch', 'dolphin', 'producing', 'seahorse', 'tarwhine', 'excise', '10.2', 'sloan', 'gelatin', 'capsules', 'divest', 'non-encapsulating', 'quantities', 'possessions', 'petition', 'generalized', 'classifications', 'categories', 'injury', 'seller', 'low-priced', 'battery-operated', 'beneficiaries', '37.3', 'automotive-parts', 'curb', 'satisfactory', 'achieved', 'akerfeldt', 'ambitious', 'wallowing', '52-week', '16.125', '13.73', '37.5', '9.625', 'unsuccessfully', 'resume', 'influential', 'throughout', 'personally', 'assisted', 'manfred', 'gingl', 'lord', 'chilver', '63-year-old', 'clays', 'securities-based', 'totaling', '701', 'mortgage-based', 'o.', '570', 'blackstone', 'daiwa', 'seven-year', 'floating-rate', 'linked', 'interbank', 'advantages', 'redeploy', 'channel', 'addressing', 'extremely', 'attractive', '900', 'rapid', 'tenth', 'pate', '54-year-old', 'ltv', 'creditors', 'lawsuits', 's.p.a.', 'indirect', '37-a-share', 'incorporated', 'advertised', 'editions', 'pursuant', '1.82', '84.29', 'yen-support', 'intervention', '150.00', 'sharper', '86.12', 'craze', 'sweeping', 'rash', '24', 'triple', 'washington-based', 'turf', 'chile', 'austria', 'portugal', 'capped', 'corazon', 'aquino', 'kicked', 'province', 'guinea', 'quips', 'northampton', 'mass', 'explosion', 'mirrors', 'mania', '1920s', 'narrowly', 'focused', 'wildly', 'oblivion', 'open-end', 'one-country', 'issuing', 'fixed', 'brings', 'harris', 'upham', 'hoopla', 'heavy-duty', 'scrambled', 'brokers', 'stretching', 'nets', 'wide', 'planners', 'urge', 'smattering', 'emerging', 'outpaced', 'taste', 'burned', 'whipsaw', 'clobbered', 'frenzy', 'fat', 'partially', 'specialists', 'skyrocketed', 'targeted', 'alarmed', 'valuations', 'fattened', 'foreign-stock', 'exposure', 'resistant', 'viewpoint', 'nonetheless', 'aghast', 'lofty', 'jumping', 'advice', 'ready', 'technical', 'repayment', 'pre-communist', 'russian', 'repaid', 'coincident', 'crippled', 'lent', 'short-lived', 'kerensky', 'communists', 'seized', '1917', '1934', 'amended', 'u.s.s.r.', 'belongs', 'pre-1917', 'stressed', 'pre-1933', 'satisfying', 'lend-lease', 'reflection', 'leveling', 'manufactured', 'factories', 'booked', '236.74', '236.79', '59.6', 'contractors', '2.1', '415.6', 'significantly', '415.8', 'seasonal', 'mayland', 'taper', 'revive', 'blank', 'payrolls', 'industrial-production', 'slip', 'cite', 'imbalances', 'signals', 'watched', 'clues', 'buildup', 'provoke', 'cutbacks', 'conforms', 'elliott', 'donaldson', 'lufkin', 'jenrette', 'eases', 'nondurable', '109.73', 'climbing', 'durable', '0.2', '127.03', '3.9', 'durable-goods', '1.6', '234.4', '5.4', 'unfilled', '0.5', '497.34', 'excluding', '191.9', 'berson', 'predicted', 'single-family', 'homes', 'nonresidential', '99.1', '4.3', 'contrast', 'f.w.', 'goverment', 'renovation', 'signaling', 'pitney', 'bowes', 'purhasing', 'vendors', 'delivering', 'inflationary', 'abating', 'handle', 'lengthen', 'gauges', 'worsening', 'polled', '73', 'acknowledging', 'suspect', 'numbered', 'newcomer', 'powder', 'odd', 'shortage', 'nonfat', 'dairy', 'coupled', 'quotas', 'pamela', 'sebastian', 'judging', 'haruki', '320', '18.95', 'baby', 'boomers', 'texture', 'salty', 'dogs', 'whistle', 'johnny', 'goode', 'bugs', 'bunny', 'mickey', 'spillane', 'groucho', 'harpo', 'desultory', 'reader', 'charm', 'engaging', 'recognizing', 'buttoned-down', 'lore', 'refreshing', 'author', 'self-aggrandizing', 'we-japanese', 'perpetuate', 'unique', 'unfathomable', 'outsiders', 'implicit', 'nutty', 'plot', 'rooted', 'reality', 'imaginative', 'disaffected', 'hard-drinking', 'nearly-30', 'snow', 'search', 'elusive', 'behest', 'sinister', 'erudite', 'mobster', 'degree', 'tow', 'prescient', 'girlfriend', 'sassy', 'retorts', 'docile', 'butterfly', 'meets', 'solicitous', 'christian', 'chauffeur', 'god', 'roughhewn', 'wears', 'else', 'sheepskin', '40-year-old', 'sensation', 'norwegian', 'wood', 'fluent', 'lyrics', 'published', 'youthful', 'brat', 'pack', 'dominating', 'best-seller', 'charts', 'idiomatic', 'dashes', '339', 'mirror', 'fabled', 'virtues', 'player', 'batting', 'polls', 'tatsunori', 'hara', 'humble', 'uncomplaining', 'obedient', 'soul', 'besuboru', 'ball', 'bat', 'politely', 'foul', 'balls', 'stadium', 'ushers', 'expands', 'depending', 'hitter', 'honorably', 'sidestep', 'abide', 'wear', 'chronicle', 'rationed', 'enormous', 'sums', 'soho', '228', 'petulant', 'impudent', 'hosted', 'luce', 'fellowship', 'supercilious', 'vicious', 'passages', 'invades', 'mundane', 'aspects', 'regimented', 'assigned', 'lunch', 'austere', 'dormitory', 'prying', 'caretaker', 'observations', 'style', 'salarymen', 'unproductive', 'overtime', 'sake', 'solidarity', 'hierarchical', 'chary', 'letting', 'enormously', 'frustrating', 'raring', 'invent', 'walkman', 'lesson', 'committed', 'appointment', 'venerable', 'akio', 'kirkpatrick', 'corners', 'tobacco', 'smoke', 'sports', 'exempt', 'bars', 'bans', 'theaters', 'elevators', 'hospitals', 'siti', 'zaharah', 'sulaiman', 'no-smoking', 'mara', 'kuala', 'lumpur', 'on-campus', 'visiting', '26,000', 'stalls', 'posters', 'signboards', 'restricts', 'designated', 'backer', 'spielvogel', 'bates', 'surveyed', 'espouse', 'stress', 'thai', 'cabinet', 'endorsed', 'pramual', 'sabhavasu', 'bangkok', 'plaza', 'undertaking', 'yasser', 'arafat', 'palestine', 'liberation', 'wafa', 'plo', 'tourism', 'food-shop', 'mainland', 'hospital', 'chaotic', 'pap', 'unrealistically', 'compensate', 'coal', 'happier', 'establishing', 'diplomatic', 'poland', 'financially', 'strapped', 'warsaw', 'environmentalists', 'terminated', 'multibillion-dollar', 'river', 'danube', 'austrian', 'twinned', 'upstream', 'authorized', 'miklos', 'twin', 'dams', 'twindam', 'czech', 'solely', 'painting', 'strindberg', 'scandinavian', 'stockholm', '2.44', 'lighthouse', 'painted', 'oils', 'playwright', '1901', 'upturn', 'couples', 'exchanging', '271,124', '400,000', '85.1', '10.5', 'warrant', 'holder', 'par', 'accrued', 'swapped', 'underwriters', 'scotia', 'mcleod', 'rbc', 'dominion', 'actor', 'inheritor', 'charlie', 'steve', 'laid', 'obsessed', 'refitting', 'campus', '36-minute', 'black-and-white', 'revived', 'full-length', 'poignant', 'piece', 'modern-day', 'homeless', 'composer', 'marc', 'marder', 'living', 'classical', 'music', 'ensembles', 'exciting', 'eclectic', 'intertitles', 'words', 'good-hearted', 'filmed', 'lovely', 'dill', 'benign', 'noticing', 'jostle', 'cabs', 'hangs', 'greenwich', 'village', 'strip', 'populated', 'jugglers', 'magicians', 'good-natured', 'hustlers', 'dead-eyed', 'four-year-old', 'cosmopolitan', 'curled', 'cardboard', 'routine', 'sketching', 'passers-by', 'condemned', 'skirmishes', 'competing', 'carefree', 'blind', 'cure', 'returning', 'two-year-old', 'waif', 'nicole', 'alysia', 'murdered', 'thugs', 'cute', 'turns', 'curse', 'alerts', 'inadequacy', 'vagrant', 'beds', 'bowery', 'mission', 'drearier', 'tuck', 'dreamed', 'improbable', 'romance', 'shop', 'high-rise', 'apartment', 'resonate', 'camera', 'glamorize', 'vagabond', 'existence', 'ends', 'whimsical', 'enviable', 'rough', 'beaten', 'voices', 'claude', 'weird', 'brilliant', 'captivating', 'character', 'sympathetic', 'angle', 'disagreeable', 'giraud', 'significance', 'executed', 'hypocrisy', 'collaborated', 'germans', 'fighters', 'jews', 'diversionary', 'symbolic', 'traitor', 'small-time', 'accidentally', 'enabled', 'jam', 'cocoa', 'war-rationed', 'goodies', 'untrained', 'botched', 'remorse', 'shallow', 'playful', 'dreadful', 'war-damaged', 'lover', 'thin-lipped', 'isabelle', 'huppert', 'marie', 'nice', 'chopped', 'gringo', 'confused', 'rendering', 'fuentes', 'mexican', 'revolution', 'endless', 'fighting', 'eating', 'drinking', 'celebrate', 'movies', 'spot', 'peck', 'marvelously', 'loose', 'energetic', 'portrayal', 'video', 'finest', 'twin-jet', 'seattle', 'kawasaki', 'fuji', 'accounting', 'contribution', 'plane', 'mid-1990s', 'event', 'irony', 'presidential', 'off-off', 'election', 'scattered', 'hostility', 'mudslinging', 'empty', 'ushering', 'napolitan', 'stirrings', 'dawn', 'sometimes-tawdry', 'stage', 'bold', 'entertaining', 'confrontational', 'truthful', 'fights', 'commercials', 'tone', 'elections', 'tight', 'facial', 'candidate', 'disembodied', 'contributions', 'accurately', 'hid', 'links', 'kidnapper', 'phony', 'nasty', 'innuendoes', 'siegal', 'prosecute', 'corruption', 'exist', 'stung', 'consultants', 'shrum', 'doak', 'unleashed', 'distorted', 'photos', 'compare', 'banning', 'oversight', 'secret', '95,142', 'matching', 'errors', 'get-out-the-vote', 'kidnapping', 'powers', 'deceptive', 'argues', 'lt.', 'gubernatorial', 'greer', 'persuasion', 'tour', 'monticello', 'superimposed', 'liberty', 'virginians', 'nurtured', 'generations', 'statue', 'jefferson', 'dissolves', 'incest', 'transforming', 'referendum', 'advertisements', 'goodman', 'shake', 'counterattack', 'close-up', 'shadows', 'recalling', 'unpleasant', 'ordeal', \"c'mon\", 'boyfriends', 'interjects', 'interrogated', 'rapists', 'constituent', 'legislative', 'technique', 'lawmakers', 'unfounded', 'interrogation', 'tired', 'stigma', 'campaigner', 'rozell', 'onus', 'devote', 'season', 'truce', 'lasted', 'carrying', 'sensitivity', 'attacks', 'aired', 'photograph', 'remember', 'squier', 'dirty', 'rusted', 'drums', 'swim', 'purrs', 'hazardous', 'neighbors', 'cry', 'partisans', 'photographs', 'barrel', 'cleaned', 'pollution', 'shrinks', 'eagleton', 'devastating', '1966', 'route', 're-election', 'rout', 'democrat', 'nelson', '331,000', '550,000', 'propelling', 'interviews', 'pursued', 'fits', 'sparking', 'posing', 'fresh', 'whereby', 'knitted', '5.57', '705.6', 'steep', 'cash-rich', 'wages', 'sites', 'labor-intensive', 'tigers', 'contributing', 'subordinate', 'recipient', 'fearful', 'falling', 'hegemony', 'constraints', 'encourages', 'burdens', 'resists', 'u.s.-japanese', 'behemoth', 'swelling', '1990s', 'multinationals', 'decisions', 'offend', 'lender', 'drobnick', 'graduate', 'cohesive', 'sectors', 'calder', 'woodrow', 'wilson', 'internatonal', 'princeton', 'tubes', 'assemble', 'framework', 'ministers', 'zealand', 'brunei', 'rim', 'hawke', 'reasserts', 'intention', 'shape', 'designing', 'dominance', 'outstrips', 'outranks', 'optimism', 'enlarged', 'convey', 'undertone', 'caution', 'understanding', 'functions', 'farren', 'benevolent', 'altruistic', 'attitude', 'everyone', 'apprehensive', 'uncertainty', 'leases', 'bases', 'troop', 'asians', 'desirable', 'counterweight', 'marbles', 'juggernaut', 'monopolize', 'sew', 'chong-sik', 'lee', 'eyes', 'ninth', 'spotted', 'uncanny', 'stockbroker', 'profession', 'senate-house', 'ok', 'confronted', 'display', 'projector', 'underline', 'prosecuted', 'alternative', 'jail', 'downfall', 'unstinting', 'laurels', 'bitterness', 'anger', 'betrayer', 'school-district', 'stunned', 'bald-faced', 'nature', 'martyr', 'dark', 'high-stakes', 'enhanced', 'temptation', 'cheat', 'statute', 'violated', 'enforce', 'provisions', 'school-improvement', 'bolster', 'depended', 'student-test', 'incredible', 'walt', 'haney', '50-state', 'school-research', 'inflated', 'suspects', 'adult', 'erasures', 'occurrences', 'revising', 'beforehand', 'precise', 'concentrate', 'county', 'promotions', 'wrenching', 'state-supervised', 'interventions', 'firings', 'lab', 'grants', 'superintendent', 'scholastic', 'aptitude', 'sat', 'entrance', 'worst', 'prosecuting', 'administrators', 'sandifer', 'allegations', 'purely', 'inferences', 'abuse', 'track', 'achievement-test', 'shaded', 'textile', 'educated', 'brightest', 'nobel', 'prize', 'townes', 'actress', 'joanne', 'woodward', '1980s', 'glory', 'faded', 'yellow', 'bricks', 'broad', 'facade', 'violence', 'gangs', 'linda', 'awful', 'enrollment', 'honors', 'seventh', 'predecessor', 'suffered', 'nervous', 'breakdown', 'bled', 'halls', 'stabbed', 'academically', 'serving', 'disparate', 'evenly', 'privileged', 'elite', 'monied', 'inner', 'resolved', 'clean', 'deadwood', 'ushered', 'betterment', 'reformers', '37-year-old', 'dismissal', 'dreamt', 'restructured', 'staff', 'struggled', '14-hour', 'fast', '1986-87', '1987-88', 'encouraged', 'creation', 'advised', 'cheerleaders', 'pep', 'cultural', 'literacy', 'chosen', 'pta', 'inspirational', 'laura', 'dobson', 'freshman', 'teacher-cadet', 'studying', '11th', 'grader', 'kelli', 'distinguished', 'herself', 'approaches', 'pair', 'college-bowl', 'competitions', 'weekends', 'prepare', 'correcting', 'homework', 'football', 'cocky', 'grandstander', 'deteriorating', 'feared', 'earn', 'incentive-bonus', 'meant', '23,000', 'pride', 'elizabeth', 'ariail', 'attending', 'adequately', '48', 'copied', 'motives', 'correct', 'sociology', 'rankings', 'self-esteem', 'broke', 'heart', 'whole', 'alive', 'desperately', 'somebody', 'cared', 'drag-down', 'blow', 'defeats', 'inkling', 'underprivileged', 'joe', 'prosecutor', 'alumni', 'concedes', 'sympathy', 'morale-damaging', 'disclosure', 'quiet', 'resignation', 'save', 'dumbfounded', 'recalls', 'knife', 'astonishment', 'dismay', 'superiors', 'unpopularity', 'mrs', 'school-board', 'dismissed', 'crowded', 'testify', 'callers', 'decried', 'particulars', 'offense', 'talk-show', 'editorials', 'overused', 'enraged', 'first-time', 'expunged', 'conviction', 'cranked', 'worthy', 'witnesses', 'interviewed', 'cheerleading', 'squad', 'crushed', 'explain', '17-year-old', 't-shirts', 'corridors', 'red-and-white', 'ghs', 'logo', 'shirts', 'harm', 'aspersions', 'incident', 'doubt', 'evaluating', 'gayle', 'worms', 'realized', 'reinstatement', 'relieved', 'chalk', 'touched', 'slate', 'schoolchildren', 'workbooks', 'roman', 'numeral', 'ix', 'two-sevenths', 'three-sevenths', 'test-practice', 'kit', 'instances', 'subindustry', 'school-sponsored', 'justifying', 'traverse', 'gauge', 'aces', 'psychiatrist', 'kindergarten', 'eighth', 'houghton', 'mifflin', 'harcourt', 'brace', 'jovanovich', 'test-prep', 'arizona', 'florida', 'louisiana', 'maryland', 'tools', 'binders', 'best-selling', 'ctb', 'improving', 'replicated', 'coincidental', 'schoolteacher', 'michigan', 'similarity', 'devised', '69-point', 'awarding', 'subskill', 'measured', 'closeness', 'preparatives', 'symmetry', 'geometrical', 'metric', 'measurement', 'pie', 'graphs', 'kits', 'replicate', 'intent', 'familiarization', '66.5', '64.5', 'two-letter', 'consonant', 'exclusion', 'contains', 'examples', 'matches', 'rick', 'ignoring', 'format', 'scrupulously', 'replicating', 'deny', 'publication', 'outraged', 'advisory', 'ctbs', 'unaware', 'discontinue', 'h.n.', 'frances', 'berger', 'sacramento-based', 'ancillary', 'transplantation', 'humans', 'juvenile', 'diabetes', 'degenerative', 'alzheimer', 'huntington', 'anti-abortionists', 'therapies', 'abortions', 'indefinitely', 'tissue-transplant', 'federally', 'acting', 'implications', 'implant', 'brain', 'patient', 'suffering', 'nih-appointed', 'recommended', 'carefully', 'controlled', 'embroiled', 'anti-abortion', 'hampered', 'recruit', 'doctors', 'fill', 'helm', 'withdrawn', 'antonio', 'nominated', 'serve', 'surgeon', 'reportedly', 'opposes', 'imposing', 'defuse', 'cdc', 'judged', 'excellence', 'disturbs', 'judgments', 'myron', 'dean', 'polarized', 'mechanism', 'exists', 'middle', 'conducting', 'warns', 'discourage', 'unavailability', 'foundations', 'fronts', 'regenerate', 'syndrome', 'retardation', 'rekindled', 'lackluster', '1.01', '456.64', '118.6', 'inauspicious', '133.8', 'busiest', 'averaged', '145', 'nonfinancial', '1.39', '446.62', '1.28', '449.04', '3.23', '436.01', 'merge', 'merged', 'unattractive', 'anticipating', 'permitting', 'uptick', 'beneficiary', 'expires', 'ed', 'macheski', 'wilton', 'fared', 'wfrr', 'l.p.', 'ghkm', '273.5', 'centerbank', 'nesb', 'london-based', 'pennview', 'leapt', 'univest', '25.50', '70.7', '89.9', 'mobile', 'dan', 'nelms', 'eliminates', 'associated', 'core', 'fluctuation', 'achieve', 'near-record', 'definitive', '57.50', 'jaguar', '4.4', '78', 'tumbled', 'slipped', '858,000', 'huntsville', 'ala.', '225.6', 'cities', 'outcry', 'organized', 'protected', 'receives', 'document', 'passport', 'failure', 'misdemeanor', 'felony', 'wish', 'identities', 'rarely', 'acted', 'witness', 'neal', 'red-flag', 'dozens', 'computer-generated', 'certified', 'mail', 'drug', 'necessarily', 'circumstances', 'filling', 'spark', 'lefcourt', 'delegates', 'resolution', 'condemning', 'requirement', 'prohibited', 'ethics', 'disclosing', 'committing', 'taxpayers', 'notice', 'christopher', 'lezovich', 'submit', 'summons', 'initiated', 'dating', 'correspondence', 'mailed', '8300s', 'develop', 'sending', 'assertions', 'relating', 'lucrative', 'fanfare', 'raul', 'quitting', 'refusal', 'couple', 'clerks', 'quipped', '89,500', 'accountants', 'blinks', 'eye', 'sudden', 'relegated', 'sum', 'litigation', 'orrick', 'herrington', 'sutcliffe', 'detail', 'doonesbury', \"creator's\", 'garry', 'alleging', 'punish', 'crossing', 'screenwriters', 'involves', 'productions', 'co-owner', 'collective-bargaining', 'illegally', 'reviewing', 'harassment', 'consists', 'mainly', 'year-long', 'threats', 'punishment', 'preventing', 'punishing', 'retaliating', 'abortion-related', 'assist', 'obtaining', 'referrals', 'advocate', 'providers', 'limits', 'pregnant', 'clears', 'jack', 'sparked', 'remarks', 'sentencing', '18-year-old', 'defendant', 'killing', 'referring', 'queers', 'cruising', 'picking', 'teenage', 'appointed', 'commenting', 'observing', 'exhibited', 'prejudice', 'impartial', 'prostitute', 'discredit', 'judiciary', 'empowered', 'stock-manipulation', 'arguments', 'lowe', 'eight-count', 'indictment', 'sherwin', 'attempting', 'manipulate', 'carbide', 'trials', 'mistrials', 'switching', 'iran\\\\/contra', 'affair', 'mayer', 'three-lawyer', 'd.c.', '520-lawyer', 'specialize', 'white-collar', 'served', 'narcotics', 'cooper', 'rubber', 'principle', 'albany', 'ga.', 'bridgestone\\\\/firestone', '1.8', 'square', 'feet', 'warehousing', '353', 'apologizing', 'indulging', 'rebuked', 'fretted', 'cutthroat', 'pricing', 'penny', 'no.', 'competitors', 'tie-breaking', 'lottery', 'computer-system-design', 'summoned', 'understood', 'fair', 'antitrust-law', 'apologize', 'packed', 'contrary', 'sorry', 'embarrassing', 'situations', 'sacrificing', 'gifts', 'businessmen', 'extramarital', 'fire', 'fueled', 'behavior', 'municipality', 'low-ball', 'complain', 'procurement', 'unfairly', 'undercut', 'excessively', 'slashing', 'semiconductors', 'u.s.-japan', 'minus', 'factor', 'one-yen', 'map', 'waterworks', '77,000', 'saitama', 'prefectural', 'wakayama', 'municipalities', 'emerge', 'michio', 'sasaki', 'keidanren', 'federation', 'atlantic', 'publications', 'retaining', 'osborn', 'desai', 'michaels', '14.6', '32.8', '28.6', '29.3', '28.4', 'belonging', 'locally', 'hydraulically', 'shovels', 'wheel-loader', 'heidelberg', 'german', '280', 'computer-aided', 'automation', 'productivity', '@', 'deposits-a', '6.21', 'compiled', 'monitor', 'b', 'lsi', 'logic', 'surprise', 'industry-wide', 'semiconductor', 'custom-chip', 'lagging', 'extended', 'weakness', 'economical', 'techniques', 'wilfred', 'corrigan', 'midyear', 'phase', 'appropriate', 'equals', '86', 'counting', 'extraordinary', '133.7', '94', 'five-inch', 'more-efficient', 'six-inch', 'wafers', 'fabricate', 'converting', 'santa', 'clara', 'facility', 'speculate', 'additions', 'suddenly', 'poorly', 'positioned', 'stark', 'robertson', 'stephens', 'buyers', 'jitters', 'ingersoll-rand', 'woodcliff', 'kuhns', 'buoyed', 'cautiously', 'bearish', 'underpin', 'plunging', 'locked', 'narrow', 'goldinger', 'insight', 'reasons', '77.70', '77.56', 'dollar-yen', 'driving', 'tom', 'trettien', 'banque', 'paribas', 'convinced', 'erode', '1.5755', '1.5805', '143.93', '143.08', 'traced', 'wave', 'waiting', 'wings', 'perception', 'vitriolic', 'mollified', 'cites', 'knight', 'undisclosed', 'forthcoming', 'yen-denominated', 'speculation', 'redeeming', 'unclear', 'rolled', 'prospect', 'lock', 'unabated', 'recede', 'cues', 'merely', 'drifted', 'release', '45.3', 'minimal', '374.20', '3.5', 'ounces', '374.19', 'nbc', 'huxtable', 'viewers', '187', 'considerably', 'fuming', 'ultimatum', 'persuade', 'spin-off', 'tactics', 'midwest', 'tell', 'flooded', 'comedies', 'networks', 'pre-emptive', '2-8', 'a.c.', 'nielsen', 'r.i.', 'raleigh', 'ky.', 'renew', 'dick', 'lobo', 'wtvj', 'nbc-owned', 'disappointment', 'kuvin', 'whas', 'uncomfortable', 'wu', 'atlanta-based', 'conventional', 'life-insurance', 'nationale', 'nederlanden', 'frantic', 'revenue-desperate', 'magazines', 'cozy', 'fawning', 'articles', 'advertorial', 'downright', 'thumbing', 'billed', 'practical', 'entrepreneur', 'patricia', 'scoop', 'how-to', 'topics', 'backyard', 'composting', 'explanatory', 'essays', 'happens', 'flush', 'toilet', 'hard-hitting', 'whirling', 'rampage', 'supermarket', 'aisles', 'identify', 'guys', 'feature', 'deem', 'standpoint', 'alienated', 'would-be', 'ire', 'furious', 'microwave', 'column', 'diagram', 'arrows', 'pointing', 'polystyrene', 'foam', 'polyproplene', 'polyester', 'plastic', 'non-biodegradable', 'landfill', 'monster', 'practicing', 'journalistic', 'fumes', 'modifications', 'portrayed', 'recyclability', 'soups', 'mike', 'ddb', 'big-time', 'handful', 'adolph', 'coors', 'bumkins', 'relied', 'print', 'publisher', 'subscription', 'revenues', '2.95', 'yearly', 'recycled', 'old-house', '126,000', 'newsstands', '93,000', 'scared', 'sleep', 'expanded', 'largely', 'e.c.', 'fremantle', 'supplier', 'corestates', 'earle', 'palmer', 'spiro', 'handled', 'vansant', 'dugdale', 'baltimore', 'at&t', 'ogilvy', 'mather', 'wpp', 'serviced', 'rent-a-car', 'specializes', 'replacement-car', 'rentals', 'accidents', 'avrett', 'ginsberg', 'pitches', 'consumer-driven', 'pick-up', 'drop-off', 'identity-management', 'ketchum', 'pittsburgh', 'braun', 'investor-relations', 'marketing-communications', '70-a-share', 'pressed', 'hamilton', 'bermuda-based', 'proceeds', 'apiece', 'ag', '777', 'sweetened', '963', 'asset-sale', 'approximately', '620', '490', 'allocated', 'flexibility', 'leeway', 'characterizing', 'conditional', 'device', 'entrench', 'confuse', 'superior', 'asset', 'materialize', '36', 'converted', 'bermuda', '62.625', 'responding', 'steps', 'automobiles', 'equip', 'lap-shoulder', 'rear', 'samuel', 'skinner', 'represents', 'milestone', 'ongoing', 'occupant', 'extension', 'equipped', 'front-seat', 'headrests', 'urging', 'car-safety', 'classed', 'actually', 'cargo', 'therefore', 'luck', 'reagan', 'address', 'chuck', 'hurley', 'highway', 'mo', 'noting', 'rollover', 'crashes', 'fatalities', 'bags', 'side-crash', 'weighing', 'pounds', 'withstand', 'unloaded', 'weight', 'depressed', 'inches', 'lap', 'phasing', 'engineer', 'auto-safety', 'installing', 'f-series', 'crew', 'cab', 'pickups', 'explorer', 'sport-utility', 'rail', 'enclosed', 'transporting', 'autos', 'multilevel', 'thrall', 'duchossois', 'elmhurst', 'ill', 'railroad', '850', 'walters', '58-year-old', 'joins', 'cement', 'milne', 'retires', 'longstanding', 'prospectively', 'conversations', 'merger-related', 'prevailing', 'passage', 'slump', '121.6', 'lay', 'employment', 'exclusively', 'leasing', 'goody', '11.5', 'payable', 'jan.', 'kearny', 'n.j.-based', 'hair', 'cosmetic', '992,000', 'year-ago', '1.9', 'anti-takeover', 'henderson', '51-year-old', 'u.k.', 'metals', 'succeeding', 'ian', 'retiring', '1\\\\/10th', 'cent', 'redemption', 'proprietor', 'cellars', 'napa', 'tag', 'wine-making', 'estimation', '700', 'sauvignon', 'weighed', 'sticker', 'fastest', 'category', 'exceptional', 'perceived', 'exceedingly', 'stable', 'lafite-rothschild', 'haut-brion', 'cru', 'deluxe', 'champagnes', 'dom', 'perignon', 'rarefied', 'trockenbeerenauslesen', 'rieslings', 'riserva', 'flashy', 'zoomed', 'priciest', 'releases', 'boast', 'lion', 'bottles', '80', 'smallest', 'sauternes', 'lighter', 'spectacularly', '179', 'prestige', 'cuvees', 'inching', \"'82\", 'taittinger', 'comtes', 'encroaching', 'reds', 'rhone', 'guigal', 'cote', 'rotie', 'landonne', 'steal', 'domaine', 'precious', 'anywhere', 'commanded', 'three-digit', 'tags', '180', '225', 'coche-dury', 'corton-charlemagne', '155', 'angelo', 'gaja', 'barbaresco', 'piero', 'antinori', 'solaia', '98', 'vega', 'secilia', 'unico', '10th', 'grange', 'cult', 'command', 'marty', 'happening', 'scarce', 'exhausted', \"'40s\", \"'50s\", '300', 'newer', 'bargain', 'ripen', 'perfectly', 'acre', 'yielded', 'al', 'brownstein', 'originally', 'retailer', 're-thought', 'check', 'yes', 'shipped', 'six-bottle', 'retailers', 'awfully', 'schaefer', 'skokie', 'suburban', 'opinions', 'six-packs', 'thinks', 'dramatically', 'wins', 'sticker-shock', 'talked', 'excited', 'astronomical', 'collection', 'one-upsmanship', 'terrace', 'dunn', 'knowledgeable', 'cedric', 'cellar', 'overpriced', 'grgich', 'chardonnay', '32', 'chardonnays', 'push', 'le', 'lowering', 'walking', \"'86\", 'opus', 'dominus', 'wine-buying', 'holidays', 'ensrud', 'free-lance', 'upward', 'moderated', 'richmond', 'posting', 'kansas', 'achieving', 'stated', 'objective', 'hopefully', 'downward', '0.25', '8.75', 'shown', 'big-ticket', 'divided', 'presidents', 'resisting', 'excesses', 'tilt', 'integra-a', 'mailing', '105', '13.5', '1993', '23.5', 'hotels', 'steelmaker', '445', 'shelby', 'steelworkers', '3057', 'tube', 'expired', 'reject', 'pact', '230-215', 'stoppage', 'postponed', 'autions', 'rescheduled', '13.8', 'partisan', 'bickering', 'entangled', 'fails', 'disruption', 'schedule', 'taxpayer', 'nicholas', 'brady', 'imperative', 'redeem', 'maturing', 'refunding', 'three-year', '2019', '36-day', 'when-issued', 'approves', 'clearing', '47.5', '25.6', '21.9', 'five-year', 'decides', 'foods', 'marketer', 'frozen', 'noodles', 'pre-cooked', 'pasta', 'clive', 'advantage', 'finished', '2645.90', 'advancing', 'tidily', '847', '644', 'enthusiasm', '3.18', 'evaporated', 'rushed', 'sight', 'beige', '154.2', '2.50', '7.88', 'mining', 'smelting', '5.276', '36.9', '3.253', '4.898', '1.457', '200', 'supplies', 'restructure', 'rebuffed', 'proposals', 'reviewed', 'regarding', 'combinations', 'eliminated', 'proof', 'aggressive', 'clamped', 'ankle', 'bull', '9.9', 'two-thirds', 'surprised', 'cited', '1.75', '51.25', '22.75', 'landis', 'proposing', 'subordinated', 'junk-bond', 'collapsed', 'lessening', 'likelihood', 'hundred', 'agreeing', 'satrum', 'spurns', 'solicitation', 'replacing', 'nominal', '46.1', '251.2', '278.7', 'licensing', 'representing', 'challenging', 'westport', 'punitive', 'researcher', '1960s', 'combat', 'patented', 'licensed', 'brunswick', 'criticism', 'skittishness', 'color', 'unfettered', 'removal', 'perceives', 'heated', 'stirred', 'impediments', 'initiative', 'rhetoric', 'informally', 'impending', 'direct-investment', 'fret', 'rancor', 'nervousness', 'devoted', 'briefing', 'journalists', 'vitally', 'emotions', 'taizo', 'watanabe', 'escalated', 'coca-cola', 'midtown', 'fuel', 'fires', 'discontent', 'stoked', 'publicized', 'boone', 'jr', 'oilman', '26.2', '1.2', 'automotive-lighting', 'asserting', 'greenmailer', 'texan', 'lloyd', 'bentsen', 'highlight', 'disproportionate', 'table', 'structures', 'litany', 'recommendations', 'clarified', 'retort', 'concessions', 'clarify', 'exactly', 'sorting', 'specifics', 'quick', 'crossed', 'gauging', 'sheaf', 'elisabeth', 'rubinfien', 'improves', 'wayland', 'sights', 'myriad', 'penetrate', 'tiny', 'joint-venture', 'guided', 'bureaucratic', 'maze', 'secured', 'kidney', 'stones', 'treats', 'skin', 'lesions', 'count', 'olsen', 'milked', 'bankroll', 'promising', 'putting', '214', 'heightened', 'acceleration', 'conspicuous', 'penetration', 'feed', 'anxieties', 'low-tech', 'fancy', 'warrenton', 'va.', 'fabricator', 'architectural', 'foundering', 'chiefly', 'window', 'ichiro', 'merchandise', 'inside', 'nissho-iwai', 'counterpart', 'vertically', 'feudal', 'globally', 'commodities', 'ships', 'sogo-shosha', 'u.s.a.', 'takeshi', 'kondo', 'ventures', 'trading-company', 'goal', 'objectives', 'logjam', 'small-company', 'businessman', 'davies', 'alliance', 'queuing', 'unsympathetic', 'relation', 'generate', 'ai', 'departure', 'fueling', 'airlines', 'airports', 'omitted', 'duties', 'assumed', 'langner', 'genie', 'convenient', 'high-balance', 'pine', 'crown', 'safe', 'qualify', 'competed', 'bundling', 'population', 'segmenting', 'anne', 'ncnb', 'connections', 'adults', 'pre-approved', 'throws', 'cash-flow', 'saving', 'planters', 'memphis', 'tenn.', 'edge', 'thirtysomething', 'crowd', 'borrowed', 'aiming', 'elderly', 'demographic', 'stepped', 'judie', 'jacksonville', 'sub-segments', 'tailoring', 'styles', 'life-style', 'create', 'sub-markets', 'branches', 'athletic', 'travel', '55-year-old', 'games', '75-year-old', 'panama', '1973', 'wells', 'fargo', 'safe-deposit', 'travelers', 'begot', 'slew', 'copycats', 'promoting', 'margins', 'computerize', 'niches', 'profitable', 'mid-1970s', 'emphasis', 'switched', 'enabling', 'analyze', '1970s', 'high-rate', 'cds', 'passbook', 'certificates', 'interest-bearing', 'staggering', 'bigger', 'norwest', 'market-share', 'battles', 'worrying', 'money-center', 'scrambling', 'cultivated', 'savvier', 'n.c', 'fragmentation', 'attracting', 'rate-sensitive', 'rewarding', 'bulk', 'captive', 'audience', 'loyal', 'borrowers', 'savers\\\\/investors', 'drawbacks', 'personnel', 'promotional', 'chemplus', 'flourish', 'demanding', 'tailored', 'direction', 'boutique', 'iras', 'amend', 'delete', '500,000', 'chandler', 'ariz.', 'resubmit', '2.3', 'exercisable', '4.1', 'develops', 'low-cost', 'hawaiian', 'vacation', 'necklace', 'lasting', 'pocket', 'teetering', 'insolvency', 'demise', 'needy', 'solvent', 'performing', 'gift', 'doors', 'joy', 'lewis', 'ranieri', 'builds', 'self', 'sufficiency', 'critical', 'delay', 'worse', 'mid-size', 'semesters', 'rap', 'sagging', 'morale', 'baris', 'mercantile', 'stemming', 'slides', 'halts', 'emergencies', 'reinstating', 'arguing', '150-point', '20-point', '1:30', '3:15', 'tumultuous', 'skidded', 'hitting', 'existing', '30-minute', 'equal', 'leo', 'melamed', 'lessen', 'panic', 'reopened', 'subsequent', 'flood', 'knocked', 'intermediate', 'synchronized', 'circuit-breaker', 'aggravated', 'directing', 'respite', 'sell-offs', 'maximum', 'modification', 'lapses', 'congressmen', 'executing', 'manually', 'post-hearing', 'volatility', 'comfortable', 'capitol', 'legislators', 'shut', 'volatile', 'breeden', 'breakers', 'preset', 'vague', 'mushy', 'viewpoints', 'angered', 'sensitive', 'happy', 'writing', 'discussed', 'annoyed', 'congressman', 'fifteen', '26', 'attended', 'let', 'jurisdictional', 'regulating', 'regulated', 'agriculture', 'committees', 'peculiar', 'peculiarities', 'unintelligible', 'tailors', 'evoke', 'loveliest', 'stone', 'cascading', 'calling', 'faithful', 'evensong', 'parishioners', 'angels', 'chat', 'rhythmically', 'sounded', '1614', 'discordant', 'modern', 'church-goers', 'enjoying', 'cool', 'autumn', 'herald', 'derek', 'octogenarians', 'sometimes-exhausting', 'sounding', 'belfries', 'anglia', 'scrape', 'water-authority', 'dances', 'drift', 'flightiness', 'diminish', 'anglian', 'pealing', 'nationwide', 'sundays', 'tunes', 'carillons', 'continental', 'childish', 'mind-boggling', '380', 'physical', 'dexterity', 'weigh', 'ton', 'concentration', 'proper', 'rounds', 'highest-pitched', 'descending', 'altering', 'rhythm', 'variation', 'memorize', 'methods', 'odd-sounding', 'treble', 'grandsire', 'caters', 'kensington', 'ten', 'shirt-sleeved', 'prize-fighter', 'pulling', 'rope', 'disappears', 'hole', 'snaking', 'muffled', 'totally', 'absorbed', 'stare', 'vision', 'rope-sight', 'thus', 'pulls', 'bronze', 'wheels', 'madly', '360', 'inverted', 'mouth-up', 'skilled', 'wrists', 'retard', 'well-known', 'detective-story', 'novelist', 'finds', 'satisfaction', 'mathematical', 'completeness', 'perfection', 'filled', 'solemn', 'intoxication', 'intricate', 'ritual', 'faultlessly', 'obsession', 'pattenden', 'stays', 'stuck', 'sweat', 'skip', 'pub', 'sit', 'clerics', 'steadily', 'dwindling', 'pressing', 'non-religious', 'rev.', 'jeremy', 'sacked', 'promptly', 'self-perpetuating', 'premises', 'eight', 'ilminster', 'somerset', 'dust-up', 'attendance', 'w.d.', 'refuses', 'reopen', 'wound', 'c.j.b.', 'stairs', 'altar', 'obvious', 'exit', 'prayer', 'feelings', 'bell-ringer', 'drawn', 'fuller', 'aims', 'speak', 'theological', 'colleges', 'joys', 'publish', 'booklet', 'entitled', 'attacking', 'bellringers', '40,000', 'parishes', 'inner-city', 'lucky', 'male-dominated', 'everywhere', 'bell-ringing', 'youths', '1637', 'male-only', 'galling', 'sole', 'cathedral', 'westminster', 'abbey', 'equal-opportunity', 'weekly', 'signing', 'red-blooded', 'balanced', 'frequency', 'fainting', 'tea', 'torrent', 'solihull', 'observed', 'desired', 'dressed', 'decorated', 'beer-belly', 'unwashed', 'unbearably', 'flatulent', 'sheffield', 'faint', 'bless', 'unsettled', 'comfort', 'predictable', 'arrival', 'breathe', 'warn', 'strongest', 'trap', 'unwary', 'bernstein', 'quantitative', 'merrill', 'lynch', 'widow', 'spiders', 'males', 'kill', 'mating', 'robustly', 'invariably', 'hospitable', 'cyclical', 'peaks', '500-stock', 'sliding', 'trends', 'smartly', 'advances', 'unenticing', 'exits', 'sustained', 'rebound', 'pushes', 'tanked', 'exception', 'hint', 'escaped', 'debacle', '1933', '1961', '1965', '1968', '1971', 'sharp', 'troublesome', 'behaving', 'philadelphia-based', 'insurer', 'co-chairman', '3.6', 'tad', 'single-digit', 'weakening', 'forecasting', 'slowdowns', 'doerflinger', 'argument', 'wherewithal', 'declare', 'weaken', 'bulls', 'expenditures', '139', '138', 'trailed', 'slippage', 'harbinger', 'deliver', 'appreciation', 'vs.', 'element', 'outlook', 'upside', 'alexander', 'graham', 'invention', 'supposedly', 'replace', 'father-in-law', 'gardner', 'hubbard', 'wealthy', 'well-connected', 'sued', 'grandfather', 'emile', 'princely', 'infringed', 'established', 'caveat', 'enter', 'discontinuing', 'quarters', '266', '176', 'commit', 'structurally', 'radically', 'servicing', 'word-processing', 'legend', 'lacked', 'hired', '93', 'historic', 'rapprochement', 'spoke', 'length', 'nowhere', 'easing', 'strains', 'afflicted', 'sino-u.s.', 'bloody', 'suppression', 'pro-democracy', 'harped', 'outrage', 'massacre', 'interference', 'proponent', 'peaceful', 'phrase', 'seduce', 'socialist', 'capitalist', 'sphere', 'tension', 'evident', 'banquet', 'reciting', 'platitudes', 'eternal', 'friendship', 'reminded', 'shangkun', 'assault', '3-4', 'crackdown', 'ordering', 'respect', 'undiplomatic', 'fashion', 'killings', 'prominently', 'demonstrations', 'deng', 'xiaoping', 'speaking', 'deeply', 'turmoil', 'counterrevolutionary', 'rebellion', 'occurred', 'reprove', 'mend', 'deteriorated', 'chinese-american', 'dissident', 'lizhi', 'wife', 'shuxian', 'refuge', 'afterwards', 'anti-china', 'high-level', 'codified', 'traveling', 'citizen', 'unofficial', 'envoy', 'brent', 'scowcroft', 'saturday', 'top-level', 'participation', 'fulbright', 'government-funded', 'pulled', 'acknowledge', 'welcome', 'infusion', 'contacts', 'borders', 'sdi', 'weapon', 'shoot', 'minor', 'concession', 'premier', 'peng', 'hoped', 'encounter', 'guns', 'arrived', 'machine-gun-toting', 'blocks', 'ambassador', 'residence', 'encircling', 'discarded', 'uzi-model', 'pistols', 'contingent', 'plainclothes', 'unmarked', 'soldiers', 'protests', 'diplomats', 'clicked', 'loaded', 'graduates', 'accusing', 'jeopardizing', 'barking', 'tree', 'passing', 'buck', 'everything', 'volunteer', 'unethical', 'higher-salaried', 'unfortunately', 'compensation', 'impression', 'harder', 'visited', 'images', 'changing', 'perceptions', 'vacations', 'accept', 'hiroshi', 'asada', 'barbara', 'regrettable', 'negatives', 'liberals', 'progressive', 'prof', 'ethel', 'klein', 'puts', '76', 'favorable', 'voters', 'disapprove', 'spouse', 'imply', 'three-quarters', 'assumption', 'distasteful', 'newsworthy', 'perpetuates', 'insidious', 'stereotyped', 'perspective', 'defined', 'denominator', 'preston', 'birmingham', 'ala', 'self-regulatory', 'disciplined', 'fernando', 'marina', 'del', 'rey', 'telephone-information', 'i.', 'improper', 'lauderhill', 'plantation', 'delwin', 'mount', 'clemens', 'glenn', 'record-keeping', 'inaccurately', 'weatherly', 'principals', 'dell', 'keehn', 'northy', 'prater', 'mercer', 'island', 'wash.', 'implication', 'inappropriate', 'timing', 'rectified', 'w.n.', 'del.', 'n.', 'transacting', 'differ', 'meaning', 'markup', 'markdown', '62%-owned', 'express', 'timely', 'requests', 'andrew', 'derel', 'adams', 'killeen', 'angier', 'reddington', 'shores', 'stirlen', 'fred', 'bonnell', 'boorse', 'horsham', 'chiodo', 'camille', 'chafic', 'cotran', 'davis', 'colonsville', '200,000', 'jeffrey', 'gerard', 'dompierre', 'valrico', '16,072', 'marion', 'stewart', 'spitler', '18,444', 'amounted', 'parking', 'ticket', 'complaining', 'sizable', 'anybody', 'fishman', 'longwood', 'floyd', 'bronx', 'amin', 'jalaalwalikraam', 'glenham', 'knapp', 'deborah', 'renee', 'muscolina', 'palisades', 'najarian', 'minn.', 'norwick', 'nesconset', 'phipps', 'sr.', 'scott', 'rankin', 'mo.', 'leigh', 'sanderoff', 'gaithersburg', 'md.', '45,000', '12,252', 'sandra', 'ann', 'ridgefield', 'spence', 'aloha', 'ore.', 'mona', 'sun', 'jamaica', 'estates', 'swearingen', 'bew', 'wong', 'rabia', 'zayed', 'veselich', 'enright', 'rolling', '11,762', 'stuart', 'russel', 'glendale', '14,821', 'nilson', 'fountain', '82,389', 'screwed', 'breaking', 'agents', 'reps', 'compliance', 'security-type', 'mistakes', 'cole', 'jackson', 'rita', 'rae', 'cross', 'denver', 'meinders', 'five-day', 'eight-month', 'la.', 'one-month', 'karl', 'hale', 'midvale', 'utah', 'clinton', 'hayne', 'one-week', 'kane', 'coconut', '250,000', 'merrick', 'miller', 'randolph', '90-day', 'brian', 'pitcher', 'russo', 'bridgeville', '15-day', 'orville', 'leroy', 'sandberg', '3,500', 'marchese', 'eric', 'monchecourt', 'gerhard', 'carson', 'actively', 'engaged', 'fond', 'blocked', 'emigrate', 'computer-driven', 'plays', 'hurdles', 'loom', 'resist', 'onslaught', 'shrug', 'furor', 'marching', 'abroad', 'overlap', 'american-style', 'exploit', '11.6', 'imagine', 'racing', 'chicago-style', 'cope', 'makato', 'utsumi', 'home-market', 'osaka', 'wary', 'forgotten', 'bout', 'foreign-led', 'drove', 'skyward', 'mechanisms', 'operators', 'suspend', 'maybe', 'tightened', 'index-related', 'catch-up', 'reaped', 'chunk', 'deryck', 's.', 'wadsworth', 'ascribe', 'futures-related', 'strategies', 'disruptive', 'liquid', 'impact', 'serves', 'conduit', 'attractions', 'counter', 'tapes', 'unwind', 'begins', 'privacy', 'brokerage', 'barfield', 'assurance', 'manages', '23.72', 'times-stock', '100-share', 'tenfold', '9,118', '4,645', '917', 'index-options', 'compares', 'derivatives', '382-37', 'backed', 'replete', 'proponents', '90-cent-an-hour', 'opponents', 'reflected', 'republicans', 'bend', 'lifting', 'four-year', 'enacted', '2.65', '3.80', 'smiles', 'pat', 'mont', 'marge', 'acceptance', 'administrations', 'sought', 'adopting', 'training-wage', 'nickel', 'diming', 'lately', 'touted', 'impart', 'entrants', 'democrats', 'fought', 'acceded', 'insistence', '3.61', 'restriction', 'government-certified', 'unrestricted', 'mininum-wage', 'impossible', 'elimination', '534', 'navy', 'microcomputers', '84-month', 'rockwell', '130.7', 'ac-130u', 'gunship', 'replacement', 'marietta', '29.9', 'low-altitude', 'navigation', '29.4', 'mode', 'gentle', 'hard-charging', 'teddy', 'roosevelt', '62-year-old', 'forest-product', 'unsolicited', '3.19', 'cold', 'negotiated', 'entice', 'negotiating', 'surrender', 'tough', 'completion', 'opens', 'implies', 'dilemma', 'overpaying', 'fold', 'courage', 'a.d.', 'long-time', 'griffin', 'wtd', 'insiders', 'onto', 'picked', 'careful', 'polytechnic', 'universities', 'strother', 'researching', 'willingness', '1970', 'arrest', 'protesters', 'occupying', 'impressed', 'fundraising', 'enticed', 'joining', 'befuddled', 'administrator', 'transition', 'swiftly', 'demonstrating', 'raw', 'possessed', 'son', 'skipped', 'classmates', 'graduated', 'phi', 'beta', 'kappa', 'kentucky', 'doctorate', 'physics', 'retentive', 'understatement', 'photographic', 'engineered', 'turnaround', 'inherited', 'recession-inspired', 'building-products', 'non-core', 'vinyl', 'checkbook', 'refocusing', 'repair', 'remodeling', 'cycles', 'formula', '9.5', 'reins', '467', 'attributes', 'philosophy', 'concentrating', 'diversified', 'impressive', 'diversification', 'match', 'high-quality', 'forest-products', 'waters', 'kathryn', 'mcauley'])\n"
          ]
        }
      ]
    },
    {
      "cell_type": "code",
      "metadata": {
        "colab": {
          "base_uri": "https://localhost:8080/"
        },
        "id": "Jqa3ACh3s0Cr",
        "outputId": "482ed3bd-c9b1-41ef-9197-0267c53a2965"
      },
      "source": [
        "print(\"Total OOV terms: {0} ({1:.2f}%)\".format(len(tokenizer.oov_terms), float(len(tokenizer.oov_terms)) / len(tokenizer.vocab)))"
      ],
      "execution_count": 18,
      "outputs": [
        {
          "output_type": "stream",
          "name": "stdout",
          "text": [
            "Total OOV terms: 358 (0.05%)\n"
          ]
        }
      ]
    },
    {
      "cell_type": "code",
      "metadata": {
        "id": "JzCfNm7dTMuk",
        "outputId": "1d886cd3-1cae-433f-d693-3b45a94eeb0f",
        "colab": {
          "base_uri": "https://localhost:8080/"
        }
      },
      "source": [
        "for _, row in dataframe.iterrows():\n",
        "  if len(row['pos'])==1 and not row['pos'].isalpha():\n",
        "    print(row)"
      ],
      "execution_count": 20,
      "outputs": [
        {
          "output_type": "stream",
          "name": "stdout",
          "text": [
            "word    US$\n",
            "pos       $\n",
            "Name: 6063, dtype: object\n",
            "word    C$\n",
            "pos      $\n",
            "Name: 6079, dtype: object\n",
            "word    Wa\n",
            "pos      ,\n",
            "Name: 9252, dtype: object\n",
            "word    US$\n",
            "pos       $\n",
            "Name: 10541, dtype: object\n",
            "word    C$\n",
            "pos      $\n",
            "Name: 10573, dtype: object\n",
            "word    -\n",
            "pos     :\n",
            "Name: 21629, dtype: object\n",
            "word    -\n",
            "pos     :\n",
            "Name: 21653, dtype: object\n",
            "word    -\n",
            "pos     :\n",
            "Name: 563, dtype: object\n",
            "word    US$\n",
            "pos       $\n",
            "Name: 2885, dtype: object\n",
            "word    -\n",
            "pos     :\n",
            "Name: 14013, dtype: object\n",
            "word    US$\n",
            "pos       $\n",
            "Name: 6898, dtype: object\n"
          ]
        }
      ]
    }
  ]
}