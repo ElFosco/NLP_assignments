{
  "nbformat": 4,
  "nbformat_minor": 0,
  "metadata": {
    "colab": {
      "name": "Assignment_1.ipynb",
      "provenance": [],
      "collapsed_sections": [],
      "include_colab_link": true
    },
    "kernelspec": {
      "name": "python3",
      "display_name": "Python 3"
    }
  },
  "cells": [
    {
      "cell_type": "markdown",
      "metadata": {
        "id": "view-in-github",
        "colab_type": "text"
      },
      "source": [
        "<a href=\"https://colab.research.google.com/github/ElFosco/NLP_assignments/blob/carlo/Assignment_1.ipynb\" target=\"_parent\"><img src=\"https://colab.research.google.com/assets/colab-badge.svg\" alt=\"Open In Colab\"/></a>"
      ]
    },
    {
      "cell_type": "markdown",
      "metadata": {
        "id": "-WeCeITXoxLf"
      },
      "source": [
        "# Assignment 1\n",
        "\n",
        "**Due to**: 23/12/2021 (dd/mm/yyyy)\n",
        "\n",
        "**Credits**: Andrea Galassi, Federico Ruggeri, Paolo Torroni\n",
        "\n",
        "**Summary**: Part-of Speech (POS) tagging as Sequence Labelling using Recurrent Neural Architectures"
      ]
    },
    {
      "cell_type": "markdown",
      "metadata": {
        "id": "a4_wqPdlBcKS"
      },
      "source": [
        "# Intro\n",
        "\n",
        "In this assignment  we will ask you to perform POS tagging using neural architectures\n",
        "\n",
        "You are asked to follow these steps:\n",
        "*   Download the corpora and split it in training and test sets, structuring a dataframe.\n",
        "*   Embed the words using GloVe embeddings\n",
        "*   Create a baseline model, using a simple neural architecture\n",
        "*   Experiment doing small modifications to the baseline model, choose hyperparameters using the validation set\n",
        "*   Evaluate your two best model\n",
        "*   Analyze the errors of your model\n",
        "\n",
        "\n",
        "**Task**: given a corpus of documents, predict the POS tag for each word\n",
        "\n",
        "**Corpus**:\n",
        "Ignore the numeric value in the third column, use only the words/symbols and its label. \n",
        "The corpus is available at:\n",
        "https://raw.githubusercontent.com/nltk/nltk_data/gh-pages/packages/corpora/dependency_treebank.zip\n",
        "\n",
        "**Splits**: documents 1-100 are the train set, 101-150 validation set, 151-199 test set.\n",
        "\n",
        "\n",
        "**Features**: you MUST use GloVe embeddings as the only input features to the model.\n",
        "\n",
        "**Splitting**: you can decide to split documents into sentences or not, the choice is yours.\n",
        "\n",
        "**I/O structure**: The input data will have three dimensions: 1-documents/sentences, 2-token, 3-features; for the output there are 2 possibilities: if you use one-hot encoding it will be 1-documents/sentences, 2-token labels, 3-classes, if you use a single integer that indicates the number of the class it will be 1-documents/sentences, 2-token labels.\n",
        "\n",
        "**Baseline**: two layers architecture: a Bidirectional LSTM layer and a Dense/Fully-Connected layer on top; the choice of hyper-parameters is yours.\n",
        "\n",
        "**Architectures**: experiment using a GRU instead of the LSTM, adding an additional LSTM layer, and adding an additional dense layer; do not mix these variantions.\n",
        "\n",
        "\n",
        "**Training and Experiments**: all the experiments must involve only the training and validation sets.\n",
        "\n",
        "**Evaluation**: in the end, only the two best models of your choice (according to the validation set) must be evaluated on the test set. The main metric must be F1-Macro computed between the various part of speech. DO NOT CONSIDER THE PUNCTUATION CLASSES.\n",
        "\n",
        "**Metrics**: the metric you must use to evaluate your final model is the F1-macro, WITHOUT considering punctuation/symbols classes; during the training process you can use accuracy because you can't use the F1 metric unless you use a single (gigantic) batch because there is no way to aggregate \"partial\" F1 scores computed on mini-batches.\n",
        "\n",
        "**Discussion and Error Analysis** : verify and discuss if the results on the test sets are coherent with those on the validation set; analyze the errors done by your model, try to understand which may be the causes and think about how to improve it.\n",
        "\n",
        "**Report**: you are asked to deliver the code of your experiments and a small pdf report of about 2 pages; the pdf must begin with the names of the people of your team and a small abstract (4-5 lines) that sums up your findings.\n",
        "\n",
        "# Out Of Vocabulary (OOV) terms\n",
        "\n",
        "How to handle words that are not in GloVe vocabulary?\n",
        "You can handle them as you want (random embedding, placeholder, whatever!), but they must be STATIC embeddings (you cannot train them).\n",
        "\n",
        "But there is a very important caveat! As usual, the element of the test set must not influence the elements of the other splits!\n",
        "\n",
        "So, when you compute new embeddings for train+validation, you must forget about test documents.\n",
        "The motivation is to emulate a real-world scenario, where you select and train a model in the first stage, without knowing nothing about the testing environment.\n",
        "\n",
        "For implementation convenience, you CAN use a single vocabulary file/matrix/whatever. The principle of the previous point is that the embeddings inside that file/matrix must be generated independently for train and test splits.\n",
        "\n",
        "Basically in a real-world scenario, this is what would happen:\n",
        "1. Starting vocabulary V1 (in this assignment, GloVe vocabulary)\n",
        "2. Compute embeddings for terms out of vocabulary V1 (OOV1) of the training split \n",
        "3. Add embeddings to the vocabulary, so to obtain vocabulary V2=V1+OOV1\n",
        "4. Training of the model(s)\n",
        "5. Compute embeddings for terms OOV2 of the validation split \n",
        "6. Add embeddings to the vocabulary, so to obtain vocabulary V3=V1+OOV1+OOV2\n",
        "7. Validation of the model(s)\n",
        "8. Compute embeddings for terms OOV3 of the test split \n",
        "9. Add embeddings to the vocabulary, so to obtain vocabulary V4=V1+OOV1+OOV2+OOV3\n",
        "10. Testing of the final model\n",
        "\n",
        "In this case, where we already have all the documents, we can simplify the process a bit, but the procedure must remain rigorous.\n",
        "\n",
        "1. Starting vocabulary V1 (in this assignment, GloVe vocabulary)\n",
        "2. Compute embeddings for terms out of vocabulary V1 (OOV1) of the training split \n",
        "3. Add embeddings to the vocabulary, so to obtain vocabulary V2=V1+OOV1\n",
        "4. Compute embeddings for terms OOV2 of the validation split \n",
        "5. Add embeddings to the vocabulary, so to obtain vocabulary V3=V1+OOV1+OOV2\n",
        "6. Compute embeddings for terms OOV3 of the test split \n",
        "7. Add embeddings to the vocabulary, so to obtain vocabulary V4=V1+OOV1+OOV2\n",
        "8. Training of the model(s)\n",
        "9. Validation of the model(s)\n",
        "10. Testing of the final model\n",
        "\n",
        "Step 2 and step 6 must be completely independent of each other, for what concerns the method and the documents. But they can rely on the previous vocabulary (V1 for step 2 and V3 for step 6)\n",
        "THEREFORE if a word is present both in the training set and the test split and not in the starting vocabulary, its embedding is computed in step 2) and it is not considered OOV anymore in step 6).\n",
        "\n",
        "# Report\n",
        "The report must not be just a copy and paste of graphs and tables!\n",
        "\n",
        "The report must not be longer than 2 pages and must contain:\n",
        "* The names of the member of your team\n",
        "* A short abstract (4-5 lines) that sum ups everything\n",
        "* A general description of the task you have addressed and how you have addressed it\n",
        "* A short description of the models you have used\n",
        "* Some tables that sum up your findings in validation and test and a discussion of those results\n",
        "* The most relevant findings of your error analysis\n",
        "\n",
        "# Evaluation Criterion\n",
        "\n",
        "The goal of this assignment is not to prove you can find best model ever, but to face a common task, structure it correctly, and follow a correct and rigorous experimental procedure.\n",
        "In other words, we don't care if you final models are awful as long as you have followed the correct procedure and wrote a decent report.\n",
        "\n",
        "The score of the assignment will be computed roughly as follows\n",
        "* 1 point for the general setting of the problem\n",
        "* 1 point for the handling of OOV terms\n",
        "* 1 point for the models\n",
        "* 1 point for train-validation-test procedure\n",
        "* 2 point for the discussion of the results, error analysis, and report\n",
        "\n",
        "This distribution of scores is tentative and we may decide to alter it at any moment.\n",
        "We also reserve the right to assign a small bonus (0.5 points) to any assignment that is particularly worthy. Similarly, in case of grave errors, we may decide to assign an equivalent malus (-0.5 points).\n",
        "\n",
        "# Contacts\n",
        "\n",
        "In case of any doubt, question, issue, or help we highly recommend you to check the [course useful material](https://virtuale.unibo.it/pluginfile.php/1036039/mod_resource/content/2/NLP_Course_Useful_Material.pdf) for additional information, and to use the Virtuale forums to discuss with other students.\n",
        "\n",
        "You can always contact us at the following email addresses. To increase the probability of a prompt response, we reccomend you to write to both the teaching assistants.\n",
        "\n",
        "Teaching Assistants:\n",
        "\n",
        "* Andrea Galassi -> a.galassi@unibo.it\n",
        "* Federico Ruggeri -> federico.ruggeri6@unibo.it\n",
        "\n",
        "Professor:\n",
        "\n",
        "* Paolo Torroni -> p.torroni@unibo.it\n",
        "\n",
        "\n",
        "# FAQ\n",
        "* You can use a non-trainable Embedding layer to load the glove embeddings\n",
        "* You can use any library of your choice to implement the networks. Two options are tensorflow/keras or pythorch. Both these libraries have all the classes you need to implement these simple architectures and there are plenty of tutorials around, where you can learn how to use them."
      ]
    },
    {
      "cell_type": "markdown",
      "metadata": {
        "id": "aCkKqTG1R2A3"
      },
      "source": [
        "# Imports"
      ]
    },
    {
      "cell_type": "code",
      "metadata": {
        "id": "gCFUaNkDHxvU"
      },
      "source": [
        "import os, shutil  # file management\n",
        "import sys \n",
        "import pandas as pd  # dataframe management\n",
        "import numpy as np  # data manipulation\n",
        "from tqdm import tqdm  # useful during debugging (progress bars)\n",
        "from typing import List, Callable, Dict  # typing\n",
        "import re  # regex\n",
        "import urllib.request  # download files\n",
        "import zipfile  # unzip files\n",
        "import gensim  # embeddings\n",
        "import gensim.downloader as gloader  # embeddings\n",
        "import tensorflow as tf\n",
        "from sklearn.preprocessing import LabelEncoder\n",
        "from sklearn.preprocessing import OneHotEncoder"
      ],
      "execution_count": null,
      "outputs": []
    },
    {
      "cell_type": "markdown",
      "metadata": {
        "id": "6uk40AfIRyk9"
      },
      "source": [
        "# Dataframe"
      ]
    },
    {
      "cell_type": "markdown",
      "metadata": {
        "id": "eZEog8bfHZkn"
      },
      "source": [
        "Download the corpora and split it in training and test sets, structuring a dataframe."
      ]
    },
    {
      "cell_type": "markdown",
      "metadata": {
        "id": "00vKWJXWIKdH"
      },
      "source": [
        "## Download & Extraction"
      ]
    },
    {
      "cell_type": "code",
      "metadata": {
        "id": "XjYnrT-jGto5"
      },
      "source": [
        "dataset_folder = os.path.join(os.getcwd(), \"Datasets\", \"Original\")\n",
        "\n",
        "if not os.path.exists(dataset_folder):\n",
        "    os.makedirs(dataset_folder)\n",
        "\n",
        "url = 'https://raw.githubusercontent.com/nltk/nltk_data/gh-pages/packages/corpora/dependency_treebank.zip'\n",
        "\n",
        "dataset_path = os.path.join(dataset_folder, \"dependency_treebank.zip\")\n",
        "\n",
        "if not os.path.exists(dataset_path):\n",
        "    urllib.request.urlretrieve(url, dataset_path)\n",
        "    print(\"Successful download\")\n",
        "\n",
        "zip = zipfile.ZipFile(dataset_path)\n",
        "zip.extractall(dataset_folder)\n",
        "zip.close()\n",
        "print(\"Successful extraction\")"
      ],
      "execution_count": null,
      "outputs": []
    },
    {
      "cell_type": "markdown",
      "metadata": {
        "id": "-frhRxTJIM6p"
      },
      "source": [
        "## Creation Dataframe and splitting"
      ]
    },
    {
      "cell_type": "markdown",
      "metadata": {
        "id": "S4p1Q1UogPZM"
      },
      "source": [
        "### [Regex](https://regex101.com/)"
      ]
    },
    {
      "cell_type": "code",
      "metadata": {
        "id": "4wnHGfB3gQzs"
      },
      "source": [
        "symbol_remove_alone = \"^[\\.,\\-$'\\\";?!#:`]*$\"  # symbol(s) between ^(start) and $(end)\n",
        "pattern_alone = re.compile(symbol_remove_alone)\n",
        "\n",
        "symbol_number = \"^[\\.,:'/\\-0-9]*(s|th)?$\"  # finds number\n",
        "pattern_number = re.compile(symbol_number)\n",
        "\n",
        "bad_tokens = ('-LRB-','-RRB-','US$','C$','Wa',',')  # check on pos, there are some word that are different from their pos, but they are strange tokens\n",
        "\n",
        "# @ is associated to IN\n",
        "# & and % are used as NN and CC, maybe we should not remove them even if alone?\n",
        "# should we check also other symbols? we should not know what comes in the test set \n",
        "#test = \"^[/&%£\\(\\)\\{\\}\\[\\]\\^|]*$\"\n",
        "#pattern_test = re.compile(test)"
      ],
      "execution_count": null,
      "outputs": []
    },
    {
      "cell_type": "markdown",
      "metadata": {
        "id": "DCeV9etBhEJv"
      },
      "source": [
        "### Creation"
      ]
    },
    {
      "cell_type": "code",
      "metadata": {
        "id": "WNL6xexFIJ5F"
      },
      "source": [
        "#creation of the dataframe containing sentences and the corresponding pos\n",
        "\n",
        "folder = \"/content/Datasets/Original/dependency_treebank\"\n",
        "folder_pkl = \"/content/Datasets/Original\"\n",
        "dataset_name = \"dependency_treebank\"\n",
        "\n",
        "dataframe_rows_train = []\n",
        "dataframe_rows_val = []\n",
        "dataframe_rows_test = []\n",
        "\n",
        "i=0\n",
        "\n",
        "sentence=[]\n",
        "sentence_pos=[]\n",
        "set_pos = set()\n",
        "\n",
        "sentence_max_length=0\n",
        "sentence_length=0\n",
        "\n",
        "files = os.listdir(folder)\n",
        "files.sort()\n",
        "for filename in files:\n",
        "  i+=1\n",
        "  file_path = os.path.join(folder, filename)\n",
        "  try:\n",
        "    if os.path.isfile(file_path):\n",
        "      with open(file_path, mode='r', encoding='utf-8') as text_file:\n",
        "        lines = text_file.readlines()\n",
        "        for line in lines:\n",
        "          if line != '\\n':\n",
        "            word = str(line.split('\\t')[0])\n",
        "            pos = line.split('\\t')[1]\n",
        "            if pattern_alone.match(word) is None and pos not in bad_tokens:  # Using regex, if None no match has been found, \n",
        "                                                                             # then check the bad_tokens set\n",
        "              word = word.replace(\"\\/\", \"/\")  # Avoids \\/ substring in fractions or pair of names.\n",
        "              if pattern_number.match(word):  # Associating a unique token to each number\n",
        "                word = \"NUMBER_TOKEN\"\n",
        "              word = re.sub(\"[0-9]+\", \"NUMBER_TOKEN\", word)  # Replaces number with unique token in each string\n",
        "              sentence.append(word)\n",
        "              set_pos.add(pos)\n",
        "              sentence_pos.append(pos)\n",
        "              sentence_length+=1\n",
        "          else:\n",
        "            dataframe_row = {\n",
        "                  \"sentence\": sentence,\n",
        "                  \"pos\": sentence_pos\n",
        "                  }\n",
        "            if i>=1 and i<=100:\n",
        "                dataframe_rows_train.append(dataframe_row)\n",
        "            elif i>=101 and i<=150:\n",
        "                dataframe_rows_val.append(dataframe_row)\n",
        "            elif i>=151 and i<=199:\n",
        "                dataframe_rows_test.append(dataframe_row)\n",
        "            if sentence_max_length< sentence_length :\n",
        "              sentence_max_length = sentence_length\n",
        "            sentence=[]\n",
        "            sentence_pos=[]\n",
        "            sentence_length=0\n",
        "  except Exception as e:\n",
        "    print('Failed to process %s. Reason: %s' % (file_path, e))\n",
        "    sys.exit(0)\n",
        "\n",
        "dataframe_train = pd.DataFrame(dataframe_rows_train)\n",
        "dataframe_val = pd.DataFrame(dataframe_rows_val)\n",
        "dataframe_test = pd.DataFrame(dataframe_rows_test)\n",
        "\n",
        "dataframe_train = dataframe_train[[\"sentence\",\"pos\",]]\n",
        "dataframe_test = dataframe_test[[\"sentence\",\"pos\"]]\n",
        "dataframe_val = dataframe_val[[\"sentence\",\"pos\"]]\n",
        "\n",
        "dataframe_train_path = os.path.join(folder_pkl, dataset_name + \"_train.pkl\")\n",
        "dataframe_val_path = os.path.join(folder_pkl, dataset_name + \"_val.pkl\")\n",
        "dataframe_test_path = os.path.join(folder_pkl, dataset_name + \"_test.pkl\")\n",
        "dataframe_train.to_pickle(dataframe_train_path)\n",
        "dataframe_test.to_pickle(dataframe_val_path)\n",
        "dataframe_val.to_pickle(dataframe_test_path)\n",
        "\n",
        "#dataframe = pd.concat([dataframe_train,dataframe_val,dataframe_test])"
      ],
      "execution_count": null,
      "outputs": []
    },
    {
      "cell_type": "code",
      "metadata": {
        "id": "aV0LrUOeS9Gb"
      },
      "source": [
        "dataframe_train.head()"
      ],
      "execution_count": null,
      "outputs": []
    },
    {
      "cell_type": "markdown",
      "metadata": {
        "id": "i8NEmJp1Ui6z"
      },
      "source": [
        "## Create GloVe embeddings (keep attention to the size, maybe we have to change it)"
      ]
    },
    {
      "cell_type": "code",
      "metadata": {
        "id": "6SgHagnSUlxq"
      },
      "source": [
        "def load_embedding_model(model_type: str,\n",
        "                         embedding_dimension: int = 50) -> gensim.models.keyedvectors.KeyedVectors:\n",
        "    \"\"\"\n",
        "    Loads a pre-trained word embedding model via gensim library.\n",
        "\n",
        "    :param model_type: name of the word embedding model to load.\n",
        "    :param embedding_dimension: size of the embedding space to consider\n",
        "\n",
        "    :return\n",
        "        - pre-trained word embedding model (gensim KeyedVectors object)\n",
        "    \"\"\"\n",
        "\n",
        "    download_path = \"\"\n",
        "\n",
        "    # Find the correct embedding model name\n",
        "    if model_type.strip().lower() == 'word2vec':\n",
        "        download_path = \"word2vec-google-news-300\"\n",
        "\n",
        "    elif model_type.strip().lower() == 'glove':\n",
        "        download_path = \"glove-wiki-gigaword-{}\".format(embedding_dimension)\n",
        "    elif model_type.strip().lower() == 'fasttext':\n",
        "        download_path = \"fasttext-wiki-news-subwords-300\"\n",
        "    else:\n",
        "        raise AttributeError(\"Unsupported embedding model type! Available ones: word2vec, glove, fasttext\")\n",
        "\n",
        "    # Check download\n",
        "    try:\n",
        "        emb_model = gloader.load(download_path)\n",
        "    except ValueError as e:\n",
        "        print(\"Invalid embedding model name! Check the embedding dimension:\")\n",
        "        print(\"Word2Vec: 300\")\n",
        "        print(\"Glove: 50, 100, 200, 300\")\n",
        "        raise e\n",
        "\n",
        "    return emb_model"
      ],
      "execution_count": null,
      "outputs": []
    },
    {
      "cell_type": "code",
      "metadata": {
        "id": "Mff7TRr0V8hv"
      },
      "source": [
        "def check_OOV_terms(embedding_vocabulary: List[str],\n",
        "                    word_listing: List[str]):\n",
        "    \"\"\"\n",
        "    Checks differences between pre-trained embedding model vocabulary\n",
        "    and dataset specific vocabulary in order to highlight out-of-vocabulary terms.\n",
        "\n",
        "    :param embedding_vocabulary: pre-trained word embedding model vocab (list)\n",
        "    :param word_listing: dataset specific vocabulary (list)\n",
        "\n",
        "    :return\n",
        "        - list of OOV terms\n",
        "    \"\"\"\n",
        "    \n",
        "    oov = set(word_listing).difference(embedding_vocabulary)\n",
        "    return list(oov)"
      ],
      "execution_count": null,
      "outputs": []
    },
    {
      "cell_type": "code",
      "metadata": {
        "id": "ks3PUZeyFuYB"
      },
      "source": [
        "def build_embedding_matrix(embedding_model: gensim.models.keyedvectors.KeyedVectors,\n",
        "                           embedding_dimension: int,\n",
        "                           word_to_idx: Dict[str, int],\n",
        "                           vocab_size: int,\n",
        "                           oov_terms: List[str]) -> np.ndarray:\n",
        "    \"\"\"\n",
        "    Builds the embedding matrix of a specific dataset given a pre-trained word embedding model\n",
        "\n",
        "    :param embedding_model: pre-trained word embedding model (gensim wrapper)\n",
        "    :param word_to_idx: vocabulary map (word -> index) (dict)\n",
        "    :param vocab_size: size of the vocabulary\n",
        "    :param oov_terms: list of OOV terms (list)\n",
        "\n",
        "    :return\n",
        "        - embedding matrix that assigns a high dimensional vector to each word in the dataset specific vocabulary (shape |V| x d)\n",
        "    \"\"\"\n",
        "    embedding_matrix = np.zeros((vocab_size, embedding_dimension), dtype=np.float32)\n",
        "\n",
        "    for word, idx in tqdm(word_to_idx.items()):\n",
        "        try:\n",
        "            embedding_vector = embedding_model[word]\n",
        "        except (KeyError, TypeError):\n",
        "            embedding_vector = np.random.uniform(low=-0.05, high=0.05, size=embedding_dimension)\n",
        "\n",
        "        embedding_matrix[idx] = embedding_vector\n",
        "\n",
        "    return embedding_matrix\n",
        "\n",
        "\n",
        "def update_embedding_matrix(embedding_model: np.ndarray, \n",
        "                            embedding_dimension: int,\n",
        "                            word_to_idx: Dict[str, int],\n",
        "                            vocab_size: int,\n",
        "                            oov_terms: List[str]) -> np.ndarray:\n",
        "    \"\"\"\n",
        "    Builds the embedding matrix of a specific dataset given a pre-trained emdedding matrix\n",
        "\n",
        "    :param embedding_model: pre-trained embedding matrix\n",
        "    :param word_to_idx: vocabulary map (word -> index) (dict)\n",
        "    :param vocab_size: size of the vocabulary\n",
        "    :param oov_terms: list of OOV terms (list)\n",
        "\n",
        "    :return\n",
        "        - embedding matrix that assigns a high dimensional vector to each word in the dataset specific vocabulary (shape |V| x d)\n",
        "    \"\"\"\n",
        "    embedding_matrix = np.zeros((vocab_size, embedding_dimension), dtype=np.float32)\n",
        "\n",
        "    for word, idx in tqdm(word_to_idx.items()):\n",
        "        try:\n",
        "            embedding_vector = embedding_model[idx]\n",
        "        except (TypeError, IndexError):\n",
        "            embedding_vector = np.random.uniform(low=-0.05, high=0.05, size=embedding_dimension)\n",
        "\n",
        "        embedding_matrix[idx] = embedding_vector\n",
        "\n",
        "    return embedding_matrix\n"
      ],
      "execution_count": null,
      "outputs": []
    },
    {
      "cell_type": "code",
      "metadata": {
        "id": "LHclnVYLXWZN"
      },
      "source": [
        "# Modify these variables as you wish!\n",
        "# Glove -> 50, 100, 200, 300\n",
        "# Word2Vec -> 300\n",
        "# Fasttext -> 300\n",
        "\n",
        "class KerasTokenizer(object):\n",
        "    \"\"\"\n",
        "    A simple high-level wrapper for the Keras tokenizer.\n",
        "    \"\"\"\n",
        "\n",
        "    def __init__(self, build_embedding_matrix=False, embedding_dimension=None,\n",
        "                 embedding_model_type=None, tokenizer_args=None, embedding_model=None):\n",
        "        if build_embedding_matrix:\n",
        "            assert embedding_model_type is not None\n",
        "            assert embedding_dimension is not None and type(embedding_dimension) == int\n",
        "\n",
        "        self.build_embedding_matrix = build_embedding_matrix\n",
        "        self.embedding_dimension = embedding_dimension\n",
        "        self.embedding_model_type = embedding_model_type\n",
        "        self.embedding_model = embedding_model\n",
        "        self.embedding_matrix = None\n",
        "        self.vocab = None\n",
        "\n",
        "        tokenizer_args = {} if tokenizer_args is None else tokenizer_args\n",
        "        assert isinstance(tokenizer_args, dict) or isinstance(tokenizer_args, collections.OrderedDict)\n",
        "\n",
        "        self.tokenizer_args = tokenizer_args\n",
        "\n",
        "    def build_vocab(self, data, **kwargs):\n",
        "        print('Fitting tokenizer...')\n",
        "        self.tokenizer = tf.keras.preprocessing.text.Tokenizer(**self.tokenizer_args)\n",
        "        self.tokenizer.fit_on_texts(data)\n",
        "        print('Fit completed!')\n",
        "\n",
        "        self.vocab = self.tokenizer.word_index\n",
        "\n",
        "        if self.build_embedding_matrix:\n",
        "            if self.embedding_model is None:\n",
        "              print('Loading embedding model! It may take a while...')\n",
        "              self.embedding_model = load_embedding_model(model_type=self.embedding_model_type, \n",
        "                                                          embedding_dimension=self.embedding_dimension)\n",
        "            \n",
        "            print('Checking OOV terms in train...')\n",
        "            self.oov_terms_train = check_OOV_terms(embedding_vocabulary=set(self.embedding_model.vocab.keys()),\n",
        "                                             word_listing=list(self.vocab.keys()))\n",
        "            \n",
        "            print(\"Total OOV terms: {0} ({1:.2f}%)\".format(len(self.oov_terms_train), 100*float(len(self.oov_terms_train)) / len(self.vocab)))\n",
        "\n",
        "            print('Building the embedding matrix for train...')\n",
        "            self.embedding_matrix = build_embedding_matrix(embedding_model=self.embedding_model,\n",
        "                                                           word_to_idx=self.vocab,\n",
        "                                                           vocab_size=len(self.vocab)+1,          \n",
        "                                                           embedding_dimension=self.embedding_dimension,\n",
        "                                                           oov_terms=self.oov_terms_train)\n",
        "            print('Done for train!')\n",
        "\n",
        "    def update_vocab(self, data, **kwargs):\n",
        "      self.tokenizer.fit_on_texts(data)\n",
        "      if self.build_embedding_matrix:\n",
        "        old_vocab = self.vocab\n",
        "        self.vocab = self.tokenizer.word_index\n",
        "        print('Checking OOV terms...')\n",
        "        self.oov_terms = check_OOV_terms(embedding_vocabulary=set(old_vocab.keys()), \n",
        "                                         word_listing=list(self.vocab.keys()))\n",
        "        \n",
        "        print(\"Total OOV terms: {0} ({1:.2f}%)\".format(len(self.oov_terms), 100*float(len(self.oov_terms)) / len(self.vocab)))\n",
        "\n",
        "        print('Building the embedding matrix...')\n",
        "        self.embedding_matrix = update_embedding_matrix(embedding_model=self.embedding_matrix,\n",
        "                                                       word_to_idx=self.vocab,\n",
        "                                                       vocab_size=len(self.vocab)+1,          \n",
        "                                                       embedding_dimension=self.embedding_dimension,\n",
        "                                                       oov_terms=self.oov_terms)\n",
        "\n",
        "    def get_info(self):\n",
        "        return {\n",
        "            'build_embedding_matrix': self.build_embedding_matrix,\n",
        "            'embedding_dimension': self.embedding_dimension,\n",
        "            'embedding_model_type': self.embedding_model_type,\n",
        "            'embedding_matrix': self.embedding_matrix.shape if self.embedding_matrix is not None else self.embedding_matrix,\n",
        "            'embedding_model': self.embedding_model,\n",
        "            'vocab_size': len(self.vocab) + 1,\n",
        "        }\n",
        "\n",
        "    def tokenize(self, text):\n",
        "        return text\n",
        "\n",
        "    def convert_tokens_to_ids(self, tokens):\n",
        "        if type(tokens) == str:\n",
        "            return self.tokenizer.texts_to_sequences([tokens])[0]\n",
        "        else:\n",
        "            return self.tokenizer.texts_to_sequences(tokens)\n",
        "\n",
        "    def convert_ids_to_tokens(self, ids):\n",
        "        return self.tokenizer.sequences_to_texts(ids)"
      ],
      "execution_count": null,
      "outputs": []
    },
    {
      "cell_type": "code",
      "metadata": {
        "id": "1G9mrvhxYBL3"
      },
      "source": [
        "embedding_model = load_embedding_model(model_type=\"glove\", \n",
        "                                       embedding_dimension=50)"
      ],
      "execution_count": null,
      "outputs": []
    },
    {
      "cell_type": "code",
      "metadata": {
        "id": "rd7WJ8fOerEt"
      },
      "source": [
        "tokenizer_args = {\n",
        "    'oov_token': \"OOV_TOKEN\",  # The vocabulary id for unknown terms during text conversion\n",
        "    'lower' : True,  # default\n",
        "    'filters' : '' \n",
        "}\n",
        "\n",
        "tokenizer = KerasTokenizer(tokenizer_args=tokenizer_args,\n",
        "                           build_embedding_matrix=True,\n",
        "                           embedding_dimension=50,\n",
        "                           embedding_model_type=\"glove\", \n",
        "                           embedding_model=embedding_model)\n",
        "tokenizer.build_vocab(dataframe_train[\"sentence\"])\n",
        "\n",
        "tokenizer_info = tokenizer.get_info()\n",
        "\n",
        "print('Tokenizer info: ', tokenizer_info)"
      ],
      "execution_count": null,
      "outputs": []
    },
    {
      "cell_type": "code",
      "metadata": {
        "id": "b0jKa0qzNzce"
      },
      "source": [
        "tokenizer.update_vocab(dataframe_test[\"sentence\"])\n",
        "tokenizer.update_vocab(dataframe_val[\"sentence\"])"
      ],
      "execution_count": null,
      "outputs": []
    },
    {
      "cell_type": "code",
      "metadata": {
        "id": "rPHTtHKPkNPx"
      },
      "source": [
        "a = list(tokenizer.vocab.keys())\n",
        "a.sort()\n",
        "print(a)"
      ],
      "execution_count": null,
      "outputs": []
    },
    {
      "cell_type": "markdown",
      "metadata": {
        "id": "2Y2O0g6fr-wL"
      },
      "source": [
        "# Data Conversion"
      ]
    },
    {
      "cell_type": "code",
      "metadata": {
        "id": "VZL6BOC1bGsU"
      },
      "source": [
        "from sklearn.preprocessing import LabelBinarizer\n",
        "\n",
        "#lb = LabelBinarizer()\n",
        "#lb.fit(labels)\n",
        "#lb.transform(labels)\n",
        "\n",
        "from sklearn.preprocessing import OneHotEncoder\n",
        "\n",
        "labels = (pd.DataFrame(list(set_pos),columns =['pos']))\n",
        "encoder = OneHotEncoder()\n",
        "encoder.fit_transform(labels)\n",
        "\n"
      ],
      "execution_count": null,
      "outputs": []
    },
    {
      "cell_type": "code",
      "metadata": {
        "id": "jfqkVnQXDPe7"
      },
      "source": [
        "from sklearn.compose import ColumnTransformer\n",
        "#da rifare, farei un dataframe contenente pos e rispettiva rappresentazione one hot encoder.\n",
        "transf_dtype = np.int32\n",
        "\n",
        "categorical_transformer = OneHotEncoder(handle_unknown='ignore', sparse = False, dtype = transf_dtype)\n",
        "\n",
        "lb_make = ColumnTransformer(\n",
        "    transformers = [('cat', categorical_transformer, ['pos']),\n",
        "                   ],\n",
        "                    remainder = 'passthrough'\n",
        "    )\n",
        "\n",
        "ris=lb_make.fit(dataframe_train)\n",
        "dataframe_train_p = pd.DataFrame(ris.transform(dataframe_train))\n",
        "dataframe_val_p = pd.DataFrame(ris.transform(dataframe_val))\n",
        "dataframe_test_p = pd.DataFrame(ris.transform(dataframe_test))\n",
        "\n",
        "dataframe_train_p.rename(columns={38: 'word', 39: 'sentence'},inplace=True)\n",
        "dataframe_val_p.rename(columns={38: 'word', 39: 'sentence'},inplace=True)\n",
        "dataframe_test_p.rename(columns={38: 'word', 39: 'sentence'},inplace=True)\n",
        "\n",
        "lb_make = LabelEncoder()\n",
        "ris=lb_make.fit(dataframe_train['pos'])\n",
        "dataframe_train['label'] =ris.transform(dataframe_train['pos'])\n",
        "dataframe_val['label'] = ris.transform(dataframe_val['pos'])\n",
        "dataframe_test['label'] = ris.transform(dataframe_test['pos'])\n",
        "\n"
      ],
      "execution_count": null,
      "outputs": []
    },
    {
      "cell_type": "code",
      "metadata": {
        "id": "Md-jV19ZMb_q"
      },
      "source": [
        "from tensorflow.keras.utils import to_categorical\n",
        "Y_train = to_categorical(dataframe_train['label'])\n",
        "Y_val = to_categorical(dataframe_val['label'])\n",
        "Y_test = to_categorical(dataframe_test['label'])"
      ],
      "execution_count": null,
      "outputs": []
    },
    {
      "cell_type": "code",
      "metadata": {
        "id": "9qNt_4w24Gw8"
      },
      "source": [
        "def get_sentence_lengths(df):\n",
        "  return list((df.groupby('sentence').count())['word'])\n"
      ],
      "execution_count": null,
      "outputs": []
    },
    {
      "cell_type": "code",
      "metadata": {
        "id": "5EM21f8FPy5u"
      },
      "source": [
        "#nons serve più\n",
        "print(dataframe_train.groupby('sentence')['word'].apply(list))"
      ],
      "execution_count": null,
      "outputs": []
    },
    {
      "cell_type": "code",
      "metadata": {
        "id": "0NH8jnbG4ST5"
      },
      "source": [
        "x = get_sentence_lengths(dataframe_train_p)\n",
        "print(x)"
      ],
      "execution_count": null,
      "outputs": []
    },
    {
      "cell_type": "code",
      "metadata": {
        "id": "x1uKddQlsCRR"
      },
      "source": [
        "\n",
        "def convert_text(df, tokenizer, is_training=False, max_seq_length=None):\n",
        "    \"\"\"\n",
        "    Converts input text sequences using a given tokenizer\n",
        "\n",
        "    :param texts: either a list or numpy ndarray of strings\n",
        "    :tokenizer: an instantiated tokenizer\n",
        "    :is_training: whether input texts are from the training split or not\n",
        "    :max_seq_length: the max token sequence previously computed with\n",
        "    training texts.\n",
        "\n",
        "    :return\n",
        "        text_ids: a nested list on token indices\n",
        "        max_seq_length: the max token sequence previously computed with\n",
        "        training texts.\n",
        "    \"\"\"\n",
        "\n",
        "    text_ids = tokenizer.convert_tokens_to_ids(df['word'])\n",
        "\n",
        "    # Padding\n",
        "    if is_training:\n",
        "        max_seq_length = int(np.quantile(get_sentence_lengths(df), 0.99))\n",
        "    else:\n",
        "        assert max_seq_length is not None\n",
        "\n",
        "    text_ids = [seq + [0] * (max_seq_length - len(seq)) for seq in text_ids]\n",
        "    text_ids = np.array([seq[:max_seq_length] for seq in text_ids])\n",
        "\n",
        "    if is_training:\n",
        "        return text_ids, max_seq_length\n",
        "    else:\n",
        "        return text_ids\n",
        "\n",
        "# Train\n",
        "x_train, max_seq_length = convert_text(dataframe_train_p, tokenizer, True)\n",
        "print(\"Max token sequence: {}\".format(max_seq_length))\n",
        "\n",
        "print('X train shape: ', x_train.shape)\n",
        "\n",
        "\n",
        "# Val\n",
        "x_val = convert_text(dataframe_val_p, tokenizer, False, max_seq_length)\n",
        "\n",
        "print('X val shape: ', x_val.shape)\n",
        "\n",
        "\n",
        "# Test\n",
        "x_test = convert_text(dataframe_test_p, tokenizer, False, max_seq_length)\n",
        "\n",
        "print('X test shape: ', x_test.shape)"
      ],
      "execution_count": null,
      "outputs": []
    },
    {
      "cell_type": "markdown",
      "metadata": {
        "id": "LGXRJiA8yIhK"
      },
      "source": [
        "# Model Definition"
      ]
    },
    {
      "cell_type": "code",
      "metadata": {
        "id": "NoxzzPIFxMiu"
      },
      "source": [
        "def create_baseline(hidden_units, dense_units, input_shape, activation):\n",
        "    model = Sequential()\n",
        "    model.add(Bidirectional(LSTM(hidden_units, input_shape=input_shape, \n",
        "                        activation=activation[0])))\n",
        "    model.add(Dense(units=dense_units, activation=activation[1]))\n",
        "    model.compile(loss='mean_squared_error', optimizer='adam')\n",
        "    return model\n",
        " \n",
        "demo_model = create_baseline(max_seq_length, 38, (max_seq_length,1), activation=['relu', 'relu'])"
      ],
      "execution_count": null,
      "outputs": []
    },
    {
      "cell_type": "code",
      "metadata": {
        "id": "Y1mkxPYR9vjz"
      },
      "source": [
        "from keras.layers import Bidirectional, Sequential, Dense, LSTM, TimeDistributed\n",
        "from keras.layers.embeddings import Embedding\n",
        "from keras.preprocessing import sequence"
      ],
      "execution_count": null,
      "outputs": []
    },
    {
      "cell_type": "code",
      "metadata": {
        "id": "4AYGGxdd8HKW"
      },
      "source": [
        "embedding_vector_length = 50\n",
        "model = Sequential()\n",
        "model.add(Embedding(len(tokenizer.vocab.keys())+1, embedding_vector_length, input_length=max_seq_length))\n",
        "model.add(Bidirectional(LSTM(max_seq_length, return_sequences=True)))\n",
        "model.add(TimeDistributed(Dense(38, activation='sigmoid')))\n",
        "model.compile(loss='binary_crossentropy', optimizer='adam', metrics=['accuracy'])\n",
        "print(model.summary())\n",
        "model.fit(x_train, Y_train, validation_data=(x_val, Y_val), epochs=3, batch_size=64)"
      ],
      "execution_count": null,
      "outputs": []
    }
  ]
}